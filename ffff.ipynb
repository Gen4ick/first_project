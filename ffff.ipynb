{
 "cells": [
  {
   "cell_type": "markdown",
   "metadata": {},
   "source": [
    "Ссылка на github: https://github.com/Gen4ick/first_project/issues/1"
   ]
  },
  {
   "cell_type": "markdown",
   "metadata": {},
   "source": [
    "# Проект: Обучение с учителем: качество модели \"в один клик\""
   ]
  },
  {
   "cell_type": "markdown",
   "metadata": {
    "id": "H6cQIZr3ElW1"
   },
   "source": [
    "Интернет-магазин «В один клик» продаёт разные товары: для детей, для дома, мелкую бытовую технику, косметику и даже продукты. Отчёт магазина за прошлый период показал, что активность покупателей начала снижаться. Привлекать новых клиентов уже не так эффективно: о магазине и так знает большая часть целевой аудитории. Возможный выход — удерживать активность постоянных клиентов. Сделать это можно с помощью персонализированных предложений."
   ]
  },
  {
   "cell_type": "markdown",
   "metadata": {},
   "source": [
    "### Цель исследования"
   ]
  },
  {
   "cell_type": "markdown",
   "metadata": {},
   "source": [
    "Провести анализ данных при помощи которых предприятие разработает стратегию взаимодействия с клиентами"
   ]
  },
  {
   "cell_type": "markdown",
   "metadata": {},
   "source": [
    "### Основные задачи исследования"
   ]
  },
  {
   "cell_type": "markdown",
   "metadata": {},
   "source": [
    "Нам потребуется предобработать данные, провести базовый исследовательский анализ и обучить модель для предсказания поведения покупателя"
   ]
  },
  {
   "cell_type": "markdown",
   "metadata": {},
   "source": [
    "### Исходные данные"
   ]
  },
  {
   "cell_type": "markdown",
   "metadata": {},
   "source": [
    "Нам даны три таблицы: первая содержит данные о поведении покупателя на сайте, о коммуникациях с покупателем и его продуктовом поведении, вторая содержит данные о выручке, которую получает магазин с покупателя, то есть сколько покупатель всего потратил за период взаимодействия с сайтом, третья содержит данные о среднемесячной прибыли продавца за последние 3 месяца, то есть какую прибыль получает магазин от продаж каждому покупателю."
   ]
  },
  {
   "cell_type": "markdown",
   "metadata": {},
   "source": [
    "# Шаг 1. Загрузка данных"
   ]
  },
  {
   "cell_type": "markdown",
   "metadata": {},
   "source": [
    "Начинаем проект с того, что подключаем нужные нам библиотеки"
   ]
  },
  {
   "cell_type": "code",
   "execution_count": 1,
   "metadata": {},
   "outputs": [],
   "source": [
    "!pip install shap -q"
   ]
  },
  {
   "cell_type": "code",
   "execution_count": 2,
   "metadata": {},
   "outputs": [],
   "source": [
    "!pip install phik -q"
   ]
  },
  {
   "cell_type": "code",
   "execution_count": 3,
   "metadata": {},
   "outputs": [],
   "source": [
    "!pip install scikit-learn==1.1.3 -q"
   ]
  },
  {
   "cell_type": "code",
   "execution_count": 4,
   "metadata": {},
   "outputs": [],
   "source": [
    "import pandas as pd\n",
    "import numpy as np\n",
    "import matplotlib.pyplot as plt\n",
    "import seaborn as sns\n",
    "import shap\n",
    "from scipy import stats\n",
    "\n",
    "from phik import phik_matrix\n",
    "from sklearn.model_selection import train_test_split\n",
    "from sklearn.pipeline import Pipeline\n",
    "\n",
    "from sklearn.preprocessing import OneHotEncoder, OrdinalEncoder, StandardScaler, MinMaxScaler, RobustScaler\n",
    "from sklearn.compose import ColumnTransformer\n",
    "from statistics import stdev\n",
    "\n",
    "from sklearn.impute import SimpleImputer\n",
    "from sklearn.inspection import permutation_importance\n",
    "\n",
    "from sklearn.metrics import f1_score, precision_score, roc_auc_score, make_scorer\n",
    "\n",
    "\n",
    "from sklearn.model_selection import RandomizedSearchCV, GridSearchCV\n",
    "\n",
    "\n",
    "from sklearn.linear_model import LogisticRegression\n",
    "from sklearn.neighbors import KNeighborsClassifier\n",
    "from sklearn.tree import DecisionTreeClassifier\n",
    "from sklearn.svm import SVC"
   ]
  },
  {
   "cell_type": "markdown",
   "metadata": {},
   "source": [
    "Теперь пора считать данные"
   ]
  },
  {
   "cell_type": "code",
   "execution_count": 5,
   "metadata": {},
   "outputs": [],
   "source": [
    "df_main = pd.read_csv('/datasets/market_file.csv')\n",
    "df_market_money = pd.read_csv('/datasets/market_money.csv')\n",
    "df_time = pd.read_csv('/datasets/market_time.csv')\n",
    "df_money = pd.read_csv('/datasets/money.csv',sep=';')"
   ]
  },
  {
   "cell_type": "markdown",
   "metadata": {},
   "source": [
    "Ознакомиммся с данными"
   ]
  },
  {
   "cell_type": "code",
   "execution_count": 6,
   "metadata": {},
   "outputs": [
    {
     "data": {
      "text/html": [
       "<div>\n",
       "<style scoped>\n",
       "    .dataframe tbody tr th:only-of-type {\n",
       "        vertical-align: middle;\n",
       "    }\n",
       "\n",
       "    .dataframe tbody tr th {\n",
       "        vertical-align: top;\n",
       "    }\n",
       "\n",
       "    .dataframe thead th {\n",
       "        text-align: right;\n",
       "    }\n",
       "</style>\n",
       "<table border=\"1\" class=\"dataframe\">\n",
       "  <thead>\n",
       "    <tr style=\"text-align: right;\">\n",
       "      <th></th>\n",
       "      <th>id</th>\n",
       "      <th>Покупательская активность</th>\n",
       "      <th>Тип сервиса</th>\n",
       "      <th>Разрешить сообщать</th>\n",
       "      <th>Маркет_актив_6_мес</th>\n",
       "      <th>Маркет_актив_тек_мес</th>\n",
       "      <th>Длительность</th>\n",
       "      <th>Акционные_покупки</th>\n",
       "      <th>Популярная_категория</th>\n",
       "      <th>Средний_просмотр_категорий_за_визит</th>\n",
       "      <th>Неоплаченные_продукты_штук_квартал</th>\n",
       "      <th>Ошибка_сервиса</th>\n",
       "      <th>Страниц_за_визит</th>\n",
       "    </tr>\n",
       "  </thead>\n",
       "  <tbody>\n",
       "    <tr>\n",
       "      <th>0</th>\n",
       "      <td>215348</td>\n",
       "      <td>Снизилась</td>\n",
       "      <td>премиум</td>\n",
       "      <td>да</td>\n",
       "      <td>3.4</td>\n",
       "      <td>5</td>\n",
       "      <td>121</td>\n",
       "      <td>0.00</td>\n",
       "      <td>Товары для детей</td>\n",
       "      <td>6</td>\n",
       "      <td>2</td>\n",
       "      <td>1</td>\n",
       "      <td>5</td>\n",
       "    </tr>\n",
       "    <tr>\n",
       "      <th>1</th>\n",
       "      <td>215349</td>\n",
       "      <td>Снизилась</td>\n",
       "      <td>премиум</td>\n",
       "      <td>да</td>\n",
       "      <td>4.4</td>\n",
       "      <td>4</td>\n",
       "      <td>819</td>\n",
       "      <td>0.75</td>\n",
       "      <td>Товары для детей</td>\n",
       "      <td>4</td>\n",
       "      <td>4</td>\n",
       "      <td>2</td>\n",
       "      <td>5</td>\n",
       "    </tr>\n",
       "    <tr>\n",
       "      <th>2</th>\n",
       "      <td>215350</td>\n",
       "      <td>Снизилась</td>\n",
       "      <td>стандартт</td>\n",
       "      <td>нет</td>\n",
       "      <td>4.9</td>\n",
       "      <td>3</td>\n",
       "      <td>539</td>\n",
       "      <td>0.14</td>\n",
       "      <td>Домашний текстиль</td>\n",
       "      <td>5</td>\n",
       "      <td>2</td>\n",
       "      <td>1</td>\n",
       "      <td>5</td>\n",
       "    </tr>\n",
       "    <tr>\n",
       "      <th>3</th>\n",
       "      <td>215351</td>\n",
       "      <td>Снизилась</td>\n",
       "      <td>стандартт</td>\n",
       "      <td>да</td>\n",
       "      <td>3.2</td>\n",
       "      <td>5</td>\n",
       "      <td>896</td>\n",
       "      <td>0.99</td>\n",
       "      <td>Товары для детей</td>\n",
       "      <td>5</td>\n",
       "      <td>0</td>\n",
       "      <td>6</td>\n",
       "      <td>4</td>\n",
       "    </tr>\n",
       "    <tr>\n",
       "      <th>4</th>\n",
       "      <td>215352</td>\n",
       "      <td>Снизилась</td>\n",
       "      <td>стандартт</td>\n",
       "      <td>нет</td>\n",
       "      <td>5.1</td>\n",
       "      <td>3</td>\n",
       "      <td>1064</td>\n",
       "      <td>0.94</td>\n",
       "      <td>Товары для детей</td>\n",
       "      <td>3</td>\n",
       "      <td>2</td>\n",
       "      <td>3</td>\n",
       "      <td>2</td>\n",
       "    </tr>\n",
       "  </tbody>\n",
       "</table>\n",
       "</div>"
      ],
      "text/plain": [
       "       id Покупательская активность Тип сервиса Разрешить сообщать  \\\n",
       "0  215348                 Снизилась     премиум                 да   \n",
       "1  215349                 Снизилась     премиум                 да   \n",
       "2  215350                 Снизилась   стандартт                нет   \n",
       "3  215351                 Снизилась   стандартт                 да   \n",
       "4  215352                 Снизилась   стандартт                нет   \n",
       "\n",
       "   Маркет_актив_6_мес  Маркет_актив_тек_мес  Длительность  Акционные_покупки  \\\n",
       "0                 3.4                     5           121               0.00   \n",
       "1                 4.4                     4           819               0.75   \n",
       "2                 4.9                     3           539               0.14   \n",
       "3                 3.2                     5           896               0.99   \n",
       "4                 5.1                     3          1064               0.94   \n",
       "\n",
       "  Популярная_категория  Средний_просмотр_категорий_за_визит  \\\n",
       "0     Товары для детей                                    6   \n",
       "1     Товары для детей                                    4   \n",
       "2    Домашний текстиль                                    5   \n",
       "3     Товары для детей                                    5   \n",
       "4     Товары для детей                                    3   \n",
       "\n",
       "   Неоплаченные_продукты_штук_квартал  Ошибка_сервиса  Страниц_за_визит  \n",
       "0                                   2               1                 5  \n",
       "1                                   4               2                 5  \n",
       "2                                   2               1                 5  \n",
       "3                                   0               6                 4  \n",
       "4                                   2               3                 2  "
      ]
     },
     "metadata": {},
     "output_type": "display_data"
    },
    {
     "data": {
      "text/html": [
       "<div>\n",
       "<style scoped>\n",
       "    .dataframe tbody tr th:only-of-type {\n",
       "        vertical-align: middle;\n",
       "    }\n",
       "\n",
       "    .dataframe tbody tr th {\n",
       "        vertical-align: top;\n",
       "    }\n",
       "\n",
       "    .dataframe thead th {\n",
       "        text-align: right;\n",
       "    }\n",
       "</style>\n",
       "<table border=\"1\" class=\"dataframe\">\n",
       "  <thead>\n",
       "    <tr style=\"text-align: right;\">\n",
       "      <th></th>\n",
       "      <th>id</th>\n",
       "      <th>Период</th>\n",
       "      <th>Выручка</th>\n",
       "    </tr>\n",
       "  </thead>\n",
       "  <tbody>\n",
       "    <tr>\n",
       "      <th>0</th>\n",
       "      <td>215348</td>\n",
       "      <td>препредыдущий_месяц</td>\n",
       "      <td>0.0</td>\n",
       "    </tr>\n",
       "    <tr>\n",
       "      <th>1</th>\n",
       "      <td>215348</td>\n",
       "      <td>текущий_месяц</td>\n",
       "      <td>3293.1</td>\n",
       "    </tr>\n",
       "    <tr>\n",
       "      <th>2</th>\n",
       "      <td>215348</td>\n",
       "      <td>предыдущий_месяц</td>\n",
       "      <td>0.0</td>\n",
       "    </tr>\n",
       "    <tr>\n",
       "      <th>3</th>\n",
       "      <td>215349</td>\n",
       "      <td>препредыдущий_месяц</td>\n",
       "      <td>4472.0</td>\n",
       "    </tr>\n",
       "    <tr>\n",
       "      <th>4</th>\n",
       "      <td>215349</td>\n",
       "      <td>текущий_месяц</td>\n",
       "      <td>4971.6</td>\n",
       "    </tr>\n",
       "  </tbody>\n",
       "</table>\n",
       "</div>"
      ],
      "text/plain": [
       "       id               Период  Выручка\n",
       "0  215348  препредыдущий_месяц      0.0\n",
       "1  215348        текущий_месяц   3293.1\n",
       "2  215348     предыдущий_месяц      0.0\n",
       "3  215349  препредыдущий_месяц   4472.0\n",
       "4  215349        текущий_месяц   4971.6"
      ]
     },
     "metadata": {},
     "output_type": "display_data"
    },
    {
     "data": {
      "text/html": [
       "<div>\n",
       "<style scoped>\n",
       "    .dataframe tbody tr th:only-of-type {\n",
       "        vertical-align: middle;\n",
       "    }\n",
       "\n",
       "    .dataframe tbody tr th {\n",
       "        vertical-align: top;\n",
       "    }\n",
       "\n",
       "    .dataframe thead th {\n",
       "        text-align: right;\n",
       "    }\n",
       "</style>\n",
       "<table border=\"1\" class=\"dataframe\">\n",
       "  <thead>\n",
       "    <tr style=\"text-align: right;\">\n",
       "      <th></th>\n",
       "      <th>id</th>\n",
       "      <th>Период</th>\n",
       "      <th>минут</th>\n",
       "    </tr>\n",
       "  </thead>\n",
       "  <tbody>\n",
       "    <tr>\n",
       "      <th>0</th>\n",
       "      <td>215348</td>\n",
       "      <td>текущий_месяц</td>\n",
       "      <td>14</td>\n",
       "    </tr>\n",
       "    <tr>\n",
       "      <th>1</th>\n",
       "      <td>215348</td>\n",
       "      <td>предыдцщий_месяц</td>\n",
       "      <td>13</td>\n",
       "    </tr>\n",
       "    <tr>\n",
       "      <th>2</th>\n",
       "      <td>215349</td>\n",
       "      <td>текущий_месяц</td>\n",
       "      <td>10</td>\n",
       "    </tr>\n",
       "    <tr>\n",
       "      <th>3</th>\n",
       "      <td>215349</td>\n",
       "      <td>предыдцщий_месяц</td>\n",
       "      <td>12</td>\n",
       "    </tr>\n",
       "    <tr>\n",
       "      <th>4</th>\n",
       "      <td>215350</td>\n",
       "      <td>текущий_месяц</td>\n",
       "      <td>13</td>\n",
       "    </tr>\n",
       "  </tbody>\n",
       "</table>\n",
       "</div>"
      ],
      "text/plain": [
       "       id            Период  минут\n",
       "0  215348     текущий_месяц     14\n",
       "1  215348  предыдцщий_месяц     13\n",
       "2  215349     текущий_месяц     10\n",
       "3  215349  предыдцщий_месяц     12\n",
       "4  215350     текущий_месяц     13"
      ]
     },
     "metadata": {},
     "output_type": "display_data"
    },
    {
     "data": {
      "text/html": [
       "<div>\n",
       "<style scoped>\n",
       "    .dataframe tbody tr th:only-of-type {\n",
       "        vertical-align: middle;\n",
       "    }\n",
       "\n",
       "    .dataframe tbody tr th {\n",
       "        vertical-align: top;\n",
       "    }\n",
       "\n",
       "    .dataframe thead th {\n",
       "        text-align: right;\n",
       "    }\n",
       "</style>\n",
       "<table border=\"1\" class=\"dataframe\">\n",
       "  <thead>\n",
       "    <tr style=\"text-align: right;\">\n",
       "      <th></th>\n",
       "      <th>id</th>\n",
       "      <th>Прибыль</th>\n",
       "    </tr>\n",
       "  </thead>\n",
       "  <tbody>\n",
       "    <tr>\n",
       "      <th>0</th>\n",
       "      <td>215348</td>\n",
       "      <td>0,98</td>\n",
       "    </tr>\n",
       "    <tr>\n",
       "      <th>1</th>\n",
       "      <td>215349</td>\n",
       "      <td>4,16</td>\n",
       "    </tr>\n",
       "    <tr>\n",
       "      <th>2</th>\n",
       "      <td>215350</td>\n",
       "      <td>3,13</td>\n",
       "    </tr>\n",
       "    <tr>\n",
       "      <th>3</th>\n",
       "      <td>215351</td>\n",
       "      <td>4,87</td>\n",
       "    </tr>\n",
       "    <tr>\n",
       "      <th>4</th>\n",
       "      <td>215352</td>\n",
       "      <td>4,21</td>\n",
       "    </tr>\n",
       "  </tbody>\n",
       "</table>\n",
       "</div>"
      ],
      "text/plain": [
       "       id Прибыль\n",
       "0  215348    0,98\n",
       "1  215349    4,16\n",
       "2  215350    3,13\n",
       "3  215351    4,87\n",
       "4  215352    4,21"
      ]
     },
     "metadata": {},
     "output_type": "display_data"
    }
   ],
   "source": [
    "display(df_main.head(5))\n",
    "display(df_market_money.head(5))\n",
    "display(df_time.head(5))\n",
    "display(df_money.head(5))"
   ]
  },
  {
   "cell_type": "markdown",
   "metadata": {},
   "source": [
    "Данные корректно считались и соответствуют описанию"
   ]
  },
  {
   "cell_type": "markdown",
   "metadata": {},
   "source": [
    "# Шаг 2. Предобработка данных"
   ]
  },
  {
   "cell_type": "markdown",
   "metadata": {},
   "source": [
    "Базово изучим датафреймы"
   ]
  },
  {
   "cell_type": "code",
   "execution_count": 7,
   "metadata": {},
   "outputs": [
    {
     "name": "stdout",
     "output_type": "stream",
     "text": [
      "<class 'pandas.core.frame.DataFrame'>\n",
      "RangeIndex: 1300 entries, 0 to 1299\n",
      "Data columns (total 13 columns):\n",
      " #   Column                               Non-Null Count  Dtype  \n",
      "---  ------                               --------------  -----  \n",
      " 0   id                                   1300 non-null   int64  \n",
      " 1   Покупательская активность            1300 non-null   object \n",
      " 2   Тип сервиса                          1300 non-null   object \n",
      " 3   Разрешить сообщать                   1300 non-null   object \n",
      " 4   Маркет_актив_6_мес                   1300 non-null   float64\n",
      " 5   Маркет_актив_тек_мес                 1300 non-null   int64  \n",
      " 6   Длительность                         1300 non-null   int64  \n",
      " 7   Акционные_покупки                    1300 non-null   float64\n",
      " 8   Популярная_категория                 1300 non-null   object \n",
      " 9   Средний_просмотр_категорий_за_визит  1300 non-null   int64  \n",
      " 10  Неоплаченные_продукты_штук_квартал   1300 non-null   int64  \n",
      " 11  Ошибка_сервиса                       1300 non-null   int64  \n",
      " 12  Страниц_за_визит                     1300 non-null   int64  \n",
      "dtypes: float64(2), int64(7), object(4)\n",
      "memory usage: 132.2+ KB\n"
     ]
    }
   ],
   "source": [
    "df_main.info()"
   ]
  },
  {
   "cell_type": "code",
   "execution_count": 8,
   "metadata": {},
   "outputs": [
    {
     "name": "stdout",
     "output_type": "stream",
     "text": [
      "<class 'pandas.core.frame.DataFrame'>\n",
      "RangeIndex: 3900 entries, 0 to 3899\n",
      "Data columns (total 3 columns):\n",
      " #   Column   Non-Null Count  Dtype  \n",
      "---  ------   --------------  -----  \n",
      " 0   id       3900 non-null   int64  \n",
      " 1   Период   3900 non-null   object \n",
      " 2   Выручка  3900 non-null   float64\n",
      "dtypes: float64(1), int64(1), object(1)\n",
      "memory usage: 91.5+ KB\n"
     ]
    }
   ],
   "source": [
    "df_market_money.info()"
   ]
  },
  {
   "cell_type": "code",
   "execution_count": 9,
   "metadata": {},
   "outputs": [
    {
     "name": "stdout",
     "output_type": "stream",
     "text": [
      "<class 'pandas.core.frame.DataFrame'>\n",
      "RangeIndex: 2600 entries, 0 to 2599\n",
      "Data columns (total 3 columns):\n",
      " #   Column  Non-Null Count  Dtype \n",
      "---  ------  --------------  ----- \n",
      " 0   id      2600 non-null   int64 \n",
      " 1   Период  2600 non-null   object\n",
      " 2   минут   2600 non-null   int64 \n",
      "dtypes: int64(2), object(1)\n",
      "memory usage: 61.1+ KB\n"
     ]
    }
   ],
   "source": [
    "df_time.info()"
   ]
  },
  {
   "cell_type": "code",
   "execution_count": 10,
   "metadata": {
    "scrolled": true
   },
   "outputs": [
    {
     "name": "stdout",
     "output_type": "stream",
     "text": [
      "<class 'pandas.core.frame.DataFrame'>\n",
      "RangeIndex: 1300 entries, 0 to 1299\n",
      "Data columns (total 2 columns):\n",
      " #   Column   Non-Null Count  Dtype \n",
      "---  ------   --------------  ----- \n",
      " 0   id       1300 non-null   int64 \n",
      " 1   Прибыль  1300 non-null   object\n",
      "dtypes: int64(1), object(1)\n",
      "memory usage: 20.4+ KB\n"
     ]
    }
   ],
   "source": [
    "df_money.info()"
   ]
  },
  {
   "cell_type": "markdown",
   "metadata": {},
   "source": [
    "По типам данных почти все хорошо столбец с прибылью в четвертой таблице надо перевести в float"
   ]
  },
  {
   "cell_type": "code",
   "execution_count": 11,
   "metadata": {},
   "outputs": [
    {
     "name": "stdout",
     "output_type": "stream",
     "text": [
      "<class 'pandas.core.frame.DataFrame'>\n",
      "RangeIndex: 1300 entries, 0 to 1299\n",
      "Data columns (total 2 columns):\n",
      " #   Column   Non-Null Count  Dtype  \n",
      "---  ------   --------------  -----  \n",
      " 0   id       1300 non-null   int64  \n",
      " 1   Прибыль  1300 non-null   float64\n",
      "dtypes: float64(1), int64(1)\n",
      "memory usage: 20.4 KB\n"
     ]
    }
   ],
   "source": [
    "df_money['Прибыль'] = df_money['Прибыль'].str.replace(',','.')\n",
    "df_money['Прибыль'] = df_money['Прибыль'].astype('float')\n",
    "df_money.info()"
   ]
  },
  {
   "cell_type": "markdown",
   "metadata": {},
   "source": [
    "Посмотрим как обстоят дела с пропусками"
   ]
  },
  {
   "cell_type": "code",
   "execution_count": 12,
   "metadata": {},
   "outputs": [
    {
     "name": "stdout",
     "output_type": "stream",
     "text": [
      "id                                     0\n",
      "Покупательская активность              0\n",
      "Тип сервиса                            0\n",
      "Разрешить сообщать                     0\n",
      "Маркет_актив_6_мес                     0\n",
      "Маркет_актив_тек_мес                   0\n",
      "Длительность                           0\n",
      "Акционные_покупки                      0\n",
      "Популярная_категория                   0\n",
      "Средний_просмотр_категорий_за_визит    0\n",
      "Неоплаченные_продукты_штук_квартал     0\n",
      "Ошибка_сервиса                         0\n",
      "Страниц_за_визит                       0\n",
      "dtype: int64\n",
      "\n",
      "id         0\n",
      "Период     0\n",
      "Выручка    0\n",
      "dtype: int64\n",
      "\n",
      "id        0\n",
      "Период    0\n",
      "минут     0\n",
      "dtype: int64\n",
      "\n",
      "id         0\n",
      "Прибыль    0\n",
      "dtype: int64\n"
     ]
    }
   ],
   "source": [
    "print(df_main.isna().sum())\n",
    "print()\n",
    "print(df_market_money.isna().sum())\n",
    "print()\n",
    "print(df_time.isna().sum())\n",
    "print()\n",
    "print(df_money.isna().sum())"
   ]
  },
  {
   "cell_type": "markdown",
   "metadata": {},
   "source": [
    "Пропусков не наблюдается, тогда переходим к проверке на дубликаты и неявные дубликаты"
   ]
  },
  {
   "cell_type": "code",
   "execution_count": 13,
   "metadata": {},
   "outputs": [
    {
     "name": "stdout",
     "output_type": "stream",
     "text": [
      "0\n",
      "\n",
      "0\n",
      "\n",
      "0\n",
      "\n",
      "0\n"
     ]
    }
   ],
   "source": [
    "print(df_main.duplicated().sum())\n",
    "print()\n",
    "print(df_market_money.duplicated().sum())\n",
    "print()\n",
    "print(df_time.duplicated().sum())\n",
    "print()\n",
    "print(df_money.duplicated().sum())"
   ]
  },
  {
   "cell_type": "markdown",
   "metadata": {},
   "source": [
    "Явных дубликатов не нашлось, проверим наличие неявных, начнем с первой таблицы"
   ]
  },
  {
   "cell_type": "code",
   "execution_count": 14,
   "metadata": {},
   "outputs": [
    {
     "name": "stdout",
     "output_type": "stream",
     "text": [
      "Прежний уровень    802\n",
      "Снизилась          498\n",
      "Name: Покупательская активность, dtype: int64\n",
      "\n",
      "стандарт     914\n",
      "премиум      376\n",
      "стандартт     10\n",
      "Name: Тип сервиса, dtype: int64\n",
      "\n",
      "да     962\n",
      "нет    338\n",
      "Name: Разрешить сообщать, dtype: int64\n",
      "\n",
      "Товары для детей                        330\n",
      "Домашний текстиль                       251\n",
      "Косметика и аксесуары                   223\n",
      "Техника для красоты и здоровья          184\n",
      "Мелкая бытовая техника и электроника    174\n",
      "Кухонная посуда                         138\n",
      "Name: Популярная_категория, dtype: int64\n",
      "\n"
     ]
    }
   ],
   "source": [
    "print(df_main['Покупательская активность'].value_counts())\n",
    "print()\n",
    "print(df_main['Тип сервиса'].value_counts())\n",
    "print()\n",
    "print(df_main['Разрешить сообщать'].value_counts())\n",
    "print()\n",
    "print(df_main['Популярная_категория'].value_counts())\n",
    "print()"
   ]
  },
  {
   "cell_type": "markdown",
   "metadata": {},
   "source": [
    "пупупу в столбце с типом сервиса есть неявный дубликат, сейчас все поправим"
   ]
  },
  {
   "cell_type": "code",
   "execution_count": 15,
   "metadata": {},
   "outputs": [],
   "source": [
    "df_main['Тип сервиса'] = df_main['Тип сервиса'].str.replace('стандартт','стандарт')"
   ]
  },
  {
   "cell_type": "markdown",
   "metadata": {},
   "source": [
    "Теперь проверим вторую и третью таблице"
   ]
  },
  {
   "cell_type": "code",
   "execution_count": 16,
   "metadata": {},
   "outputs": [
    {
     "name": "stdout",
     "output_type": "stream",
     "text": [
      "предыдцщий_месяц    1300\n",
      "текущий_месяц       1300\n",
      "Name: Период, dtype: int64\n",
      "\n",
      "препредыдущий_месяц    1300\n",
      "предыдущий_месяц       1300\n",
      "текущий_месяц          1300\n",
      "Name: Период, dtype: int64\n"
     ]
    }
   ],
   "source": [
    "print(df_time['Период'].value_counts())\n",
    "print()\n",
    "print(df_market_money['Период'].value_counts())"
   ]
  },
  {
   "cell_type": "markdown",
   "metadata": {},
   "source": [
    "Есть несоответствие в названии одного из значений столбца с периодом в таблице со временем"
   ]
  },
  {
   "cell_type": "code",
   "execution_count": 17,
   "metadata": {},
   "outputs": [],
   "source": [
    "df_time['Период'] = df_time['Период'].str.replace('предыдцщий_месяц','предыдущий_месяц')"
   ]
  },
  {
   "cell_type": "markdown",
   "metadata": {},
   "source": [
    "По итогу предобработки данных было проверено наличие пропусков(не нашлись), наличие явных дубликатов(не нашлись), в столбце с типом сервиса из первой таблицы было найдено некоторые количество неявных дубликатов, столбец с прибылью в последней таблице был в некорректном формате."
   ]
  },
  {
   "cell_type": "markdown",
   "metadata": {},
   "source": [
    "# Шаг 3. Исследовательский анализ данных"
   ]
  },
  {
   "cell_type": "markdown",
   "metadata": {},
   "source": [
    "Исследовательский анализ данных мы будем делать поэтапно, начиная с первой таблицы, для нее мы построим диаграммы размаха, выкинем все выбросы в количественных признаках, построим для них же гистограммы и построим распределения для категориальных признаков."
   ]
  },
  {
   "cell_type": "markdown",
   "metadata": {},
   "source": [
    "Разобьем признаки на количественные и категориальные"
   ]
  },
  {
   "cell_type": "code",
   "execution_count": 18,
   "metadata": {},
   "outputs": [],
   "source": [
    "df_main_num_col = ['Маркет_актив_6_мес',\n",
    "                  'Маркет_актив_тек_мес',\n",
    "                  'Длительность',\n",
    "                  'Акционные_покупки',\n",
    "                  'Средний_просмотр_категорий_за_визит',\n",
    "                  'Неоплаченные_продукты_штук_квартал',\n",
    "                  'Ошибка_сервиса',\n",
    "                  'Страниц_за_визит']\n",
    "\n",
    "df_main_cat_col = ['Покупательская активность',\n",
    "                  'Тип сервиса',\n",
    "                  'Разрешить сообщать',\n",
    "                  'Популярная_категория']"
   ]
  },
  {
   "cell_type": "markdown",
   "metadata": {},
   "source": [
    "Теперь для количественных признаков построим диаграммы размаха"
   ]
  },
  {
   "cell_type": "code",
   "execution_count": 19,
   "metadata": {
    "scrolled": true
   },
   "outputs": [
    {
     "data": {
      "image/png": "[encoded data removed]",
      "text/plain": [
       "<Figure size 432x288 with 1 Axes>"
      ]
     },
     "metadata": {
      "needs_background": "light"
     },
     "output_type": "display_data"
    },
    {
     "data": {
      "image/png": "[encoded data removed]",
      "text/plain": [
       "<Figure size 432x288 with 1 Axes>"
      ]
     },
     "metadata": {
      "needs_background": "light"
     },
     "output_type": "display_data"
    },
    {
     "data": {
      "image/png": "[encoded data removed]",
      "text/plain": [
       "<Figure size 432x288 with 1 Axes>"
      ]
     },
     "metadata": {
      "needs_background": "light"
     },
     "output_type": "display_data"
    },
    {
     "data": {
      "image/png": "[encoded data removed]",
      "text/plain": [
       "<Figure size 432x288 with 1 Axes>"
      ]
     },
     "metadata": {
      "needs_background": "light"
     },
     "output_type": "display_data"
    },
    {
     "data": {
      "image/png": "[encoded data removed]",
      "text/plain": [
       "<Figure size 432x288 with 1 Axes>"
      ]
     },
     "metadata": {
      "needs_background": "light"
     },
     "output_type": "display_data"
    },
    {
     "data": {
      "image/png": "[encoded data removed]",
      "text/plain": [
       "<Figure size 432x288 with 1 Axes>"
      ]
     },
     "metadata": {
      "needs_background": "light"
     },
     "output_type": "display_data"
    },
    {
     "data": {
      "image/png": "[encoded data removed]",
      "text/plain": [
       "<Figure size 432x288 with 1 Axes>"
      ]
     },
     "metadata": {
      "needs_background": "light"
     },
     "output_type": "display_data"
    },
    {
     "data": {
      "image/png": "[encoded data removed]",
      "text/plain": [
       "<Figure size 432x288 with 1 Axes>"
      ]
     },
     "metadata": {
      "needs_background": "light"
     },
     "output_type": "display_data"
    }
   ],
   "source": [
    "for column in df_main_num_col:\n",
    "    plt.title(column)\n",
    "    plt.boxplot(df_main[column])\n",
    "    plt.show()"
   ]
  },
  {
   "cell_type": "markdown",
   "metadata": {},
   "source": [
    "Построим гистограммы для количественных признаков, а также проведем статистический тест на схожесть с нормальным распределением, начнем с непрерывных признаков"
   ]
  },
  {
   "cell_type": "code",
   "execution_count": 20,
   "metadata": {},
   "outputs": [
    {
     "name": "stdout",
     "output_type": "stream",
     "text": [
      "Распределение непрерывных количественных признаков\n"
     ]
    },
    {
     "data": {
      "image/png": "[encoded data removed]",
      "text/plain": [
       "<Figure size 360x216 with 1 Axes>"
      ]
     },
     "metadata": {
      "needs_background": "light"
     },
     "output_type": "display_data"
    },
    {
     "name": "stdout",
     "output_type": "stream",
     "text": [
      "Нулевая гипотеза не подтвердилась\n"
     ]
    },
    {
     "data": {
      "image/png": "[encoded data removed]",
      "text/plain": [
       "<Figure size 360x216 with 1 Axes>"
      ]
     },
     "metadata": {
      "needs_background": "light"
     },
     "output_type": "display_data"
    },
    {
     "name": "stdout",
     "output_type": "stream",
     "text": [
      "Нулевая гипотеза не подтвердилась\n"
     ]
    },
    {
     "data": {
      "image/png": "[encoded data removed]",
      "text/plain": [
       "<Figure size 360x216 with 1 Axes>"
      ]
     },
     "metadata": {
      "needs_background": "light"
     },
     "output_type": "display_data"
    },
    {
     "name": "stdout",
     "output_type": "stream",
     "text": [
      "Нулевая гипотеза не подтвердилась\n"
     ]
    }
   ],
   "source": [
    "df_main_interval_cols = ['Маркет_актив_6_мес',\n",
    "                         'Длительность', \n",
    "                         'Акционные_покупки']\n",
    "\n",
    "print('Распределение непрерывных количественных признаков')\n",
    "for column in df_main_interval_cols:\n",
    "    df_main[column].hist(figsize=(5,3),bins=30)\n",
    "    plt.title(column)\n",
    "    plt.xlabel('Значение')\n",
    "    plt.ylabel('Количество')\n",
    "    plt.show();\n",
    "    if stats.kstest(df_main[column], 'norm', args=(df_main[column].mean(),stdev(df_main[column])), alternative='two-sided').pvalue>0.05:\n",
    "        print('распределение нормальное')\n",
    "    else:\n",
    "        print('Нулевая гипотеза не подтвердилась')"
   ]
  },
  {
   "cell_type": "markdown",
   "metadata": {},
   "source": [
    "p-value меньше 0,05 у всех построенных распределений, следовательно мы не можем отнести их к нормальному распределению, хотя визульная схожесть есть у всех кроме акционных покупок, все равно нельзя утверждать принадлежность распределений признаков к нормальному распределению"
   ]
  },
  {
   "cell_type": "markdown",
   "metadata": {},
   "source": [
    "Теперь настала очередь дискретных"
   ]
  },
  {
   "cell_type": "code",
   "execution_count": 21,
   "metadata": {},
   "outputs": [
    {
     "name": "stdout",
     "output_type": "stream",
     "text": [
      "Распределение дискретных количественных признаков\n"
     ]
    },
    {
     "data": {
      "image/png": "[encoded data removed]",
      "text/plain": [
       "<Figure size 432x288 with 1 Axes>"
      ]
     },
     "metadata": {
      "needs_background": "light"
     },
     "output_type": "display_data"
    },
    {
     "name": "stdout",
     "output_type": "stream",
     "text": [
      "Нулевая гипотеза не подтвердилась\n"
     ]
    },
    {
     "data": {
      "image/png": "[encoded data removed]",
      "text/plain": [
       "<Figure size 432x288 with 1 Axes>"
      ]
     },
     "metadata": {
      "needs_background": "light"
     },
     "output_type": "display_data"
    },
    {
     "name": "stdout",
     "output_type": "stream",
     "text": [
      "Нулевая гипотеза не подтвердилась\n"
     ]
    },
    {
     "data": {
      "image/png": "[encoded data removed]",
      "text/plain": [
       "<Figure size 432x288 with 1 Axes>"
      ]
     },
     "metadata": {
      "needs_background": "light"
     },
     "output_type": "display_data"
    },
    {
     "name": "stdout",
     "output_type": "stream",
     "text": [
      "Нулевая гипотеза не подтвердилась\n"
     ]
    },
    {
     "data": {
      "image/png": "[encoded data removed]",
      "text/plain": [
       "<Figure size 432x288 with 1 Axes>"
      ]
     },
     "metadata": {
      "needs_background": "light"
     },
     "output_type": "display_data"
    },
    {
     "name": "stdout",
     "output_type": "stream",
     "text": [
      "Нулевая гипотеза не подтвердилась\n"
     ]
    },
    {
     "data": {
      "image/png": "[encoded data removed]",
      "text/plain": [
       "<Figure size 432x288 with 1 Axes>"
      ]
     },
     "metadata": {
      "needs_background": "light"
     },
     "output_type": "display_data"
    },
    {
     "name": "stdout",
     "output_type": "stream",
     "text": [
      "Нулевая гипотеза не подтвердилась\n"
     ]
    }
   ],
   "source": [
    "df_main_diskret_cols = ['Маркет_актив_тек_мес',\n",
    "                        'Средний_просмотр_категорий_за_визит',\n",
    "                        'Неоплаченные_продукты_штук_квартал',\n",
    "                        'Ошибка_сервиса',\n",
    "                        'Страниц_за_визит']\n",
    "\n",
    "n = {'Маркет_актив_тек_мес':3,\n",
    "     'Средний_просмотр_категорий_за_визит':6,\n",
    "     'Неоплаченные_продукты_штук_квартал':10,\n",
    "     'Ошибка_сервиса':9,\n",
    "     'Страниц_за_визит':20}\n",
    "\n",
    "print('Распределение дискретных количественных признаков')\n",
    "for column in df_main_diskret_cols:\n",
    "    plt.bar(df_main[column].value_counts().index, df_main[column].value_counts().values)\n",
    "    plt.title(column)\n",
    "    plt.xlabel('Значение')\n",
    "    plt.ylabel('Количество')\n",
    "    plt.show();\n",
    "    if stats.kstest(df_main[column], 'norm', args=(df_main[column].mean(),stdev(df_main[column])), alternative='two-sided',N=n[column]).pvalue>0.05:\n",
    "        print('распределение нормальное')\n",
    "    else:\n",
    "        print('Нулевая гипотеза не подтвердилась')"
   ]
  },
  {
   "cell_type": "markdown",
   "metadata": {},
   "source": [
    "Идентичная ситуация, статистический тест утверждает, что мы не можем отнести эти распределения к нормальным, но все равно визуальная схожесть присутствует"
   ]
  },
  {
   "cell_type": "markdown",
   "metadata": {},
   "source": [
    "Все количественные признаки в данном случае имеют близкое к нормальному распредление, кроме акционных покупок, оно из себя представляет два ярковыраженных пиках рядом со значением 1 и 0.2"
   ]
  },
  {
   "cell_type": "markdown",
   "metadata": {},
   "source": [
    "Рассмотрим распределение качественных признаков"
   ]
  },
  {
   "cell_type": "code",
   "execution_count": 22,
   "metadata": {
    "scrolled": true
   },
   "outputs": [
    {
     "data": {
      "image/png": "[encoded data removed]",
      "text/plain": [
       "<Figure size 432x288 with 1 Axes>"
      ]
     },
     "metadata": {},
     "output_type": "display_data"
    },
    {
     "data": {
      "image/png": "[encoded data removed]",
      "text/plain": [
       "<Figure size 432x288 with 1 Axes>"
      ]
     },
     "metadata": {},
     "output_type": "display_data"
    },
    {
     "data": {
      "image/png": "[encoded data removed]",
      "text/plain": [
       "<Figure size 432x288 with 1 Axes>"
      ]
     },
     "metadata": {},
     "output_type": "display_data"
    },
    {
     "data": {
      "image/png": "[encoded data removed]",
      "text/plain": [
       "<Figure size 432x288 with 1 Axes>"
      ]
     },
     "metadata": {},
     "output_type": "display_data"
    }
   ],
   "source": [
    "for column in df_main_cat_col:\n",
    "    plt.pie(df_main[column].value_counts().values, labels=df_main[column].value_counts().index,autopct='%1.1f%%')\n",
    "    plt.xlabel(column)\n",
    "    plt.show()"
   ]
  },
  {
   "cell_type": "markdown",
   "metadata": {},
   "source": [
    "Покупательская активность в большинстве своем осталась на прежнем уровне, большинство людей пользуется стандартным типом сервиса и разрешают присылать себе маркетинговые предложения. Категории распределяются довольно равно, но все равно можно выделить самые многочисленные - товары для детей, домашний текстиль и косметику и аксесуары"
   ]
  },
  {
   "cell_type": "markdown",
   "metadata": {},
   "source": [
    "Перейдем ко второй таблице с данными о выручке, проделаем с ней аналогичные операции"
   ]
  },
  {
   "cell_type": "code",
   "execution_count": 23,
   "metadata": {},
   "outputs": [
    {
     "data": {
      "image/png": "[encoded data removed]",
      "text/plain": [
       "<Figure size 432x288 with 1 Axes>"
      ]
     },
     "metadata": {
      "needs_background": "light"
     },
     "output_type": "display_data"
    }
   ],
   "source": [
    "plt.title('Выручка')\n",
    "plt.boxplot(df_market_money['Выручка'])\n",
    "plt.show()"
   ]
  },
  {
   "cell_type": "markdown",
   "metadata": {},
   "source": [
    "В данном случае лучше избавиться только от выброса выходящего за 10000 и равного нулю, остальные оставить, так как они довольно многочисленные"
   ]
  },
  {
   "cell_type": "code",
   "execution_count": 24,
   "metadata": {},
   "outputs": [],
   "source": [
    "df_market_money = df_market_money[df_market_money['Выручка']<80000]\n",
    "df_market_money = df_market_money[df_market_money['Выручка']>0]"
   ]
  },
  {
   "cell_type": "code",
   "execution_count": 25,
   "metadata": {},
   "outputs": [
    {
     "data": {
      "image/png": "[encoded data removed]",
      "text/plain": [
       "<Figure size 432x288 with 1 Axes>"
      ]
     },
     "metadata": {
      "needs_background": "light"
     },
     "output_type": "display_data"
    }
   ],
   "source": [
    "plt.title('Выручка')\n",
    "plt.boxplot(df_market_money['Выручка'])\n",
    "plt.show()"
   ]
  },
  {
   "cell_type": "code",
   "execution_count": 26,
   "metadata": {},
   "outputs": [
    {
     "data": {
      "image/png": "[encoded data removed]",
      "text/plain": [
       "<Figure size 1440x720 with 1 Axes>"
      ]
     },
     "metadata": {
      "needs_background": "light"
     },
     "output_type": "display_data"
    },
    {
     "name": "stdout",
     "output_type": "stream",
     "text": [
      "Нулевая гипотеза не подтвердилась\n"
     ]
    }
   ],
   "source": [
    "df_market_money['Выручка'].hist(figsize=(20,10),bins=30)\n",
    "plt.title('Выручка')\n",
    "plt.show()\n",
    "if stats.kstest(df_market_money['Выручка'], 'norm', args=(df_market_money['Выручка'].mean(),stdev(df_market_money['Выручка'])), alternative='two-sided').pvalue>0.05:\n",
    "    print('распределение нормальное')\n",
    "else:\n",
    "    print('Нулевая гипотеза не подтвердилась')"
   ]
  },
  {
   "cell_type": "markdown",
   "metadata": {},
   "source": [
    "Избавились от выбросов, p-value все еще меньше 0.05, но есть визуальное сходство"
   ]
  },
  {
   "cell_type": "code",
   "execution_count": 27,
   "metadata": {},
   "outputs": [
    {
     "data": {
      "image/png": "[encoded data removed]",
      "text/plain": [
       "<Figure size 432x288 with 1 Axes>"
      ]
     },
     "metadata": {},
     "output_type": "display_data"
    }
   ],
   "source": [
    "plt.pie(df_market_money['Период'].value_counts().values, labels=df_market_money['Период'].value_counts().index)\n",
    "plt.xlabel('Период')\n",
    "plt.show()\n"
   ]
  },
  {
   "cell_type": "markdown",
   "metadata": {},
   "source": [
    "Все месяцы равномерно распределены"
   ]
  },
  {
   "cell_type": "markdown",
   "metadata": {},
   "source": [
    "Перейдем к третьей таблице со временем проведенным на сайте в течение периода"
   ]
  },
  {
   "cell_type": "code",
   "execution_count": 28,
   "metadata": {},
   "outputs": [
    {
     "data": {
      "image/png": "[encoded data removed]",
      "text/plain": [
       "<Figure size 432x288 with 1 Axes>"
      ]
     },
     "metadata": {
      "needs_background": "light"
     },
     "output_type": "display_data"
    }
   ],
   "source": [
    "plt.title('Время проведенное на сайте в минутах')\n",
    "plt.boxplot(df_time['минут'])\n",
    "plt.show()"
   ]
  },
  {
   "cell_type": "markdown",
   "metadata": {},
   "source": [
    "Нет выбросов - нет проблем, можно строить гистограмму"
   ]
  },
  {
   "cell_type": "code",
   "execution_count": 29,
   "metadata": {},
   "outputs": [
    {
     "data": {
      "image/png": "[encoded data removed]",
      "text/plain": [
       "<Figure size 1440x720 with 1 Axes>"
      ]
     },
     "metadata": {
      "needs_background": "light"
     },
     "output_type": "display_data"
    },
    {
     "name": "stdout",
     "output_type": "stream",
     "text": [
      "Нулевая гипотеза не подтвердилась\n"
     ]
    }
   ],
   "source": [
    "df_time['минут'].hist(figsize=(20,10),bins=20)\n",
    "plt.title('Время проведенное на сайте в минутах')\n",
    "plt.show()\n",
    "if stats.kstest(df_time['минут'], 'norm', args=(df_time['минут'].mean(),stdev(df_time['минут'])), alternative='two-sided').pvalue>0.05:\n",
    "    print('распределение нормальное')\n",
    "else:\n",
    "    print('Нулевая гипотеза не подтвердилась')"
   ]
  },
  {
   "cell_type": "markdown",
   "metadata": {},
   "source": [
    "Время проведенное на сайте имеет p-value меньше 0.05, но все равно близко к нормальному по картинке, давайте разберемся с периодом аналогично второй таблице"
   ]
  },
  {
   "cell_type": "code",
   "execution_count": 30,
   "metadata": {},
   "outputs": [
    {
     "data": {
      "image/png": "[encoded data removed]",
      "text/plain": [
       "<Figure size 432x288 with 1 Axes>"
      ]
     },
     "metadata": {},
     "output_type": "display_data"
    }
   ],
   "source": [
    "plt.pie(df_time['Период'].value_counts().values, labels=df_time['Период'].value_counts().index)\n",
    "plt.xlabel('Период')\n",
    "plt.show()"
   ]
  },
  {
   "cell_type": "markdown",
   "metadata": {},
   "source": [
    "Распределение общего времени по периодам является равномерным"
   ]
  },
  {
   "cell_type": "markdown",
   "metadata": {},
   "source": [
    "Теперь очередь дошла до 4 таблицы"
   ]
  },
  {
   "cell_type": "code",
   "execution_count": 31,
   "metadata": {},
   "outputs": [
    {
     "data": {
      "image/png": "[encoded data removed]",
      "text/plain": [
       "<Figure size 432x288 with 1 Axes>"
      ]
     },
     "metadata": {
      "needs_background": "light"
     },
     "output_type": "display_data"
    }
   ],
   "source": [
    "plt.title('Прибыль')\n",
    "plt.boxplot(df_money['Прибыль'])\n",
    "plt.show()"
   ]
  },
  {
   "cell_type": "markdown",
   "metadata": {},
   "source": [
    "Нашлись выбросы, в данном случае можно их не щадить и убрать"
   ]
  },
  {
   "cell_type": "code",
   "execution_count": 32,
   "metadata": {},
   "outputs": [
    {
     "data": {
      "image/png": "[encoded data removed]",
      "text/plain": [
       "<Figure size 1440x720 with 1 Axes>"
      ]
     },
     "metadata": {
      "needs_background": "light"
     },
     "output_type": "display_data"
    },
    {
     "name": "stdout",
     "output_type": "stream",
     "text": [
      "распределение нормальное\n"
     ]
    }
   ],
   "source": [
    "df_money['Прибыль'].hist(figsize=(20,10),bins=30)\n",
    "plt.title('Прибыль')\n",
    "plt.show()\n",
    "if stats.kstest(df_money['Прибыль'], 'norm', args=(df_money['Прибыль'].mean(),stdev(df_money['Прибыль'])), alternative='two-sided').pvalue>0.05:\n",
    "    print('распределение нормальное')\n",
    "else:\n",
    "    print('Нулевая гипотеза не подтвердилась')"
   ]
  },
  {
   "cell_type": "markdown",
   "metadata": {},
   "source": [
    "Распределение прибыли продавца за последние три месяца является нормальным"
   ]
  },
  {
   "cell_type": "markdown",
   "metadata": {},
   "source": [
    "По итогу исследовательского анализа данных можно сказать, что подавляющее большинство количественным признаков не имеет нормальное распределение, кроме прибыли последней таблице. В плане категориальных признаков в первой таблице преобладал прежний уровень активности у клиента, так же большинство клиентов пользуется стандартным типом сервиса и разрешает присылать им маркетинговые прдложения. С точки зрения заинтересованности категориями товаров, все они распределены равномерно. в остальных таблицах количественные признаки имеют нормальное распределение. Периоды в талице со временем и выручкой распределены равно по понятным причинам"
   ]
  },
  {
   "cell_type": "markdown",
   "metadata": {},
   "source": [
    "# Шаг 4. Объединение таблиц"
   ]
  },
  {
   "cell_type": "markdown",
   "metadata": {},
   "source": [
    "Давайте объединим три основные таблицы в одну, четвертую не трогаем, так как она нам не понадобится"
   ]
  },
  {
   "cell_type": "code",
   "execution_count": 33,
   "metadata": {},
   "outputs": [],
   "source": [
    "df_time_tek = df_time[df_time['Период']=='текущий_месяц']\n",
    "df_time_tek = df_time_tek.drop('Период',axis=1)\n",
    "df_time_pred = df_time[df_time['Период']=='предыдущий_месяц']\n",
    "df_time_pred = df_time_pred.drop('Период',axis=1)\n",
    "\n",
    "df_market_money_tek = df_market_money[df_market_money['Период']=='текущий_месяц']\n",
    "df_market_money_tek = df_market_money_tek.drop('Период',axis=1)\n",
    "df_market_money_pred = df_market_money[df_market_money['Период']=='предыдущий_месяц']\n",
    "df_market_money_pred = df_market_money_pred.drop('Период',axis=1)\n",
    "df_market_money_prepre = df_market_money[df_market_money['Период']=='препредыдущий_месяц']\n",
    "df_market_money_prepre = df_market_money_prepre.drop('Период',axis=1)"
   ]
  },
  {
   "cell_type": "code",
   "execution_count": 34,
   "metadata": {},
   "outputs": [
    {
     "data": {
      "text/html": [
       "<div>\n",
       "<style scoped>\n",
       "    .dataframe tbody tr th:only-of-type {\n",
       "        vertical-align: middle;\n",
       "    }\n",
       "\n",
       "    .dataframe tbody tr th {\n",
       "        vertical-align: top;\n",
       "    }\n",
       "\n",
       "    .dataframe thead th {\n",
       "        text-align: right;\n",
       "    }\n",
       "</style>\n",
       "<table border=\"1\" class=\"dataframe\">\n",
       "  <thead>\n",
       "    <tr style=\"text-align: right;\">\n",
       "      <th></th>\n",
       "      <th>id</th>\n",
       "      <th>Покупательская активность</th>\n",
       "      <th>Тип сервиса</th>\n",
       "      <th>Разрешить сообщать</th>\n",
       "      <th>Маркет_актив_6_мес</th>\n",
       "      <th>Маркет_актив_тек_мес</th>\n",
       "      <th>Длительность</th>\n",
       "      <th>Акционные_покупки</th>\n",
       "      <th>Популярная_категория</th>\n",
       "      <th>Средний_просмотр_категорий_за_визит</th>\n",
       "      <th>Неоплаченные_продукты_штук_квартал</th>\n",
       "      <th>Ошибка_сервиса</th>\n",
       "      <th>Страниц_за_визит</th>\n",
       "      <th>Время_за_текущий_месяц</th>\n",
       "      <th>Время_за_предыдущий_месяц</th>\n",
       "      <th>Выручка_за_текущий_месяц</th>\n",
       "      <th>Выручка_за_предыдущий_месяц</th>\n",
       "      <th>Выручка_за_препредыдущий_месяц</th>\n",
       "    </tr>\n",
       "  </thead>\n",
       "  <tbody>\n",
       "    <tr>\n",
       "      <th>0</th>\n",
       "      <td>215348</td>\n",
       "      <td>Снизилась</td>\n",
       "      <td>премиум</td>\n",
       "      <td>да</td>\n",
       "      <td>3.4</td>\n",
       "      <td>5</td>\n",
       "      <td>121</td>\n",
       "      <td>0.00</td>\n",
       "      <td>Товары для детей</td>\n",
       "      <td>6</td>\n",
       "      <td>2</td>\n",
       "      <td>1</td>\n",
       "      <td>5</td>\n",
       "      <td>14</td>\n",
       "      <td>13</td>\n",
       "      <td>3293.1</td>\n",
       "      <td>NaN</td>\n",
       "      <td>NaN</td>\n",
       "    </tr>\n",
       "    <tr>\n",
       "      <th>1</th>\n",
       "      <td>215349</td>\n",
       "      <td>Снизилась</td>\n",
       "      <td>премиум</td>\n",
       "      <td>да</td>\n",
       "      <td>4.4</td>\n",
       "      <td>4</td>\n",
       "      <td>819</td>\n",
       "      <td>0.75</td>\n",
       "      <td>Товары для детей</td>\n",
       "      <td>4</td>\n",
       "      <td>4</td>\n",
       "      <td>2</td>\n",
       "      <td>5</td>\n",
       "      <td>10</td>\n",
       "      <td>12</td>\n",
       "      <td>4971.6</td>\n",
       "      <td>5216.0</td>\n",
       "      <td>4472.0</td>\n",
       "    </tr>\n",
       "    <tr>\n",
       "      <th>2</th>\n",
       "      <td>215350</td>\n",
       "      <td>Снизилась</td>\n",
       "      <td>стандарт</td>\n",
       "      <td>нет</td>\n",
       "      <td>4.9</td>\n",
       "      <td>3</td>\n",
       "      <td>539</td>\n",
       "      <td>0.14</td>\n",
       "      <td>Домашний текстиль</td>\n",
       "      <td>5</td>\n",
       "      <td>2</td>\n",
       "      <td>1</td>\n",
       "      <td>5</td>\n",
       "      <td>13</td>\n",
       "      <td>8</td>\n",
       "      <td>5058.4</td>\n",
       "      <td>5457.5</td>\n",
       "      <td>4826.0</td>\n",
       "    </tr>\n",
       "    <tr>\n",
       "      <th>3</th>\n",
       "      <td>215351</td>\n",
       "      <td>Снизилась</td>\n",
       "      <td>стандарт</td>\n",
       "      <td>да</td>\n",
       "      <td>3.2</td>\n",
       "      <td>5</td>\n",
       "      <td>896</td>\n",
       "      <td>0.99</td>\n",
       "      <td>Товары для детей</td>\n",
       "      <td>5</td>\n",
       "      <td>0</td>\n",
       "      <td>6</td>\n",
       "      <td>4</td>\n",
       "      <td>13</td>\n",
       "      <td>11</td>\n",
       "      <td>6610.4</td>\n",
       "      <td>6158.0</td>\n",
       "      <td>4793.0</td>\n",
       "    </tr>\n",
       "    <tr>\n",
       "      <th>4</th>\n",
       "      <td>215352</td>\n",
       "      <td>Снизилась</td>\n",
       "      <td>стандарт</td>\n",
       "      <td>нет</td>\n",
       "      <td>5.1</td>\n",
       "      <td>3</td>\n",
       "      <td>1064</td>\n",
       "      <td>0.94</td>\n",
       "      <td>Товары для детей</td>\n",
       "      <td>3</td>\n",
       "      <td>2</td>\n",
       "      <td>3</td>\n",
       "      <td>2</td>\n",
       "      <td>11</td>\n",
       "      <td>8</td>\n",
       "      <td>5872.5</td>\n",
       "      <td>5807.5</td>\n",
       "      <td>4594.0</td>\n",
       "    </tr>\n",
       "    <tr>\n",
       "      <th>...</th>\n",
       "      <td>...</td>\n",
       "      <td>...</td>\n",
       "      <td>...</td>\n",
       "      <td>...</td>\n",
       "      <td>...</td>\n",
       "      <td>...</td>\n",
       "      <td>...</td>\n",
       "      <td>...</td>\n",
       "      <td>...</td>\n",
       "      <td>...</td>\n",
       "      <td>...</td>\n",
       "      <td>...</td>\n",
       "      <td>...</td>\n",
       "      <td>...</td>\n",
       "      <td>...</td>\n",
       "      <td>...</td>\n",
       "      <td>...</td>\n",
       "      <td>...</td>\n",
       "    </tr>\n",
       "    <tr>\n",
       "      <th>1295</th>\n",
       "      <td>216643</td>\n",
       "      <td>Прежний уровень</td>\n",
       "      <td>стандарт</td>\n",
       "      <td>да</td>\n",
       "      <td>6.6</td>\n",
       "      <td>3</td>\n",
       "      <td>318</td>\n",
       "      <td>0.24</td>\n",
       "      <td>Техника для красоты и здоровья</td>\n",
       "      <td>5</td>\n",
       "      <td>3</td>\n",
       "      <td>3</td>\n",
       "      <td>11</td>\n",
       "      <td>7</td>\n",
       "      <td>14</td>\n",
       "      <td>4741.7</td>\n",
       "      <td>3664.0</td>\n",
       "      <td>4704.0</td>\n",
       "    </tr>\n",
       "    <tr>\n",
       "      <th>1296</th>\n",
       "      <td>216644</td>\n",
       "      <td>Прежний уровень</td>\n",
       "      <td>стандарт</td>\n",
       "      <td>нет</td>\n",
       "      <td>5.1</td>\n",
       "      <td>4</td>\n",
       "      <td>454</td>\n",
       "      <td>0.21</td>\n",
       "      <td>Домашний текстиль</td>\n",
       "      <td>6</td>\n",
       "      <td>2</td>\n",
       "      <td>3</td>\n",
       "      <td>9</td>\n",
       "      <td>11</td>\n",
       "      <td>12</td>\n",
       "      <td>5353.0</td>\n",
       "      <td>4729.0</td>\n",
       "      <td>5299.0</td>\n",
       "    </tr>\n",
       "    <tr>\n",
       "      <th>1297</th>\n",
       "      <td>216645</td>\n",
       "      <td>Прежний уровень</td>\n",
       "      <td>стандарт</td>\n",
       "      <td>да</td>\n",
       "      <td>4.1</td>\n",
       "      <td>3</td>\n",
       "      <td>586</td>\n",
       "      <td>0.20</td>\n",
       "      <td>Домашний текстиль</td>\n",
       "      <td>3</td>\n",
       "      <td>2</td>\n",
       "      <td>5</td>\n",
       "      <td>7</td>\n",
       "      <td>18</td>\n",
       "      <td>12</td>\n",
       "      <td>5139.2</td>\n",
       "      <td>5160.0</td>\n",
       "      <td>5334.0</td>\n",
       "    </tr>\n",
       "    <tr>\n",
       "      <th>1298</th>\n",
       "      <td>216646</td>\n",
       "      <td>Прежний уровень</td>\n",
       "      <td>стандарт</td>\n",
       "      <td>да</td>\n",
       "      <td>6.3</td>\n",
       "      <td>5</td>\n",
       "      <td>645</td>\n",
       "      <td>0.12</td>\n",
       "      <td>Техника для красоты и здоровья</td>\n",
       "      <td>3</td>\n",
       "      <td>3</td>\n",
       "      <td>5</td>\n",
       "      <td>7</td>\n",
       "      <td>7</td>\n",
       "      <td>18</td>\n",
       "      <td>5224.6</td>\n",
       "      <td>4923.0</td>\n",
       "      <td>4725.0</td>\n",
       "    </tr>\n",
       "    <tr>\n",
       "      <th>1299</th>\n",
       "      <td>216647</td>\n",
       "      <td>Прежний уровень</td>\n",
       "      <td>премиум</td>\n",
       "      <td>да</td>\n",
       "      <td>4.0</td>\n",
       "      <td>5</td>\n",
       "      <td>906</td>\n",
       "      <td>0.94</td>\n",
       "      <td>Техника для красоты и здоровья</td>\n",
       "      <td>4</td>\n",
       "      <td>5</td>\n",
       "      <td>3</td>\n",
       "      <td>12</td>\n",
       "      <td>10</td>\n",
       "      <td>15</td>\n",
       "      <td>4448.3</td>\n",
       "      <td>4720.0</td>\n",
       "      <td>5183.0</td>\n",
       "    </tr>\n",
       "  </tbody>\n",
       "</table>\n",
       "<p>1300 rows × 18 columns</p>\n",
       "</div>"
      ],
      "text/plain": [
       "          id Покупательская активность Тип сервиса Разрешить сообщать  \\\n",
       "0     215348                 Снизилась     премиум                 да   \n",
       "1     215349                 Снизилась     премиум                 да   \n",
       "2     215350                 Снизилась    стандарт                нет   \n",
       "3     215351                 Снизилась    стандарт                 да   \n",
       "4     215352                 Снизилась    стандарт                нет   \n",
       "...      ...                       ...         ...                ...   \n",
       "1295  216643           Прежний уровень    стандарт                 да   \n",
       "1296  216644           Прежний уровень    стандарт                нет   \n",
       "1297  216645           Прежний уровень    стандарт                 да   \n",
       "1298  216646           Прежний уровень    стандарт                 да   \n",
       "1299  216647           Прежний уровень     премиум                 да   \n",
       "\n",
       "      Маркет_актив_6_мес  Маркет_актив_тек_мес  Длительность  \\\n",
       "0                    3.4                     5           121   \n",
       "1                    4.4                     4           819   \n",
       "2                    4.9                     3           539   \n",
       "3                    3.2                     5           896   \n",
       "4                    5.1                     3          1064   \n",
       "...                  ...                   ...           ...   \n",
       "1295                 6.6                     3           318   \n",
       "1296                 5.1                     4           454   \n",
       "1297                 4.1                     3           586   \n",
       "1298                 6.3                     5           645   \n",
       "1299                 4.0                     5           906   \n",
       "\n",
       "      Акционные_покупки            Популярная_категория  \\\n",
       "0                  0.00                Товары для детей   \n",
       "1                  0.75                Товары для детей   \n",
       "2                  0.14               Домашний текстиль   \n",
       "3                  0.99                Товары для детей   \n",
       "4                  0.94                Товары для детей   \n",
       "...                 ...                             ...   \n",
       "1295               0.24  Техника для красоты и здоровья   \n",
       "1296               0.21               Домашний текстиль   \n",
       "1297               0.20               Домашний текстиль   \n",
       "1298               0.12  Техника для красоты и здоровья   \n",
       "1299               0.94  Техника для красоты и здоровья   \n",
       "\n",
       "      Средний_просмотр_категорий_за_визит  Неоплаченные_продукты_штук_квартал  \\\n",
       "0                                       6                                   2   \n",
       "1                                       4                                   4   \n",
       "2                                       5                                   2   \n",
       "3                                       5                                   0   \n",
       "4                                       3                                   2   \n",
       "...                                   ...                                 ...   \n",
       "1295                                    5                                   3   \n",
       "1296                                    6                                   2   \n",
       "1297                                    3                                   2   \n",
       "1298                                    3                                   3   \n",
       "1299                                    4                                   5   \n",
       "\n",
       "      Ошибка_сервиса  Страниц_за_визит  Время_за_текущий_месяц  \\\n",
       "0                  1                 5                      14   \n",
       "1                  2                 5                      10   \n",
       "2                  1                 5                      13   \n",
       "3                  6                 4                      13   \n",
       "4                  3                 2                      11   \n",
       "...              ...               ...                     ...   \n",
       "1295               3                11                       7   \n",
       "1296               3                 9                      11   \n",
       "1297               5                 7                      18   \n",
       "1298               5                 7                       7   \n",
       "1299               3                12                      10   \n",
       "\n",
       "      Время_за_предыдущий_месяц  Выручка_за_текущий_месяц  \\\n",
       "0                            13                    3293.1   \n",
       "1                            12                    4971.6   \n",
       "2                             8                    5058.4   \n",
       "3                            11                    6610.4   \n",
       "4                             8                    5872.5   \n",
       "...                         ...                       ...   \n",
       "1295                         14                    4741.7   \n",
       "1296                         12                    5353.0   \n",
       "1297                         12                    5139.2   \n",
       "1298                         18                    5224.6   \n",
       "1299                         15                    4448.3   \n",
       "\n",
       "      Выручка_за_предыдущий_месяц  Выручка_за_препредыдущий_месяц  \n",
       "0                             NaN                             NaN  \n",
       "1                          5216.0                          4472.0  \n",
       "2                          5457.5                          4826.0  \n",
       "3                          6158.0                          4793.0  \n",
       "4                          5807.5                          4594.0  \n",
       "...                           ...                             ...  \n",
       "1295                       3664.0                          4704.0  \n",
       "1296                       4729.0                          5299.0  \n",
       "1297                       5160.0                          5334.0  \n",
       "1298                       4923.0                          4725.0  \n",
       "1299                       4720.0                          5183.0  \n",
       "\n",
       "[1300 rows x 18 columns]"
      ]
     },
     "metadata": {},
     "output_type": "display_data"
    }
   ],
   "source": [
    "df_main = pd.merge(df_main,df_time_tek,on='id',how='left')\n",
    "df_main = pd.merge(df_main,df_time_pred,on='id',how='left')\n",
    "df_main = pd.merge(df_main,df_market_money_tek,on='id',how='left')\n",
    "df_main = pd.merge(df_main,df_market_money_pred,on='id',how='left')\n",
    "df_main = pd.merge(df_main,df_market_money_prepre,on='id',how='left')\n",
    "\n",
    "df_main = df_main.rename(columns={'минут_x':'Время_за_текущий_месяц',\n",
    "                                  'минут_y':'Время_за_предыдущий_месяц',\n",
    "                                  'Выручка_x':'Выручка_за_текущий_месяц',\n",
    "                                  'Выручка_y':'Выручка_за_предыдущий_месяц',\n",
    "                                  'Выручка':'Выручка_за_препредыдущий_месяц',})\n",
    "\n",
    "display(df_main)"
   ]
  },
  {
   "cell_type": "markdown",
   "metadata": {},
   "source": [
    "Появились пропуски, но ничего, мы их потом в шаге с пайплайнами заполним средним значением"
   ]
  },
  {
   "cell_type": "markdown",
   "metadata": {},
   "source": [
    "# Шаг 5. Корреляционный анализ данных"
   ]
  },
  {
   "cell_type": "code",
   "execution_count": 35,
   "metadata": {},
   "outputs": [],
   "source": [
    "df_main_interval_col = ['Маркет_актив_6_мес',\n",
    "                  'Длительность',\n",
    "                  'Акционные_покупки',\n",
    "                  'Время_за_текущий_месяц',\n",
    "                  'Время_за_предыдущий_месяц',\n",
    "                  'Выручка_за_текущий_месяц',\n",
    "                  'Выручка_за_предыдущий_месяц',\n",
    "                  'Выручка_за_препредыдущий_месяц']\n"
   ]
  },
  {
   "cell_type": "code",
   "execution_count": 36,
   "metadata": {
    "scrolled": false
   },
   "outputs": [
    {
     "data": {
      "text/html": [
       "<div>\n",
       "<style scoped>\n",
       "    .dataframe tbody tr th:only-of-type {\n",
       "        vertical-align: middle;\n",
       "    }\n",
       "\n",
       "    .dataframe tbody tr th {\n",
       "        vertical-align: top;\n",
       "    }\n",
       "\n",
       "    .dataframe thead th {\n",
       "        text-align: right;\n",
       "    }\n",
       "</style>\n",
       "<table border=\"1\" class=\"dataframe\">\n",
       "  <thead>\n",
       "    <tr style=\"text-align: right;\">\n",
       "      <th></th>\n",
       "      <th>Покупательская активность</th>\n",
       "      <th>Тип сервиса</th>\n",
       "      <th>Разрешить сообщать</th>\n",
       "      <th>Маркет_актив_6_мес</th>\n",
       "      <th>Маркет_актив_тек_мес</th>\n",
       "      <th>Длительность</th>\n",
       "      <th>Акционные_покупки</th>\n",
       "      <th>Популярная_категория</th>\n",
       "      <th>Средний_просмотр_категорий_за_визит</th>\n",
       "      <th>Неоплаченные_продукты_штук_квартал</th>\n",
       "      <th>Ошибка_сервиса</th>\n",
       "      <th>Страниц_за_визит</th>\n",
       "      <th>Время_за_текущий_месяц</th>\n",
       "      <th>Время_за_предыдущий_месяц</th>\n",
       "      <th>Выручка_за_текущий_месяц</th>\n",
       "      <th>Выручка_за_предыдущий_месяц</th>\n",
       "      <th>Выручка_за_препредыдущий_месяц</th>\n",
       "    </tr>\n",
       "  </thead>\n",
       "  <tbody>\n",
       "    <tr>\n",
       "      <th>Покупательская активность</th>\n",
       "      <td>1.000000</td>\n",
       "      <td>0.132277</td>\n",
       "      <td>0.000000</td>\n",
       "      <td>0.545630</td>\n",
       "      <td>0.000000</td>\n",
       "      <td>0.089995</td>\n",
       "      <td>0.498954</td>\n",
       "      <td>0.297053</td>\n",
       "      <td>0.535431</td>\n",
       "      <td>0.402574</td>\n",
       "      <td>0.219823</td>\n",
       "      <td>0.748398</td>\n",
       "      <td>0.575876</td>\n",
       "      <td>0.683726</td>\n",
       "      <td>0.197806</td>\n",
       "      <td>0.227280</td>\n",
       "      <td>0.495174</td>\n",
       "    </tr>\n",
       "    <tr>\n",
       "      <th>Тип сервиса</th>\n",
       "      <td>0.132277</td>\n",
       "      <td>1.000000</td>\n",
       "      <td>0.286015</td>\n",
       "      <td>0.092477</td>\n",
       "      <td>0.044600</td>\n",
       "      <td>0.405711</td>\n",
       "      <td>0.046192</td>\n",
       "      <td>0.066787</td>\n",
       "      <td>0.181069</td>\n",
       "      <td>0.114099</td>\n",
       "      <td>0.073367</td>\n",
       "      <td>0.088330</td>\n",
       "      <td>0.000000</td>\n",
       "      <td>0.129821</td>\n",
       "      <td>0.121108</td>\n",
       "      <td>0.000000</td>\n",
       "      <td>0.068507</td>\n",
       "    </tr>\n",
       "    <tr>\n",
       "      <th>Разрешить сообщать</th>\n",
       "      <td>0.000000</td>\n",
       "      <td>0.286015</td>\n",
       "      <td>1.000000</td>\n",
       "      <td>0.000000</td>\n",
       "      <td>0.052267</td>\n",
       "      <td>0.249165</td>\n",
       "      <td>0.000000</td>\n",
       "      <td>0.071386</td>\n",
       "      <td>0.071829</td>\n",
       "      <td>0.162462</td>\n",
       "      <td>0.000000</td>\n",
       "      <td>0.096469</td>\n",
       "      <td>0.000000</td>\n",
       "      <td>0.041988</td>\n",
       "      <td>0.062021</td>\n",
       "      <td>0.079830</td>\n",
       "      <td>0.000000</td>\n",
       "    </tr>\n",
       "    <tr>\n",
       "      <th>Маркет_актив_6_мес</th>\n",
       "      <td>0.545630</td>\n",
       "      <td>0.092477</td>\n",
       "      <td>0.000000</td>\n",
       "      <td>1.000000</td>\n",
       "      <td>0.078349</td>\n",
       "      <td>0.000000</td>\n",
       "      <td>0.241500</td>\n",
       "      <td>0.149938</td>\n",
       "      <td>0.206398</td>\n",
       "      <td>0.215234</td>\n",
       "      <td>0.141742</td>\n",
       "      <td>0.373082</td>\n",
       "      <td>0.328372</td>\n",
       "      <td>0.363694</td>\n",
       "      <td>0.035866</td>\n",
       "      <td>0.149129</td>\n",
       "      <td>0.312243</td>\n",
       "    </tr>\n",
       "    <tr>\n",
       "      <th>Маркет_актив_тек_мес</th>\n",
       "      <td>0.000000</td>\n",
       "      <td>0.044600</td>\n",
       "      <td>0.052267</td>\n",
       "      <td>0.078349</td>\n",
       "      <td>1.000000</td>\n",
       "      <td>0.178717</td>\n",
       "      <td>0.011341</td>\n",
       "      <td>0.132810</td>\n",
       "      <td>0.247489</td>\n",
       "      <td>0.144497</td>\n",
       "      <td>0.115543</td>\n",
       "      <td>0.000000</td>\n",
       "      <td>0.064532</td>\n",
       "      <td>0.103696</td>\n",
       "      <td>0.000000</td>\n",
       "      <td>0.054683</td>\n",
       "      <td>0.000000</td>\n",
       "    </tr>\n",
       "    <tr>\n",
       "      <th>Длительность</th>\n",
       "      <td>0.089995</td>\n",
       "      <td>0.405711</td>\n",
       "      <td>0.249165</td>\n",
       "      <td>0.000000</td>\n",
       "      <td>0.178717</td>\n",
       "      <td>1.000000</td>\n",
       "      <td>0.124509</td>\n",
       "      <td>0.000000</td>\n",
       "      <td>0.191292</td>\n",
       "      <td>0.115885</td>\n",
       "      <td>0.185802</td>\n",
       "      <td>0.111171</td>\n",
       "      <td>0.106626</td>\n",
       "      <td>0.000000</td>\n",
       "      <td>0.141601</td>\n",
       "      <td>0.116325</td>\n",
       "      <td>0.112349</td>\n",
       "    </tr>\n",
       "    <tr>\n",
       "      <th>Акционные_покупки</th>\n",
       "      <td>0.498954</td>\n",
       "      <td>0.046192</td>\n",
       "      <td>0.000000</td>\n",
       "      <td>0.241500</td>\n",
       "      <td>0.011341</td>\n",
       "      <td>0.124509</td>\n",
       "      <td>1.000000</td>\n",
       "      <td>0.102826</td>\n",
       "      <td>0.196895</td>\n",
       "      <td>0.245399</td>\n",
       "      <td>0.079912</td>\n",
       "      <td>0.343749</td>\n",
       "      <td>0.264620</td>\n",
       "      <td>0.261309</td>\n",
       "      <td>0.087261</td>\n",
       "      <td>0.056164</td>\n",
       "      <td>0.191116</td>\n",
       "    </tr>\n",
       "    <tr>\n",
       "      <th>Популярная_категория</th>\n",
       "      <td>0.297053</td>\n",
       "      <td>0.066787</td>\n",
       "      <td>0.071386</td>\n",
       "      <td>0.149938</td>\n",
       "      <td>0.132810</td>\n",
       "      <td>0.000000</td>\n",
       "      <td>0.102826</td>\n",
       "      <td>1.000000</td>\n",
       "      <td>0.224104</td>\n",
       "      <td>0.254464</td>\n",
       "      <td>0.000000</td>\n",
       "      <td>0.175765</td>\n",
       "      <td>0.091974</td>\n",
       "      <td>0.195037</td>\n",
       "      <td>0.235239</td>\n",
       "      <td>0.250974</td>\n",
       "      <td>0.045814</td>\n",
       "    </tr>\n",
       "    <tr>\n",
       "      <th>Средний_просмотр_категорий_за_визит</th>\n",
       "      <td>0.535431</td>\n",
       "      <td>0.181069</td>\n",
       "      <td>0.071829</td>\n",
       "      <td>0.206398</td>\n",
       "      <td>0.247489</td>\n",
       "      <td>0.191292</td>\n",
       "      <td>0.196895</td>\n",
       "      <td>0.224104</td>\n",
       "      <td>1.000000</td>\n",
       "      <td>0.335158</td>\n",
       "      <td>0.067988</td>\n",
       "      <td>0.291334</td>\n",
       "      <td>0.183393</td>\n",
       "      <td>0.158577</td>\n",
       "      <td>0.101008</td>\n",
       "      <td>0.100332</td>\n",
       "      <td>0.176770</td>\n",
       "    </tr>\n",
       "    <tr>\n",
       "      <th>Неоплаченные_продукты_штук_квартал</th>\n",
       "      <td>0.402574</td>\n",
       "      <td>0.114099</td>\n",
       "      <td>0.162462</td>\n",
       "      <td>0.215234</td>\n",
       "      <td>0.144497</td>\n",
       "      <td>0.115885</td>\n",
       "      <td>0.245399</td>\n",
       "      <td>0.254464</td>\n",
       "      <td>0.335158</td>\n",
       "      <td>1.000000</td>\n",
       "      <td>0.016883</td>\n",
       "      <td>0.307712</td>\n",
       "      <td>0.168824</td>\n",
       "      <td>0.195247</td>\n",
       "      <td>0.165441</td>\n",
       "      <td>0.193752</td>\n",
       "      <td>0.189721</td>\n",
       "    </tr>\n",
       "    <tr>\n",
       "      <th>Ошибка_сервиса</th>\n",
       "      <td>0.219823</td>\n",
       "      <td>0.073367</td>\n",
       "      <td>0.000000</td>\n",
       "      <td>0.141742</td>\n",
       "      <td>0.115543</td>\n",
       "      <td>0.185802</td>\n",
       "      <td>0.079912</td>\n",
       "      <td>0.000000</td>\n",
       "      <td>0.067988</td>\n",
       "      <td>0.016883</td>\n",
       "      <td>1.000000</td>\n",
       "      <td>0.152562</td>\n",
       "      <td>0.172182</td>\n",
       "      <td>0.244981</td>\n",
       "      <td>0.000000</td>\n",
       "      <td>0.000000</td>\n",
       "      <td>0.140057</td>\n",
       "    </tr>\n",
       "    <tr>\n",
       "      <th>Страниц_за_визит</th>\n",
       "      <td>0.748398</td>\n",
       "      <td>0.088330</td>\n",
       "      <td>0.096469</td>\n",
       "      <td>0.373082</td>\n",
       "      <td>0.000000</td>\n",
       "      <td>0.111171</td>\n",
       "      <td>0.343749</td>\n",
       "      <td>0.175765</td>\n",
       "      <td>0.291334</td>\n",
       "      <td>0.307712</td>\n",
       "      <td>0.152562</td>\n",
       "      <td>1.000000</td>\n",
       "      <td>0.378934</td>\n",
       "      <td>0.465907</td>\n",
       "      <td>0.107595</td>\n",
       "      <td>0.151372</td>\n",
       "      <td>0.339933</td>\n",
       "    </tr>\n",
       "    <tr>\n",
       "      <th>Время_за_текущий_месяц</th>\n",
       "      <td>0.575876</td>\n",
       "      <td>0.000000</td>\n",
       "      <td>0.000000</td>\n",
       "      <td>0.328372</td>\n",
       "      <td>0.064532</td>\n",
       "      <td>0.106626</td>\n",
       "      <td>0.264620</td>\n",
       "      <td>0.091974</td>\n",
       "      <td>0.183393</td>\n",
       "      <td>0.168824</td>\n",
       "      <td>0.172182</td>\n",
       "      <td>0.378934</td>\n",
       "      <td>1.000000</td>\n",
       "      <td>0.410091</td>\n",
       "      <td>0.259633</td>\n",
       "      <td>0.195882</td>\n",
       "      <td>0.342683</td>\n",
       "    </tr>\n",
       "    <tr>\n",
       "      <th>Время_за_предыдущий_месяц</th>\n",
       "      <td>0.683726</td>\n",
       "      <td>0.129821</td>\n",
       "      <td>0.041988</td>\n",
       "      <td>0.363694</td>\n",
       "      <td>0.103696</td>\n",
       "      <td>0.000000</td>\n",
       "      <td>0.261309</td>\n",
       "      <td>0.195037</td>\n",
       "      <td>0.158577</td>\n",
       "      <td>0.195247</td>\n",
       "      <td>0.244981</td>\n",
       "      <td>0.465907</td>\n",
       "      <td>0.410091</td>\n",
       "      <td>1.000000</td>\n",
       "      <td>0.227326</td>\n",
       "      <td>0.129355</td>\n",
       "      <td>0.421143</td>\n",
       "    </tr>\n",
       "    <tr>\n",
       "      <th>Выручка_за_текущий_месяц</th>\n",
       "      <td>0.197806</td>\n",
       "      <td>0.121108</td>\n",
       "      <td>0.062021</td>\n",
       "      <td>0.035866</td>\n",
       "      <td>0.000000</td>\n",
       "      <td>0.141601</td>\n",
       "      <td>0.087261</td>\n",
       "      <td>0.235239</td>\n",
       "      <td>0.101008</td>\n",
       "      <td>0.165441</td>\n",
       "      <td>0.000000</td>\n",
       "      <td>0.107595</td>\n",
       "      <td>0.259633</td>\n",
       "      <td>0.227326</td>\n",
       "      <td>1.000000</td>\n",
       "      <td>0.836281</td>\n",
       "      <td>0.410478</td>\n",
       "    </tr>\n",
       "    <tr>\n",
       "      <th>Выручка_за_предыдущий_месяц</th>\n",
       "      <td>0.227280</td>\n",
       "      <td>0.000000</td>\n",
       "      <td>0.079830</td>\n",
       "      <td>0.149129</td>\n",
       "      <td>0.054683</td>\n",
       "      <td>0.116325</td>\n",
       "      <td>0.056164</td>\n",
       "      <td>0.250974</td>\n",
       "      <td>0.100332</td>\n",
       "      <td>0.193752</td>\n",
       "      <td>0.000000</td>\n",
       "      <td>0.151372</td>\n",
       "      <td>0.195882</td>\n",
       "      <td>0.129355</td>\n",
       "      <td>0.836281</td>\n",
       "      <td>1.000000</td>\n",
       "      <td>0.358036</td>\n",
       "    </tr>\n",
       "    <tr>\n",
       "      <th>Выручка_за_препредыдущий_месяц</th>\n",
       "      <td>0.495174</td>\n",
       "      <td>0.068507</td>\n",
       "      <td>0.000000</td>\n",
       "      <td>0.312243</td>\n",
       "      <td>0.000000</td>\n",
       "      <td>0.112349</td>\n",
       "      <td>0.191116</td>\n",
       "      <td>0.045814</td>\n",
       "      <td>0.176770</td>\n",
       "      <td>0.189721</td>\n",
       "      <td>0.140057</td>\n",
       "      <td>0.339933</td>\n",
       "      <td>0.342683</td>\n",
       "      <td>0.421143</td>\n",
       "      <td>0.410478</td>\n",
       "      <td>0.358036</td>\n",
       "      <td>1.000000</td>\n",
       "    </tr>\n",
       "  </tbody>\n",
       "</table>\n",
       "</div>"
      ],
      "text/plain": [
       "                                     Покупательская активность  Тип сервиса  \\\n",
       "Покупательская активность                             1.000000     0.132277   \n",
       "Тип сервиса                                           0.132277     1.000000   \n",
       "Разрешить сообщать                                    0.000000     0.286015   \n",
       "Маркет_актив_6_мес                                    0.545630     0.092477   \n",
       "Маркет_актив_тек_мес                                  0.000000     0.044600   \n",
       "Длительность                                          0.089995     0.405711   \n",
       "Акционные_покупки                                     0.498954     0.046192   \n",
       "Популярная_категория                                  0.297053     0.066787   \n",
       "Средний_просмотр_категорий_за_визит                   0.535431     0.181069   \n",
       "Неоплаченные_продукты_штук_квартал                    0.402574     0.114099   \n",
       "Ошибка_сервиса                                        0.219823     0.073367   \n",
       "Страниц_за_визит                                      0.748398     0.088330   \n",
       "Время_за_текущий_месяц                                0.575876     0.000000   \n",
       "Время_за_предыдущий_месяц                             0.683726     0.129821   \n",
       "Выручка_за_текущий_месяц                              0.197806     0.121108   \n",
       "Выручка_за_предыдущий_месяц                           0.227280     0.000000   \n",
       "Выручка_за_препредыдущий_месяц                        0.495174     0.068507   \n",
       "\n",
       "                                     Разрешить сообщать  Маркет_актив_6_мес  \\\n",
       "Покупательская активность                      0.000000            0.545630   \n",
       "Тип сервиса                                    0.286015            0.092477   \n",
       "Разрешить сообщать                             1.000000            0.000000   \n",
       "Маркет_актив_6_мес                             0.000000            1.000000   \n",
       "Маркет_актив_тек_мес                           0.052267            0.078349   \n",
       "Длительность                                   0.249165            0.000000   \n",
       "Акционные_покупки                              0.000000            0.241500   \n",
       "Популярная_категория                           0.071386            0.149938   \n",
       "Средний_просмотр_категорий_за_визит            0.071829            0.206398   \n",
       "Неоплаченные_продукты_штук_квартал             0.162462            0.215234   \n",
       "Ошибка_сервиса                                 0.000000            0.141742   \n",
       "Страниц_за_визит                               0.096469            0.373082   \n",
       "Время_за_текущий_месяц                         0.000000            0.328372   \n",
       "Время_за_предыдущий_месяц                      0.041988            0.363694   \n",
       "Выручка_за_текущий_месяц                       0.062021            0.035866   \n",
       "Выручка_за_предыдущий_месяц                    0.079830            0.149129   \n",
       "Выручка_за_препредыдущий_месяц                 0.000000            0.312243   \n",
       "\n",
       "                                     Маркет_актив_тек_мес  Длительность  \\\n",
       "Покупательская активность                        0.000000      0.089995   \n",
       "Тип сервиса                                      0.044600      0.405711   \n",
       "Разрешить сообщать                               0.052267      0.249165   \n",
       "Маркет_актив_6_мес                               0.078349      0.000000   \n",
       "Маркет_актив_тек_мес                             1.000000      0.178717   \n",
       "Длительность                                     0.178717      1.000000   \n",
       "Акционные_покупки                                0.011341      0.124509   \n",
       "Популярная_категория                             0.132810      0.000000   \n",
       "Средний_просмотр_категорий_за_визит              0.247489      0.191292   \n",
       "Неоплаченные_продукты_штук_квартал               0.144497      0.115885   \n",
       "Ошибка_сервиса                                   0.115543      0.185802   \n",
       "Страниц_за_визит                                 0.000000      0.111171   \n",
       "Время_за_текущий_месяц                           0.064532      0.106626   \n",
       "Время_за_предыдущий_месяц                        0.103696      0.000000   \n",
       "Выручка_за_текущий_месяц                         0.000000      0.141601   \n",
       "Выручка_за_предыдущий_месяц                      0.054683      0.116325   \n",
       "Выручка_за_препредыдущий_месяц                   0.000000      0.112349   \n",
       "\n",
       "                                     Акционные_покупки  Популярная_категория  \\\n",
       "Покупательская активность                     0.498954              0.297053   \n",
       "Тип сервиса                                   0.046192              0.066787   \n",
       "Разрешить сообщать                            0.000000              0.071386   \n",
       "Маркет_актив_6_мес                            0.241500              0.149938   \n",
       "Маркет_актив_тек_мес                          0.011341              0.132810   \n",
       "Длительность                                  0.124509              0.000000   \n",
       "Акционные_покупки                             1.000000              0.102826   \n",
       "Популярная_категория                          0.102826              1.000000   \n",
       "Средний_просмотр_категорий_за_визит           0.196895              0.224104   \n",
       "Неоплаченные_продукты_штук_квартал            0.245399              0.254464   \n",
       "Ошибка_сервиса                                0.079912              0.000000   \n",
       "Страниц_за_визит                              0.343749              0.175765   \n",
       "Время_за_текущий_месяц                        0.264620              0.091974   \n",
       "Время_за_предыдущий_месяц                     0.261309              0.195037   \n",
       "Выручка_за_текущий_месяц                      0.087261              0.235239   \n",
       "Выручка_за_предыдущий_месяц                   0.056164              0.250974   \n",
       "Выручка_за_препредыдущий_месяц                0.191116              0.045814   \n",
       "\n",
       "                                     Средний_просмотр_категорий_за_визит  \\\n",
       "Покупательская активность                                       0.535431   \n",
       "Тип сервиса                                                     0.181069   \n",
       "Разрешить сообщать                                              0.071829   \n",
       "Маркет_актив_6_мес                                              0.206398   \n",
       "Маркет_актив_тек_мес                                            0.247489   \n",
       "Длительность                                                    0.191292   \n",
       "Акционные_покупки                                               0.196895   \n",
       "Популярная_категория                                            0.224104   \n",
       "Средний_просмотр_категорий_за_визит                             1.000000   \n",
       "Неоплаченные_продукты_штук_квартал                              0.335158   \n",
       "Ошибка_сервиса                                                  0.067988   \n",
       "Страниц_за_визит                                                0.291334   \n",
       "Время_за_текущий_месяц                                          0.183393   \n",
       "Время_за_предыдущий_месяц                                       0.158577   \n",
       "Выручка_за_текущий_месяц                                        0.101008   \n",
       "Выручка_за_предыдущий_месяц                                     0.100332   \n",
       "Выручка_за_препредыдущий_месяц                                  0.176770   \n",
       "\n",
       "                                     Неоплаченные_продукты_штук_квартал  \\\n",
       "Покупательская активность                                      0.402574   \n",
       "Тип сервиса                                                    0.114099   \n",
       "Разрешить сообщать                                             0.162462   \n",
       "Маркет_актив_6_мес                                             0.215234   \n",
       "Маркет_актив_тек_мес                                           0.144497   \n",
       "Длительность                                                   0.115885   \n",
       "Акционные_покупки                                              0.245399   \n",
       "Популярная_категория                                           0.254464   \n",
       "Средний_просмотр_категорий_за_визит                            0.335158   \n",
       "Неоплаченные_продукты_штук_квартал                             1.000000   \n",
       "Ошибка_сервиса                                                 0.016883   \n",
       "Страниц_за_визит                                               0.307712   \n",
       "Время_за_текущий_месяц                                         0.168824   \n",
       "Время_за_предыдущий_месяц                                      0.195247   \n",
       "Выручка_за_текущий_месяц                                       0.165441   \n",
       "Выручка_за_предыдущий_месяц                                    0.193752   \n",
       "Выручка_за_препредыдущий_месяц                                 0.189721   \n",
       "\n",
       "                                     Ошибка_сервиса  Страниц_за_визит  \\\n",
       "Покупательская активность                  0.219823          0.748398   \n",
       "Тип сервиса                                0.073367          0.088330   \n",
       "Разрешить сообщать                         0.000000          0.096469   \n",
       "Маркет_актив_6_мес                         0.141742          0.373082   \n",
       "Маркет_актив_тек_мес                       0.115543          0.000000   \n",
       "Длительность                               0.185802          0.111171   \n",
       "Акционные_покупки                          0.079912          0.343749   \n",
       "Популярная_категория                       0.000000          0.175765   \n",
       "Средний_просмотр_категорий_за_визит        0.067988          0.291334   \n",
       "Неоплаченные_продукты_штук_квартал         0.016883          0.307712   \n",
       "Ошибка_сервиса                             1.000000          0.152562   \n",
       "Страниц_за_визит                           0.152562          1.000000   \n",
       "Время_за_текущий_месяц                     0.172182          0.378934   \n",
       "Время_за_предыдущий_месяц                  0.244981          0.465907   \n",
       "Выручка_за_текущий_месяц                   0.000000          0.107595   \n",
       "Выручка_за_предыдущий_месяц                0.000000          0.151372   \n",
       "Выручка_за_препредыдущий_месяц             0.140057          0.339933   \n",
       "\n",
       "                                     Время_за_текущий_месяц  \\\n",
       "Покупательская активность                          0.575876   \n",
       "Тип сервиса                                        0.000000   \n",
       "Разрешить сообщать                                 0.000000   \n",
       "Маркет_актив_6_мес                                 0.328372   \n",
       "Маркет_актив_тек_мес                               0.064532   \n",
       "Длительность                                       0.106626   \n",
       "Акционные_покупки                                  0.264620   \n",
       "Популярная_категория                               0.091974   \n",
       "Средний_просмотр_категорий_за_визит                0.183393   \n",
       "Неоплаченные_продукты_штук_квартал                 0.168824   \n",
       "Ошибка_сервиса                                     0.172182   \n",
       "Страниц_за_визит                                   0.378934   \n",
       "Время_за_текущий_месяц                             1.000000   \n",
       "Время_за_предыдущий_месяц                          0.410091   \n",
       "Выручка_за_текущий_месяц                           0.259633   \n",
       "Выручка_за_предыдущий_месяц                        0.195882   \n",
       "Выручка_за_препредыдущий_месяц                     0.342683   \n",
       "\n",
       "                                     Время_за_предыдущий_месяц  \\\n",
       "Покупательская активность                             0.683726   \n",
       "Тип сервиса                                           0.129821   \n",
       "Разрешить сообщать                                    0.041988   \n",
       "Маркет_актив_6_мес                                    0.363694   \n",
       "Маркет_актив_тек_мес                                  0.103696   \n",
       "Длительность                                          0.000000   \n",
       "Акционные_покупки                                     0.261309   \n",
       "Популярная_категория                                  0.195037   \n",
       "Средний_просмотр_категорий_за_визит                   0.158577   \n",
       "Неоплаченные_продукты_штук_квартал                    0.195247   \n",
       "Ошибка_сервиса                                        0.244981   \n",
       "Страниц_за_визит                                      0.465907   \n",
       "Время_за_текущий_месяц                                0.410091   \n",
       "Время_за_предыдущий_месяц                             1.000000   \n",
       "Выручка_за_текущий_месяц                              0.227326   \n",
       "Выручка_за_предыдущий_месяц                           0.129355   \n",
       "Выручка_за_препредыдущий_месяц                        0.421143   \n",
       "\n",
       "                                     Выручка_за_текущий_месяц  \\\n",
       "Покупательская активность                            0.197806   \n",
       "Тип сервиса                                          0.121108   \n",
       "Разрешить сообщать                                   0.062021   \n",
       "Маркет_актив_6_мес                                   0.035866   \n",
       "Маркет_актив_тек_мес                                 0.000000   \n",
       "Длительность                                         0.141601   \n",
       "Акционные_покупки                                    0.087261   \n",
       "Популярная_категория                                 0.235239   \n",
       "Средний_просмотр_категорий_за_визит                  0.101008   \n",
       "Неоплаченные_продукты_штук_квартал                   0.165441   \n",
       "Ошибка_сервиса                                       0.000000   \n",
       "Страниц_за_визит                                     0.107595   \n",
       "Время_за_текущий_месяц                               0.259633   \n",
       "Время_за_предыдущий_месяц                            0.227326   \n",
       "Выручка_за_текущий_месяц                             1.000000   \n",
       "Выручка_за_предыдущий_месяц                          0.836281   \n",
       "Выручка_за_препредыдущий_месяц                       0.410478   \n",
       "\n",
       "                                     Выручка_за_предыдущий_месяц  \\\n",
       "Покупательская активность                               0.227280   \n",
       "Тип сервиса                                             0.000000   \n",
       "Разрешить сообщать                                      0.079830   \n",
       "Маркет_актив_6_мес                                      0.149129   \n",
       "Маркет_актив_тек_мес                                    0.054683   \n",
       "Длительность                                            0.116325   \n",
       "Акционные_покупки                                       0.056164   \n",
       "Популярная_категория                                    0.250974   \n",
       "Средний_просмотр_категорий_за_визит                     0.100332   \n",
       "Неоплаченные_продукты_штук_квартал                      0.193752   \n",
       "Ошибка_сервиса                                          0.000000   \n",
       "Страниц_за_визит                                        0.151372   \n",
       "Время_за_текущий_месяц                                  0.195882   \n",
       "Время_за_предыдущий_месяц                               0.129355   \n",
       "Выручка_за_текущий_месяц                                0.836281   \n",
       "Выручка_за_предыдущий_месяц                             1.000000   \n",
       "Выручка_за_препредыдущий_месяц                          0.358036   \n",
       "\n",
       "                                     Выручка_за_препредыдущий_месяц  \n",
       "Покупательская активность                                  0.495174  \n",
       "Тип сервиса                                                0.068507  \n",
       "Разрешить сообщать                                         0.000000  \n",
       "Маркет_актив_6_мес                                         0.312243  \n",
       "Маркет_актив_тек_мес                                       0.000000  \n",
       "Длительность                                               0.112349  \n",
       "Акционные_покупки                                          0.191116  \n",
       "Популярная_категория                                       0.045814  \n",
       "Средний_просмотр_категорий_за_визит                        0.176770  \n",
       "Неоплаченные_продукты_штук_квартал                         0.189721  \n",
       "Ошибка_сервиса                                             0.140057  \n",
       "Страниц_за_визит                                           0.339933  \n",
       "Время_за_текущий_месяц                                     0.342683  \n",
       "Время_за_предыдущий_месяц                                  0.421143  \n",
       "Выручка_за_текущий_месяц                                   0.410478  \n",
       "Выручка_за_предыдущий_месяц                                0.358036  \n",
       "Выручка_за_препредыдущий_месяц                             1.000000  "
      ]
     },
     "execution_count": 36,
     "metadata": {},
     "output_type": "execute_result"
    }
   ],
   "source": [
    "df_main.drop('id',axis=1).phik_matrix(interval_cols=df_main_interval_col)"
   ]
  },
  {
   "cell_type": "markdown",
   "metadata": {},
   "source": [
    "Исходя из таблицы корреляций можно сказать, что нет признаков, которые имеют мультиколлинеарность"
   ]
  },
  {
   "cell_type": "markdown",
   "metadata": {},
   "source": [
    "# Шаг 6. Использование пайплайнов"
   ]
  },
  {
   "cell_type": "markdown",
   "metadata": {},
   "source": [
    "На данном этапе используя пайплайны мы переберем модели, гиперпараметры к ним, методы обработки данных и найдем самое оптимальное сочетание, которое дает наибольшую точность."
   ]
  },
  {
   "cell_type": "markdown",
   "metadata": {},
   "source": [
    "С точки зрения машинного обучения мы имеем дело с задачей бинарной классификации, поэтому будут использоваться модели: KNeighborsClassifier(), DecisionTreeClassifier(), LogisticRegression(), SVC()"
   ]
  },
  {
   "cell_type": "markdown",
   "metadata": {},
   "source": [
    "В нашем случае очевидно, что нам важнее всего избежать ложноположительных ошибок, так как самое главное это найти всех клиентов, у которых может снизиться активность, то есть нас интересует метрика precision"
   ]
  },
  {
   "cell_type": "markdown",
   "metadata": {},
   "source": [
    "Для начала разделим наши данные на выборки и отсортируем признаки на категории для подготовки к обучению модели"
   ]
  },
  {
   "cell_type": "code",
   "execution_count": 37,
   "metadata": {},
   "outputs": [],
   "source": [
    "RANDOM_STATE = 42\n",
    "TEST_SIZE = 0.25\n",
    "\n",
    "X = df_main.drop(['Покупательская активность','id'],axis=1)\n",
    "y = df_main['Покупательская активность']\n",
    "X_train, X_test, y_train, y_test = train_test_split(X,\n",
    "                                                    y,\n",
    "                                                    test_size=TEST_SIZE,\n",
    "                                                    random_state=RANDOM_STATE,\n",
    "                                                    stratify=df_main['Покупательская активность'])\n",
    "\n",
    "\n",
    "ohe_columns = ['Популярная_категория']\n",
    "ord_columns = ['Тип сервиса', 'Разрешить сообщать']\n",
    "num_columns = df_main.drop(['Популярная_категория',\n",
    "                            'Тип сервиса',\n",
    "                            'Разрешить сообщать',\n",
    "                            'Покупательская активность',\n",
    "                            'id'],axis=1).columns\n"
   ]
  },
  {
   "cell_type": "markdown",
   "metadata": {},
   "source": [
    "Избавимся от выбросов в числовых признаках"
   ]
  },
  {
   "cell_type": "code",
   "execution_count": 38,
   "metadata": {},
   "outputs": [],
   "source": [
    "num_imputer = SimpleImputer(missing_values=np.nan, strategy='median')\n",
    "X_train[num_columns] = num_imputer.fit_transform(X_train[num_columns])\n",
    "X_test[num_columns] = num_imputer.transform(X_test[num_columns])"
   ]
  },
  {
   "cell_type": "markdown",
   "metadata": {},
   "source": [
    "Напишем часть пайплайна для OneHotEncoder"
   ]
  },
  {
   "cell_type": "code",
   "execution_count": 39,
   "metadata": {},
   "outputs": [],
   "source": [
    "ohe_pipe = Pipeline(\n",
    "    [('simpleImputer_ohe', SimpleImputer(missing_values=np.nan, strategy='most_frequent')),\n",
    "     ('ohe', OneHotEncoder(drop='first', handle_unknown='ignore', sparse=False))\n",
    "    ]\n",
    "    )"
   ]
  },
  {
   "cell_type": "markdown",
   "metadata": {},
   "source": [
    "Напишем часть пайплайна для OrdinalEncoder"
   ]
  },
  {
   "cell_type": "code",
   "execution_count": 40,
   "metadata": {},
   "outputs": [],
   "source": [
    "ord_pipe = Pipeline(\n",
    "    [('simpleImputer_before_ord', SimpleImputer(missing_values=np.nan, strategy='most_frequent')),\n",
    "     ('ord',  OrdinalEncoder(\n",
    "                categories=[\n",
    "                    ['стандарт', 'премиум'], \n",
    "                    ['нет', 'да'],\n",
    "                ], \n",
    "                handle_unknown='use_encoded_value', unknown_value=np.nan\n",
    "            )\n",
    "        ),\n",
    "     ('simpleImputer_after_ord', SimpleImputer(missing_values=np.nan, strategy='most_frequent'))\n",
    "    ]\n",
    ")"
   ]
  },
  {
   "cell_type": "markdown",
   "metadata": {},
   "source": [
    "Объединим эти пайалайны в один по подготовке данных"
   ]
  },
  {
   "cell_type": "code",
   "execution_count": 41,
   "metadata": {},
   "outputs": [],
   "source": [
    "data_preprocessor = ColumnTransformer(\n",
    "    [('ohe', ohe_pipe, ohe_columns),\n",
    "     ('ord', ord_pipe, ord_columns),\n",
    "     ('num', MinMaxScaler(), num_columns)\n",
    "    ], \n",
    "    remainder='passthrough'\n",
    "    \n",
    ")\n",
    "data_preprocessor.fit(X_train)\n",
    "ohe_transformer = data_preprocessor.named_transformers_['ohe'].named_steps['ohe']\n",
    "new_column_names = ohe_transformer.get_feature_names_out(ohe_columns)"
   ]
  },
  {
   "cell_type": "markdown",
   "metadata": {},
   "source": [
    "Пишем финальный пайплайн и параметры для перебора"
   ]
  },
  {
   "cell_type": "code",
   "execution_count": 42,
   "metadata": {},
   "outputs": [],
   "source": [
    "pipe_final = Pipeline([\n",
    "    ('preprocessor', data_preprocessor),\n",
    "    ('models', DecisionTreeClassifier(random_state=RANDOM_STATE))\n",
    "])\n",
    "\n",
    "\n",
    "param_grid = [\n",
    "    {\n",
    "        'models': [DecisionTreeClassifier(random_state=RANDOM_STATE)],\n",
    "        'models__max_depth': range(2,5),\n",
    "        'models__max_features': range(2,5),\n",
    "        'preprocessor__num': [StandardScaler(), MinMaxScaler(), RobustScaler(), 'passthrough']  \n",
    "    },\n",
    "     \n",
    "    {\n",
    "        'models': [KNeighborsClassifier()],\n",
    "        'models__n_neighbors': range(2,5),\n",
    "        'preprocessor__num': [StandardScaler(), MinMaxScaler(), RobustScaler(), 'passthrough']   \n",
    "    },\n",
    "\n",
    "    {\n",
    "        'models': [LogisticRegression(\n",
    "            random_state=RANDOM_STATE, \n",
    "            solver='liblinear', \n",
    "            penalty='l1')],\n",
    "        'models__C': range(1,5),\n",
    "        'preprocessor__num': [StandardScaler(), MinMaxScaler(), RobustScaler(), 'passthrough']  \n",
    "    }\n",
    "]"
   ]
  },
  {
   "cell_type": "markdown",
   "metadata": {},
   "source": [
    "Производим перебор"
   ]
  },
  {
   "cell_type": "code",
   "execution_count": 43,
   "metadata": {
    "scrolled": false
   },
   "outputs": [
    {
     "name": "stdout",
     "output_type": "stream",
     "text": [
      "Лучшая модель\n",
      "\n",
      "Pipeline(steps=[('preprocessor',\n",
      "                 ColumnTransformer(remainder='passthrough',\n",
      "                                   transformers=[('ohe',\n",
      "                                                  Pipeline(steps=[('simpleImputer_ohe',\n",
      "                                                                   SimpleImputer(strategy='most_frequent')),\n",
      "                                                                  ('ohe',\n",
      "                                                                   OneHotEncoder(drop='first',\n",
      "                                                                                 handle_unknown='ignore',\n",
      "                                                                                 sparse=False))]),\n",
      "                                                  ['Популярная_категория']),\n",
      "                                                 ('ord',\n",
      "                                                  Pipeline(steps=[('simpleImputer_before_ord',\n",
      "                                                                   SimpleImputer(strategy='m...\n",
      "                                                  Index(['Маркет_актив_6_мес', 'Маркет_актив_тек_мес', 'Длительность',\n",
      "       'Акционные_покупки', 'Средний_просмотр_категорий_за_визит',\n",
      "       'Неоплаченные_продукты_штук_квартал', 'Ошибка_сервиса',\n",
      "       'Страниц_за_визит', 'Время_за_текущий_месяц',\n",
      "       'Время_за_предыдущий_месяц', 'Выручка_за_текущий_месяц',\n",
      "       'Выручка_за_предыдущий_месяц', 'Выручка_за_препредыдущий_месяц'],\n",
      "      dtype='object'))])),\n",
      "                ('models', KNeighborsClassifier(n_neighbors=2))])\n",
      "\n",
      "Метрика лучшей модели 0.9129796618475863\n",
      "\n",
      "{'preprocessor__num': StandardScaler(), 'models__n_neighbors': 2, 'models': KNeighborsClassifier(n_neighbors=2)}\n",
      "['Прежний уровень' 'Снизилась' 'Снизилась' 'Снизилась' 'Снизилась'\n",
      " 'Прежний уровень' 'Прежний уровень' 'Прежний уровень' 'Прежний уровень'\n",
      " 'Прежний уровень' 'Снизилась' 'Прежний уровень' 'Прежний уровень'\n",
      " 'Снизилась' 'Прежний уровень' 'Прежний уровень' 'Прежний уровень'\n",
      " 'Прежний уровень' 'Снизилась' 'Снизилась' 'Прежний уровень' 'Снизилась'\n",
      " 'Снизилась' 'Прежний уровень' 'Снизилась' 'Прежний уровень'\n",
      " 'Прежний уровень' 'Снизилась' 'Прежний уровень' 'Прежний уровень'\n",
      " 'Прежний уровень' 'Прежний уровень' 'Прежний уровень' 'Прежний уровень'\n",
      " 'Прежний уровень' 'Прежний уровень' 'Прежний уровень' 'Прежний уровень'\n",
      " 'Прежний уровень' 'Прежний уровень' 'Снизилась' 'Прежний уровень'\n",
      " 'Прежний уровень' 'Прежний уровень' 'Прежний уровень' 'Прежний уровень'\n",
      " 'Снизилась' 'Снизилась' 'Снизилась' 'Прежний уровень' 'Прежний уровень'\n",
      " 'Снизилась' 'Снизилась' 'Прежний уровень' 'Прежний уровень'\n",
      " 'Прежний уровень' 'Снизилась' 'Снизилась' 'Прежний уровень'\n",
      " 'Прежний уровень' 'Прежний уровень' 'Прежний уровень' 'Снизилась'\n",
      " 'Снизилась' 'Снизилась' 'Прежний уровень' 'Снизилась' 'Прежний уровень'\n",
      " 'Прежний уровень' 'Снизилась' 'Прежний уровень' 'Прежний уровень'\n",
      " 'Прежний уровень' 'Прежний уровень' 'Прежний уровень' 'Снизилась'\n",
      " 'Прежний уровень' 'Снизилась' 'Прежний уровень' 'Прежний уровень'\n",
      " 'Снизилась' 'Прежний уровень' 'Прежний уровень' 'Прежний уровень'\n",
      " 'Снизилась' 'Снизилась' 'Прежний уровень' 'Прежний уровень'\n",
      " 'Прежний уровень' 'Прежний уровень' 'Прежний уровень' 'Прежний уровень'\n",
      " 'Прежний уровень' 'Прежний уровень' 'Прежний уровень' 'Прежний уровень'\n",
      " 'Снизилась' 'Снизилась' 'Прежний уровень' 'Прежний уровень' 'Снизилась'\n",
      " 'Прежний уровень' 'Прежний уровень' 'Прежний уровень' 'Прежний уровень'\n",
      " 'Прежний уровень' 'Прежний уровень' 'Прежний уровень' 'Прежний уровень'\n",
      " 'Снизилась' 'Прежний уровень' 'Снизилась' 'Прежний уровень'\n",
      " 'Прежний уровень' 'Прежний уровень' 'Снизилась' 'Прежний уровень'\n",
      " 'Прежний уровень' 'Снизилась' 'Прежний уровень' 'Снизилась' 'Снизилась'\n",
      " 'Прежний уровень' 'Прежний уровень' 'Прежний уровень' 'Снизилась'\n",
      " 'Снизилась' 'Прежний уровень' 'Прежний уровень' 'Прежний уровень'\n",
      " 'Прежний уровень' 'Прежний уровень' 'Прежний уровень' 'Снизилась'\n",
      " 'Прежний уровень' 'Снизилась' 'Снизилась' 'Прежний уровень' 'Снизилась'\n",
      " 'Прежний уровень' 'Прежний уровень' 'Прежний уровень' 'Прежний уровень'\n",
      " 'Прежний уровень' 'Прежний уровень' 'Прежний уровень' 'Снизилась'\n",
      " 'Прежний уровень' 'Прежний уровень' 'Прежний уровень' 'Прежний уровень'\n",
      " 'Прежний уровень' 'Прежний уровень' 'Прежний уровень' 'Прежний уровень'\n",
      " 'Прежний уровень' 'Прежний уровень' 'Прежний уровень' 'Снизилась'\n",
      " 'Прежний уровень' 'Снизилась' 'Прежний уровень' 'Прежний уровень'\n",
      " 'Прежний уровень' 'Прежний уровень' 'Снизилась' 'Прежний уровень'\n",
      " 'Прежний уровень' 'Прежний уровень' 'Прежний уровень' 'Прежний уровень'\n",
      " 'Прежний уровень' 'Снизилась' 'Прежний уровень' 'Прежний уровень'\n",
      " 'Прежний уровень' 'Прежний уровень' 'Прежний уровень' 'Прежний уровень'\n",
      " 'Снизилась' 'Снизилась' 'Снизилась' 'Снизилась' 'Прежний уровень'\n",
      " 'Снизилась' 'Снизилась' 'Снизилась' 'Прежний уровень' 'Прежний уровень'\n",
      " 'Прежний уровень' 'Прежний уровень' 'Прежний уровень' 'Прежний уровень'\n",
      " 'Прежний уровень' 'Снизилась' 'Прежний уровень' 'Снизилась'\n",
      " 'Прежний уровень' 'Снизилась' 'Прежний уровень' 'Прежний уровень'\n",
      " 'Прежний уровень' 'Прежний уровень' 'Прежний уровень' 'Прежний уровень'\n",
      " 'Прежний уровень' 'Снизилась' 'Прежний уровень' 'Прежний уровень'\n",
      " 'Прежний уровень' 'Прежний уровень' 'Прежний уровень' 'Прежний уровень'\n",
      " 'Снизилась' 'Прежний уровень' 'Прежний уровень' 'Прежний уровень'\n",
      " 'Прежний уровень' 'Снизилась' 'Прежний уровень' 'Прежний уровень'\n",
      " 'Прежний уровень' 'Прежний уровень' 'Снизилась' 'Снизилась'\n",
      " 'Прежний уровень' 'Прежний уровень' 'Прежний уровень' 'Прежний уровень'\n",
      " 'Прежний уровень' 'Снизилась' 'Прежний уровень' 'Прежний уровень'\n",
      " 'Снизилась' 'Прежний уровень' 'Снизилась' 'Прежний уровень' 'Снизилась'\n",
      " 'Снизилась' 'Прежний уровень' 'Прежний уровень' 'Прежний уровень'\n",
      " 'Снизилась' 'Прежний уровень' 'Снизилась' 'Прежний уровень'\n",
      " 'Прежний уровень' 'Снизилась' 'Снизилась' 'Прежний уровень'\n",
      " 'Прежний уровень' 'Снизилась' 'Прежний уровень' 'Снизилась'\n",
      " 'Прежний уровень' 'Снизилась' 'Прежний уровень' 'Прежний уровень'\n",
      " 'Прежний уровень' 'Прежний уровень' 'Прежний уровень' 'Прежний уровень'\n",
      " 'Прежний уровень' 'Прежний уровень' 'Снизилась' 'Снизилась' 'Снизилась'\n",
      " 'Прежний уровень' 'Снизилась' 'Прежний уровень' 'Прежний уровень'\n",
      " 'Снизилась' 'Снизилась' 'Снизилась' 'Прежний уровень' 'Прежний уровень'\n",
      " 'Снизилась' 'Прежний уровень' 'Снизилась' 'Прежний уровень'\n",
      " 'Прежний уровень' 'Прежний уровень' 'Прежний уровень' 'Прежний уровень'\n",
      " 'Прежний уровень' 'Прежний уровень' 'Прежний уровень' 'Прежний уровень'\n",
      " 'Прежний уровень' 'Прежний уровень' 'Прежний уровень' 'Прежний уровень'\n",
      " 'Снизилась' 'Снизилась' 'Прежний уровень' 'Снизилась' 'Прежний уровень'\n",
      " 'Снизилась' 'Прежний уровень' 'Прежний уровень' 'Прежний уровень'\n",
      " 'Прежний уровень' 'Прежний уровень' 'Снизилась' 'Прежний уровень'\n",
      " 'Прежний уровень' 'Прежний уровень' 'Прежний уровень' 'Прежний уровень'\n",
      " 'Прежний уровень' 'Прежний уровень' 'Прежний уровень' 'Прежний уровень'\n",
      " 'Прежний уровень' 'Прежний уровень' 'Снизилась' 'Прежний уровень'\n",
      " 'Прежний уровень' 'Снизилась' 'Прежний уровень' 'Снизилась'\n",
      " 'Прежний уровень' 'Снизилась' 'Снизилась' 'Снизилась']\n"
     ]
    }
   ],
   "source": [
    "r_search = RandomizedSearchCV(\n",
    "    pipe_final, \n",
    "    param_grid, \n",
    "    cv=5,\n",
    "    scoring=make_scorer(precision_score, average='binary',pos_label='Снизилась'),\n",
    "    random_state=RANDOM_STATE,\n",
    "    n_jobs=-1\n",
    ")\n",
    "r_search.fit(X_train, y_train)\n",
    "print('Лучшая модель')\n",
    "print()\n",
    "print(r_search.best_estimator_)\n",
    "print()\n",
    "print ('Метрика лучшей модели', r_search.best_score_)\n",
    "print()\n",
    "print(r_search.best_params_)\n",
    "\n",
    "preds = r_search.predict(X_test)\n",
    "\n",
    "print(preds)"
   ]
  },
  {
   "cell_type": "code",
   "execution_count": 44,
   "metadata": {},
   "outputs": [],
   "source": [
    "best_pipeline = r_search.best_estimator_ \n",
    "model = best_pipeline.named_steps['models']"
   ]
  },
  {
   "cell_type": "markdown",
   "metadata": {},
   "source": [
    "Модель показывает хороший результат, была выбрана по итогу модель KneighboresClassifier с 2 ближайшими соседями, причем лучший результат показала модель при стандартизации StandardScaler()"
   ]
  },
  {
   "cell_type": "markdown",
   "metadata": {},
   "source": [
    "# Шаг 7. Анализ важности признаков"
   ]
  },
  {
   "cell_type": "markdown",
   "metadata": {},
   "source": [
    "Модель была выбранна нелинейная, поэтому использования метода Шепли невозможно, поэтому воспользуемся старым добрым удалением признаков"
   ]
  },
  {
   "cell_type": "code",
   "execution_count": 45,
   "metadata": {},
   "outputs": [],
   "source": [
    "new_cols = ['Тип Сервиса',\n",
    "            'Разрешить сообщать',\n",
    "            'Маркет_актив_6_мес',\n",
    "            'Маркет_актив_тек_мес',\n",
    "            'Длительность',\n",
    "            'Акционные_покупки',\n",
    "            'Популярная_категория_Косметика и аксесуары',\n",
    "            'Популярная_категория_Кухонная посуда',\n",
    "            'Популярная_категория_Мелкая бытовая техника и электроника',\n",
    "            'Популярная_категория_Техника для красоты и здоровья',\n",
    "            'Популярная_категория_Товары для детей',\n",
    "            'Средний_просмотр_категорий_за_визит',\n",
    "            'Неоплаченные_продукты_штук_квартал',\n",
    "            'Ошибка_сервиса',\n",
    "            'Страниц_за_визит',\n",
    "            'Время_за_текущий_месяц',\n",
    "            'Время_за_предыдущий_месяц',\n",
    "            'Выручка_за_текущий_месяц',\n",
    "            'Выручка_за_предыдущий_месяц',\n",
    "            'Выручка_за_препредыдущий_месяц']"
   ]
  },
  {
   "cell_type": "code",
   "execution_count": 46,
   "metadata": {},
   "outputs": [
    {
     "data": {
      "image/png": "[encoded data removed]",
      "text/plain": [
       "<Figure size 720x432 with 1 Axes>"
      ]
     },
     "metadata": {},
     "output_type": "display_data"
    }
   ],
   "source": [
    "X_train = data_preprocessor.fit_transform(X_train)\n",
    "X_test = data_preprocessor.transform(X_test)\n",
    "X_train = pd.DataFrame(X_train,columns=new_cols)\n",
    "X_test = pd.DataFrame(X_test,columns=new_cols)\n",
    "model.fit(X_train,y_train)\n",
    "features_names = X_train.columns\n",
    "result = permutation_importance(model, X_test, y_test, scoring=make_scorer(precision_score, average='binary',pos_label='Снизилась'),n_repeats=20,random_state=RANDOM_STATE)\n",
    "\n",
    "feature_importance = pd.DataFrame({'Feature': features_names, 'Importance': result['importances_mean']})\n",
    "feature_importance = feature_importance.sort_values('Importance', ascending=True)\n",
    "sns.set_style('white')\n",
    "feature_importance.plot(x='Feature', y='Importance', kind='barh', figsize=(10, 6)); \n"
   ]
  },
  {
   "cell_type": "markdown",
   "metadata": {},
   "source": [
    "Наиболее влиятельными на вердикт модели оказались признаки просмотра странниц, средний просмотр категорий за визит и время за препредыдущий месяц, также некоторые признаки получили отрицательную важность."
   ]
  },
  {
   "cell_type": "markdown",
   "metadata": {},
   "source": [
    "# Шаг 8. Сегментация покупателей"
   ]
  },
  {
   "cell_type": "markdown",
   "metadata": {},
   "source": [
    "Как изучаемый сегмент было принято решение взять покупателей со сниженной активностью, так как вне зависимости от благосостояния клиента мы не хотим его терять и сохранять его вовлеченность в наш сайт. В первую очередь анализ будет основан на том, что модель посчитала самыми важными для вынесения вердикта признаками."
   ]
  },
  {
   "cell_type": "code",
   "execution_count": 47,
   "metadata": {},
   "outputs": [],
   "source": [
    "df_main = pd.merge(df_main,df_money,on='id',how='left')\n",
    "df_main_interval_cols = ['Маркет_актив_6_мес',\n",
    "                         'Длительность', \n",
    "                         'Акционные_покупки',\n",
    "                         'Прибыль']\n",
    "df_main_down = df_main[df_main['Покупательская активность']=='Снизилась'].drop('id',axis=1)\n",
    "df_main_same = df_main[df_main['Покупательская активность']=='Прежний уровень'].drop('id',axis=1)"
   ]
  },
  {
   "cell_type": "code",
   "execution_count": 48,
   "metadata": {},
   "outputs": [
    {
     "name": "stdout",
     "output_type": "stream",
     "text": [
      "Распределение непрерывных количественных признаков среди покупателей со сниженной активностью\n"
     ]
    },
    {
     "data": {
      "image/png": "[encoded data removed]",
      "text/plain": [
       "<Figure size 360x216 with 1 Axes>"
      ]
     },
     "metadata": {},
     "output_type": "display_data"
    },
    {
     "data": {
      "image/png": "[encoded data removed]",
      "text/plain": [
       "<Figure size 360x216 with 1 Axes>"
      ]
     },
     "metadata": {},
     "output_type": "display_data"
    },
    {
     "data": {
      "image/png": "[encoded data removed]",
      "text/plain": [
       "<Figure size 360x216 with 1 Axes>"
      ]
     },
     "metadata": {},
     "output_type": "display_data"
    },
    {
     "data": {
      "image/png": "[encoded data removed]",
      "text/plain": [
       "<Figure size 360x216 with 1 Axes>"
      ]
     },
     "metadata": {},
     "output_type": "display_data"
    }
   ],
   "source": [
    "print('Распределение непрерывных количественных признаков среди покупателей со сниженной активностью')\n",
    "for column in df_main_interval_cols:\n",
    "    df_main_down[column].hist(figsize=(5,3),bins=30)\n",
    "    plt.title(column)\n",
    "    plt.xlabel('Значение')\n",
    "    plt.ylabel('Количество')\n",
    "    plt.show();"
   ]
  },
  {
   "cell_type": "code",
   "execution_count": 49,
   "metadata": {},
   "outputs": [
    {
     "name": "stdout",
     "output_type": "stream",
     "text": [
      "Распределение дискретных количественных признаков среди покупателей со сниженной активностью\n"
     ]
    },
    {
     "data": {
      "image/png": "[encoded data removed]",
      "text/plain": [
       "<Figure size 432x288 with 1 Axes>"
      ]
     },
     "metadata": {},
     "output_type": "display_data"
    },
    {
     "data": {
      "image/png": "[encoded data removed]",
      "text/plain": [
       "<Figure size 432x288 with 1 Axes>"
      ]
     },
     "metadata": {},
     "output_type": "display_data"
    },
    {
     "data": {
      "image/png": "[encoded data removed]",
      "text/plain": [
       "<Figure size 432x288 with 1 Axes>"
      ]
     },
     "metadata": {},
     "output_type": "display_data"
    },
    {
     "data": {
      "image/png": "[encoded data removed]",
      "text/plain": [
       "<Figure size 432x288 with 1 Axes>"
      ]
     },
     "metadata": {},
     "output_type": "display_data"
    },
    {
     "data": {
      "image/png": "[encoded data removed]",
      "text/plain": [
       "<Figure size 432x288 with 1 Axes>"
      ]
     },
     "metadata": {},
     "output_type": "display_data"
    }
   ],
   "source": [
    "print('Распределение дискретных количественных признаков среди покупателей со сниженной активностью')\n",
    "for column in df_main_diskret_cols:\n",
    "    plt.bar(df_main_down[column].value_counts().index, df_main_down[column].value_counts().values)\n",
    "    plt.title(column)\n",
    "    plt.xlabel('Значение')\n",
    "    plt.ylabel('Количество')\n",
    "    plt.show();"
   ]
  },
  {
   "cell_type": "code",
   "execution_count": 50,
   "metadata": {},
   "outputs": [
    {
     "name": "stdout",
     "output_type": "stream",
     "text": [
      "Распределение непрерывных количественных признаков среди покупателей с прежней активностью\n"
     ]
    },
    {
     "data": {
      "image/png": "[encoded data removed]",
      "text/plain": [
       "<Figure size 360x216 with 1 Axes>"
      ]
     },
     "metadata": {},
     "output_type": "display_data"
    },
    {
     "data": {
      "image/png": "[encoded data removed]",
      "text/plain": [
       "<Figure size 360x216 with 1 Axes>"
      ]
     },
     "metadata": {},
     "output_type": "display_data"
    },
    {
     "data": {
      "image/png": "[encoded data removed]",
      "text/plain": [
       "<Figure size 360x216 with 1 Axes>"
      ]
     },
     "metadata": {},
     "output_type": "display_data"
    },
    {
     "data": {
      "image/png": "[encoded data removed]",
      "text/plain": [
       "<Figure size 360x216 with 1 Axes>"
      ]
     },
     "metadata": {},
     "output_type": "display_data"
    }
   ],
   "source": [
    "print('Распределение непрерывных количественных признаков среди покупателей с прежней активностью')\n",
    "for column in df_main_interval_cols:\n",
    "    df_main_same[column].hist(figsize=(5,3),bins=30)\n",
    "    plt.title(column)\n",
    "    plt.xlabel('Значение')\n",
    "    plt.ylabel('Количество')\n",
    "    plt.show();"
   ]
  },
  {
   "cell_type": "code",
   "execution_count": 51,
   "metadata": {},
   "outputs": [
    {
     "name": "stdout",
     "output_type": "stream",
     "text": [
      "Распределение дискретных количественных признаков среди покупателей с прежней активностью\n"
     ]
    },
    {
     "data": {
      "image/png": "[encoded data removed]",
      "text/plain": [
       "<Figure size 432x288 with 1 Axes>"
      ]
     },
     "metadata": {},
     "output_type": "display_data"
    },
    {
     "data": {
      "image/png": "[encoded data removed]",
      "text/plain": [
       "<Figure size 432x288 with 1 Axes>"
      ]
     },
     "metadata": {},
     "output_type": "display_data"
    },
    {
     "data": {
      "image/png": "[encoded data removed]",
      "text/plain": [
       "<Figure size 432x288 with 1 Axes>"
      ]
     },
     "metadata": {},
     "output_type": "display_data"
    },
    {
     "data": {
      "image/png": "[encoded data removed]",
      "text/plain": [
       "<Figure size 432x288 with 1 Axes>"
      ]
     },
     "metadata": {},
     "output_type": "display_data"
    },
    {
     "data": {
      "image/png": "[encoded data removed]",
      "text/plain": [
       "<Figure size 432x288 with 1 Axes>"
      ]
     },
     "metadata": {},
     "output_type": "display_data"
    }
   ],
   "source": [
    "print('Распределение дискретных количественных признаков среди покупателей с прежней активностью')\n",
    "for column in df_main_diskret_cols:\n",
    "    plt.bar(df_main_same[column].value_counts().index, df_main_same[column].value_counts().values)\n",
    "    plt.title(column)\n",
    "    plt.xlabel('Значение')\n",
    "    plt.ylabel('Количество')\n",
    "    plt.show();"
   ]
  },
  {
   "cell_type": "markdown",
   "metadata": {},
   "source": [
    "Самым важным признаком для модели оказались прочитанные странницы за визит, у клиентов со сниженной активностью пик сдвинут в сторону более маленьких значений, что означает, что нам следует внедрить алгоритмы, которые будут держать внимание клиента и он бы не закрывал сайт, после пары просмотренных странниц"
   ]
  },
  {
   "cell_type": "markdown",
   "metadata": {},
   "source": [
    "Основное распределение времени на сайте у пользователей со сниженной активностей в текущем и предыдущем периоде сдвинут в сторону более маленьких чисел. То же самое можно сказать о просмотре разных категорий и странниц за один визит. Также у людей со сниженной активностью есть пик в единице на признаке доли акционных покупок."
   ]
  },
  {
   "cell_type": "markdown",
   "metadata": {},
   "source": [
    "На основе вышесказанного можно утверждать, что сайту требуется улучшить свои системы рекомендаций, чтоды удерживать целевую аудиторию, чтобы учеличить время проведенное на сайте и количество странниц. Также, мы видим, что в акциях наиболее заинтересованна аудитория со сниженной активностью, возможно стоит увеличить количество предлагаемых акций и разработать модель по целесообразности выдавания тому или иному клиенту акции на интересующую его категорию, так как мы не хотим выдавать  акции всем, так как это может привести к потере аудитории"
   ]
  },
  {
   "cell_type": "markdown",
   "metadata": {},
   "source": [
    "# Шаг 9. Итоговый вывод"
   ]
  },
  {
   "cell_type": "markdown",
   "metadata": {},
   "source": [
    "На первом шагу мы считали данные, данные считались нормально, почти все признаки имели тот тип данных, который нужно(кроме одного)"
   ]
  },
  {
   "cell_type": "markdown",
   "metadata": {},
   "source": [
    "На втором шагу выполнялась предобработка данных. В четвертой таблицы с прибылью продавца требовалось сменить данных на числовой с плавающей запятой. Далее данные были проверены на пропуски и явные и неявные дубликаты. Нашлось только немного неявных дубликатах, которые мы исправили"
   ]
  },
  {
   "cell_type": "markdown",
   "metadata": {},
   "source": [
    "Третий шаг это исследовательский анализ данных. На этом этапе мы ждя всех количественных признаков построили диаграммы размаха и на основе их избавились от выбросов, далее построили гистрограммы и проанализировали распределения, которые в основном были нормальные, за парой исключений, например акционные покупки, которые также имели пик в единице."
   ]
  },
  {
   "cell_type": "markdown",
   "metadata": {},
   "source": [
    "Четвертый шаг это объединение таблиц. На данном этапе нам требовалось соединить три таблицы(основная таблица с поведением покупателя, таблица с выручкой с покупателя, таблица с временм проведенном на сайте для каждого покупателя), под каждый период была сделана отдельная колонка."
   ]
  },
  {
   "cell_type": "markdown",
   "metadata": {},
   "source": [
    "Пятый шаг это корреляционный анализ, была построена матрица корреляций Фика и по итогу анализа, мы пришли к выводу, что мультиколинеарности не выявлено"
   ]
  },
  {
   "cell_type": "markdown",
   "metadata": {},
   "source": [
    "На шестом шаге мы написали пайплайн и выбрали наиболее точную модель и методы обработки данных. Была выбрана модель SVC с ядром rbf и скейлером RobustScaler"
   ]
  },
  {
   "cell_type": "markdown",
   "metadata": {},
   "source": [
    "На седьмом этапе был проведен анализ важности признаков, наиболее значимыми были выделены: просмотр странниц, доли акционных покупок и выручка за препредыдущий месяц, также некоторые признаки получили отрицательную важность."
   ]
  },
  {
   "cell_type": "markdown",
   "metadata": {},
   "source": [
    "На восьмом шаге мы выбрали сегмент со сниженной активностью среди клиентов и сравнили их с клиентами, которые не сбавляли своё взаимодействие с сайтом, пришли к выводу, что требуется развить алгоритмы рекомендаций и выдаче акций клиентам для удержания аудитории"
   ]
  },
  {
   "cell_type": "code",
   "execution_count": null,
   "metadata": {},
   "outputs": [],
   "source": []
  }
 ],
 "metadata": {
  "ExecuteTimeLog": [
   {
    "duration": 1414,
    "start_time": "2025-06-29T17:43:29.879Z"
   },
   {
    "duration": 138,
    "start_time": "2025-06-29T17:48:58.411Z"
   },
   {
    "duration": 81,
    "start_time": "2025-06-29T17:50:51.491Z"
   },
   {
    "duration": 31,
    "start_time": "2025-06-29T17:52:29.927Z"
   },
   {
    "duration": 13,
    "start_time": "2025-06-29T19:08:28.078Z"
   },
   {
    "duration": 12,
    "start_time": "2025-06-29T19:08:32.255Z"
   },
   {
    "duration": 11,
    "start_time": "2025-06-29T19:08:34.990Z"
   },
   {
    "duration": 10,
    "start_time": "2025-06-29T19:08:37.464Z"
   },
   {
    "duration": 12,
    "start_time": "2025-06-29T19:24:45.939Z"
   },
   {
    "duration": 13,
    "start_time": "2025-06-29T19:25:05.666Z"
   },
   {
    "duration": 92,
    "start_time": "2025-06-29T19:25:54.457Z"
   },
   {
    "duration": 26,
    "start_time": "2025-06-29T19:25:56.516Z"
   },
   {
    "duration": 11,
    "start_time": "2025-06-29T19:26:03.948Z"
   },
   {
    "duration": 12,
    "start_time": "2025-06-29T19:26:07.335Z"
   },
   {
    "duration": 9,
    "start_time": "2025-06-29T19:27:28.937Z"
   },
   {
    "duration": 6,
    "start_time": "2025-06-29T19:27:35.509Z"
   },
   {
    "duration": 13,
    "start_time": "2025-06-29T19:28:10.854Z"
   },
   {
    "duration": 18,
    "start_time": "2025-06-29T19:46:04.569Z"
   },
   {
    "duration": 7,
    "start_time": "2025-06-29T19:46:34.255Z"
   },
   {
    "duration": 14,
    "start_time": "2025-06-29T19:46:44.548Z"
   },
   {
    "duration": 1222,
    "start_time": "2025-06-29T19:47:00.757Z"
   },
   {
    "duration": 82,
    "start_time": "2025-06-29T19:47:04.034Z"
   },
   {
    "duration": 28,
    "start_time": "2025-06-29T19:47:06.781Z"
   },
   {
    "duration": 13,
    "start_time": "2025-06-29T19:47:09.293Z"
   },
   {
    "duration": 12,
    "start_time": "2025-06-29T19:47:11.135Z"
   },
   {
    "duration": 10,
    "start_time": "2025-06-29T19:47:13.249Z"
   },
   {
    "duration": 10,
    "start_time": "2025-06-29T19:47:14.006Z"
   },
   {
    "duration": 13,
    "start_time": "2025-06-29T19:47:16.937Z"
   },
   {
    "duration": 11,
    "start_time": "2025-06-29T19:48:03.633Z"
   },
   {
    "duration": 12,
    "start_time": "2025-06-29T19:48:12.037Z"
   },
   {
    "duration": 10,
    "start_time": "2025-06-29T19:48:16.673Z"
   },
   {
    "duration": 10,
    "start_time": "2025-06-29T19:48:33.475Z"
   },
   {
    "duration": 5,
    "start_time": "2025-06-29T20:09:41.400Z"
   },
   {
    "duration": 7,
    "start_time": "2025-06-29T21:04:29.153Z"
   },
   {
    "duration": 6,
    "start_time": "2025-06-29T21:15:05.179Z"
   },
   {
    "duration": 3,
    "start_time": "2025-06-29T21:36:03.796Z"
   },
   {
    "duration": 101,
    "start_time": "2025-06-29T21:38:25.971Z"
   },
   {
    "duration": 790,
    "start_time": "2025-06-29T21:38:31.482Z"
   },
   {
    "duration": 25,
    "start_time": "2025-06-29T21:40:33.433Z"
   },
   {
    "duration": 7,
    "start_time": "2025-06-29T21:43:09.960Z"
   },
   {
    "duration": 6,
    "start_time": "2025-06-29T21:43:18.811Z"
   },
   {
    "duration": 7,
    "start_time": "2025-06-29T21:43:29.426Z"
   },
   {
    "duration": 11,
    "start_time": "2025-06-29T21:43:58.497Z"
   },
   {
    "duration": 13,
    "start_time": "2025-06-29T21:44:07.701Z"
   },
   {
    "duration": 11,
    "start_time": "2025-06-29T21:44:13.050Z"
   },
   {
    "duration": 816,
    "start_time": "2025-06-29T21:52:55.901Z"
   },
   {
    "duration": 6,
    "start_time": "2025-06-29T21:53:33.125Z"
   },
   {
    "duration": 23,
    "start_time": "2025-06-29T21:56:51.374Z"
   },
   {
    "duration": 1154,
    "start_time": "2025-06-29T21:56:59.849Z"
   },
   {
    "duration": 1211,
    "start_time": "2025-06-29T21:57:11.280Z"
   },
   {
    "duration": 1428,
    "start_time": "2025-06-29T21:57:19.727Z"
   },
   {
    "duration": 311,
    "start_time": "2025-06-29T22:23:57.245Z"
   },
   {
    "duration": 221,
    "start_time": "2025-06-29T22:29:16.853Z"
   },
   {
    "duration": 104,
    "start_time": "2025-06-29T22:30:01.684Z"
   },
   {
    "duration": 5,
    "start_time": "2025-06-29T22:31:45.925Z"
   },
   {
    "duration": 130,
    "start_time": "2025-06-29T22:31:54.631Z"
   },
   {
    "duration": 336,
    "start_time": "2025-06-29T22:32:50.599Z"
   },
   {
    "duration": 13,
    "start_time": "2025-06-29T22:33:03.908Z"
   },
   {
    "duration": 6,
    "start_time": "2025-06-29T22:33:25.010Z"
   },
   {
    "duration": 93,
    "start_time": "2025-06-29T22:33:27.151Z"
   },
   {
    "duration": 201,
    "start_time": "2025-06-29T22:33:30.227Z"
   },
   {
    "duration": 70,
    "start_time": "2025-06-29T22:35:40.538Z"
   },
   {
    "duration": 1241,
    "start_time": "2025-06-29T22:42:30.826Z"
   },
   {
    "duration": 105,
    "start_time": "2025-06-29T22:43:16.060Z"
   },
   {
    "duration": 227,
    "start_time": "2025-06-29T22:44:45.004Z"
   },
   {
    "duration": 205,
    "start_time": "2025-06-29T22:44:53.623Z"
   },
   {
    "duration": 64,
    "start_time": "2025-06-29T22:46:09.532Z"
   },
   {
    "duration": 96,
    "start_time": "2025-06-29T22:48:17.643Z"
   },
   {
    "duration": 214,
    "start_time": "2025-06-29T22:49:29.607Z"
   },
   {
    "duration": 5,
    "start_time": "2025-06-29T22:51:05.847Z"
   },
   {
    "duration": 189,
    "start_time": "2025-06-29T22:51:08.081Z"
   },
   {
    "duration": 210,
    "start_time": "2025-06-29T22:51:22.437Z"
   },
   {
    "duration": 5,
    "start_time": "2025-06-29T22:51:27.638Z"
   },
   {
    "duration": 87,
    "start_time": "2025-06-29T22:51:28.584Z"
   },
   {
    "duration": 213,
    "start_time": "2025-06-29T22:51:31.497Z"
   },
   {
    "duration": 1235,
    "start_time": "2025-06-29T23:04:11.835Z"
   },
   {
    "duration": 83,
    "start_time": "2025-06-29T23:04:13.072Z"
   },
   {
    "duration": 30,
    "start_time": "2025-06-29T23:04:13.156Z"
   },
   {
    "duration": 12,
    "start_time": "2025-06-29T23:04:13.188Z"
   },
   {
    "duration": 11,
    "start_time": "2025-06-29T23:04:13.202Z"
   },
   {
    "duration": 11,
    "start_time": "2025-06-29T23:04:13.237Z"
   },
   {
    "duration": 19,
    "start_time": "2025-06-29T23:04:13.250Z"
   },
   {
    "duration": 12,
    "start_time": "2025-06-29T23:04:13.271Z"
   },
   {
    "duration": 193,
    "start_time": "2025-06-29T23:04:13.285Z"
   },
   {
    "duration": 11,
    "start_time": "2025-06-29T23:04:13.480Z"
   },
   {
    "duration": 9,
    "start_time": "2025-06-29T23:04:13.493Z"
   },
   {
    "duration": 5,
    "start_time": "2025-06-29T23:04:13.503Z"
   },
   {
    "duration": 6,
    "start_time": "2025-06-29T23:04:13.510Z"
   },
   {
    "duration": 3,
    "start_time": "2025-06-29T23:04:13.519Z"
   },
   {
    "duration": 839,
    "start_time": "2025-06-29T23:04:13.524Z"
   },
   {
    "duration": 12,
    "start_time": "2025-06-29T23:04:14.364Z"
   },
   {
    "duration": 6,
    "start_time": "2025-06-29T23:04:14.378Z"
   },
   {
    "duration": 873,
    "start_time": "2025-06-29T23:04:14.386Z"
   },
   {
    "duration": 1381,
    "start_time": "2025-06-29T23:04:15.261Z"
   },
   {
    "duration": 340,
    "start_time": "2025-06-29T23:04:16.644Z"
   },
   {
    "duration": 113,
    "start_time": "2025-06-29T23:04:16.986Z"
   },
   {
    "duration": 7,
    "start_time": "2025-06-29T23:04:17.101Z"
   },
   {
    "duration": 114,
    "start_time": "2025-06-29T23:04:17.110Z"
   },
   {
    "duration": 221,
    "start_time": "2025-06-29T23:04:17.226Z"
   },
   {
    "duration": 196,
    "start_time": "2025-06-29T23:04:17.449Z"
   },
   {
    "duration": 121,
    "start_time": "2025-06-29T23:04:17.647Z"
   },
   {
    "duration": 226,
    "start_time": "2025-06-29T23:04:17.770Z"
   },
   {
    "duration": 81,
    "start_time": "2025-06-29T23:04:17.998Z"
   },
   {
    "duration": 111,
    "start_time": "2025-06-29T23:04:18.082Z"
   },
   {
    "duration": 6,
    "start_time": "2025-06-29T23:04:18.195Z"
   },
   {
    "duration": 102,
    "start_time": "2025-06-29T23:04:18.203Z"
   },
   {
    "duration": 212,
    "start_time": "2025-06-29T23:04:18.307Z"
   },
   {
    "duration": 8,
    "start_time": "2025-06-29T23:31:28.437Z"
   },
   {
    "duration": 28,
    "start_time": "2025-06-29T23:33:49.486Z"
   },
   {
    "duration": 87,
    "start_time": "2025-06-29T23:34:05.035Z"
   },
   {
    "duration": 111,
    "start_time": "2025-06-29T23:37:08.391Z"
   },
   {
    "duration": 13,
    "start_time": "2025-06-29T23:37:44.754Z"
   },
   {
    "duration": 91,
    "start_time": "2025-06-29T23:37:49.263Z"
   },
   {
    "duration": 1249,
    "start_time": "2025-06-29T23:38:01.323Z"
   },
   {
    "duration": 82,
    "start_time": "2025-06-29T23:38:02.575Z"
   },
   {
    "duration": 33,
    "start_time": "2025-06-29T23:38:02.658Z"
   },
   {
    "duration": 14,
    "start_time": "2025-06-29T23:38:02.692Z"
   },
   {
    "duration": 31,
    "start_time": "2025-06-29T23:38:02.709Z"
   },
   {
    "duration": 11,
    "start_time": "2025-06-29T23:38:02.742Z"
   },
   {
    "duration": 57,
    "start_time": "2025-06-29T23:38:02.755Z"
   },
   {
    "duration": 20,
    "start_time": "2025-06-29T23:38:02.814Z"
   },
   {
    "duration": 27,
    "start_time": "2025-06-29T23:38:02.836Z"
   },
   {
    "duration": 37,
    "start_time": "2025-06-29T23:38:02.864Z"
   },
   {
    "duration": 47,
    "start_time": "2025-06-29T23:38:02.903Z"
   },
   {
    "duration": 57,
    "start_time": "2025-06-29T23:38:02.952Z"
   },
   {
    "duration": 25,
    "start_time": "2025-06-29T23:38:03.011Z"
   },
   {
    "duration": 11,
    "start_time": "2025-06-29T23:38:03.038Z"
   },
   {
    "duration": 844,
    "start_time": "2025-06-29T23:38:03.051Z"
   },
   {
    "duration": 11,
    "start_time": "2025-06-29T23:38:03.896Z"
   },
   {
    "duration": 81,
    "start_time": "2025-06-29T23:38:03.909Z"
   },
   {
    "duration": 850,
    "start_time": "2025-06-29T23:38:03.991Z"
   },
   {
    "duration": 1382,
    "start_time": "2025-06-29T23:38:04.843Z"
   },
   {
    "duration": 313,
    "start_time": "2025-06-29T23:38:06.226Z"
   },
   {
    "duration": 113,
    "start_time": "2025-06-29T23:38:06.541Z"
   },
   {
    "duration": 6,
    "start_time": "2025-06-29T23:38:06.655Z"
   },
   {
    "duration": 111,
    "start_time": "2025-06-29T23:38:06.662Z"
   },
   {
    "duration": 217,
    "start_time": "2025-06-29T23:38:06.775Z"
   },
   {
    "duration": 197,
    "start_time": "2025-06-29T23:38:06.994Z"
   },
   {
    "duration": 124,
    "start_time": "2025-06-29T23:38:07.193Z"
   },
   {
    "duration": 221,
    "start_time": "2025-06-29T23:38:07.319Z"
   },
   {
    "duration": 63,
    "start_time": "2025-06-29T23:38:07.541Z"
   },
   {
    "duration": 112,
    "start_time": "2025-06-29T23:38:07.606Z"
   },
   {
    "duration": 18,
    "start_time": "2025-06-29T23:38:07.719Z"
   },
   {
    "duration": 99,
    "start_time": "2025-06-29T23:38:07.739Z"
   },
   {
    "duration": 211,
    "start_time": "2025-06-29T23:38:07.839Z"
   },
   {
    "duration": 12,
    "start_time": "2025-06-29T23:38:08.052Z"
   },
   {
    "duration": 44,
    "start_time": "2025-06-29T23:38:08.066Z"
   },
   {
    "duration": 1174,
    "start_time": "2025-06-29T23:39:31.699Z"
   },
   {
    "duration": 83,
    "start_time": "2025-06-29T23:39:32.875Z"
   },
   {
    "duration": 29,
    "start_time": "2025-06-29T23:39:32.960Z"
   },
   {
    "duration": 12,
    "start_time": "2025-06-29T23:39:32.991Z"
   },
   {
    "duration": 19,
    "start_time": "2025-06-29T23:39:33.006Z"
   },
   {
    "duration": 18,
    "start_time": "2025-06-29T23:39:33.026Z"
   },
   {
    "duration": 10,
    "start_time": "2025-06-29T23:39:33.046Z"
   },
   {
    "duration": 18,
    "start_time": "2025-06-29T23:39:33.058Z"
   },
   {
    "duration": 17,
    "start_time": "2025-06-29T23:39:33.078Z"
   },
   {
    "duration": 44,
    "start_time": "2025-06-29T23:39:33.097Z"
   },
   {
    "duration": 10,
    "start_time": "2025-06-29T23:39:33.143Z"
   },
   {
    "duration": 27,
    "start_time": "2025-06-29T23:39:33.155Z"
   },
   {
    "duration": 10,
    "start_time": "2025-06-29T23:39:33.184Z"
   },
   {
    "duration": 4,
    "start_time": "2025-06-29T23:39:33.197Z"
   },
   {
    "duration": 791,
    "start_time": "2025-06-29T23:39:33.202Z"
   },
   {
    "duration": 12,
    "start_time": "2025-06-29T23:39:33.994Z"
   },
   {
    "duration": 6,
    "start_time": "2025-06-29T23:39:34.008Z"
   },
   {
    "duration": 877,
    "start_time": "2025-06-29T23:39:34.016Z"
   },
   {
    "duration": 1428,
    "start_time": "2025-06-29T23:39:34.895Z"
   },
   {
    "duration": 327,
    "start_time": "2025-06-29T23:39:36.325Z"
   },
   {
    "duration": 114,
    "start_time": "2025-06-29T23:39:36.654Z"
   },
   {
    "duration": 5,
    "start_time": "2025-06-29T23:39:36.770Z"
   },
   {
    "duration": 108,
    "start_time": "2025-06-29T23:39:36.777Z"
   },
   {
    "duration": 219,
    "start_time": "2025-06-29T23:39:36.887Z"
   },
   {
    "duration": 204,
    "start_time": "2025-06-29T23:39:37.108Z"
   },
   {
    "duration": 115,
    "start_time": "2025-06-29T23:39:37.316Z"
   },
   {
    "duration": 221,
    "start_time": "2025-06-29T23:39:37.438Z"
   },
   {
    "duration": 77,
    "start_time": "2025-06-29T23:39:37.661Z"
   },
   {
    "duration": 103,
    "start_time": "2025-06-29T23:39:37.740Z"
   },
   {
    "duration": 5,
    "start_time": "2025-06-29T23:39:37.845Z"
   },
   {
    "duration": 105,
    "start_time": "2025-06-29T23:39:37.852Z"
   },
   {
    "duration": 214,
    "start_time": "2025-06-29T23:39:37.959Z"
   },
   {
    "duration": 15,
    "start_time": "2025-06-29T23:39:38.175Z"
   },
   {
    "duration": 69,
    "start_time": "2025-06-29T23:39:38.191Z"
   },
   {
    "duration": 3424,
    "start_time": "2025-06-29T23:43:36.179Z"
   },
   {
    "duration": 58,
    "start_time": "2025-06-29T23:43:50.268Z"
   },
   {
    "duration": 3,
    "start_time": "2025-06-29T23:46:24.478Z"
   },
   {
    "duration": 901,
    "start_time": "2025-06-29T23:46:25.649Z"
   },
   {
    "duration": 59,
    "start_time": "2025-06-30T11:12:42.422Z"
   },
   {
    "duration": 3414,
    "start_time": "2025-06-30T11:12:49.143Z"
   },
   {
    "duration": 1552,
    "start_time": "2025-06-30T11:12:52.560Z"
   },
   {
    "duration": 88,
    "start_time": "2025-06-30T11:12:54.114Z"
   },
   {
    "duration": 30,
    "start_time": "2025-06-30T11:12:54.204Z"
   },
   {
    "duration": 13,
    "start_time": "2025-06-30T11:12:54.251Z"
   },
   {
    "duration": 12,
    "start_time": "2025-06-30T11:12:54.266Z"
   },
   {
    "duration": 11,
    "start_time": "2025-06-30T11:12:54.280Z"
   },
   {
    "duration": 10,
    "start_time": "2025-06-30T11:12:54.294Z"
   },
   {
    "duration": 17,
    "start_time": "2025-06-30T11:12:54.340Z"
   },
   {
    "duration": 10,
    "start_time": "2025-06-30T11:12:54.358Z"
   },
   {
    "duration": 10,
    "start_time": "2025-06-30T11:12:54.370Z"
   },
   {
    "duration": 8,
    "start_time": "2025-06-30T11:12:54.381Z"
   },
   {
    "duration": 52,
    "start_time": "2025-06-30T11:12:54.390Z"
   },
   {
    "duration": 11,
    "start_time": "2025-06-30T11:12:54.447Z"
   },
   {
    "duration": 4,
    "start_time": "2025-06-30T11:12:54.459Z"
   },
   {
    "duration": 882,
    "start_time": "2025-06-30T11:12:54.465Z"
   },
   {
    "duration": 11,
    "start_time": "2025-06-30T11:12:55.349Z"
   },
   {
    "duration": 19,
    "start_time": "2025-06-30T11:12:55.362Z"
   },
   {
    "duration": 759,
    "start_time": "2025-06-30T11:12:55.383Z"
   },
   {
    "duration": 1406,
    "start_time": "2025-06-30T11:12:56.144Z"
   },
   {
    "duration": 316,
    "start_time": "2025-06-30T11:12:57.555Z"
   },
   {
    "duration": 105,
    "start_time": "2025-06-30T11:12:57.873Z"
   },
   {
    "duration": 5,
    "start_time": "2025-06-30T11:12:57.979Z"
   },
   {
    "duration": 108,
    "start_time": "2025-06-30T11:12:57.986Z"
   },
   {
    "duration": 319,
    "start_time": "2025-06-30T11:12:58.096Z"
   },
   {
    "duration": 92,
    "start_time": "2025-06-30T11:12:58.417Z"
   },
   {
    "duration": 116,
    "start_time": "2025-06-30T11:12:58.511Z"
   },
   {
    "duration": 224,
    "start_time": "2025-06-30T11:12:58.638Z"
   },
   {
    "duration": 95,
    "start_time": "2025-06-30T11:12:58.863Z"
   },
   {
    "duration": 111,
    "start_time": "2025-06-30T11:12:58.960Z"
   },
   {
    "duration": 5,
    "start_time": "2025-06-30T11:12:59.074Z"
   },
   {
    "duration": 122,
    "start_time": "2025-06-30T11:12:59.081Z"
   },
   {
    "duration": 212,
    "start_time": "2025-06-30T11:12:59.205Z"
   },
   {
    "duration": 26,
    "start_time": "2025-06-30T11:12:59.419Z"
   },
   {
    "duration": 45,
    "start_time": "2025-06-30T11:12:59.448Z"
   },
   {
    "duration": 3,
    "start_time": "2025-06-30T11:12:59.495Z"
   },
   {
    "duration": 228032,
    "start_time": "2025-06-30T11:12:59.499Z"
   },
   {
    "duration": 4,
    "start_time": "2025-06-30T14:13:40.520Z"
   },
   {
    "duration": 814,
    "start_time": "2025-06-30T14:13:41.712Z"
   },
   {
    "duration": 3,
    "start_time": "2025-06-30T16:38:23.751Z"
   },
   {
    "duration": 121,
    "start_time": "2025-06-30T16:38:27.847Z"
   },
   {
    "duration": 4,
    "start_time": "2025-06-30T16:38:54.753Z"
   },
   {
    "duration": 832,
    "start_time": "2025-06-30T16:38:55.699Z"
   },
   {
    "duration": 354,
    "start_time": "2025-06-30T17:52:35.303Z"
   },
   {
    "duration": 30,
    "start_time": "2025-06-30T18:01:59.443Z"
   },
   {
    "duration": 5,
    "start_time": "2025-06-30T18:02:28.020Z"
   },
   {
    "duration": 13,
    "start_time": "2025-06-30T18:02:32.083Z"
   },
   {
    "duration": 19,
    "start_time": "2025-06-30T18:02:52.839Z"
   },
   {
    "duration": 9,
    "start_time": "2025-06-30T18:03:26.985Z"
   },
   {
    "duration": 79,
    "start_time": "2025-06-30T18:19:45.293Z"
   },
   {
    "duration": 18,
    "start_time": "2025-06-30T18:20:35.197Z"
   },
   {
    "duration": 15,
    "start_time": "2025-06-30T18:20:56.606Z"
   },
   {
    "duration": 9,
    "start_time": "2025-06-30T18:21:03.493Z"
   },
   {
    "duration": 2663,
    "start_time": "2025-06-30T18:21:12.658Z"
   },
   {
    "duration": 7544,
    "start_time": "2025-06-30T18:22:35.575Z"
   },
   {
    "duration": 2693,
    "start_time": "2025-06-30T18:22:49.608Z"
   },
   {
    "duration": 7980,
    "start_time": "2025-06-30T18:24:47.115Z"
   },
   {
    "duration": 23,
    "start_time": "2025-06-30T18:38:44.455Z"
   },
   {
    "duration": 2711,
    "start_time": "2025-06-30T18:42:20.295Z"
   },
   {
    "duration": 2719,
    "start_time": "2025-06-30T18:42:23.008Z"
   },
   {
    "duration": 1372,
    "start_time": "2025-06-30T18:42:25.729Z"
   },
   {
    "duration": 120,
    "start_time": "2025-06-30T18:42:27.102Z"
   },
   {
    "duration": 49,
    "start_time": "2025-06-30T18:42:27.226Z"
   },
   {
    "duration": 14,
    "start_time": "2025-06-30T18:42:27.279Z"
   },
   {
    "duration": 23,
    "start_time": "2025-06-30T18:42:27.295Z"
   },
   {
    "duration": 53,
    "start_time": "2025-06-30T18:42:27.320Z"
   },
   {
    "duration": 16,
    "start_time": "2025-06-30T18:42:27.375Z"
   },
   {
    "duration": 13,
    "start_time": "2025-06-30T18:42:27.393Z"
   },
   {
    "duration": 12,
    "start_time": "2025-06-30T18:42:27.408Z"
   },
   {
    "duration": 25,
    "start_time": "2025-06-30T18:42:27.438Z"
   },
   {
    "duration": 19,
    "start_time": "2025-06-30T18:42:27.466Z"
   },
   {
    "duration": 6,
    "start_time": "2025-06-30T18:42:27.490Z"
   },
   {
    "duration": 8,
    "start_time": "2025-06-30T18:42:27.498Z"
   },
   {
    "duration": 43,
    "start_time": "2025-06-30T18:42:27.508Z"
   },
   {
    "duration": 899,
    "start_time": "2025-06-30T18:42:27.554Z"
   },
   {
    "duration": 18,
    "start_time": "2025-06-30T18:42:28.455Z"
   },
   {
    "duration": 42,
    "start_time": "2025-06-30T18:42:28.476Z"
   },
   {
    "duration": 795,
    "start_time": "2025-06-30T18:42:28.520Z"
   },
   {
    "duration": 1470,
    "start_time": "2025-06-30T18:42:29.317Z"
   },
   {
    "duration": 337,
    "start_time": "2025-06-30T18:42:30.789Z"
   },
   {
    "duration": 146,
    "start_time": "2025-06-30T18:42:31.127Z"
   },
   {
    "duration": 7,
    "start_time": "2025-06-30T18:42:31.275Z"
   },
   {
    "duration": 225,
    "start_time": "2025-06-30T18:42:31.283Z"
   },
   {
    "duration": 266,
    "start_time": "2025-06-30T18:42:31.509Z"
   },
   {
    "duration": 98,
    "start_time": "2025-06-30T18:42:31.776Z"
   },
   {
    "duration": 117,
    "start_time": "2025-06-30T18:42:31.876Z"
   },
   {
    "duration": 308,
    "start_time": "2025-06-30T18:42:31.995Z"
   },
   {
    "duration": 84,
    "start_time": "2025-06-30T18:42:32.305Z"
   },
   {
    "duration": 115,
    "start_time": "2025-06-30T18:42:32.391Z"
   },
   {
    "duration": 5,
    "start_time": "2025-06-30T18:42:32.508Z"
   },
   {
    "duration": 139,
    "start_time": "2025-06-30T18:42:32.515Z"
   },
   {
    "duration": 218,
    "start_time": "2025-06-30T18:42:32.660Z"
   },
   {
    "duration": 12,
    "start_time": "2025-06-30T18:42:32.879Z"
   },
   {
    "duration": 171,
    "start_time": "2025-06-30T18:42:32.893Z"
   },
   {
    "duration": 5,
    "start_time": "2025-06-30T18:42:33.067Z"
   },
   {
    "duration": 933,
    "start_time": "2025-06-30T18:42:33.075Z"
   },
   {
    "duration": 9,
    "start_time": "2025-06-30T18:42:34.010Z"
   },
   {
    "duration": 146,
    "start_time": "2025-06-30T18:42:34.035Z"
   },
   {
    "duration": 157,
    "start_time": "2025-06-30T18:42:34.186Z"
   },
   {
    "duration": 2693,
    "start_time": "2025-06-30T18:43:23.234Z"
   },
   {
    "duration": 2720,
    "start_time": "2025-06-30T18:43:25.930Z"
   },
   {
    "duration": 1372,
    "start_time": "2025-06-30T18:43:28.656Z"
   },
   {
    "duration": 96,
    "start_time": "2025-06-30T18:43:30.030Z"
   },
   {
    "duration": 50,
    "start_time": "2025-06-30T18:43:30.128Z"
   },
   {
    "duration": 12,
    "start_time": "2025-06-30T18:43:30.180Z"
   },
   {
    "duration": 40,
    "start_time": "2025-06-30T18:43:30.194Z"
   },
   {
    "duration": 38,
    "start_time": "2025-06-30T18:43:30.238Z"
   },
   {
    "duration": 22,
    "start_time": "2025-06-30T18:43:30.277Z"
   },
   {
    "duration": 56,
    "start_time": "2025-06-30T18:43:30.301Z"
   },
   {
    "duration": 38,
    "start_time": "2025-06-30T18:43:30.362Z"
   },
   {
    "duration": 12,
    "start_time": "2025-06-30T18:43:30.402Z"
   },
   {
    "duration": 51,
    "start_time": "2025-06-30T18:43:30.416Z"
   },
   {
    "duration": 140,
    "start_time": "2025-06-30T18:43:30.471Z"
   },
   {
    "duration": 47,
    "start_time": "2025-06-30T18:43:30.612Z"
   },
   {
    "duration": 13,
    "start_time": "2025-06-30T18:43:30.663Z"
   },
   {
    "duration": 945,
    "start_time": "2025-06-30T18:43:30.678Z"
   },
   {
    "duration": 26,
    "start_time": "2025-06-30T18:43:31.624Z"
   },
   {
    "duration": 18,
    "start_time": "2025-06-30T18:43:31.657Z"
   },
   {
    "duration": 887,
    "start_time": "2025-06-30T18:43:31.677Z"
   },
   {
    "duration": 1501,
    "start_time": "2025-06-30T18:43:32.566Z"
   },
   {
    "duration": 402,
    "start_time": "2025-06-30T18:43:34.068Z"
   },
   {
    "duration": 115,
    "start_time": "2025-06-30T18:43:34.472Z"
   },
   {
    "duration": 7,
    "start_time": "2025-06-30T18:43:34.589Z"
   },
   {
    "duration": 224,
    "start_time": "2025-06-30T18:43:34.598Z"
   },
   {
    "duration": 244,
    "start_time": "2025-06-30T18:43:34.824Z"
   },
   {
    "duration": 98,
    "start_time": "2025-06-30T18:43:35.075Z"
   },
   {
    "duration": 124,
    "start_time": "2025-06-30T18:43:35.174Z"
   },
   {
    "duration": 284,
    "start_time": "2025-06-30T18:43:35.301Z"
   },
   {
    "duration": 90,
    "start_time": "2025-06-30T18:43:35.587Z"
   },
   {
    "duration": 169,
    "start_time": "2025-06-30T18:43:35.679Z"
   },
   {
    "duration": 15,
    "start_time": "2025-06-30T18:43:35.855Z"
   },
   {
    "duration": 313,
    "start_time": "2025-06-30T18:43:35.872Z"
   },
   {
    "duration": 225,
    "start_time": "2025-06-30T18:43:36.187Z"
   },
   {
    "duration": 27,
    "start_time": "2025-06-30T18:43:36.414Z"
   },
   {
    "duration": 152,
    "start_time": "2025-06-30T18:43:36.450Z"
   },
   {
    "duration": 4,
    "start_time": "2025-06-30T18:43:36.603Z"
   },
   {
    "duration": 1002,
    "start_time": "2025-06-30T18:43:36.609Z"
   },
   {
    "duration": 28,
    "start_time": "2025-06-30T18:43:37.614Z"
   },
   {
    "duration": 35,
    "start_time": "2025-06-30T18:43:37.653Z"
   },
   {
    "duration": 2706,
    "start_time": "2025-06-30T18:44:22.006Z"
   },
   {
    "duration": 2682,
    "start_time": "2025-06-30T18:44:24.714Z"
   },
   {
    "duration": 1367,
    "start_time": "2025-06-30T18:44:27.398Z"
   },
   {
    "duration": 92,
    "start_time": "2025-06-30T18:44:28.773Z"
   },
   {
    "duration": 30,
    "start_time": "2025-06-30T18:44:28.868Z"
   },
   {
    "duration": 12,
    "start_time": "2025-06-30T18:44:28.900Z"
   },
   {
    "duration": 87,
    "start_time": "2025-06-30T18:44:28.914Z"
   },
   {
    "duration": 9,
    "start_time": "2025-06-30T18:44:29.002Z"
   },
   {
    "duration": 9,
    "start_time": "2025-06-30T18:44:29.013Z"
   },
   {
    "duration": 21,
    "start_time": "2025-06-30T18:44:29.023Z"
   },
   {
    "duration": 14,
    "start_time": "2025-06-30T18:44:29.048Z"
   },
   {
    "duration": 15,
    "start_time": "2025-06-30T18:44:29.065Z"
   },
   {
    "duration": 11,
    "start_time": "2025-06-30T18:44:29.082Z"
   },
   {
    "duration": 6,
    "start_time": "2025-06-30T18:44:29.097Z"
   },
   {
    "duration": 17,
    "start_time": "2025-06-30T18:44:29.141Z"
   },
   {
    "duration": 5,
    "start_time": "2025-06-30T18:44:29.160Z"
   },
   {
    "duration": 919,
    "start_time": "2025-06-30T18:44:29.167Z"
   },
   {
    "duration": 11,
    "start_time": "2025-06-30T18:44:30.088Z"
   },
   {
    "duration": 47,
    "start_time": "2025-06-30T18:44:30.100Z"
   },
   {
    "duration": 780,
    "start_time": "2025-06-30T18:44:30.152Z"
   },
   {
    "duration": 1479,
    "start_time": "2025-06-30T18:44:30.937Z"
   },
   {
    "duration": 349,
    "start_time": "2025-06-30T18:44:32.417Z"
   },
   {
    "duration": 109,
    "start_time": "2025-06-30T18:44:32.768Z"
   },
   {
    "duration": 6,
    "start_time": "2025-06-30T18:44:32.878Z"
   },
   {
    "duration": 227,
    "start_time": "2025-06-30T18:44:32.885Z"
   },
   {
    "duration": 233,
    "start_time": "2025-06-30T18:44:33.113Z"
   },
   {
    "duration": 77,
    "start_time": "2025-06-30T18:44:33.350Z"
   },
   {
    "duration": 136,
    "start_time": "2025-06-30T18:44:33.428Z"
   },
   {
    "duration": 223,
    "start_time": "2025-06-30T18:44:33.565Z"
   },
   {
    "duration": 88,
    "start_time": "2025-06-30T18:44:33.789Z"
   },
   {
    "duration": 122,
    "start_time": "2025-06-30T18:44:33.879Z"
   },
   {
    "duration": 114,
    "start_time": "2025-06-30T18:44:34.003Z"
   },
   {
    "duration": 128,
    "start_time": "2025-06-30T18:44:34.119Z"
   },
   {
    "duration": 229,
    "start_time": "2025-06-30T18:44:34.249Z"
   },
   {
    "duration": 13,
    "start_time": "2025-06-30T18:44:34.480Z"
   },
   {
    "duration": 95,
    "start_time": "2025-06-30T18:44:34.494Z"
   },
   {
    "duration": 3,
    "start_time": "2025-06-30T18:44:34.591Z"
   },
   {
    "duration": 986,
    "start_time": "2025-06-30T18:44:34.596Z"
   },
   {
    "duration": 9,
    "start_time": "2025-06-30T18:44:35.584Z"
   },
   {
    "duration": 203,
    "start_time": "2025-06-30T18:44:35.594Z"
   },
   {
    "duration": 2903,
    "start_time": "2025-06-30T18:46:45.830Z"
   },
   {
    "duration": 2780,
    "start_time": "2025-06-30T18:46:48.735Z"
   },
   {
    "duration": 1427,
    "start_time": "2025-06-30T18:46:51.517Z"
   },
   {
    "duration": 123,
    "start_time": "2025-06-30T18:46:52.951Z"
   },
   {
    "duration": 36,
    "start_time": "2025-06-30T18:46:53.086Z"
   },
   {
    "duration": 28,
    "start_time": "2025-06-30T18:46:53.124Z"
   },
   {
    "duration": 32,
    "start_time": "2025-06-30T18:46:53.157Z"
   },
   {
    "duration": 50,
    "start_time": "2025-06-30T18:46:53.192Z"
   },
   {
    "duration": 23,
    "start_time": "2025-06-30T18:46:53.250Z"
   },
   {
    "duration": 23,
    "start_time": "2025-06-30T18:46:53.275Z"
   },
   {
    "duration": 31,
    "start_time": "2025-06-30T18:46:53.300Z"
   },
   {
    "duration": 23,
    "start_time": "2025-06-30T18:46:53.333Z"
   },
   {
    "duration": 15,
    "start_time": "2025-06-30T18:46:53.358Z"
   },
   {
    "duration": 9,
    "start_time": "2025-06-30T18:46:53.377Z"
   },
   {
    "duration": 59,
    "start_time": "2025-06-30T18:46:53.388Z"
   },
   {
    "duration": 7,
    "start_time": "2025-06-30T18:46:53.450Z"
   },
   {
    "duration": 980,
    "start_time": "2025-06-30T18:46:53.459Z"
   },
   {
    "duration": 21,
    "start_time": "2025-06-30T18:46:54.441Z"
   },
   {
    "duration": 7,
    "start_time": "2025-06-30T18:46:54.464Z"
   },
   {
    "duration": 889,
    "start_time": "2025-06-30T18:46:54.473Z"
   },
   {
    "duration": 1561,
    "start_time": "2025-06-30T18:46:55.371Z"
   },
   {
    "duration": 381,
    "start_time": "2025-06-30T18:46:56.936Z"
   },
   {
    "duration": 160,
    "start_time": "2025-06-30T18:46:57.318Z"
   },
   {
    "duration": 9,
    "start_time": "2025-06-30T18:46:57.480Z"
   },
   {
    "duration": 230,
    "start_time": "2025-06-30T18:46:57.491Z"
   },
   {
    "duration": 283,
    "start_time": "2025-06-30T18:46:57.723Z"
   },
   {
    "duration": 93,
    "start_time": "2025-06-30T18:46:58.008Z"
   },
   {
    "duration": 135,
    "start_time": "2025-06-30T18:46:58.103Z"
   },
   {
    "duration": 256,
    "start_time": "2025-06-30T18:46:58.244Z"
   },
   {
    "duration": 98,
    "start_time": "2025-06-30T18:46:58.502Z"
   },
   {
    "duration": 158,
    "start_time": "2025-06-30T18:46:58.602Z"
   },
   {
    "duration": 11,
    "start_time": "2025-06-30T18:46:58.762Z"
   },
   {
    "duration": 113,
    "start_time": "2025-06-30T18:46:58.778Z"
   },
   {
    "duration": 244,
    "start_time": "2025-06-30T18:46:58.893Z"
   },
   {
    "duration": 31,
    "start_time": "2025-06-30T18:46:59.139Z"
   },
   {
    "duration": 70,
    "start_time": "2025-06-30T18:46:59.172Z"
   },
   {
    "duration": 11,
    "start_time": "2025-06-30T18:46:59.246Z"
   },
   {
    "duration": 1019,
    "start_time": "2025-06-30T18:46:59.260Z"
   },
   {
    "duration": 14,
    "start_time": "2025-06-30T18:47:00.281Z"
   },
   {
    "duration": 74,
    "start_time": "2025-06-30T18:47:00.298Z"
   },
   {
    "duration": 2781,
    "start_time": "2025-06-30T18:55:52.311Z"
   },
   {
    "duration": 2835,
    "start_time": "2025-06-30T18:55:55.094Z"
   },
   {
    "duration": 1499,
    "start_time": "2025-06-30T18:55:57.931Z"
   },
   {
    "duration": 140,
    "start_time": "2025-06-30T18:55:59.432Z"
   },
   {
    "duration": 44,
    "start_time": "2025-06-30T18:55:59.585Z"
   },
   {
    "duration": 28,
    "start_time": "2025-06-30T18:55:59.631Z"
   },
   {
    "duration": 21,
    "start_time": "2025-06-30T18:55:59.661Z"
   },
   {
    "duration": 19,
    "start_time": "2025-06-30T18:55:59.684Z"
   },
   {
    "duration": 73,
    "start_time": "2025-06-30T18:55:59.705Z"
   },
   {
    "duration": 20,
    "start_time": "2025-06-30T18:55:59.780Z"
   },
   {
    "duration": 11,
    "start_time": "2025-06-30T18:55:59.804Z"
   },
   {
    "duration": 21,
    "start_time": "2025-06-30T18:55:59.817Z"
   },
   {
    "duration": 19,
    "start_time": "2025-06-30T18:55:59.845Z"
   },
   {
    "duration": 5,
    "start_time": "2025-06-30T18:55:59.868Z"
   },
   {
    "duration": 8,
    "start_time": "2025-06-30T18:55:59.875Z"
   },
   {
    "duration": 5,
    "start_time": "2025-06-30T18:55:59.885Z"
   },
   {
    "duration": 1029,
    "start_time": "2025-06-30T18:55:59.892Z"
   },
   {
    "duration": 36,
    "start_time": "2025-06-30T18:56:00.923Z"
   },
   {
    "duration": 82,
    "start_time": "2025-06-30T18:56:00.971Z"
   },
   {
    "duration": 994,
    "start_time": "2025-06-30T18:56:01.056Z"
   },
   {
    "duration": 1657,
    "start_time": "2025-06-30T18:56:02.056Z"
   },
   {
    "duration": 467,
    "start_time": "2025-06-30T18:56:03.715Z"
   },
   {
    "duration": 150,
    "start_time": "2025-06-30T18:56:04.191Z"
   },
   {
    "duration": 11,
    "start_time": "2025-06-30T18:56:04.343Z"
   },
   {
    "duration": 313,
    "start_time": "2025-06-30T18:56:04.362Z"
   },
   {
    "duration": 248,
    "start_time": "2025-06-30T18:56:04.687Z"
   },
   {
    "duration": 103,
    "start_time": "2025-06-30T18:56:04.939Z"
   },
   {
    "duration": 168,
    "start_time": "2025-06-30T18:56:05.049Z"
   },
   {
    "duration": 260,
    "start_time": "2025-06-30T18:56:05.220Z"
   },
   {
    "duration": 68,
    "start_time": "2025-06-30T18:56:05.484Z"
   },
   {
    "duration": 126,
    "start_time": "2025-06-30T18:56:05.553Z"
   },
   {
    "duration": 11,
    "start_time": "2025-06-30T18:56:05.681Z"
   },
   {
    "duration": 189,
    "start_time": "2025-06-30T18:56:05.695Z"
   },
   {
    "duration": 218,
    "start_time": "2025-06-30T18:56:05.885Z"
   },
   {
    "duration": 12,
    "start_time": "2025-06-30T18:56:06.105Z"
   },
   {
    "duration": 144,
    "start_time": "2025-06-30T18:56:06.140Z"
   },
   {
    "duration": 6,
    "start_time": "2025-06-30T18:56:06.286Z"
   },
   {
    "duration": 1072,
    "start_time": "2025-06-30T18:56:06.294Z"
   },
   {
    "duration": 11,
    "start_time": "2025-06-30T18:56:07.374Z"
   },
   {
    "duration": 43,
    "start_time": "2025-06-30T18:56:07.388Z"
   },
   {
    "duration": 16,
    "start_time": "2025-06-30T18:56:07.436Z"
   },
   {
    "duration": 23,
    "start_time": "2025-06-30T18:56:07.459Z"
   },
   {
    "duration": 48,
    "start_time": "2025-06-30T18:56:07.484Z"
   },
   {
    "duration": 33,
    "start_time": "2025-06-30T18:56:07.533Z"
   },
   {
    "duration": 2816,
    "start_time": "2025-06-30T18:57:27.229Z"
   },
   {
    "duration": 2643,
    "start_time": "2025-06-30T18:57:30.047Z"
   },
   {
    "duration": 1352,
    "start_time": "2025-06-30T18:57:32.693Z"
   },
   {
    "duration": 111,
    "start_time": "2025-06-30T18:57:34.047Z"
   },
   {
    "duration": 120,
    "start_time": "2025-06-30T18:57:34.164Z"
   },
   {
    "duration": 12,
    "start_time": "2025-06-30T18:57:34.286Z"
   },
   {
    "duration": 14,
    "start_time": "2025-06-30T18:57:34.299Z"
   },
   {
    "duration": 9,
    "start_time": "2025-06-30T18:57:34.315Z"
   },
   {
    "duration": 31,
    "start_time": "2025-06-30T18:57:34.326Z"
   },
   {
    "duration": 32,
    "start_time": "2025-06-30T18:57:34.359Z"
   },
   {
    "duration": 13,
    "start_time": "2025-06-30T18:57:34.393Z"
   },
   {
    "duration": 12,
    "start_time": "2025-06-30T18:57:34.408Z"
   },
   {
    "duration": 30,
    "start_time": "2025-06-30T18:57:34.422Z"
   },
   {
    "duration": 12,
    "start_time": "2025-06-30T18:57:34.455Z"
   },
   {
    "duration": 135,
    "start_time": "2025-06-30T18:57:34.470Z"
   },
   {
    "duration": 21,
    "start_time": "2025-06-30T18:57:34.607Z"
   },
   {
    "duration": 911,
    "start_time": "2025-06-30T18:57:34.630Z"
   },
   {
    "duration": 16,
    "start_time": "2025-06-30T18:57:35.547Z"
   },
   {
    "duration": 89,
    "start_time": "2025-06-30T18:57:35.565Z"
   },
   {
    "duration": 963,
    "start_time": "2025-06-30T18:57:35.659Z"
   },
   {
    "duration": 1487,
    "start_time": "2025-06-30T18:57:36.624Z"
   },
   {
    "duration": 337,
    "start_time": "2025-06-30T18:57:38.113Z"
   },
   {
    "duration": 101,
    "start_time": "2025-06-30T18:57:38.453Z"
   },
   {
    "duration": 7,
    "start_time": "2025-06-30T18:57:38.556Z"
   },
   {
    "duration": 206,
    "start_time": "2025-06-30T18:57:38.566Z"
   },
   {
    "duration": 218,
    "start_time": "2025-06-30T18:57:38.774Z"
   },
   {
    "duration": 107,
    "start_time": "2025-06-30T18:57:38.994Z"
   },
   {
    "duration": 114,
    "start_time": "2025-06-30T18:57:39.103Z"
   },
   {
    "duration": 251,
    "start_time": "2025-06-30T18:57:39.219Z"
   },
   {
    "duration": 60,
    "start_time": "2025-06-30T18:57:39.478Z"
   },
   {
    "duration": 119,
    "start_time": "2025-06-30T18:57:39.542Z"
   },
   {
    "duration": 15,
    "start_time": "2025-06-30T18:57:39.666Z"
   },
   {
    "duration": 182,
    "start_time": "2025-06-30T18:57:39.683Z"
   },
   {
    "duration": 217,
    "start_time": "2025-06-30T18:57:39.867Z"
   },
   {
    "duration": 11,
    "start_time": "2025-06-30T18:57:40.085Z"
   },
   {
    "duration": 136,
    "start_time": "2025-06-30T18:57:40.098Z"
   },
   {
    "duration": 5,
    "start_time": "2025-06-30T18:57:40.238Z"
   },
   {
    "duration": 915,
    "start_time": "2025-06-30T18:57:40.245Z"
   },
   {
    "duration": 14,
    "start_time": "2025-06-30T18:57:41.162Z"
   },
   {
    "duration": 19,
    "start_time": "2025-06-30T18:57:41.181Z"
   },
   {
    "duration": 3,
    "start_time": "2025-06-30T18:57:41.204Z"
   },
   {
    "duration": 17,
    "start_time": "2025-06-30T18:57:41.208Z"
   },
   {
    "duration": 19,
    "start_time": "2025-06-30T18:57:41.227Z"
   },
   {
    "duration": 8,
    "start_time": "2025-06-30T18:57:41.248Z"
   },
   {
    "duration": 2272,
    "start_time": "2025-06-30T18:57:41.257Z"
   },
   {
    "duration": 18,
    "start_time": "2025-06-30T18:58:23.736Z"
   },
   {
    "duration": 1755,
    "start_time": "2025-06-30T18:58:29.691Z"
   },
   {
    "duration": 97,
    "start_time": "2025-06-30T19:00:54.280Z"
   },
   {
    "duration": 1843,
    "start_time": "2025-06-30T19:03:36.050Z"
   },
   {
    "duration": 4683,
    "start_time": "2025-06-30T19:10:51.798Z"
   },
   {
    "duration": 543,
    "start_time": "2025-06-30T19:12:49.427Z"
   },
   {
    "duration": 45,
    "start_time": "2025-06-30T19:15:24.749Z"
   },
   {
    "duration": 15,
    "start_time": "2025-06-30T19:15:30.261Z"
   },
   {
    "duration": 35,
    "start_time": "2025-06-30T19:16:00.319Z"
   },
   {
    "duration": 43,
    "start_time": "2025-06-30T19:17:19.137Z"
   },
   {
    "duration": 15,
    "start_time": "2025-06-30T19:19:37.684Z"
   },
   {
    "duration": 5,
    "start_time": "2025-06-30T19:19:51.386Z"
   },
   {
    "duration": 1905,
    "start_time": "2025-06-30T19:20:00.885Z"
   },
   {
    "duration": 12,
    "start_time": "2025-06-30T19:20:54.114Z"
   },
   {
    "duration": 39,
    "start_time": "2025-06-30T19:21:04.111Z"
   },
   {
    "duration": 26,
    "start_time": "2025-06-30T19:21:50.976Z"
   },
   {
    "duration": 4,
    "start_time": "2025-06-30T19:21:57.511Z"
   },
   {
    "duration": 46,
    "start_time": "2025-06-30T19:22:01.960Z"
   },
   {
    "duration": 53,
    "start_time": "2025-06-30T19:22:15.003Z"
   },
   {
    "duration": 60,
    "start_time": "2025-06-30T19:22:45.608Z"
   },
   {
    "duration": 44,
    "start_time": "2025-06-30T19:23:37.504Z"
   },
   {
    "duration": 36,
    "start_time": "2025-06-30T19:23:52.478Z"
   },
   {
    "duration": 34,
    "start_time": "2025-06-30T19:25:52.651Z"
   },
   {
    "duration": 40,
    "start_time": "2025-06-30T19:26:05.324Z"
   },
   {
    "duration": 30,
    "start_time": "2025-06-30T19:26:25.502Z"
   },
   {
    "duration": 2733,
    "start_time": "2025-06-30T19:27:05.479Z"
   },
   {
    "duration": 2750,
    "start_time": "2025-06-30T19:27:08.217Z"
   },
   {
    "duration": 2629,
    "start_time": "2025-06-30T19:27:10.969Z"
   },
   {
    "duration": 1809,
    "start_time": "2025-06-30T19:27:13.601Z"
   },
   {
    "duration": 93,
    "start_time": "2025-06-30T19:27:15.412Z"
   },
   {
    "duration": 27,
    "start_time": "2025-06-30T19:27:15.507Z"
   },
   {
    "duration": 18,
    "start_time": "2025-06-30T19:27:15.545Z"
   },
   {
    "duration": 24,
    "start_time": "2025-06-30T19:27:15.565Z"
   },
   {
    "duration": 79,
    "start_time": "2025-06-30T19:27:15.591Z"
   },
   {
    "duration": 11,
    "start_time": "2025-06-30T19:27:15.672Z"
   },
   {
    "duration": 33,
    "start_time": "2025-06-30T19:27:15.684Z"
   },
   {
    "duration": 177,
    "start_time": "2025-06-30T19:27:15.719Z"
   },
   {
    "duration": 24,
    "start_time": "2025-06-30T19:27:15.898Z"
   },
   {
    "duration": 20,
    "start_time": "2025-06-30T19:27:15.927Z"
   },
   {
    "duration": 77,
    "start_time": "2025-06-30T19:27:15.948Z"
   },
   {
    "duration": 35,
    "start_time": "2025-06-30T19:27:16.027Z"
   },
   {
    "duration": 4,
    "start_time": "2025-06-30T19:27:16.065Z"
   },
   {
    "duration": 923,
    "start_time": "2025-06-30T19:27:16.071Z"
   },
   {
    "duration": 13,
    "start_time": "2025-06-30T19:27:16.997Z"
   },
   {
    "duration": 27,
    "start_time": "2025-06-30T19:27:17.013Z"
   },
   {
    "duration": 1085,
    "start_time": "2025-06-30T19:27:17.047Z"
   },
   {
    "duration": 1597,
    "start_time": "2025-06-30T19:27:18.134Z"
   },
   {
    "duration": 353,
    "start_time": "2025-06-30T19:27:19.738Z"
   },
   {
    "duration": 135,
    "start_time": "2025-06-30T19:27:20.092Z"
   },
   {
    "duration": 23,
    "start_time": "2025-06-30T19:27:20.229Z"
   },
   {
    "duration": 140,
    "start_time": "2025-06-30T19:27:20.256Z"
   },
   {
    "duration": 233,
    "start_time": "2025-06-30T19:27:20.398Z"
   },
   {
    "duration": 100,
    "start_time": "2025-06-30T19:27:20.633Z"
   },
   {
    "duration": 132,
    "start_time": "2025-06-30T19:27:20.738Z"
   },
   {
    "duration": 235,
    "start_time": "2025-06-30T19:27:20.872Z"
   },
   {
    "duration": 82,
    "start_time": "2025-06-30T19:27:21.109Z"
   },
   {
    "duration": 106,
    "start_time": "2025-06-30T19:27:21.193Z"
   },
   {
    "duration": 4,
    "start_time": "2025-06-30T19:27:21.301Z"
   },
   {
    "duration": 112,
    "start_time": "2025-06-30T19:27:21.307Z"
   },
   {
    "duration": 233,
    "start_time": "2025-06-30T19:27:21.421Z"
   },
   {
    "duration": 17,
    "start_time": "2025-06-30T19:27:21.664Z"
   },
   {
    "duration": 46,
    "start_time": "2025-06-30T19:27:21.682Z"
   },
   {
    "duration": 6,
    "start_time": "2025-06-30T19:27:21.731Z"
   },
   {
    "duration": 1093,
    "start_time": "2025-06-30T19:27:21.749Z"
   },
   {
    "duration": 12,
    "start_time": "2025-06-30T19:27:22.849Z"
   },
   {
    "duration": 38,
    "start_time": "2025-06-30T19:27:22.867Z"
   },
   {
    "duration": 20,
    "start_time": "2025-06-30T19:27:22.907Z"
   },
   {
    "duration": 17,
    "start_time": "2025-06-30T19:27:22.930Z"
   },
   {
    "duration": 19,
    "start_time": "2025-06-30T19:27:22.950Z"
   },
   {
    "duration": 36,
    "start_time": "2025-06-30T19:27:22.974Z"
   },
   {
    "duration": 2143,
    "start_time": "2025-06-30T19:27:23.011Z"
   },
   {
    "duration": 194,
    "start_time": "2025-06-30T19:27:25.162Z"
   },
   {
    "duration": 15,
    "start_time": "2025-06-30T19:32:13.274Z"
   },
   {
    "duration": 32,
    "start_time": "2025-06-30T19:32:25.932Z"
   },
   {
    "duration": 43,
    "start_time": "2025-06-30T19:32:37.038Z"
   },
   {
    "duration": 4522,
    "start_time": "2025-06-30T22:21:06.413Z"
   },
   {
    "duration": 3561,
    "start_time": "2025-06-30T22:21:10.938Z"
   },
   {
    "duration": 9798,
    "start_time": "2025-06-30T22:21:14.501Z"
   },
   {
    "duration": 2034,
    "start_time": "2025-06-30T22:21:24.301Z"
   },
   {
    "duration": 94,
    "start_time": "2025-06-30T22:21:26.338Z"
   },
   {
    "duration": 37,
    "start_time": "2025-06-30T22:21:26.434Z"
   },
   {
    "duration": 15,
    "start_time": "2025-06-30T22:21:26.473Z"
   },
   {
    "duration": 12,
    "start_time": "2025-06-30T22:21:26.490Z"
   },
   {
    "duration": 10,
    "start_time": "2025-06-30T22:21:26.504Z"
   },
   {
    "duration": 13,
    "start_time": "2025-06-30T22:21:26.516Z"
   },
   {
    "duration": 43,
    "start_time": "2025-06-30T22:21:26.531Z"
   },
   {
    "duration": 30,
    "start_time": "2025-06-30T22:21:26.576Z"
   },
   {
    "duration": 18,
    "start_time": "2025-06-30T22:21:26.607Z"
   },
   {
    "duration": 12,
    "start_time": "2025-06-30T22:21:26.630Z"
   },
   {
    "duration": 9,
    "start_time": "2025-06-30T22:21:26.662Z"
   },
   {
    "duration": 10,
    "start_time": "2025-06-30T22:21:26.675Z"
   },
   {
    "duration": 5,
    "start_time": "2025-06-30T22:21:26.687Z"
   },
   {
    "duration": 902,
    "start_time": "2025-06-30T22:21:26.694Z"
   },
   {
    "duration": 11,
    "start_time": "2025-06-30T22:21:27.597Z"
   },
   {
    "duration": 7,
    "start_time": "2025-06-30T22:21:27.610Z"
   },
   {
    "duration": 963,
    "start_time": "2025-06-30T22:21:27.619Z"
   },
   {
    "duration": 1631,
    "start_time": "2025-06-30T22:21:28.584Z"
   },
   {
    "duration": 356,
    "start_time": "2025-06-30T22:21:30.218Z"
   },
   {
    "duration": 116,
    "start_time": "2025-06-30T22:21:30.577Z"
   },
   {
    "duration": 7,
    "start_time": "2025-06-30T22:21:30.695Z"
   },
   {
    "duration": 120,
    "start_time": "2025-06-30T22:21:30.705Z"
   },
   {
    "duration": 256,
    "start_time": "2025-06-30T22:21:30.826Z"
   },
   {
    "duration": 89,
    "start_time": "2025-06-30T22:21:31.084Z"
   },
   {
    "duration": 127,
    "start_time": "2025-06-30T22:21:31.175Z"
   },
   {
    "duration": 234,
    "start_time": "2025-06-30T22:21:31.304Z"
   },
   {
    "duration": 88,
    "start_time": "2025-06-30T22:21:31.540Z"
   },
   {
    "duration": 139,
    "start_time": "2025-06-30T22:21:31.630Z"
   },
   {
    "duration": 6,
    "start_time": "2025-06-30T22:21:31.771Z"
   },
   {
    "duration": 150,
    "start_time": "2025-06-30T22:21:31.778Z"
   },
   {
    "duration": 215,
    "start_time": "2025-06-30T22:21:31.929Z"
   },
   {
    "duration": 23,
    "start_time": "2025-06-30T22:21:32.146Z"
   },
   {
    "duration": 53,
    "start_time": "2025-06-30T22:21:32.171Z"
   },
   {
    "duration": 3,
    "start_time": "2025-06-30T22:21:32.226Z"
   },
   {
    "duration": 986,
    "start_time": "2025-06-30T22:21:32.231Z"
   },
   {
    "duration": 11,
    "start_time": "2025-06-30T22:21:33.219Z"
   },
   {
    "duration": 45,
    "start_time": "2025-06-30T22:21:33.235Z"
   },
   {
    "duration": 4,
    "start_time": "2025-06-30T22:21:33.282Z"
   },
   {
    "duration": 4,
    "start_time": "2025-06-30T22:21:33.288Z"
   },
   {
    "duration": 5,
    "start_time": "2025-06-30T22:21:33.294Z"
   },
   {
    "duration": 24,
    "start_time": "2025-06-30T22:21:33.300Z"
   },
   {
    "duration": 2102,
    "start_time": "2025-06-30T22:21:33.325Z"
   },
   {
    "duration": 192,
    "start_time": "2025-06-30T22:21:35.429Z"
   },
   {
    "duration": 34,
    "start_time": "2025-06-30T22:23:56.609Z"
   },
   {
    "duration": 85,
    "start_time": "2025-06-30T22:25:31.755Z"
   },
   {
    "duration": 1778,
    "start_time": "2025-06-30T22:33:55.032Z"
   },
   {
    "duration": 1790,
    "start_time": "2025-06-30T22:36:28.885Z"
   },
   {
    "duration": 1770,
    "start_time": "2025-06-30T22:37:31.861Z"
   },
   {
    "duration": 1907,
    "start_time": "2025-06-30T22:38:03.720Z"
   },
   {
    "duration": 92,
    "start_time": "2025-06-30T22:38:29.247Z"
   },
   {
    "duration": 2748,
    "start_time": "2025-06-30T22:38:38.458Z"
   },
   {
    "duration": 2776,
    "start_time": "2025-06-30T22:38:41.209Z"
   },
   {
    "duration": 2749,
    "start_time": "2025-06-30T22:38:43.988Z"
   },
   {
    "duration": 1918,
    "start_time": "2025-06-30T22:38:46.740Z"
   },
   {
    "duration": 78,
    "start_time": "2025-06-30T22:38:48.660Z"
   },
   {
    "duration": 46,
    "start_time": "2025-06-30T22:38:48.740Z"
   },
   {
    "duration": 17,
    "start_time": "2025-06-30T22:38:48.788Z"
   },
   {
    "duration": 14,
    "start_time": "2025-06-30T22:38:48.807Z"
   },
   {
    "duration": 38,
    "start_time": "2025-06-30T22:38:48.824Z"
   },
   {
    "duration": 14,
    "start_time": "2025-06-30T22:38:48.864Z"
   },
   {
    "duration": 21,
    "start_time": "2025-06-30T22:38:48.880Z"
   },
   {
    "duration": 71,
    "start_time": "2025-06-30T22:38:48.903Z"
   },
   {
    "duration": 12,
    "start_time": "2025-06-30T22:38:48.977Z"
   },
   {
    "duration": 10,
    "start_time": "2025-06-30T22:38:48.993Z"
   },
   {
    "duration": 5,
    "start_time": "2025-06-30T22:38:49.005Z"
   },
   {
    "duration": 12,
    "start_time": "2025-06-30T22:38:49.012Z"
   },
   {
    "duration": 42,
    "start_time": "2025-06-30T22:38:49.026Z"
   },
   {
    "duration": 821,
    "start_time": "2025-06-30T22:38:49.071Z"
   },
   {
    "duration": 12,
    "start_time": "2025-06-30T22:38:49.894Z"
   },
   {
    "duration": 7,
    "start_time": "2025-06-30T22:38:49.908Z"
   },
   {
    "duration": 945,
    "start_time": "2025-06-30T22:38:49.917Z"
   },
   {
    "duration": 1534,
    "start_time": "2025-06-30T22:38:50.865Z"
   },
   {
    "duration": 333,
    "start_time": "2025-06-30T22:38:52.401Z"
   },
   {
    "duration": 109,
    "start_time": "2025-06-30T22:38:52.736Z"
   },
   {
    "duration": 14,
    "start_time": "2025-06-30T22:38:52.847Z"
   },
   {
    "duration": 128,
    "start_time": "2025-06-30T22:38:52.864Z"
   },
   {
    "duration": 232,
    "start_time": "2025-06-30T22:38:52.994Z"
   },
   {
    "duration": 94,
    "start_time": "2025-06-30T22:38:53.228Z"
   },
   {
    "duration": 124,
    "start_time": "2025-06-30T22:38:53.323Z"
   },
   {
    "duration": 233,
    "start_time": "2025-06-30T22:38:53.449Z"
   },
   {
    "duration": 79,
    "start_time": "2025-06-30T22:38:53.684Z"
   },
   {
    "duration": 115,
    "start_time": "2025-06-30T22:38:53.765Z"
   },
   {
    "duration": 6,
    "start_time": "2025-06-30T22:38:53.882Z"
   },
   {
    "duration": 107,
    "start_time": "2025-06-30T22:38:53.890Z"
   },
   {
    "duration": 234,
    "start_time": "2025-06-30T22:38:53.999Z"
   },
   {
    "duration": 25,
    "start_time": "2025-06-30T22:38:54.235Z"
   },
   {
    "duration": 53,
    "start_time": "2025-06-30T22:38:54.262Z"
   },
   {
    "duration": 3,
    "start_time": "2025-06-30T22:38:54.317Z"
   },
   {
    "duration": 989,
    "start_time": "2025-06-30T22:38:54.321Z"
   },
   {
    "duration": 10,
    "start_time": "2025-06-30T22:38:55.312Z"
   },
   {
    "duration": 37,
    "start_time": "2025-06-30T22:38:55.326Z"
   },
   {
    "duration": 7,
    "start_time": "2025-06-30T22:38:55.365Z"
   },
   {
    "duration": 9,
    "start_time": "2025-06-30T22:38:55.375Z"
   },
   {
    "duration": 4,
    "start_time": "2025-06-30T22:38:55.386Z"
   },
   {
    "duration": 86,
    "start_time": "2025-06-30T22:38:55.392Z"
   },
   {
    "duration": 0,
    "start_time": "2025-06-30T22:38:55.480Z"
   },
   {
    "duration": 0,
    "start_time": "2025-06-30T22:38:55.482Z"
   },
   {
    "duration": 93,
    "start_time": "2025-06-30T22:39:47.023Z"
   },
   {
    "duration": 77,
    "start_time": "2025-06-30T22:39:49.377Z"
   },
   {
    "duration": 8,
    "start_time": "2025-06-30T22:40:00.590Z"
   },
   {
    "duration": 2018,
    "start_time": "2025-06-30T22:40:03.923Z"
   },
   {
    "duration": 2082,
    "start_time": "2025-06-30T22:40:26.466Z"
   },
   {
    "duration": 76,
    "start_time": "2025-06-30T22:49:18.022Z"
   },
   {
    "duration": 6,
    "start_time": "2025-06-30T22:49:38.869Z"
   },
   {
    "duration": 34,
    "start_time": "2025-06-30T22:54:34.580Z"
   },
   {
    "duration": 3,
    "start_time": "2025-06-30T23:00:19.625Z"
   },
   {
    "duration": 24,
    "start_time": "2025-06-30T23:01:02.447Z"
   },
   {
    "duration": 17,
    "start_time": "2025-06-30T23:02:30.402Z"
   },
   {
    "duration": 19,
    "start_time": "2025-06-30T23:02:47.745Z"
   },
   {
    "duration": 15,
    "start_time": "2025-06-30T23:02:54.592Z"
   },
   {
    "duration": 2938,
    "start_time": "2025-06-30T23:03:05.281Z"
   },
   {
    "duration": 2793,
    "start_time": "2025-06-30T23:03:08.222Z"
   },
   {
    "duration": 2713,
    "start_time": "2025-06-30T23:03:11.017Z"
   },
   {
    "duration": 1876,
    "start_time": "2025-06-30T23:03:13.733Z"
   },
   {
    "duration": 93,
    "start_time": "2025-06-30T23:03:15.611Z"
   },
   {
    "duration": 37,
    "start_time": "2025-06-30T23:03:15.705Z"
   },
   {
    "duration": 24,
    "start_time": "2025-06-30T23:03:15.744Z"
   },
   {
    "duration": 17,
    "start_time": "2025-06-30T23:03:15.770Z"
   },
   {
    "duration": 16,
    "start_time": "2025-06-30T23:03:15.789Z"
   },
   {
    "duration": 130,
    "start_time": "2025-06-30T23:03:15.808Z"
   },
   {
    "duration": 14,
    "start_time": "2025-06-30T23:03:15.939Z"
   },
   {
    "duration": 13,
    "start_time": "2025-06-30T23:03:15.954Z"
   },
   {
    "duration": 15,
    "start_time": "2025-06-30T23:03:15.969Z"
   },
   {
    "duration": 10,
    "start_time": "2025-06-30T23:03:15.987Z"
   },
   {
    "duration": 7,
    "start_time": "2025-06-30T23:03:15.998Z"
   },
   {
    "duration": 9,
    "start_time": "2025-06-30T23:03:16.007Z"
   },
   {
    "duration": 5,
    "start_time": "2025-06-30T23:03:16.018Z"
   },
   {
    "duration": 916,
    "start_time": "2025-06-30T23:03:16.024Z"
   },
   {
    "duration": 24,
    "start_time": "2025-06-30T23:03:16.942Z"
   },
   {
    "duration": 72,
    "start_time": "2025-06-30T23:03:16.968Z"
   },
   {
    "duration": 946,
    "start_time": "2025-06-30T23:03:17.042Z"
   },
   {
    "duration": 1509,
    "start_time": "2025-06-30T23:03:17.990Z"
   },
   {
    "duration": 335,
    "start_time": "2025-06-30T23:03:19.500Z"
   },
   {
    "duration": 110,
    "start_time": "2025-06-30T23:03:19.837Z"
   },
   {
    "duration": 17,
    "start_time": "2025-06-30T23:03:19.948Z"
   },
   {
    "duration": 112,
    "start_time": "2025-06-30T23:03:19.966Z"
   },
   {
    "duration": 245,
    "start_time": "2025-06-30T23:03:20.080Z"
   },
   {
    "duration": 100,
    "start_time": "2025-06-30T23:03:20.327Z"
   },
   {
    "duration": 122,
    "start_time": "2025-06-30T23:03:20.430Z"
   },
   {
    "duration": 227,
    "start_time": "2025-06-30T23:03:20.559Z"
   },
   {
    "duration": 86,
    "start_time": "2025-06-30T23:03:20.789Z"
   },
   {
    "duration": 113,
    "start_time": "2025-06-30T23:03:20.878Z"
   },
   {
    "duration": 6,
    "start_time": "2025-06-30T23:03:20.993Z"
   },
   {
    "duration": 154,
    "start_time": "2025-06-30T23:03:21.001Z"
   },
   {
    "duration": 224,
    "start_time": "2025-06-30T23:03:21.157Z"
   },
   {
    "duration": 14,
    "start_time": "2025-06-30T23:03:21.383Z"
   },
   {
    "duration": 63,
    "start_time": "2025-06-30T23:03:21.399Z"
   },
   {
    "duration": 4,
    "start_time": "2025-06-30T23:03:21.464Z"
   },
   {
    "duration": 995,
    "start_time": "2025-06-30T23:03:21.473Z"
   },
   {
    "duration": 12,
    "start_time": "2025-06-30T23:03:22.470Z"
   },
   {
    "duration": 23,
    "start_time": "2025-06-30T23:03:22.486Z"
   },
   {
    "duration": 4,
    "start_time": "2025-06-30T23:03:22.510Z"
   },
   {
    "duration": 4,
    "start_time": "2025-06-30T23:03:22.515Z"
   },
   {
    "duration": 5,
    "start_time": "2025-06-30T23:03:22.521Z"
   },
   {
    "duration": 35,
    "start_time": "2025-06-30T23:03:22.527Z"
   },
   {
    "duration": 1975,
    "start_time": "2025-06-30T23:03:22.565Z"
   },
   {
    "duration": 39,
    "start_time": "2025-06-30T23:03:24.542Z"
   },
   {
    "duration": 327,
    "start_time": "2025-06-30T23:03:24.584Z"
   },
   {
    "duration": 152,
    "start_time": "2025-06-30T23:04:12.385Z"
   },
   {
    "duration": 153,
    "start_time": "2025-06-30T23:04:39.766Z"
   },
   {
    "duration": 2743,
    "start_time": "2025-06-30T23:05:06.812Z"
   },
   {
    "duration": 2932,
    "start_time": "2025-06-30T23:05:09.558Z"
   },
   {
    "duration": 2925,
    "start_time": "2025-06-30T23:05:12.493Z"
   },
   {
    "duration": 1907,
    "start_time": "2025-06-30T23:05:15.420Z"
   },
   {
    "duration": 85,
    "start_time": "2025-06-30T23:05:17.330Z"
   },
   {
    "duration": 33,
    "start_time": "2025-06-30T23:05:17.417Z"
   },
   {
    "duration": 16,
    "start_time": "2025-06-30T23:05:17.453Z"
   },
   {
    "duration": 15,
    "start_time": "2025-06-30T23:05:17.471Z"
   },
   {
    "duration": 12,
    "start_time": "2025-06-30T23:05:17.487Z"
   },
   {
    "duration": 10,
    "start_time": "2025-06-30T23:05:17.501Z"
   },
   {
    "duration": 13,
    "start_time": "2025-06-30T23:05:17.513Z"
   },
   {
    "duration": 16,
    "start_time": "2025-06-30T23:05:17.560Z"
   },
   {
    "duration": 15,
    "start_time": "2025-06-30T23:05:17.579Z"
   },
   {
    "duration": 14,
    "start_time": "2025-06-30T23:05:17.598Z"
   },
   {
    "duration": 134,
    "start_time": "2025-06-30T23:05:17.613Z"
   },
   {
    "duration": 10,
    "start_time": "2025-06-30T23:05:17.748Z"
   },
   {
    "duration": 5,
    "start_time": "2025-06-30T23:05:17.760Z"
   },
   {
    "duration": 812,
    "start_time": "2025-06-30T23:05:17.767Z"
   },
   {
    "duration": 13,
    "start_time": "2025-06-30T23:05:18.581Z"
   },
   {
    "duration": 8,
    "start_time": "2025-06-30T23:05:18.596Z"
   },
   {
    "duration": 979,
    "start_time": "2025-06-30T23:05:18.606Z"
   },
   {
    "duration": 1546,
    "start_time": "2025-06-30T23:05:19.587Z"
   },
   {
    "duration": 349,
    "start_time": "2025-06-30T23:05:21.135Z"
   },
   {
    "duration": 109,
    "start_time": "2025-06-30T23:05:21.487Z"
   },
   {
    "duration": 5,
    "start_time": "2025-06-30T23:05:21.598Z"
   },
   {
    "duration": 119,
    "start_time": "2025-06-30T23:05:21.605Z"
   },
   {
    "duration": 239,
    "start_time": "2025-06-30T23:05:21.726Z"
   },
   {
    "duration": 96,
    "start_time": "2025-06-30T23:05:21.968Z"
   },
   {
    "duration": 125,
    "start_time": "2025-06-30T23:05:22.066Z"
   },
   {
    "duration": 236,
    "start_time": "2025-06-30T23:05:22.193Z"
   },
   {
    "duration": 78,
    "start_time": "2025-06-30T23:05:22.431Z"
   },
   {
    "duration": 119,
    "start_time": "2025-06-30T23:05:22.510Z"
   },
   {
    "duration": 5,
    "start_time": "2025-06-30T23:05:22.631Z"
   },
   {
    "duration": 106,
    "start_time": "2025-06-30T23:05:22.638Z"
   },
   {
    "duration": 227,
    "start_time": "2025-06-30T23:05:22.745Z"
   },
   {
    "duration": 17,
    "start_time": "2025-06-30T23:05:22.974Z"
   },
   {
    "duration": 114,
    "start_time": "2025-06-30T23:05:22.992Z"
   },
   {
    "duration": 4,
    "start_time": "2025-06-30T23:05:23.108Z"
   },
   {
    "duration": 1004,
    "start_time": "2025-06-30T23:05:23.114Z"
   },
   {
    "duration": 10,
    "start_time": "2025-06-30T23:05:24.121Z"
   },
   {
    "duration": 42,
    "start_time": "2025-06-30T23:05:24.136Z"
   },
   {
    "duration": 4,
    "start_time": "2025-06-30T23:05:24.191Z"
   },
   {
    "duration": 5,
    "start_time": "2025-06-30T23:05:24.197Z"
   },
   {
    "duration": 5,
    "start_time": "2025-06-30T23:05:24.207Z"
   },
   {
    "duration": 7,
    "start_time": "2025-06-30T23:05:24.214Z"
   },
   {
    "duration": 2110,
    "start_time": "2025-06-30T23:05:24.223Z"
   },
   {
    "duration": 38,
    "start_time": "2025-06-30T23:05:26.334Z"
   },
   {
    "duration": 305,
    "start_time": "2025-06-30T23:05:26.375Z"
   },
   {
    "duration": 8,
    "start_time": "2025-06-30T23:08:52.758Z"
   },
   {
    "duration": 15,
    "start_time": "2025-06-30T23:13:30.038Z"
   },
   {
    "duration": 130,
    "start_time": "2025-06-30T23:13:38.016Z"
   },
   {
    "duration": 6,
    "start_time": "2025-06-30T23:14:19.062Z"
   },
   {
    "duration": 2817,
    "start_time": "2025-06-30T23:14:54.821Z"
   },
   {
    "duration": 2924,
    "start_time": "2025-06-30T23:14:57.641Z"
   },
   {
    "duration": 2785,
    "start_time": "2025-06-30T23:15:00.569Z"
   },
   {
    "duration": 1888,
    "start_time": "2025-06-30T23:15:03.357Z"
   },
   {
    "duration": 81,
    "start_time": "2025-06-30T23:15:05.247Z"
   },
   {
    "duration": 38,
    "start_time": "2025-06-30T23:15:05.330Z"
   },
   {
    "duration": 14,
    "start_time": "2025-06-30T23:15:05.369Z"
   },
   {
    "duration": 19,
    "start_time": "2025-06-30T23:15:05.386Z"
   },
   {
    "duration": 41,
    "start_time": "2025-06-30T23:15:05.408Z"
   },
   {
    "duration": 19,
    "start_time": "2025-06-30T23:15:05.463Z"
   },
   {
    "duration": 19,
    "start_time": "2025-06-30T23:15:05.484Z"
   },
   {
    "duration": 12,
    "start_time": "2025-06-30T23:15:05.505Z"
   },
   {
    "duration": 45,
    "start_time": "2025-06-30T23:15:05.519Z"
   },
   {
    "duration": 11,
    "start_time": "2025-06-30T23:15:05.566Z"
   },
   {
    "duration": 5,
    "start_time": "2025-06-30T23:15:05.578Z"
   },
   {
    "duration": 206,
    "start_time": "2025-06-30T23:15:05.585Z"
   },
   {
    "duration": 19,
    "start_time": "2025-06-30T23:15:05.793Z"
   },
   {
    "duration": 835,
    "start_time": "2025-06-30T23:15:05.815Z"
   },
   {
    "duration": 12,
    "start_time": "2025-06-30T23:15:06.661Z"
   },
   {
    "duration": 10,
    "start_time": "2025-06-30T23:15:06.676Z"
   },
   {
    "duration": 964,
    "start_time": "2025-06-30T23:15:06.688Z"
   },
   {
    "duration": 1468,
    "start_time": "2025-06-30T23:15:07.660Z"
   },
   {
    "duration": 331,
    "start_time": "2025-06-30T23:15:09.131Z"
   },
   {
    "duration": 122,
    "start_time": "2025-06-30T23:15:09.464Z"
   },
   {
    "duration": 6,
    "start_time": "2025-06-30T23:15:09.588Z"
   },
   {
    "duration": 114,
    "start_time": "2025-06-30T23:15:09.596Z"
   },
   {
    "duration": 277,
    "start_time": "2025-06-30T23:15:09.711Z"
   },
   {
    "duration": 102,
    "start_time": "2025-06-30T23:15:09.992Z"
   },
   {
    "duration": 117,
    "start_time": "2025-06-30T23:15:10.096Z"
   },
   {
    "duration": 223,
    "start_time": "2025-06-30T23:15:10.215Z"
   },
   {
    "duration": 77,
    "start_time": "2025-06-30T23:15:10.440Z"
   },
   {
    "duration": 112,
    "start_time": "2025-06-30T23:15:10.519Z"
   },
   {
    "duration": 6,
    "start_time": "2025-06-30T23:15:10.633Z"
   },
   {
    "duration": 121,
    "start_time": "2025-06-30T23:15:10.641Z"
   },
   {
    "duration": 219,
    "start_time": "2025-06-30T23:15:10.764Z"
   },
   {
    "duration": 13,
    "start_time": "2025-06-30T23:15:10.985Z"
   },
   {
    "duration": 123,
    "start_time": "2025-06-30T23:15:11.000Z"
   },
   {
    "duration": 4,
    "start_time": "2025-06-30T23:15:11.125Z"
   },
   {
    "duration": 932,
    "start_time": "2025-06-30T23:15:11.131Z"
   },
   {
    "duration": 11,
    "start_time": "2025-06-30T23:15:12.065Z"
   },
   {
    "duration": 26,
    "start_time": "2025-06-30T23:15:12.078Z"
   },
   {
    "duration": 4,
    "start_time": "2025-06-30T23:15:12.106Z"
   },
   {
    "duration": 9,
    "start_time": "2025-06-30T23:15:12.112Z"
   },
   {
    "duration": 21,
    "start_time": "2025-06-30T23:15:12.123Z"
   },
   {
    "duration": 6,
    "start_time": "2025-06-30T23:15:12.161Z"
   },
   {
    "duration": 4424,
    "start_time": "2025-06-30T23:21:07.017Z"
   },
   {
    "duration": 2824,
    "start_time": "2025-06-30T23:21:11.445Z"
   },
   {
    "duration": 2947,
    "start_time": "2025-06-30T23:21:14.272Z"
   },
   {
    "duration": 2952,
    "start_time": "2025-06-30T23:21:17.222Z"
   },
   {
    "duration": 2731,
    "start_time": "2025-06-30T23:21:20.178Z"
   },
   {
    "duration": 0,
    "start_time": "2025-06-30T23:21:22.914Z"
   },
   {
    "duration": 0,
    "start_time": "2025-06-30T23:21:22.916Z"
   },
   {
    "duration": 0,
    "start_time": "2025-06-30T23:21:22.918Z"
   },
   {
    "duration": 0,
    "start_time": "2025-06-30T23:21:22.920Z"
   },
   {
    "duration": 0,
    "start_time": "2025-06-30T23:21:22.921Z"
   },
   {
    "duration": 0,
    "start_time": "2025-06-30T23:21:22.924Z"
   },
   {
    "duration": 0,
    "start_time": "2025-06-30T23:21:22.926Z"
   },
   {
    "duration": 0,
    "start_time": "2025-06-30T23:21:22.928Z"
   },
   {
    "duration": 0,
    "start_time": "2025-06-30T23:21:22.930Z"
   },
   {
    "duration": 0,
    "start_time": "2025-06-30T23:21:22.932Z"
   },
   {
    "duration": 0,
    "start_time": "2025-06-30T23:21:22.934Z"
   },
   {
    "duration": 0,
    "start_time": "2025-06-30T23:21:22.935Z"
   },
   {
    "duration": 0,
    "start_time": "2025-06-30T23:21:22.937Z"
   },
   {
    "duration": 0,
    "start_time": "2025-06-30T23:21:22.939Z"
   },
   {
    "duration": 0,
    "start_time": "2025-06-30T23:21:22.940Z"
   },
   {
    "duration": 0,
    "start_time": "2025-06-30T23:21:22.942Z"
   },
   {
    "duration": 0,
    "start_time": "2025-06-30T23:21:22.944Z"
   },
   {
    "duration": 0,
    "start_time": "2025-06-30T23:21:22.945Z"
   },
   {
    "duration": 0,
    "start_time": "2025-06-30T23:21:22.946Z"
   },
   {
    "duration": 0,
    "start_time": "2025-06-30T23:21:22.960Z"
   },
   {
    "duration": 0,
    "start_time": "2025-06-30T23:21:22.963Z"
   },
   {
    "duration": 0,
    "start_time": "2025-06-30T23:21:22.966Z"
   },
   {
    "duration": 0,
    "start_time": "2025-06-30T23:21:22.967Z"
   },
   {
    "duration": 0,
    "start_time": "2025-06-30T23:21:22.969Z"
   },
   {
    "duration": 0,
    "start_time": "2025-06-30T23:21:22.970Z"
   },
   {
    "duration": 0,
    "start_time": "2025-06-30T23:21:22.971Z"
   },
   {
    "duration": 0,
    "start_time": "2025-06-30T23:21:22.973Z"
   },
   {
    "duration": 0,
    "start_time": "2025-06-30T23:21:22.974Z"
   },
   {
    "duration": 0,
    "start_time": "2025-06-30T23:21:22.976Z"
   },
   {
    "duration": 0,
    "start_time": "2025-06-30T23:21:22.981Z"
   },
   {
    "duration": 0,
    "start_time": "2025-06-30T23:21:22.985Z"
   },
   {
    "duration": 0,
    "start_time": "2025-06-30T23:21:22.987Z"
   },
   {
    "duration": 0,
    "start_time": "2025-06-30T23:21:22.989Z"
   },
   {
    "duration": 0,
    "start_time": "2025-06-30T23:21:22.992Z"
   },
   {
    "duration": 0,
    "start_time": "2025-06-30T23:21:22.993Z"
   },
   {
    "duration": 0,
    "start_time": "2025-06-30T23:21:22.994Z"
   },
   {
    "duration": 0,
    "start_time": "2025-06-30T23:21:22.997Z"
   },
   {
    "duration": 0,
    "start_time": "2025-06-30T23:21:22.998Z"
   },
   {
    "duration": 0,
    "start_time": "2025-06-30T23:21:23.000Z"
   },
   {
    "duration": 0,
    "start_time": "2025-06-30T23:21:23.061Z"
   },
   {
    "duration": 0,
    "start_time": "2025-06-30T23:21:23.063Z"
   },
   {
    "duration": 0,
    "start_time": "2025-06-30T23:21:23.065Z"
   },
   {
    "duration": 0,
    "start_time": "2025-06-30T23:21:23.067Z"
   },
   {
    "duration": 0,
    "start_time": "2025-06-30T23:21:23.069Z"
   },
   {
    "duration": 0,
    "start_time": "2025-06-30T23:21:23.071Z"
   },
   {
    "duration": 2734,
    "start_time": "2025-06-30T23:22:05.763Z"
   },
   {
    "duration": 2699,
    "start_time": "2025-06-30T23:22:08.501Z"
   },
   {
    "duration": 2633,
    "start_time": "2025-06-30T23:22:11.202Z"
   },
   {
    "duration": 1823,
    "start_time": "2025-06-30T23:22:13.838Z"
   },
   {
    "duration": 81,
    "start_time": "2025-06-30T23:22:15.663Z"
   },
   {
    "duration": 80,
    "start_time": "2025-06-30T23:22:15.746Z"
   },
   {
    "duration": 13,
    "start_time": "2025-06-30T23:22:15.828Z"
   },
   {
    "duration": 28,
    "start_time": "2025-06-30T23:22:15.843Z"
   },
   {
    "duration": 37,
    "start_time": "2025-06-30T23:22:15.873Z"
   },
   {
    "duration": 97,
    "start_time": "2025-06-30T23:22:15.912Z"
   },
   {
    "duration": 24,
    "start_time": "2025-06-30T23:22:16.011Z"
   },
   {
    "duration": 14,
    "start_time": "2025-06-30T23:22:16.036Z"
   },
   {
    "duration": 14,
    "start_time": "2025-06-30T23:22:16.052Z"
   },
   {
    "duration": 12,
    "start_time": "2025-06-30T23:22:16.070Z"
   },
   {
    "duration": 6,
    "start_time": "2025-06-30T23:22:16.083Z"
   },
   {
    "duration": 8,
    "start_time": "2025-06-30T23:22:16.091Z"
   },
   {
    "duration": 4,
    "start_time": "2025-06-30T23:22:16.100Z"
   },
   {
    "duration": 838,
    "start_time": "2025-06-30T23:22:16.105Z"
   },
   {
    "duration": 26,
    "start_time": "2025-06-30T23:22:16.946Z"
   },
   {
    "duration": 9,
    "start_time": "2025-06-30T23:22:16.975Z"
   },
   {
    "duration": 950,
    "start_time": "2025-06-30T23:22:16.987Z"
   },
   {
    "duration": 1521,
    "start_time": "2025-06-30T23:22:17.939Z"
   },
   {
    "duration": 327,
    "start_time": "2025-06-30T23:22:19.462Z"
   },
   {
    "duration": 105,
    "start_time": "2025-06-30T23:22:19.791Z"
   },
   {
    "duration": 5,
    "start_time": "2025-06-30T23:22:19.898Z"
   },
   {
    "duration": 169,
    "start_time": "2025-06-30T23:22:19.905Z"
   },
   {
    "duration": 219,
    "start_time": "2025-06-30T23:22:20.076Z"
   },
   {
    "duration": 96,
    "start_time": "2025-06-30T23:22:20.297Z"
   },
   {
    "duration": 119,
    "start_time": "2025-06-30T23:22:20.395Z"
   },
   {
    "duration": 226,
    "start_time": "2025-06-30T23:22:20.516Z"
   },
   {
    "duration": 77,
    "start_time": "2025-06-30T23:22:20.743Z"
   },
   {
    "duration": 121,
    "start_time": "2025-06-30T23:22:20.822Z"
   },
   {
    "duration": 17,
    "start_time": "2025-06-30T23:22:20.944Z"
   },
   {
    "duration": 114,
    "start_time": "2025-06-30T23:22:20.964Z"
   },
   {
    "duration": 246,
    "start_time": "2025-06-30T23:22:21.080Z"
   },
   {
    "duration": 14,
    "start_time": "2025-06-30T23:22:21.327Z"
   },
   {
    "duration": 63,
    "start_time": "2025-06-30T23:22:21.343Z"
   },
   {
    "duration": 3,
    "start_time": "2025-06-30T23:22:21.408Z"
   },
   {
    "duration": 929,
    "start_time": "2025-06-30T23:22:21.413Z"
   },
   {
    "duration": 18,
    "start_time": "2025-06-30T23:22:22.344Z"
   },
   {
    "duration": 21,
    "start_time": "2025-06-30T23:22:22.366Z"
   },
   {
    "duration": 7,
    "start_time": "2025-06-30T23:22:22.389Z"
   },
   {
    "duration": 9,
    "start_time": "2025-06-30T23:22:22.398Z"
   },
   {
    "duration": 101,
    "start_time": "2025-06-30T23:22:22.409Z"
   },
   {
    "duration": 6,
    "start_time": "2025-06-30T23:22:22.512Z"
   },
   {
    "duration": 1848,
    "start_time": "2025-06-30T23:22:22.519Z"
   },
   {
    "duration": 23,
    "start_time": "2025-06-30T23:22:24.369Z"
   },
   {
    "duration": 9,
    "start_time": "2025-06-30T23:22:24.394Z"
   },
   {
    "duration": 288,
    "start_time": "2025-06-30T23:22:24.404Z"
   },
   {
    "duration": 20,
    "start_time": "2025-06-30T23:24:29.610Z"
   },
   {
    "duration": 3065,
    "start_time": "2025-06-30T23:27:31.256Z"
   },
   {
    "duration": 2927,
    "start_time": "2025-06-30T23:27:34.324Z"
   },
   {
    "duration": 2800,
    "start_time": "2025-06-30T23:27:37.254Z"
   },
   {
    "duration": 1908,
    "start_time": "2025-06-30T23:27:40.056Z"
   },
   {
    "duration": 83,
    "start_time": "2025-06-30T23:27:41.967Z"
   },
   {
    "duration": 46,
    "start_time": "2025-06-30T23:27:42.052Z"
   },
   {
    "duration": 13,
    "start_time": "2025-06-30T23:27:42.100Z"
   },
   {
    "duration": 11,
    "start_time": "2025-06-30T23:27:42.115Z"
   },
   {
    "duration": 41,
    "start_time": "2025-06-30T23:27:42.128Z"
   },
   {
    "duration": 16,
    "start_time": "2025-06-30T23:27:42.171Z"
   },
   {
    "duration": 14,
    "start_time": "2025-06-30T23:27:42.189Z"
   },
   {
    "duration": 12,
    "start_time": "2025-06-30T23:27:42.205Z"
   },
   {
    "duration": 51,
    "start_time": "2025-06-30T23:27:42.218Z"
   },
   {
    "duration": 15,
    "start_time": "2025-06-30T23:27:42.273Z"
   },
   {
    "duration": 6,
    "start_time": "2025-06-30T23:27:42.290Z"
   },
   {
    "duration": 9,
    "start_time": "2025-06-30T23:27:42.297Z"
   },
   {
    "duration": 3,
    "start_time": "2025-06-30T23:27:42.308Z"
   },
   {
    "duration": 835,
    "start_time": "2025-06-30T23:27:42.312Z"
   },
   {
    "duration": 25,
    "start_time": "2025-06-30T23:27:43.150Z"
   },
   {
    "duration": 12,
    "start_time": "2025-06-30T23:27:43.177Z"
   },
   {
    "duration": 900,
    "start_time": "2025-06-30T23:27:43.192Z"
   },
   {
    "duration": 1588,
    "start_time": "2025-06-30T23:27:44.094Z"
   },
   {
    "duration": 406,
    "start_time": "2025-06-30T23:27:45.685Z"
   },
   {
    "duration": 116,
    "start_time": "2025-06-30T23:27:46.094Z"
   },
   {
    "duration": 6,
    "start_time": "2025-06-30T23:27:46.212Z"
   },
   {
    "duration": 125,
    "start_time": "2025-06-30T23:27:46.220Z"
   },
   {
    "duration": 264,
    "start_time": "2025-06-30T23:27:46.346Z"
   },
   {
    "duration": 98,
    "start_time": "2025-06-30T23:27:46.612Z"
   },
   {
    "duration": 131,
    "start_time": "2025-06-30T23:27:46.712Z"
   },
   {
    "duration": 258,
    "start_time": "2025-06-30T23:27:46.845Z"
   },
   {
    "duration": 81,
    "start_time": "2025-06-30T23:27:47.105Z"
   },
   {
    "duration": 112,
    "start_time": "2025-06-30T23:27:47.188Z"
   },
   {
    "duration": 6,
    "start_time": "2025-06-30T23:27:47.303Z"
   },
   {
    "duration": 110,
    "start_time": "2025-06-30T23:27:47.310Z"
   },
   {
    "duration": 216,
    "start_time": "2025-06-30T23:27:47.422Z"
   },
   {
    "duration": 26,
    "start_time": "2025-06-30T23:27:47.640Z"
   },
   {
    "duration": 98,
    "start_time": "2025-06-30T23:27:47.668Z"
   },
   {
    "duration": 4,
    "start_time": "2025-06-30T23:27:47.768Z"
   },
   {
    "duration": 990,
    "start_time": "2025-06-30T23:27:47.774Z"
   },
   {
    "duration": 17,
    "start_time": "2025-06-30T23:27:48.768Z"
   },
   {
    "duration": 23,
    "start_time": "2025-06-30T23:27:48.790Z"
   },
   {
    "duration": 3,
    "start_time": "2025-06-30T23:27:48.815Z"
   },
   {
    "duration": 4,
    "start_time": "2025-06-30T23:27:48.820Z"
   },
   {
    "duration": 5,
    "start_time": "2025-06-30T23:27:48.826Z"
   },
   {
    "duration": 33,
    "start_time": "2025-06-30T23:27:48.833Z"
   },
   {
    "duration": 2051,
    "start_time": "2025-06-30T23:27:48.868Z"
   },
   {
    "duration": 0,
    "start_time": "2025-06-30T23:27:50.921Z"
   },
   {
    "duration": 0,
    "start_time": "2025-06-30T23:27:50.922Z"
   },
   {
    "duration": 0,
    "start_time": "2025-06-30T23:27:50.924Z"
   },
   {
    "duration": 23,
    "start_time": "2025-06-30T23:32:57.804Z"
   },
   {
    "duration": 23,
    "start_time": "2025-06-30T23:32:58.674Z"
   },
   {
    "duration": 146,
    "start_time": "2025-06-30T23:35:40.364Z"
   },
   {
    "duration": 2693,
    "start_time": "2025-06-30T23:36:32.347Z"
   },
   {
    "duration": 2844,
    "start_time": "2025-06-30T23:36:35.042Z"
   },
   {
    "duration": 2794,
    "start_time": "2025-06-30T23:36:37.889Z"
   },
   {
    "duration": 1804,
    "start_time": "2025-06-30T23:36:40.686Z"
   },
   {
    "duration": 78,
    "start_time": "2025-06-30T23:36:42.492Z"
   },
   {
    "duration": 31,
    "start_time": "2025-06-30T23:36:42.572Z"
   },
   {
    "duration": 12,
    "start_time": "2025-06-30T23:36:42.605Z"
   },
   {
    "duration": 12,
    "start_time": "2025-06-30T23:36:42.619Z"
   },
   {
    "duration": 29,
    "start_time": "2025-06-30T23:36:42.633Z"
   },
   {
    "duration": 17,
    "start_time": "2025-06-30T23:36:42.664Z"
   },
   {
    "duration": 15,
    "start_time": "2025-06-30T23:36:42.683Z"
   },
   {
    "duration": 11,
    "start_time": "2025-06-30T23:36:42.700Z"
   },
   {
    "duration": 52,
    "start_time": "2025-06-30T23:36:42.713Z"
   },
   {
    "duration": 13,
    "start_time": "2025-06-30T23:36:42.768Z"
   },
   {
    "duration": 6,
    "start_time": "2025-06-30T23:36:42.783Z"
   },
   {
    "duration": 9,
    "start_time": "2025-06-30T23:36:42.791Z"
   },
   {
    "duration": 4,
    "start_time": "2025-06-30T23:36:42.802Z"
   },
   {
    "duration": 844,
    "start_time": "2025-06-30T23:36:42.808Z"
   },
   {
    "duration": 13,
    "start_time": "2025-06-30T23:36:43.660Z"
   },
   {
    "duration": 8,
    "start_time": "2025-06-30T23:36:43.675Z"
   },
   {
    "duration": 960,
    "start_time": "2025-06-30T23:36:43.686Z"
   },
   {
    "duration": 1552,
    "start_time": "2025-06-30T23:36:44.648Z"
   },
   {
    "duration": 332,
    "start_time": "2025-06-30T23:36:46.202Z"
   },
   {
    "duration": 105,
    "start_time": "2025-06-30T23:36:46.535Z"
   },
   {
    "duration": 6,
    "start_time": "2025-06-30T23:36:46.641Z"
   },
   {
    "duration": 122,
    "start_time": "2025-06-30T23:36:46.649Z"
   },
   {
    "duration": 262,
    "start_time": "2025-06-30T23:36:46.773Z"
   },
   {
    "duration": 107,
    "start_time": "2025-06-30T23:36:47.037Z"
   },
   {
    "duration": 151,
    "start_time": "2025-06-30T23:36:47.146Z"
   },
   {
    "duration": 238,
    "start_time": "2025-06-30T23:36:47.299Z"
   },
   {
    "duration": 92,
    "start_time": "2025-06-30T23:36:47.539Z"
   },
   {
    "duration": 123,
    "start_time": "2025-06-30T23:36:47.633Z"
   },
   {
    "duration": 7,
    "start_time": "2025-06-30T23:36:47.763Z"
   },
   {
    "duration": 162,
    "start_time": "2025-06-30T23:36:47.772Z"
   },
   {
    "duration": 264,
    "start_time": "2025-06-30T23:36:47.936Z"
   },
   {
    "duration": 13,
    "start_time": "2025-06-30T23:36:48.202Z"
   },
   {
    "duration": 72,
    "start_time": "2025-06-30T23:36:48.217Z"
   },
   {
    "duration": 3,
    "start_time": "2025-06-30T23:36:48.291Z"
   },
   {
    "duration": 1120,
    "start_time": "2025-06-30T23:36:48.296Z"
   },
   {
    "duration": 12,
    "start_time": "2025-06-30T23:36:49.417Z"
   },
   {
    "duration": 44,
    "start_time": "2025-06-30T23:36:49.433Z"
   },
   {
    "duration": 5,
    "start_time": "2025-06-30T23:36:49.480Z"
   },
   {
    "duration": 6,
    "start_time": "2025-06-30T23:36:49.486Z"
   },
   {
    "duration": 5,
    "start_time": "2025-06-30T23:36:49.493Z"
   },
   {
    "duration": 6,
    "start_time": "2025-06-30T23:36:49.499Z"
   },
   {
    "duration": 2114,
    "start_time": "2025-06-30T23:36:49.506Z"
   },
   {
    "duration": 0,
    "start_time": "2025-06-30T23:36:51.622Z"
   },
   {
    "duration": 0,
    "start_time": "2025-06-30T23:36:51.623Z"
   },
   {
    "duration": 0,
    "start_time": "2025-06-30T23:36:51.624Z"
   },
   {
    "duration": 2889,
    "start_time": "2025-06-30T23:38:06.601Z"
   },
   {
    "duration": 2888,
    "start_time": "2025-06-30T23:38:09.492Z"
   },
   {
    "duration": 2664,
    "start_time": "2025-06-30T23:38:12.382Z"
   },
   {
    "duration": 1977,
    "start_time": "2025-06-30T23:38:15.048Z"
   },
   {
    "duration": 80,
    "start_time": "2025-06-30T23:38:17.028Z"
   },
   {
    "duration": 31,
    "start_time": "2025-06-30T23:38:17.109Z"
   },
   {
    "duration": 13,
    "start_time": "2025-06-30T23:38:17.142Z"
   },
   {
    "duration": 11,
    "start_time": "2025-06-30T23:38:17.157Z"
   },
   {
    "duration": 18,
    "start_time": "2025-06-30T23:38:17.170Z"
   },
   {
    "duration": 12,
    "start_time": "2025-06-30T23:38:17.191Z"
   },
   {
    "duration": 12,
    "start_time": "2025-06-30T23:38:17.205Z"
   },
   {
    "duration": 42,
    "start_time": "2025-06-30T23:38:17.219Z"
   },
   {
    "duration": 13,
    "start_time": "2025-06-30T23:38:17.263Z"
   },
   {
    "duration": 11,
    "start_time": "2025-06-30T23:38:17.280Z"
   },
   {
    "duration": 8,
    "start_time": "2025-06-30T23:38:17.293Z"
   },
   {
    "duration": 8,
    "start_time": "2025-06-30T23:38:17.303Z"
   },
   {
    "duration": 4,
    "start_time": "2025-06-30T23:38:17.313Z"
   },
   {
    "duration": 879,
    "start_time": "2025-06-30T23:38:17.319Z"
   },
   {
    "duration": 12,
    "start_time": "2025-06-30T23:38:18.200Z"
   },
   {
    "duration": 18,
    "start_time": "2025-06-30T23:38:18.214Z"
   },
   {
    "duration": 1016,
    "start_time": "2025-06-30T23:38:18.233Z"
   },
   {
    "duration": 1487,
    "start_time": "2025-06-30T23:38:19.251Z"
   },
   {
    "duration": 389,
    "start_time": "2025-06-30T23:38:20.739Z"
   },
   {
    "duration": 120,
    "start_time": "2025-06-30T23:38:21.129Z"
   },
   {
    "duration": 13,
    "start_time": "2025-06-30T23:38:21.250Z"
   },
   {
    "duration": 118,
    "start_time": "2025-06-30T23:38:21.265Z"
   },
   {
    "duration": 227,
    "start_time": "2025-06-30T23:38:21.386Z"
   },
   {
    "duration": 94,
    "start_time": "2025-06-30T23:38:21.615Z"
   },
   {
    "duration": 119,
    "start_time": "2025-06-30T23:38:21.711Z"
   },
   {
    "duration": 231,
    "start_time": "2025-06-30T23:38:21.832Z"
   },
   {
    "duration": 67,
    "start_time": "2025-06-30T23:38:22.067Z"
   },
   {
    "duration": 116,
    "start_time": "2025-06-30T23:38:22.136Z"
   },
   {
    "duration": 6,
    "start_time": "2025-06-30T23:38:22.261Z"
   },
   {
    "duration": 114,
    "start_time": "2025-06-30T23:38:22.268Z"
   },
   {
    "duration": 217,
    "start_time": "2025-06-30T23:38:22.384Z"
   },
   {
    "duration": 14,
    "start_time": "2025-06-30T23:38:22.603Z"
   },
   {
    "duration": 70,
    "start_time": "2025-06-30T23:38:22.619Z"
   },
   {
    "duration": 4,
    "start_time": "2025-06-30T23:38:22.690Z"
   },
   {
    "duration": 1005,
    "start_time": "2025-06-30T23:38:22.696Z"
   },
   {
    "duration": 12,
    "start_time": "2025-06-30T23:38:23.702Z"
   },
   {
    "duration": 53,
    "start_time": "2025-06-30T23:38:23.717Z"
   },
   {
    "duration": 4,
    "start_time": "2025-06-30T23:38:23.773Z"
   },
   {
    "duration": 81,
    "start_time": "2025-06-30T23:38:23.779Z"
   },
   {
    "duration": 15,
    "start_time": "2025-06-30T23:38:23.863Z"
   },
   {
    "duration": 9,
    "start_time": "2025-06-30T23:38:23.880Z"
   },
   {
    "duration": 130,
    "start_time": "2025-06-30T23:38:23.892Z"
   },
   {
    "duration": 0,
    "start_time": "2025-06-30T23:38:24.025Z"
   },
   {
    "duration": 0,
    "start_time": "2025-06-30T23:38:24.027Z"
   },
   {
    "duration": 0,
    "start_time": "2025-06-30T23:38:24.028Z"
   },
   {
    "duration": 2823,
    "start_time": "2025-06-30T23:38:52.157Z"
   },
   {
    "duration": 2747,
    "start_time": "2025-06-30T23:38:54.983Z"
   },
   {
    "duration": 2882,
    "start_time": "2025-06-30T23:38:57.733Z"
   },
   {
    "duration": 1847,
    "start_time": "2025-06-30T23:39:00.617Z"
   },
   {
    "duration": 79,
    "start_time": "2025-06-30T23:39:02.467Z"
   },
   {
    "duration": 33,
    "start_time": "2025-06-30T23:39:02.547Z"
   },
   {
    "duration": 14,
    "start_time": "2025-06-30T23:39:02.584Z"
   },
   {
    "duration": 21,
    "start_time": "2025-06-30T23:39:02.600Z"
   },
   {
    "duration": 66,
    "start_time": "2025-06-30T23:39:02.622Z"
   },
   {
    "duration": 16,
    "start_time": "2025-06-30T23:39:02.691Z"
   },
   {
    "duration": 18,
    "start_time": "2025-06-30T23:39:02.709Z"
   },
   {
    "duration": 19,
    "start_time": "2025-06-30T23:39:02.728Z"
   },
   {
    "duration": 13,
    "start_time": "2025-06-30T23:39:02.749Z"
   },
   {
    "duration": 10,
    "start_time": "2025-06-30T23:39:02.766Z"
   },
   {
    "duration": 14,
    "start_time": "2025-06-30T23:39:02.778Z"
   },
   {
    "duration": 14,
    "start_time": "2025-06-30T23:39:02.794Z"
   },
   {
    "duration": 19,
    "start_time": "2025-06-30T23:39:02.810Z"
   },
   {
    "duration": 843,
    "start_time": "2025-06-30T23:39:02.830Z"
   },
   {
    "duration": 15,
    "start_time": "2025-06-30T23:39:03.676Z"
   },
   {
    "duration": 66,
    "start_time": "2025-06-30T23:39:03.693Z"
   },
   {
    "duration": 970,
    "start_time": "2025-06-30T23:39:03.762Z"
   },
   {
    "duration": 1630,
    "start_time": "2025-06-30T23:39:04.734Z"
   },
   {
    "duration": 351,
    "start_time": "2025-06-30T23:39:06.368Z"
   },
   {
    "duration": 121,
    "start_time": "2025-06-30T23:39:06.721Z"
   },
   {
    "duration": 16,
    "start_time": "2025-06-30T23:39:06.844Z"
   },
   {
    "duration": 121,
    "start_time": "2025-06-30T23:39:06.863Z"
   },
   {
    "duration": 258,
    "start_time": "2025-06-30T23:39:06.987Z"
   },
   {
    "duration": 103,
    "start_time": "2025-06-30T23:39:07.247Z"
   },
   {
    "duration": 129,
    "start_time": "2025-06-30T23:39:07.361Z"
   },
   {
    "duration": 241,
    "start_time": "2025-06-30T23:39:07.492Z"
   },
   {
    "duration": 83,
    "start_time": "2025-06-30T23:39:07.735Z"
   },
   {
    "duration": 117,
    "start_time": "2025-06-30T23:39:07.820Z"
   },
   {
    "duration": 5,
    "start_time": "2025-06-30T23:39:07.938Z"
   },
   {
    "duration": 179,
    "start_time": "2025-06-30T23:39:07.944Z"
   },
   {
    "duration": 229,
    "start_time": "2025-06-30T23:39:08.125Z"
   },
   {
    "duration": 13,
    "start_time": "2025-06-30T23:39:08.362Z"
   },
   {
    "duration": 50,
    "start_time": "2025-06-30T23:39:08.377Z"
   },
   {
    "duration": 3,
    "start_time": "2025-06-30T23:39:08.428Z"
   },
   {
    "duration": 1029,
    "start_time": "2025-06-30T23:39:08.433Z"
   },
   {
    "duration": 14,
    "start_time": "2025-06-30T23:39:09.464Z"
   },
   {
    "duration": 23,
    "start_time": "2025-06-30T23:39:09.483Z"
   },
   {
    "duration": 3,
    "start_time": "2025-06-30T23:39:09.508Z"
   },
   {
    "duration": 4,
    "start_time": "2025-06-30T23:39:09.513Z"
   },
   {
    "duration": 4,
    "start_time": "2025-06-30T23:39:09.518Z"
   },
   {
    "duration": 37,
    "start_time": "2025-06-30T23:39:09.524Z"
   },
   {
    "duration": 81,
    "start_time": "2025-06-30T23:39:09.563Z"
   },
   {
    "duration": 1,
    "start_time": "2025-06-30T23:39:09.645Z"
   },
   {
    "duration": 0,
    "start_time": "2025-06-30T23:39:09.647Z"
   },
   {
    "duration": 0,
    "start_time": "2025-06-30T23:39:09.649Z"
   },
   {
    "duration": 2702,
    "start_time": "2025-06-30T23:39:49.119Z"
   },
   {
    "duration": 2747,
    "start_time": "2025-06-30T23:39:51.823Z"
   },
   {
    "duration": 2772,
    "start_time": "2025-06-30T23:39:54.573Z"
   },
   {
    "duration": 1859,
    "start_time": "2025-06-30T23:39:57.348Z"
   },
   {
    "duration": 82,
    "start_time": "2025-06-30T23:39:59.210Z"
   },
   {
    "duration": 27,
    "start_time": "2025-06-30T23:39:59.294Z"
   },
   {
    "duration": 12,
    "start_time": "2025-06-30T23:39:59.323Z"
   },
   {
    "duration": 11,
    "start_time": "2025-06-30T23:39:59.337Z"
   },
   {
    "duration": 16,
    "start_time": "2025-06-30T23:39:59.350Z"
   },
   {
    "duration": 12,
    "start_time": "2025-06-30T23:39:59.368Z"
   },
   {
    "duration": 13,
    "start_time": "2025-06-30T23:39:59.384Z"
   },
   {
    "duration": 15,
    "start_time": "2025-06-30T23:39:59.399Z"
   },
   {
    "duration": 11,
    "start_time": "2025-06-30T23:39:59.415Z"
   },
   {
    "duration": 10,
    "start_time": "2025-06-30T23:39:59.460Z"
   },
   {
    "duration": 6,
    "start_time": "2025-06-30T23:39:59.473Z"
   },
   {
    "duration": 9,
    "start_time": "2025-06-30T23:39:59.480Z"
   },
   {
    "duration": 7,
    "start_time": "2025-06-30T23:39:59.490Z"
   },
   {
    "duration": 856,
    "start_time": "2025-06-30T23:39:59.498Z"
   },
   {
    "duration": 15,
    "start_time": "2025-06-30T23:40:00.360Z"
   },
   {
    "duration": 9,
    "start_time": "2025-06-30T23:40:00.377Z"
   },
   {
    "duration": 936,
    "start_time": "2025-06-30T23:40:00.388Z"
   },
   {
    "duration": 1591,
    "start_time": "2025-06-30T23:40:01.325Z"
   },
   {
    "duration": 351,
    "start_time": "2025-06-30T23:40:02.918Z"
   },
   {
    "duration": 118,
    "start_time": "2025-06-30T23:40:03.272Z"
   },
   {
    "duration": 6,
    "start_time": "2025-06-30T23:40:03.392Z"
   },
   {
    "duration": 118,
    "start_time": "2025-06-30T23:40:03.400Z"
   },
   {
    "duration": 237,
    "start_time": "2025-06-30T23:40:03.520Z"
   },
   {
    "duration": 102,
    "start_time": "2025-06-30T23:40:03.761Z"
   },
   {
    "duration": 144,
    "start_time": "2025-06-30T23:40:03.865Z"
   },
   {
    "duration": 239,
    "start_time": "2025-06-30T23:40:04.011Z"
   },
   {
    "duration": 72,
    "start_time": "2025-06-30T23:40:04.252Z"
   },
   {
    "duration": 116,
    "start_time": "2025-06-30T23:40:04.326Z"
   },
   {
    "duration": 5,
    "start_time": "2025-06-30T23:40:04.444Z"
   },
   {
    "duration": 99,
    "start_time": "2025-06-30T23:40:04.463Z"
   },
   {
    "duration": 222,
    "start_time": "2025-06-30T23:40:04.564Z"
   },
   {
    "duration": 14,
    "start_time": "2025-06-30T23:40:04.789Z"
   },
   {
    "duration": 77,
    "start_time": "2025-06-30T23:40:04.805Z"
   },
   {
    "duration": 5,
    "start_time": "2025-06-30T23:40:04.885Z"
   },
   {
    "duration": 1091,
    "start_time": "2025-06-30T23:40:04.892Z"
   },
   {
    "duration": 12,
    "start_time": "2025-06-30T23:40:05.985Z"
   },
   {
    "duration": 91,
    "start_time": "2025-06-30T23:40:06.001Z"
   },
   {
    "duration": 4,
    "start_time": "2025-06-30T23:40:06.095Z"
   },
   {
    "duration": 7,
    "start_time": "2025-06-30T23:40:06.102Z"
   },
   {
    "duration": 4,
    "start_time": "2025-06-30T23:40:06.111Z"
   },
   {
    "duration": 8,
    "start_time": "2025-06-30T23:40:06.118Z"
   },
   {
    "duration": 103,
    "start_time": "2025-06-30T23:40:06.127Z"
   },
   {
    "duration": 0,
    "start_time": "2025-06-30T23:40:06.233Z"
   },
   {
    "duration": 0,
    "start_time": "2025-06-30T23:40:06.235Z"
   },
   {
    "duration": 0,
    "start_time": "2025-06-30T23:40:06.237Z"
   },
   {
    "duration": 2766,
    "start_time": "2025-06-30T23:40:37.579Z"
   },
   {
    "duration": 2826,
    "start_time": "2025-06-30T23:40:40.348Z"
   },
   {
    "duration": 2708,
    "start_time": "2025-06-30T23:40:43.177Z"
   },
   {
    "duration": 1942,
    "start_time": "2025-06-30T23:40:45.888Z"
   },
   {
    "duration": 84,
    "start_time": "2025-06-30T23:40:47.833Z"
   },
   {
    "duration": 37,
    "start_time": "2025-06-30T23:40:47.919Z"
   },
   {
    "duration": 66,
    "start_time": "2025-06-30T23:40:47.958Z"
   },
   {
    "duration": 31,
    "start_time": "2025-06-30T23:40:48.025Z"
   },
   {
    "duration": 17,
    "start_time": "2025-06-30T23:40:48.058Z"
   },
   {
    "duration": 26,
    "start_time": "2025-06-30T23:40:48.077Z"
   },
   {
    "duration": 14,
    "start_time": "2025-06-30T23:40:48.106Z"
   },
   {
    "duration": 20,
    "start_time": "2025-06-30T23:40:48.122Z"
   },
   {
    "duration": 26,
    "start_time": "2025-06-30T23:40:48.144Z"
   },
   {
    "duration": 13,
    "start_time": "2025-06-30T23:40:48.175Z"
   },
   {
    "duration": 7,
    "start_time": "2025-06-30T23:40:48.190Z"
   },
   {
    "duration": 14,
    "start_time": "2025-06-30T23:40:48.198Z"
   },
   {
    "duration": 26,
    "start_time": "2025-06-30T23:40:48.214Z"
   },
   {
    "duration": 881,
    "start_time": "2025-06-30T23:40:48.242Z"
   },
   {
    "duration": 10,
    "start_time": "2025-06-30T23:40:49.125Z"
   },
   {
    "duration": 44,
    "start_time": "2025-06-30T23:40:49.137Z"
   },
   {
    "duration": 908,
    "start_time": "2025-06-30T23:40:49.184Z"
   },
   {
    "duration": 1547,
    "start_time": "2025-06-30T23:40:50.094Z"
   },
   {
    "duration": 340,
    "start_time": "2025-06-30T23:40:51.643Z"
   },
   {
    "duration": 113,
    "start_time": "2025-06-30T23:40:51.985Z"
   },
   {
    "duration": 5,
    "start_time": "2025-06-30T23:40:52.100Z"
   },
   {
    "duration": 117,
    "start_time": "2025-06-30T23:40:52.107Z"
   },
   {
    "duration": 238,
    "start_time": "2025-06-30T23:40:52.226Z"
   },
   {
    "duration": 86,
    "start_time": "2025-06-30T23:40:52.466Z"
   },
   {
    "duration": 125,
    "start_time": "2025-06-30T23:40:52.562Z"
   },
   {
    "duration": 238,
    "start_time": "2025-06-30T23:40:52.689Z"
   },
   {
    "duration": 83,
    "start_time": "2025-06-30T23:40:52.928Z"
   },
   {
    "duration": 122,
    "start_time": "2025-06-30T23:40:53.013Z"
   },
   {
    "duration": 5,
    "start_time": "2025-06-30T23:40:53.137Z"
   },
   {
    "duration": 122,
    "start_time": "2025-06-30T23:40:53.144Z"
   },
   {
    "duration": 256,
    "start_time": "2025-06-30T23:40:53.269Z"
   },
   {
    "duration": 12,
    "start_time": "2025-06-30T23:40:53.526Z"
   },
   {
    "duration": 64,
    "start_time": "2025-06-30T23:40:53.540Z"
   },
   {
    "duration": 3,
    "start_time": "2025-06-30T23:40:53.606Z"
   },
   {
    "duration": 932,
    "start_time": "2025-06-30T23:40:53.611Z"
   },
   {
    "duration": 23,
    "start_time": "2025-06-30T23:40:54.545Z"
   },
   {
    "duration": 24,
    "start_time": "2025-06-30T23:40:54.572Z"
   },
   {
    "duration": 3,
    "start_time": "2025-06-30T23:40:54.598Z"
   },
   {
    "duration": 4,
    "start_time": "2025-06-30T23:40:54.603Z"
   },
   {
    "duration": 4,
    "start_time": "2025-06-30T23:40:54.609Z"
   },
   {
    "duration": 7,
    "start_time": "2025-06-30T23:40:54.614Z"
   },
   {
    "duration": 1957,
    "start_time": "2025-06-30T23:40:54.623Z"
   },
   {
    "duration": 23,
    "start_time": "2025-06-30T23:40:56.582Z"
   },
   {
    "duration": 170,
    "start_time": "2025-06-30T23:40:56.607Z"
   },
   {
    "duration": 0,
    "start_time": "2025-06-30T23:40:56.780Z"
   },
   {
    "duration": 2748,
    "start_time": "2025-06-30T23:41:43.845Z"
   },
   {
    "duration": 2660,
    "start_time": "2025-06-30T23:41:46.595Z"
   },
   {
    "duration": 2658,
    "start_time": "2025-06-30T23:41:49.258Z"
   },
   {
    "duration": 1786,
    "start_time": "2025-06-30T23:41:51.919Z"
   },
   {
    "duration": 84,
    "start_time": "2025-06-30T23:41:53.708Z"
   },
   {
    "duration": 31,
    "start_time": "2025-06-30T23:41:53.793Z"
   },
   {
    "duration": 18,
    "start_time": "2025-06-30T23:41:53.827Z"
   },
   {
    "duration": 12,
    "start_time": "2025-06-30T23:41:53.847Z"
   },
   {
    "duration": 19,
    "start_time": "2025-06-30T23:41:53.861Z"
   },
   {
    "duration": 15,
    "start_time": "2025-06-30T23:41:53.882Z"
   },
   {
    "duration": 22,
    "start_time": "2025-06-30T23:41:53.899Z"
   },
   {
    "duration": 72,
    "start_time": "2025-06-30T23:41:53.923Z"
   },
   {
    "duration": 61,
    "start_time": "2025-06-30T23:41:53.998Z"
   },
   {
    "duration": 16,
    "start_time": "2025-06-30T23:41:54.064Z"
   },
   {
    "duration": 6,
    "start_time": "2025-06-30T23:41:54.082Z"
   },
   {
    "duration": 8,
    "start_time": "2025-06-30T23:41:54.089Z"
   },
   {
    "duration": 25,
    "start_time": "2025-06-30T23:41:54.098Z"
   },
   {
    "duration": 792,
    "start_time": "2025-06-30T23:41:54.125Z"
   },
   {
    "duration": 11,
    "start_time": "2025-06-30T23:41:54.919Z"
   },
   {
    "duration": 7,
    "start_time": "2025-06-30T23:41:54.932Z"
   },
   {
    "duration": 938,
    "start_time": "2025-06-30T23:41:54.961Z"
   },
   {
    "duration": 1452,
    "start_time": "2025-06-30T23:41:55.901Z"
   },
   {
    "duration": 331,
    "start_time": "2025-06-30T23:41:57.354Z"
   },
   {
    "duration": 117,
    "start_time": "2025-06-30T23:41:57.687Z"
   },
   {
    "duration": 6,
    "start_time": "2025-06-30T23:41:57.806Z"
   },
   {
    "duration": 164,
    "start_time": "2025-06-30T23:41:57.814Z"
   },
   {
    "duration": 230,
    "start_time": "2025-06-30T23:41:57.980Z"
   },
   {
    "duration": 101,
    "start_time": "2025-06-30T23:41:58.212Z"
   },
   {
    "duration": 125,
    "start_time": "2025-06-30T23:41:58.315Z"
   },
   {
    "duration": 235,
    "start_time": "2025-06-30T23:41:58.442Z"
   },
   {
    "duration": 84,
    "start_time": "2025-06-30T23:41:58.679Z"
   },
   {
    "duration": 110,
    "start_time": "2025-06-30T23:41:58.765Z"
   },
   {
    "duration": 8,
    "start_time": "2025-06-30T23:41:58.877Z"
   },
   {
    "duration": 118,
    "start_time": "2025-06-30T23:41:58.886Z"
   },
   {
    "duration": 245,
    "start_time": "2025-06-30T23:41:59.005Z"
   },
   {
    "duration": 18,
    "start_time": "2025-06-30T23:41:59.252Z"
   },
   {
    "duration": 48,
    "start_time": "2025-06-30T23:41:59.272Z"
   },
   {
    "duration": 4,
    "start_time": "2025-06-30T23:41:59.322Z"
   },
   {
    "duration": 936,
    "start_time": "2025-06-30T23:41:59.328Z"
   },
   {
    "duration": 13,
    "start_time": "2025-06-30T23:42:00.266Z"
   },
   {
    "duration": 21,
    "start_time": "2025-06-30T23:42:00.284Z"
   },
   {
    "duration": 4,
    "start_time": "2025-06-30T23:42:00.308Z"
   },
   {
    "duration": 14,
    "start_time": "2025-06-30T23:42:00.314Z"
   },
   {
    "duration": 39,
    "start_time": "2025-06-30T23:42:00.331Z"
   },
   {
    "duration": 9,
    "start_time": "2025-06-30T23:42:00.372Z"
   },
   {
    "duration": 1941,
    "start_time": "2025-06-30T23:42:00.383Z"
   },
   {
    "duration": 39,
    "start_time": "2025-06-30T23:42:02.326Z"
   },
   {
    "duration": 161,
    "start_time": "2025-06-30T23:42:02.367Z"
   },
   {
    "duration": 0,
    "start_time": "2025-06-30T23:42:02.530Z"
   },
   {
    "duration": 2671,
    "start_time": "2025-06-30T23:42:48.509Z"
   },
   {
    "duration": 2660,
    "start_time": "2025-06-30T23:42:51.182Z"
   },
   {
    "duration": 2659,
    "start_time": "2025-06-30T23:42:53.844Z"
   },
   {
    "duration": 1853,
    "start_time": "2025-06-30T23:42:56.505Z"
   },
   {
    "duration": 78,
    "start_time": "2025-06-30T23:42:58.361Z"
   },
   {
    "duration": 34,
    "start_time": "2025-06-30T23:42:58.441Z"
   },
   {
    "duration": 21,
    "start_time": "2025-06-30T23:42:58.477Z"
   },
   {
    "duration": 79,
    "start_time": "2025-06-30T23:42:58.500Z"
   },
   {
    "duration": 18,
    "start_time": "2025-06-30T23:42:58.582Z"
   },
   {
    "duration": 11,
    "start_time": "2025-06-30T23:42:58.604Z"
   },
   {
    "duration": 14,
    "start_time": "2025-06-30T23:42:58.617Z"
   },
   {
    "duration": 19,
    "start_time": "2025-06-30T23:42:58.660Z"
   },
   {
    "duration": 19,
    "start_time": "2025-06-30T23:42:58.681Z"
   },
   {
    "duration": 15,
    "start_time": "2025-06-30T23:42:58.706Z"
   },
   {
    "duration": 37,
    "start_time": "2025-06-30T23:42:58.724Z"
   },
   {
    "duration": 7,
    "start_time": "2025-06-30T23:42:58.763Z"
   },
   {
    "duration": 5,
    "start_time": "2025-06-30T23:42:58.772Z"
   },
   {
    "duration": 905,
    "start_time": "2025-06-30T23:42:58.779Z"
   },
   {
    "duration": 15,
    "start_time": "2025-06-30T23:42:59.686Z"
   },
   {
    "duration": 54,
    "start_time": "2025-06-30T23:42:59.703Z"
   },
   {
    "duration": 1109,
    "start_time": "2025-06-30T23:42:59.759Z"
   },
   {
    "duration": 1617,
    "start_time": "2025-06-30T23:43:00.870Z"
   },
   {
    "duration": 313,
    "start_time": "2025-06-30T23:43:02.489Z"
   },
   {
    "duration": 105,
    "start_time": "2025-06-30T23:43:02.804Z"
   },
   {
    "duration": 5,
    "start_time": "2025-06-30T23:43:02.911Z"
   },
   {
    "duration": 121,
    "start_time": "2025-06-30T23:43:02.918Z"
   },
   {
    "duration": 232,
    "start_time": "2025-06-30T23:43:03.041Z"
   },
   {
    "duration": 92,
    "start_time": "2025-06-30T23:43:03.275Z"
   },
   {
    "duration": 117,
    "start_time": "2025-06-30T23:43:03.369Z"
   },
   {
    "duration": 227,
    "start_time": "2025-06-30T23:43:03.488Z"
   },
   {
    "duration": 102,
    "start_time": "2025-06-30T23:43:03.717Z"
   },
   {
    "duration": 106,
    "start_time": "2025-06-30T23:43:03.821Z"
   },
   {
    "duration": 6,
    "start_time": "2025-06-30T23:43:03.928Z"
   },
   {
    "duration": 101,
    "start_time": "2025-06-30T23:43:03.935Z"
   },
   {
    "duration": 228,
    "start_time": "2025-06-30T23:43:04.038Z"
   },
   {
    "duration": 13,
    "start_time": "2025-06-30T23:43:04.268Z"
   },
   {
    "duration": 67,
    "start_time": "2025-06-30T23:43:04.282Z"
   },
   {
    "duration": 3,
    "start_time": "2025-06-30T23:43:04.351Z"
   },
   {
    "duration": 911,
    "start_time": "2025-06-30T23:43:04.356Z"
   },
   {
    "duration": 12,
    "start_time": "2025-06-30T23:43:05.269Z"
   },
   {
    "duration": 19,
    "start_time": "2025-06-30T23:43:05.285Z"
   },
   {
    "duration": 4,
    "start_time": "2025-06-30T23:43:05.306Z"
   },
   {
    "duration": 15,
    "start_time": "2025-06-30T23:43:05.313Z"
   },
   {
    "duration": 5,
    "start_time": "2025-06-30T23:43:05.330Z"
   },
   {
    "duration": 10,
    "start_time": "2025-06-30T23:43:05.361Z"
   },
   {
    "duration": 187,
    "start_time": "2025-06-30T23:43:05.374Z"
   },
   {
    "duration": 0,
    "start_time": "2025-06-30T23:43:05.563Z"
   },
   {
    "duration": 0,
    "start_time": "2025-06-30T23:43:05.564Z"
   },
   {
    "duration": 0,
    "start_time": "2025-06-30T23:43:05.566Z"
   },
   {
    "duration": 2779,
    "start_time": "2025-06-30T23:43:29.744Z"
   },
   {
    "duration": 2608,
    "start_time": "2025-06-30T23:43:32.526Z"
   },
   {
    "duration": 2713,
    "start_time": "2025-06-30T23:43:35.137Z"
   },
   {
    "duration": 1877,
    "start_time": "2025-06-30T23:43:37.854Z"
   },
   {
    "duration": 90,
    "start_time": "2025-06-30T23:43:39.734Z"
   },
   {
    "duration": 48,
    "start_time": "2025-06-30T23:43:39.827Z"
   },
   {
    "duration": 17,
    "start_time": "2025-06-30T23:43:39.877Z"
   },
   {
    "duration": 17,
    "start_time": "2025-06-30T23:43:39.896Z"
   },
   {
    "duration": 16,
    "start_time": "2025-06-30T23:43:39.915Z"
   },
   {
    "duration": 17,
    "start_time": "2025-06-30T23:43:39.962Z"
   },
   {
    "duration": 85,
    "start_time": "2025-06-30T23:43:39.982Z"
   },
   {
    "duration": 20,
    "start_time": "2025-06-30T23:43:40.069Z"
   },
   {
    "duration": 15,
    "start_time": "2025-06-30T23:43:40.091Z"
   },
   {
    "duration": 11,
    "start_time": "2025-06-30T23:43:40.110Z"
   },
   {
    "duration": 40,
    "start_time": "2025-06-30T23:43:40.123Z"
   },
   {
    "duration": 11,
    "start_time": "2025-06-30T23:43:40.165Z"
   },
   {
    "duration": 5,
    "start_time": "2025-06-30T23:43:40.178Z"
   },
   {
    "duration": 835,
    "start_time": "2025-06-30T23:43:40.185Z"
   },
   {
    "duration": 13,
    "start_time": "2025-06-30T23:43:41.022Z"
   },
   {
    "duration": 7,
    "start_time": "2025-06-30T23:43:41.036Z"
   },
   {
    "duration": 897,
    "start_time": "2025-06-30T23:43:41.045Z"
   },
   {
    "duration": 1443,
    "start_time": "2025-06-30T23:43:41.943Z"
   },
   {
    "duration": 333,
    "start_time": "2025-06-30T23:43:43.388Z"
   },
   {
    "duration": 104,
    "start_time": "2025-06-30T23:43:43.723Z"
   },
   {
    "duration": 7,
    "start_time": "2025-06-30T23:43:43.828Z"
   },
   {
    "duration": 121,
    "start_time": "2025-06-30T23:43:43.837Z"
   },
   {
    "duration": 213,
    "start_time": "2025-06-30T23:43:43.960Z"
   },
   {
    "duration": 92,
    "start_time": "2025-06-30T23:43:44.175Z"
   },
   {
    "duration": 116,
    "start_time": "2025-06-30T23:43:44.269Z"
   },
   {
    "duration": 233,
    "start_time": "2025-06-30T23:43:44.387Z"
   },
   {
    "duration": 98,
    "start_time": "2025-06-30T23:43:44.622Z"
   },
   {
    "duration": 110,
    "start_time": "2025-06-30T23:43:44.722Z"
   },
   {
    "duration": 6,
    "start_time": "2025-06-30T23:43:44.834Z"
   },
   {
    "duration": 106,
    "start_time": "2025-06-30T23:43:44.841Z"
   },
   {
    "duration": 228,
    "start_time": "2025-06-30T23:43:44.949Z"
   },
   {
    "duration": 13,
    "start_time": "2025-06-30T23:43:45.179Z"
   },
   {
    "duration": 74,
    "start_time": "2025-06-30T23:43:45.193Z"
   },
   {
    "duration": 3,
    "start_time": "2025-06-30T23:43:45.269Z"
   },
   {
    "duration": 969,
    "start_time": "2025-06-30T23:43:45.274Z"
   },
   {
    "duration": 20,
    "start_time": "2025-06-30T23:43:46.245Z"
   },
   {
    "duration": 20,
    "start_time": "2025-06-30T23:43:46.269Z"
   },
   {
    "duration": 3,
    "start_time": "2025-06-30T23:43:46.291Z"
   },
   {
    "duration": 8,
    "start_time": "2025-06-30T23:43:46.296Z"
   },
   {
    "duration": 3,
    "start_time": "2025-06-30T23:43:46.306Z"
   },
   {
    "duration": 5,
    "start_time": "2025-06-30T23:43:46.311Z"
   },
   {
    "duration": 1910,
    "start_time": "2025-06-30T23:43:46.318Z"
   },
   {
    "duration": 51,
    "start_time": "2025-06-30T23:43:48.230Z"
   },
   {
    "duration": 213,
    "start_time": "2025-06-30T23:43:48.284Z"
   },
   {
    "duration": 0,
    "start_time": "2025-06-30T23:43:48.499Z"
   },
   {
    "duration": 2782,
    "start_time": "2025-06-30T23:48:34.849Z"
   },
   {
    "duration": 2628,
    "start_time": "2025-06-30T23:48:37.635Z"
   },
   {
    "duration": 2611,
    "start_time": "2025-06-30T23:48:40.266Z"
   },
   {
    "duration": 1782,
    "start_time": "2025-06-30T23:48:42.880Z"
   },
   {
    "duration": 80,
    "start_time": "2025-06-30T23:48:44.666Z"
   },
   {
    "duration": 43,
    "start_time": "2025-06-30T23:48:44.747Z"
   },
   {
    "duration": 13,
    "start_time": "2025-06-30T23:48:44.792Z"
   },
   {
    "duration": 13,
    "start_time": "2025-06-30T23:48:44.807Z"
   },
   {
    "duration": 12,
    "start_time": "2025-06-30T23:48:44.822Z"
   },
   {
    "duration": 10,
    "start_time": "2025-06-30T23:48:44.861Z"
   },
   {
    "duration": 13,
    "start_time": "2025-06-30T23:48:44.873Z"
   },
   {
    "duration": 14,
    "start_time": "2025-06-30T23:48:44.887Z"
   },
   {
    "duration": 14,
    "start_time": "2025-06-30T23:48:44.903Z"
   },
   {
    "duration": 47,
    "start_time": "2025-06-30T23:48:44.921Z"
   },
   {
    "duration": 7,
    "start_time": "2025-06-30T23:48:44.970Z"
   },
   {
    "duration": 7,
    "start_time": "2025-06-30T23:48:44.979Z"
   },
   {
    "duration": 3,
    "start_time": "2025-06-30T23:48:44.988Z"
   },
   {
    "duration": 850,
    "start_time": "2025-06-30T23:48:44.993Z"
   },
   {
    "duration": 22,
    "start_time": "2025-06-30T23:48:45.845Z"
   },
   {
    "duration": 8,
    "start_time": "2025-06-30T23:48:45.869Z"
   },
   {
    "duration": 884,
    "start_time": "2025-06-30T23:48:45.879Z"
   },
   {
    "duration": 1433,
    "start_time": "2025-06-30T23:48:46.765Z"
   },
   {
    "duration": 316,
    "start_time": "2025-06-30T23:48:48.200Z"
   },
   {
    "duration": 101,
    "start_time": "2025-06-30T23:48:48.518Z"
   },
   {
    "duration": 6,
    "start_time": "2025-06-30T23:48:48.621Z"
   },
   {
    "duration": 122,
    "start_time": "2025-06-30T23:48:48.629Z"
   },
   {
    "duration": 218,
    "start_time": "2025-06-30T23:48:48.760Z"
   },
   {
    "duration": 127,
    "start_time": "2025-06-30T23:48:48.981Z"
   },
   {
    "duration": 120,
    "start_time": "2025-06-30T23:48:49.110Z"
   },
   {
    "duration": 223,
    "start_time": "2025-06-30T23:48:49.232Z"
   },
   {
    "duration": 64,
    "start_time": "2025-06-30T23:48:49.456Z"
   },
   {
    "duration": 122,
    "start_time": "2025-06-30T23:48:49.522Z"
   },
   {
    "duration": 15,
    "start_time": "2025-06-30T23:48:49.645Z"
   },
   {
    "duration": 114,
    "start_time": "2025-06-30T23:48:49.662Z"
   },
   {
    "duration": 230,
    "start_time": "2025-06-30T23:48:49.778Z"
   },
   {
    "duration": 14,
    "start_time": "2025-06-30T23:48:50.010Z"
   },
   {
    "duration": 104,
    "start_time": "2025-06-30T23:48:50.025Z"
   },
   {
    "duration": 3,
    "start_time": "2025-06-30T23:48:50.131Z"
   },
   {
    "duration": 897,
    "start_time": "2025-06-30T23:48:50.135Z"
   },
   {
    "duration": 11,
    "start_time": "2025-06-30T23:48:51.034Z"
   },
   {
    "duration": 30,
    "start_time": "2025-06-30T23:48:51.060Z"
   },
   {
    "duration": 83,
    "start_time": "2025-06-30T23:48:51.092Z"
   },
   {
    "duration": 4,
    "start_time": "2025-06-30T23:48:51.177Z"
   },
   {
    "duration": 5,
    "start_time": "2025-06-30T23:48:51.183Z"
   },
   {
    "duration": 6,
    "start_time": "2025-06-30T23:48:51.190Z"
   },
   {
    "duration": 1810,
    "start_time": "2025-06-30T23:48:51.197Z"
   },
   {
    "duration": 22,
    "start_time": "2025-06-30T23:48:53.009Z"
   },
   {
    "duration": 163,
    "start_time": "2025-06-30T23:48:53.033Z"
   },
   {
    "duration": 0,
    "start_time": "2025-06-30T23:48:53.198Z"
   },
   {
    "duration": 18,
    "start_time": "2025-06-30T23:49:03.865Z"
   },
   {
    "duration": 134,
    "start_time": "2025-06-30T23:50:44.614Z"
   },
   {
    "duration": 20,
    "start_time": "2025-06-30T23:50:58.856Z"
   },
   {
    "duration": 2875,
    "start_time": "2025-06-30T23:51:15.740Z"
   },
   {
    "duration": 2807,
    "start_time": "2025-06-30T23:51:18.617Z"
   },
   {
    "duration": 2821,
    "start_time": "2025-06-30T23:51:21.427Z"
   },
   {
    "duration": 1868,
    "start_time": "2025-06-30T23:51:24.252Z"
   },
   {
    "duration": 81,
    "start_time": "2025-06-30T23:51:26.122Z"
   },
   {
    "duration": 32,
    "start_time": "2025-06-30T23:51:26.204Z"
   },
   {
    "duration": 13,
    "start_time": "2025-06-30T23:51:26.238Z"
   },
   {
    "duration": 14,
    "start_time": "2025-06-30T23:51:26.253Z"
   },
   {
    "duration": 12,
    "start_time": "2025-06-30T23:51:26.269Z"
   },
   {
    "duration": 10,
    "start_time": "2025-06-30T23:51:26.284Z"
   },
   {
    "duration": 12,
    "start_time": "2025-06-30T23:51:26.297Z"
   },
   {
    "duration": 11,
    "start_time": "2025-06-30T23:51:26.311Z"
   },
   {
    "duration": 14,
    "start_time": "2025-06-30T23:51:26.360Z"
   },
   {
    "duration": 13,
    "start_time": "2025-06-30T23:51:26.377Z"
   },
   {
    "duration": 7,
    "start_time": "2025-06-30T23:51:26.392Z"
   },
   {
    "duration": 7,
    "start_time": "2025-06-30T23:51:26.401Z"
   },
   {
    "duration": 5,
    "start_time": "2025-06-30T23:51:26.410Z"
   },
   {
    "duration": 906,
    "start_time": "2025-06-30T23:51:26.417Z"
   },
   {
    "duration": 11,
    "start_time": "2025-06-30T23:51:27.325Z"
   },
   {
    "duration": 24,
    "start_time": "2025-06-30T23:51:27.338Z"
   },
   {
    "duration": 943,
    "start_time": "2025-06-30T23:51:27.364Z"
   },
   {
    "duration": 1580,
    "start_time": "2025-06-30T23:51:28.311Z"
   },
   {
    "duration": 338,
    "start_time": "2025-06-30T23:51:29.893Z"
   },
   {
    "duration": 116,
    "start_time": "2025-06-30T23:51:30.233Z"
   },
   {
    "duration": 13,
    "start_time": "2025-06-30T23:51:30.351Z"
   },
   {
    "duration": 136,
    "start_time": "2025-06-30T23:51:30.366Z"
   },
   {
    "duration": 239,
    "start_time": "2025-06-30T23:51:30.504Z"
   },
   {
    "duration": 89,
    "start_time": "2025-06-30T23:51:30.745Z"
   },
   {
    "duration": 130,
    "start_time": "2025-06-30T23:51:30.836Z"
   },
   {
    "duration": 244,
    "start_time": "2025-06-30T23:51:30.968Z"
   },
   {
    "duration": 84,
    "start_time": "2025-06-30T23:51:31.214Z"
   },
   {
    "duration": 123,
    "start_time": "2025-06-30T23:51:31.300Z"
   },
   {
    "duration": 6,
    "start_time": "2025-06-30T23:51:31.425Z"
   },
   {
    "duration": 108,
    "start_time": "2025-06-30T23:51:31.433Z"
   },
   {
    "duration": 253,
    "start_time": "2025-06-30T23:51:31.543Z"
   },
   {
    "duration": 12,
    "start_time": "2025-06-30T23:51:31.798Z"
   },
   {
    "duration": 64,
    "start_time": "2025-06-30T23:51:31.812Z"
   },
   {
    "duration": 4,
    "start_time": "2025-06-30T23:51:31.878Z"
   },
   {
    "duration": 992,
    "start_time": "2025-06-30T23:51:31.884Z"
   },
   {
    "duration": 14,
    "start_time": "2025-06-30T23:51:32.878Z"
   },
   {
    "duration": 28,
    "start_time": "2025-06-30T23:51:32.897Z"
   },
   {
    "duration": 4,
    "start_time": "2025-06-30T23:51:32.927Z"
   },
   {
    "duration": 7,
    "start_time": "2025-06-30T23:51:32.932Z"
   },
   {
    "duration": 19,
    "start_time": "2025-06-30T23:51:32.941Z"
   },
   {
    "duration": 9,
    "start_time": "2025-06-30T23:51:32.962Z"
   },
   {
    "duration": 2043,
    "start_time": "2025-06-30T23:51:32.972Z"
   },
   {
    "duration": 23,
    "start_time": "2025-06-30T23:51:35.017Z"
   },
   {
    "duration": 113,
    "start_time": "2025-06-30T23:51:35.042Z"
   },
   {
    "duration": 0,
    "start_time": "2025-06-30T23:51:35.157Z"
   },
   {
    "duration": 12,
    "start_time": "2025-06-30T23:51:47.773Z"
   },
   {
    "duration": 160,
    "start_time": "2025-06-30T23:51:50.355Z"
   },
   {
    "duration": 2606,
    "start_time": "2025-06-30T23:54:15.338Z"
   },
   {
    "duration": 2692,
    "start_time": "2025-06-30T23:54:17.946Z"
   },
   {
    "duration": 2571,
    "start_time": "2025-06-30T23:54:20.641Z"
   },
   {
    "duration": 1825,
    "start_time": "2025-06-30T23:54:23.214Z"
   },
   {
    "duration": 78,
    "start_time": "2025-06-30T23:54:25.042Z"
   },
   {
    "duration": 29,
    "start_time": "2025-06-30T23:54:25.122Z"
   },
   {
    "duration": 12,
    "start_time": "2025-06-30T23:54:25.153Z"
   },
   {
    "duration": 19,
    "start_time": "2025-06-30T23:54:25.167Z"
   },
   {
    "duration": 13,
    "start_time": "2025-06-30T23:54:25.188Z"
   },
   {
    "duration": 10,
    "start_time": "2025-06-30T23:54:25.202Z"
   },
   {
    "duration": 12,
    "start_time": "2025-06-30T23:54:25.213Z"
   },
   {
    "duration": 49,
    "start_time": "2025-06-30T23:54:25.227Z"
   },
   {
    "duration": 15,
    "start_time": "2025-06-30T23:54:25.278Z"
   },
   {
    "duration": 8,
    "start_time": "2025-06-30T23:54:25.296Z"
   },
   {
    "duration": 5,
    "start_time": "2025-06-30T23:54:25.306Z"
   },
   {
    "duration": 8,
    "start_time": "2025-06-30T23:54:25.313Z"
   },
   {
    "duration": 39,
    "start_time": "2025-06-30T23:54:25.322Z"
   },
   {
    "duration": 824,
    "start_time": "2025-06-30T23:54:25.363Z"
   },
   {
    "duration": 12,
    "start_time": "2025-06-30T23:54:26.189Z"
   },
   {
    "duration": 7,
    "start_time": "2025-06-30T23:54:26.204Z"
   },
   {
    "duration": 959,
    "start_time": "2025-06-30T23:54:26.213Z"
   },
   {
    "duration": 1463,
    "start_time": "2025-06-30T23:54:27.174Z"
   },
   {
    "duration": 307,
    "start_time": "2025-06-30T23:54:28.638Z"
   },
   {
    "duration": 134,
    "start_time": "2025-06-30T23:54:28.947Z"
   },
   {
    "duration": 6,
    "start_time": "2025-06-30T23:54:29.083Z"
   },
   {
    "duration": 167,
    "start_time": "2025-06-30T23:54:29.091Z"
   },
   {
    "duration": 213,
    "start_time": "2025-06-30T23:54:29.260Z"
   },
   {
    "duration": 90,
    "start_time": "2025-06-30T23:54:29.476Z"
   },
   {
    "duration": 127,
    "start_time": "2025-06-30T23:54:29.568Z"
   },
   {
    "duration": 214,
    "start_time": "2025-06-30T23:54:29.697Z"
   },
   {
    "duration": 82,
    "start_time": "2025-06-30T23:54:29.913Z"
   },
   {
    "duration": 108,
    "start_time": "2025-06-30T23:54:29.997Z"
   },
   {
    "duration": 5,
    "start_time": "2025-06-30T23:54:30.107Z"
   },
   {
    "duration": 106,
    "start_time": "2025-06-30T23:54:30.114Z"
   },
   {
    "duration": 222,
    "start_time": "2025-06-30T23:54:30.222Z"
   },
   {
    "duration": 24,
    "start_time": "2025-06-30T23:54:30.446Z"
   },
   {
    "duration": 50,
    "start_time": "2025-06-30T23:54:30.472Z"
   },
   {
    "duration": 3,
    "start_time": "2025-06-30T23:54:30.525Z"
   },
   {
    "duration": 944,
    "start_time": "2025-06-30T23:54:30.529Z"
   },
   {
    "duration": 12,
    "start_time": "2025-06-30T23:54:31.474Z"
   },
   {
    "duration": 20,
    "start_time": "2025-06-30T23:54:31.491Z"
   },
   {
    "duration": 4,
    "start_time": "2025-06-30T23:54:31.513Z"
   },
   {
    "duration": 27,
    "start_time": "2025-06-30T23:54:31.519Z"
   },
   {
    "duration": 14,
    "start_time": "2025-06-30T23:54:31.548Z"
   },
   {
    "duration": 8,
    "start_time": "2025-06-30T23:54:31.568Z"
   },
   {
    "duration": 2038,
    "start_time": "2025-06-30T23:54:31.578Z"
   },
   {
    "duration": 0,
    "start_time": "2025-06-30T23:54:33.617Z"
   },
   {
    "duration": 2720,
    "start_time": "2025-06-30T23:54:44.576Z"
   },
   {
    "duration": 2610,
    "start_time": "2025-06-30T23:54:47.298Z"
   },
   {
    "duration": 2613,
    "start_time": "2025-06-30T23:54:49.910Z"
   },
   {
    "duration": 1798,
    "start_time": "2025-06-30T23:54:52.525Z"
   },
   {
    "duration": 83,
    "start_time": "2025-06-30T23:54:54.325Z"
   },
   {
    "duration": 30,
    "start_time": "2025-06-30T23:54:54.410Z"
   },
   {
    "duration": 13,
    "start_time": "2025-06-30T23:54:54.441Z"
   },
   {
    "duration": 12,
    "start_time": "2025-06-30T23:54:54.456Z"
   },
   {
    "duration": 13,
    "start_time": "2025-06-30T23:54:54.470Z"
   },
   {
    "duration": 11,
    "start_time": "2025-06-30T23:54:54.485Z"
   },
   {
    "duration": 13,
    "start_time": "2025-06-30T23:54:54.498Z"
   },
   {
    "duration": 12,
    "start_time": "2025-06-30T23:54:54.513Z"
   },
   {
    "duration": 12,
    "start_time": "2025-06-30T23:54:54.561Z"
   },
   {
    "duration": 9,
    "start_time": "2025-06-30T23:54:54.578Z"
   },
   {
    "duration": 5,
    "start_time": "2025-06-30T23:54:54.589Z"
   },
   {
    "duration": 7,
    "start_time": "2025-06-30T23:54:54.595Z"
   },
   {
    "duration": 3,
    "start_time": "2025-06-30T23:54:54.603Z"
   },
   {
    "duration": 843,
    "start_time": "2025-06-30T23:54:54.608Z"
   },
   {
    "duration": 19,
    "start_time": "2025-06-30T23:54:55.453Z"
   },
   {
    "duration": 8,
    "start_time": "2025-06-30T23:54:55.474Z"
   },
   {
    "duration": 901,
    "start_time": "2025-06-30T23:54:55.484Z"
   },
   {
    "duration": 1474,
    "start_time": "2025-06-30T23:54:56.386Z"
   },
   {
    "duration": 363,
    "start_time": "2025-06-30T23:54:57.862Z"
   },
   {
    "duration": 99,
    "start_time": "2025-06-30T23:54:58.227Z"
   },
   {
    "duration": 5,
    "start_time": "2025-06-30T23:54:58.328Z"
   },
   {
    "duration": 104,
    "start_time": "2025-06-30T23:54:58.334Z"
   },
   {
    "duration": 221,
    "start_time": "2025-06-30T23:54:58.439Z"
   },
   {
    "duration": 81,
    "start_time": "2025-06-30T23:54:58.662Z"
   },
   {
    "duration": 111,
    "start_time": "2025-06-30T23:54:58.759Z"
   },
   {
    "duration": 256,
    "start_time": "2025-06-30T23:54:58.872Z"
   },
   {
    "duration": 74,
    "start_time": "2025-06-30T23:54:59.130Z"
   },
   {
    "duration": 104,
    "start_time": "2025-06-30T23:54:59.206Z"
   },
   {
    "duration": 6,
    "start_time": "2025-06-30T23:54:59.311Z"
   },
   {
    "duration": 94,
    "start_time": "2025-06-30T23:54:59.319Z"
   },
   {
    "duration": 208,
    "start_time": "2025-06-30T23:54:59.414Z"
   },
   {
    "duration": 13,
    "start_time": "2025-06-30T23:54:59.624Z"
   },
   {
    "duration": 60,
    "start_time": "2025-06-30T23:54:59.639Z"
   },
   {
    "duration": 4,
    "start_time": "2025-06-30T23:54:59.701Z"
   },
   {
    "duration": 1030,
    "start_time": "2025-06-30T23:54:59.707Z"
   },
   {
    "duration": 11,
    "start_time": "2025-06-30T23:55:00.739Z"
   },
   {
    "duration": 23,
    "start_time": "2025-06-30T23:55:00.753Z"
   },
   {
    "duration": 6,
    "start_time": "2025-06-30T23:55:00.778Z"
   },
   {
    "duration": 4,
    "start_time": "2025-06-30T23:55:00.786Z"
   },
   {
    "duration": 4,
    "start_time": "2025-06-30T23:55:00.791Z"
   },
   {
    "duration": 7,
    "start_time": "2025-06-30T23:55:00.796Z"
   },
   {
    "duration": 2277,
    "start_time": "2025-06-30T23:55:00.805Z"
   },
   {
    "duration": 153,
    "start_time": "2025-06-30T23:55:03.083Z"
   },
   {
    "duration": 7075,
    "start_time": "2025-07-01T00:00:04.471Z"
   },
   {
    "duration": 2699,
    "start_time": "2025-07-01T00:00:11.548Z"
   },
   {
    "duration": 2642,
    "start_time": "2025-07-01T00:00:14.249Z"
   },
   {
    "duration": 1767,
    "start_time": "2025-07-01T00:00:16.893Z"
   },
   {
    "duration": 81,
    "start_time": "2025-07-01T00:00:18.663Z"
   },
   {
    "duration": 40,
    "start_time": "2025-07-01T00:00:18.746Z"
   },
   {
    "duration": 14,
    "start_time": "2025-07-01T00:00:18.789Z"
   },
   {
    "duration": 20,
    "start_time": "2025-07-01T00:00:18.805Z"
   },
   {
    "duration": 16,
    "start_time": "2025-07-01T00:00:18.828Z"
   },
   {
    "duration": 12,
    "start_time": "2025-07-01T00:00:18.860Z"
   },
   {
    "duration": 17,
    "start_time": "2025-07-01T00:00:18.874Z"
   },
   {
    "duration": 21,
    "start_time": "2025-07-01T00:00:18.893Z"
   },
   {
    "duration": 10,
    "start_time": "2025-07-01T00:00:18.916Z"
   },
   {
    "duration": 45,
    "start_time": "2025-07-01T00:00:18.929Z"
   },
   {
    "duration": 7,
    "start_time": "2025-07-01T00:00:18.982Z"
   },
   {
    "duration": 9,
    "start_time": "2025-07-01T00:00:18.991Z"
   },
   {
    "duration": 5,
    "start_time": "2025-07-01T00:00:19.003Z"
   },
   {
    "duration": 829,
    "start_time": "2025-07-01T00:00:19.011Z"
   },
   {
    "duration": 19,
    "start_time": "2025-07-01T00:00:19.842Z"
   },
   {
    "duration": 76,
    "start_time": "2025-07-01T00:00:19.863Z"
   },
   {
    "duration": 877,
    "start_time": "2025-07-01T00:00:19.940Z"
   },
   {
    "duration": 1431,
    "start_time": "2025-07-01T00:00:20.819Z"
   },
   {
    "duration": 337,
    "start_time": "2025-07-01T00:00:22.252Z"
   },
   {
    "duration": 113,
    "start_time": "2025-07-01T00:00:22.590Z"
   },
   {
    "duration": 6,
    "start_time": "2025-07-01T00:00:22.706Z"
   },
   {
    "duration": 177,
    "start_time": "2025-07-01T00:00:22.713Z"
   },
   {
    "duration": 231,
    "start_time": "2025-07-01T00:00:22.892Z"
   },
   {
    "duration": 101,
    "start_time": "2025-07-01T00:00:23.126Z"
   },
   {
    "duration": 112,
    "start_time": "2025-07-01T00:00:23.229Z"
   },
   {
    "duration": 224,
    "start_time": "2025-07-01T00:00:23.342Z"
   },
   {
    "duration": 68,
    "start_time": "2025-07-01T00:00:23.568Z"
   },
   {
    "duration": 144,
    "start_time": "2025-07-01T00:00:23.637Z"
   },
   {
    "duration": 8,
    "start_time": "2025-07-01T00:00:23.784Z"
   },
   {
    "duration": 114,
    "start_time": "2025-07-01T00:00:23.794Z"
   },
   {
    "duration": 238,
    "start_time": "2025-07-01T00:00:23.910Z"
   },
   {
    "duration": 21,
    "start_time": "2025-07-01T00:00:24.150Z"
   },
   {
    "duration": 48,
    "start_time": "2025-07-01T00:00:24.174Z"
   },
   {
    "duration": 3,
    "start_time": "2025-07-01T00:00:24.224Z"
   },
   {
    "duration": 905,
    "start_time": "2025-07-01T00:00:24.229Z"
   },
   {
    "duration": 11,
    "start_time": "2025-07-01T00:00:25.136Z"
   },
   {
    "duration": 67,
    "start_time": "2025-07-01T00:00:25.166Z"
   },
   {
    "duration": 3,
    "start_time": "2025-07-01T00:00:25.235Z"
   },
   {
    "duration": 5,
    "start_time": "2025-07-01T00:00:25.240Z"
   },
   {
    "duration": 6,
    "start_time": "2025-07-01T00:00:25.247Z"
   },
   {
    "duration": 9,
    "start_time": "2025-07-01T00:00:25.255Z"
   },
   {
    "duration": 1982,
    "start_time": "2025-07-01T00:00:25.266Z"
   },
   {
    "duration": 0,
    "start_time": "2025-07-01T00:00:27.250Z"
   },
   {
    "duration": 0,
    "start_time": "2025-07-01T00:00:27.251Z"
   },
   {
    "duration": 1822,
    "start_time": "2025-07-01T00:02:18.897Z"
   },
   {
    "duration": 23,
    "start_time": "2025-07-01T00:02:25.376Z"
   },
   {
    "duration": 1840,
    "start_time": "2025-07-01T00:03:48.306Z"
   },
   {
    "duration": 20,
    "start_time": "2025-07-01T00:06:15.458Z"
   },
   {
    "duration": 31,
    "start_time": "2025-07-01T00:09:10.058Z"
   },
   {
    "duration": 15,
    "start_time": "2025-07-01T00:10:29.101Z"
   },
   {
    "duration": 2676,
    "start_time": "2025-07-01T00:11:22.980Z"
   },
   {
    "duration": 2769,
    "start_time": "2025-07-01T00:11:25.659Z"
   },
   {
    "duration": 2689,
    "start_time": "2025-07-01T00:11:28.431Z"
   },
   {
    "duration": 1893,
    "start_time": "2025-07-01T00:11:31.123Z"
   },
   {
    "duration": 80,
    "start_time": "2025-07-01T00:11:33.018Z"
   },
   {
    "duration": 32,
    "start_time": "2025-07-01T00:11:33.099Z"
   },
   {
    "duration": 14,
    "start_time": "2025-07-01T00:11:33.132Z"
   },
   {
    "duration": 106,
    "start_time": "2025-07-01T00:11:33.148Z"
   },
   {
    "duration": 25,
    "start_time": "2025-07-01T00:11:33.255Z"
   },
   {
    "duration": 12,
    "start_time": "2025-07-01T00:11:33.282Z"
   },
   {
    "duration": 27,
    "start_time": "2025-07-01T00:11:33.296Z"
   },
   {
    "duration": 12,
    "start_time": "2025-07-01T00:11:33.325Z"
   },
   {
    "duration": 24,
    "start_time": "2025-07-01T00:11:33.339Z"
   },
   {
    "duration": 13,
    "start_time": "2025-07-01T00:11:33.368Z"
   },
   {
    "duration": 6,
    "start_time": "2025-07-01T00:11:33.383Z"
   },
   {
    "duration": 7,
    "start_time": "2025-07-01T00:11:33.391Z"
   },
   {
    "duration": 11,
    "start_time": "2025-07-01T00:11:33.400Z"
   },
   {
    "duration": 833,
    "start_time": "2025-07-01T00:11:33.412Z"
   },
   {
    "duration": 20,
    "start_time": "2025-07-01T00:11:34.247Z"
   },
   {
    "duration": 18,
    "start_time": "2025-07-01T00:11:34.269Z"
   },
   {
    "duration": 917,
    "start_time": "2025-07-01T00:11:34.289Z"
   },
   {
    "duration": 1514,
    "start_time": "2025-07-01T00:11:35.208Z"
   },
   {
    "duration": 359,
    "start_time": "2025-07-01T00:11:36.724Z"
   },
   {
    "duration": 125,
    "start_time": "2025-07-01T00:11:37.085Z"
   },
   {
    "duration": 5,
    "start_time": "2025-07-01T00:11:37.212Z"
   },
   {
    "duration": 113,
    "start_time": "2025-07-01T00:11:37.218Z"
   },
   {
    "duration": 241,
    "start_time": "2025-07-01T00:11:37.333Z"
   },
   {
    "duration": 103,
    "start_time": "2025-07-01T00:11:37.577Z"
   },
   {
    "duration": 136,
    "start_time": "2025-07-01T00:11:37.683Z"
   },
   {
    "duration": 243,
    "start_time": "2025-07-01T00:11:37.821Z"
   },
   {
    "duration": 65,
    "start_time": "2025-07-01T00:11:38.065Z"
   },
   {
    "duration": 2800,
    "start_time": "2025-07-01T00:11:40.415Z"
   },
   {
    "duration": 2792,
    "start_time": "2025-07-01T00:11:43.218Z"
   },
   {
    "duration": 2712,
    "start_time": "2025-07-01T00:11:46.012Z"
   },
   {
    "duration": 1811,
    "start_time": "2025-07-01T00:11:48.726Z"
   },
   {
    "duration": 78,
    "start_time": "2025-07-01T00:11:50.540Z"
   },
   {
    "duration": 30,
    "start_time": "2025-07-01T00:11:50.620Z"
   },
   {
    "duration": 12,
    "start_time": "2025-07-01T00:11:50.652Z"
   },
   {
    "duration": 24,
    "start_time": "2025-07-01T00:11:50.666Z"
   },
   {
    "duration": 12,
    "start_time": "2025-07-01T00:11:50.691Z"
   },
   {
    "duration": 12,
    "start_time": "2025-07-01T00:11:50.704Z"
   },
   {
    "duration": 25,
    "start_time": "2025-07-01T00:11:50.718Z"
   },
   {
    "duration": 26,
    "start_time": "2025-07-01T00:11:50.744Z"
   },
   {
    "duration": 15,
    "start_time": "2025-07-01T00:11:50.772Z"
   },
   {
    "duration": 9,
    "start_time": "2025-07-01T00:11:50.790Z"
   },
   {
    "duration": 5,
    "start_time": "2025-07-01T00:11:50.801Z"
   },
   {
    "duration": 14,
    "start_time": "2025-07-01T00:11:50.807Z"
   },
   {
    "duration": 13,
    "start_time": "2025-07-01T00:11:50.822Z"
   },
   {
    "duration": 885,
    "start_time": "2025-07-01T00:11:50.837Z"
   },
   {
    "duration": 11,
    "start_time": "2025-07-01T00:11:51.723Z"
   },
   {
    "duration": 7,
    "start_time": "2025-07-01T00:11:51.735Z"
   },
   {
    "duration": 1007,
    "start_time": "2025-07-01T00:11:51.743Z"
   },
   {
    "duration": 1482,
    "start_time": "2025-07-01T00:11:52.752Z"
   },
   {
    "duration": 340,
    "start_time": "2025-07-01T00:11:54.236Z"
   },
   {
    "duration": 100,
    "start_time": "2025-07-01T00:11:54.579Z"
   },
   {
    "duration": 7,
    "start_time": "2025-07-01T00:11:54.681Z"
   },
   {
    "duration": 110,
    "start_time": "2025-07-01T00:11:54.689Z"
   },
   {
    "duration": 225,
    "start_time": "2025-07-01T00:11:54.800Z"
   },
   {
    "duration": 88,
    "start_time": "2025-07-01T00:11:55.027Z"
   },
   {
    "duration": 115,
    "start_time": "2025-07-01T00:11:55.116Z"
   },
   {
    "duration": 213,
    "start_time": "2025-07-01T00:11:55.233Z"
   },
   {
    "duration": 75,
    "start_time": "2025-07-01T00:11:55.448Z"
   },
   {
    "duration": 113,
    "start_time": "2025-07-01T00:11:55.525Z"
   },
   {
    "duration": 5,
    "start_time": "2025-07-01T00:11:55.640Z"
   },
   {
    "duration": 118,
    "start_time": "2025-07-01T00:11:55.646Z"
   },
   {
    "duration": 258,
    "start_time": "2025-07-01T00:11:55.766Z"
   },
   {
    "duration": 12,
    "start_time": "2025-07-01T00:11:56.026Z"
   },
   {
    "duration": 71,
    "start_time": "2025-07-01T00:11:56.039Z"
   },
   {
    "duration": 74,
    "start_time": "2025-07-01T00:11:56.112Z"
   },
   {
    "duration": 1049,
    "start_time": "2025-07-01T00:11:56.187Z"
   },
   {
    "duration": 23,
    "start_time": "2025-07-01T00:11:57.238Z"
   },
   {
    "duration": 30,
    "start_time": "2025-07-01T00:11:57.268Z"
   },
   {
    "duration": 3,
    "start_time": "2025-07-01T00:11:57.300Z"
   },
   {
    "duration": 8,
    "start_time": "2025-07-01T00:11:57.305Z"
   },
   {
    "duration": 9,
    "start_time": "2025-07-01T00:11:57.315Z"
   },
   {
    "duration": 6,
    "start_time": "2025-07-01T00:11:57.325Z"
   },
   {
    "duration": 1914,
    "start_time": "2025-07-01T00:11:57.333Z"
   },
   {
    "duration": 50,
    "start_time": "2025-07-01T00:11:59.249Z"
   },
   {
    "duration": 165,
    "start_time": "2025-07-01T00:11:59.300Z"
   },
   {
    "duration": 0,
    "start_time": "2025-07-01T00:11:59.467Z"
   },
   {
    "duration": 11,
    "start_time": "2025-07-01T00:12:22.665Z"
   },
   {
    "duration": 15,
    "start_time": "2025-07-01T00:12:49.573Z"
   },
   {
    "duration": 23,
    "start_time": "2025-07-01T00:12:58.366Z"
   },
   {
    "duration": 2874,
    "start_time": "2025-07-01T00:13:13.738Z"
   },
   {
    "duration": 2770,
    "start_time": "2025-07-01T00:13:16.615Z"
   },
   {
    "duration": 2715,
    "start_time": "2025-07-01T00:13:19.388Z"
   },
   {
    "duration": 1967,
    "start_time": "2025-07-01T00:13:22.105Z"
   },
   {
    "duration": 81,
    "start_time": "2025-07-01T00:13:24.076Z"
   },
   {
    "duration": 62,
    "start_time": "2025-07-01T00:13:24.158Z"
   },
   {
    "duration": 14,
    "start_time": "2025-07-01T00:13:24.222Z"
   },
   {
    "duration": 11,
    "start_time": "2025-07-01T00:13:24.238Z"
   },
   {
    "duration": 13,
    "start_time": "2025-07-01T00:13:24.252Z"
   },
   {
    "duration": 18,
    "start_time": "2025-07-01T00:13:24.267Z"
   },
   {
    "duration": 15,
    "start_time": "2025-07-01T00:13:24.288Z"
   },
   {
    "duration": 12,
    "start_time": "2025-07-01T00:13:24.305Z"
   },
   {
    "duration": 45,
    "start_time": "2025-07-01T00:13:24.319Z"
   },
   {
    "duration": 15,
    "start_time": "2025-07-01T00:13:24.368Z"
   },
   {
    "duration": 5,
    "start_time": "2025-07-01T00:13:24.385Z"
   },
   {
    "duration": 9,
    "start_time": "2025-07-01T00:13:24.391Z"
   },
   {
    "duration": 5,
    "start_time": "2025-07-01T00:13:24.401Z"
   },
   {
    "duration": 841,
    "start_time": "2025-07-01T00:13:24.408Z"
   },
   {
    "duration": 22,
    "start_time": "2025-07-01T00:13:25.250Z"
   },
   {
    "duration": 10,
    "start_time": "2025-07-01T00:13:25.274Z"
   },
   {
    "duration": 915,
    "start_time": "2025-07-01T00:13:25.287Z"
   },
   {
    "duration": 1491,
    "start_time": "2025-07-01T00:13:26.204Z"
   },
   {
    "duration": 325,
    "start_time": "2025-07-01T00:13:27.697Z"
   },
   {
    "duration": 115,
    "start_time": "2025-07-01T00:13:28.024Z"
   },
   {
    "duration": 6,
    "start_time": "2025-07-01T00:13:28.140Z"
   },
   {
    "duration": 115,
    "start_time": "2025-07-01T00:13:28.148Z"
   },
   {
    "duration": 224,
    "start_time": "2025-07-01T00:13:28.266Z"
   },
   {
    "duration": 90,
    "start_time": "2025-07-01T00:13:28.493Z"
   },
   {
    "duration": 116,
    "start_time": "2025-07-01T00:13:28.586Z"
   },
   {
    "duration": 215,
    "start_time": "2025-07-01T00:13:28.705Z"
   },
   {
    "duration": 81,
    "start_time": "2025-07-01T00:13:28.922Z"
   },
   {
    "duration": 127,
    "start_time": "2025-07-01T00:13:29.005Z"
   },
   {
    "duration": 7,
    "start_time": "2025-07-01T00:13:29.134Z"
   },
   {
    "duration": 185,
    "start_time": "2025-07-01T00:13:29.143Z"
   },
   {
    "duration": 215,
    "start_time": "2025-07-01T00:13:29.329Z"
   },
   {
    "duration": 23,
    "start_time": "2025-07-01T00:13:29.546Z"
   },
   {
    "duration": 48,
    "start_time": "2025-07-01T00:13:29.571Z"
   },
   {
    "duration": 3,
    "start_time": "2025-07-01T00:13:29.621Z"
   },
   {
    "duration": 923,
    "start_time": "2025-07-01T00:13:29.626Z"
   },
   {
    "duration": 19,
    "start_time": "2025-07-01T00:13:30.551Z"
   },
   {
    "duration": 78,
    "start_time": "2025-07-01T00:13:30.574Z"
   },
   {
    "duration": 4,
    "start_time": "2025-07-01T00:13:30.654Z"
   },
   {
    "duration": 10,
    "start_time": "2025-07-01T00:13:30.660Z"
   },
   {
    "duration": 11,
    "start_time": "2025-07-01T00:13:30.672Z"
   },
   {
    "duration": 11,
    "start_time": "2025-07-01T00:13:30.685Z"
   },
   {
    "duration": 1921,
    "start_time": "2025-07-01T00:13:30.698Z"
   },
   {
    "duration": 40,
    "start_time": "2025-07-01T00:13:32.621Z"
   },
   {
    "duration": 168,
    "start_time": "2025-07-01T00:13:32.663Z"
   },
   {
    "duration": 17,
    "start_time": "2025-07-01T00:15:41.006Z"
   },
   {
    "duration": 2861,
    "start_time": "2025-07-01T00:16:12.991Z"
   },
   {
    "duration": 2870,
    "start_time": "2025-07-01T00:16:15.856Z"
   },
   {
    "duration": 2800,
    "start_time": "2025-07-01T00:16:18.728Z"
   },
   {
    "duration": 1888,
    "start_time": "2025-07-01T00:16:21.530Z"
   },
   {
    "duration": 78,
    "start_time": "2025-07-01T00:16:23.422Z"
   },
   {
    "duration": 43,
    "start_time": "2025-07-01T00:16:23.502Z"
   },
   {
    "duration": 23,
    "start_time": "2025-07-01T00:16:23.547Z"
   },
   {
    "duration": 24,
    "start_time": "2025-07-01T00:16:23.572Z"
   },
   {
    "duration": 12,
    "start_time": "2025-07-01T00:16:23.598Z"
   },
   {
    "duration": 11,
    "start_time": "2025-07-01T00:16:23.612Z"
   },
   {
    "duration": 14,
    "start_time": "2025-07-01T00:16:23.626Z"
   },
   {
    "duration": 14,
    "start_time": "2025-07-01T00:16:23.662Z"
   },
   {
    "duration": 13,
    "start_time": "2025-07-01T00:16:23.678Z"
   },
   {
    "duration": 10,
    "start_time": "2025-07-01T00:16:23.695Z"
   },
   {
    "duration": 6,
    "start_time": "2025-07-01T00:16:23.707Z"
   },
   {
    "duration": 49,
    "start_time": "2025-07-01T00:16:23.714Z"
   },
   {
    "duration": 57,
    "start_time": "2025-07-01T00:16:23.765Z"
   },
   {
    "duration": 824,
    "start_time": "2025-07-01T00:16:23.824Z"
   },
   {
    "duration": 21,
    "start_time": "2025-07-01T00:16:24.650Z"
   },
   {
    "duration": 9,
    "start_time": "2025-07-01T00:16:24.673Z"
   },
   {
    "duration": 897,
    "start_time": "2025-07-01T00:16:24.684Z"
   },
   {
    "duration": 1657,
    "start_time": "2025-07-01T00:16:25.583Z"
   },
   {
    "duration": 342,
    "start_time": "2025-07-01T00:16:27.242Z"
   },
   {
    "duration": 113,
    "start_time": "2025-07-01T00:16:27.586Z"
   },
   {
    "duration": 5,
    "start_time": "2025-07-01T00:16:27.701Z"
   },
   {
    "duration": 113,
    "start_time": "2025-07-01T00:16:27.708Z"
   },
   {
    "duration": 224,
    "start_time": "2025-07-01T00:16:27.823Z"
   },
   {
    "duration": 93,
    "start_time": "2025-07-01T00:16:28.049Z"
   },
   {
    "duration": 168,
    "start_time": "2025-07-01T00:16:28.145Z"
   },
   {
    "duration": 222,
    "start_time": "2025-07-01T00:16:28.316Z"
   },
   {
    "duration": 86,
    "start_time": "2025-07-01T00:16:28.540Z"
   },
   {
    "duration": 108,
    "start_time": "2025-07-01T00:16:28.628Z"
   },
   {
    "duration": 6,
    "start_time": "2025-07-01T00:16:28.738Z"
   },
   {
    "duration": 99,
    "start_time": "2025-07-01T00:16:28.746Z"
   },
   {
    "duration": 246,
    "start_time": "2025-07-01T00:16:28.848Z"
   },
   {
    "duration": 13,
    "start_time": "2025-07-01T00:16:29.096Z"
   },
   {
    "duration": 67,
    "start_time": "2025-07-01T00:16:29.110Z"
   },
   {
    "duration": 5,
    "start_time": "2025-07-01T00:16:29.179Z"
   },
   {
    "duration": 1048,
    "start_time": "2025-07-01T00:16:29.186Z"
   },
   {
    "duration": 11,
    "start_time": "2025-07-01T00:16:30.236Z"
   },
   {
    "duration": 26,
    "start_time": "2025-07-01T00:16:30.260Z"
   },
   {
    "duration": 5,
    "start_time": "2025-07-01T00:16:30.288Z"
   },
   {
    "duration": 8,
    "start_time": "2025-07-01T00:16:30.295Z"
   },
   {
    "duration": 28,
    "start_time": "2025-07-01T00:16:30.305Z"
   },
   {
    "duration": 31,
    "start_time": "2025-07-01T00:16:30.335Z"
   },
   {
    "duration": 1881,
    "start_time": "2025-07-01T00:16:30.368Z"
   },
   {
    "duration": 39,
    "start_time": "2025-07-01T00:16:32.251Z"
   },
   {
    "duration": 159,
    "start_time": "2025-07-01T00:16:32.292Z"
   },
   {
    "duration": 85,
    "start_time": "2025-07-01T00:19:21.671Z"
   },
   {
    "duration": 2697,
    "start_time": "2025-07-01T00:21:12.107Z"
   },
   {
    "duration": 2758,
    "start_time": "2025-07-01T00:21:14.807Z"
   },
   {
    "duration": 2738,
    "start_time": "2025-07-01T00:21:17.568Z"
   },
   {
    "duration": 1843,
    "start_time": "2025-07-01T00:21:20.308Z"
   },
   {
    "duration": 86,
    "start_time": "2025-07-01T00:21:22.153Z"
   },
   {
    "duration": 46,
    "start_time": "2025-07-01T00:21:22.240Z"
   },
   {
    "duration": 14,
    "start_time": "2025-07-01T00:21:22.288Z"
   },
   {
    "duration": 26,
    "start_time": "2025-07-01T00:21:22.303Z"
   },
   {
    "duration": 14,
    "start_time": "2025-07-01T00:21:22.331Z"
   },
   {
    "duration": 26,
    "start_time": "2025-07-01T00:21:22.346Z"
   },
   {
    "duration": 15,
    "start_time": "2025-07-01T00:21:22.376Z"
   },
   {
    "duration": 11,
    "start_time": "2025-07-01T00:21:22.393Z"
   },
   {
    "duration": 14,
    "start_time": "2025-07-01T00:21:22.405Z"
   },
   {
    "duration": 44,
    "start_time": "2025-07-01T00:21:22.421Z"
   },
   {
    "duration": 6,
    "start_time": "2025-07-01T00:21:22.468Z"
   },
   {
    "duration": 18,
    "start_time": "2025-07-01T00:21:22.476Z"
   },
   {
    "duration": 8,
    "start_time": "2025-07-01T00:21:22.495Z"
   },
   {
    "duration": 825,
    "start_time": "2025-07-01T00:21:22.505Z"
   },
   {
    "duration": 12,
    "start_time": "2025-07-01T00:21:23.332Z"
   },
   {
    "duration": 22,
    "start_time": "2025-07-01T00:21:23.345Z"
   },
   {
    "duration": 880,
    "start_time": "2025-07-01T00:21:23.369Z"
   },
   {
    "duration": 1569,
    "start_time": "2025-07-01T00:21:24.250Z"
   },
   {
    "duration": 333,
    "start_time": "2025-07-01T00:21:25.821Z"
   },
   {
    "duration": 111,
    "start_time": "2025-07-01T00:21:26.155Z"
   },
   {
    "duration": 7,
    "start_time": "2025-07-01T00:21:26.268Z"
   },
   {
    "duration": 118,
    "start_time": "2025-07-01T00:21:26.277Z"
   },
   {
    "duration": 224,
    "start_time": "2025-07-01T00:21:26.397Z"
   },
   {
    "duration": 106,
    "start_time": "2025-07-01T00:21:26.623Z"
   },
   {
    "duration": 118,
    "start_time": "2025-07-01T00:21:26.730Z"
   },
   {
    "duration": 234,
    "start_time": "2025-07-01T00:21:26.850Z"
   },
   {
    "duration": 74,
    "start_time": "2025-07-01T00:21:27.086Z"
   },
   {
    "duration": 110,
    "start_time": "2025-07-01T00:21:27.164Z"
   },
   {
    "duration": 6,
    "start_time": "2025-07-01T00:21:27.277Z"
   },
   {
    "duration": 107,
    "start_time": "2025-07-01T00:21:27.285Z"
   },
   {
    "duration": 227,
    "start_time": "2025-07-01T00:21:27.394Z"
   },
   {
    "duration": 12,
    "start_time": "2025-07-01T00:21:27.622Z"
   },
   {
    "duration": 68,
    "start_time": "2025-07-01T00:21:27.636Z"
   },
   {
    "duration": 3,
    "start_time": "2025-07-01T00:21:27.706Z"
   },
   {
    "duration": 959,
    "start_time": "2025-07-01T00:21:27.710Z"
   },
   {
    "duration": 179,
    "start_time": "2025-07-01T00:21:28.671Z"
   },
   {
    "duration": 0,
    "start_time": "2025-07-01T00:21:28.852Z"
   },
   {
    "duration": 0,
    "start_time": "2025-07-01T00:21:28.861Z"
   },
   {
    "duration": 0,
    "start_time": "2025-07-01T00:21:28.863Z"
   },
   {
    "duration": 0,
    "start_time": "2025-07-01T00:21:28.864Z"
   },
   {
    "duration": 0,
    "start_time": "2025-07-01T00:21:28.866Z"
   },
   {
    "duration": 0,
    "start_time": "2025-07-01T00:21:28.867Z"
   },
   {
    "duration": 0,
    "start_time": "2025-07-01T00:21:28.869Z"
   },
   {
    "duration": 0,
    "start_time": "2025-07-01T00:21:28.871Z"
   },
   {
    "duration": 2652,
    "start_time": "2025-07-01T00:23:15.680Z"
   },
   {
    "duration": 3024,
    "start_time": "2025-07-01T00:23:18.334Z"
   },
   {
    "duration": 2610,
    "start_time": "2025-07-01T00:23:21.361Z"
   },
   {
    "duration": 1796,
    "start_time": "2025-07-01T00:23:23.974Z"
   },
   {
    "duration": 86,
    "start_time": "2025-07-01T00:23:25.774Z"
   },
   {
    "duration": 34,
    "start_time": "2025-07-01T00:23:25.862Z"
   },
   {
    "duration": 14,
    "start_time": "2025-07-01T00:23:25.897Z"
   },
   {
    "duration": 35,
    "start_time": "2025-07-01T00:23:25.912Z"
   },
   {
    "duration": 23,
    "start_time": "2025-07-01T00:23:25.949Z"
   },
   {
    "duration": 15,
    "start_time": "2025-07-01T00:23:25.975Z"
   },
   {
    "duration": 12,
    "start_time": "2025-07-01T00:23:25.992Z"
   },
   {
    "duration": 31,
    "start_time": "2025-07-01T00:23:26.006Z"
   },
   {
    "duration": 11,
    "start_time": "2025-07-01T00:23:26.038Z"
   },
   {
    "duration": 12,
    "start_time": "2025-07-01T00:23:26.061Z"
   },
   {
    "duration": 6,
    "start_time": "2025-07-01T00:23:26.075Z"
   },
   {
    "duration": 10,
    "start_time": "2025-07-01T00:23:26.083Z"
   },
   {
    "duration": 3,
    "start_time": "2025-07-01T00:23:26.095Z"
   },
   {
    "duration": 971,
    "start_time": "2025-07-01T00:23:26.099Z"
   },
   {
    "duration": 13,
    "start_time": "2025-07-01T00:23:27.072Z"
   },
   {
    "duration": 8,
    "start_time": "2025-07-01T00:23:27.087Z"
   },
   {
    "duration": 918,
    "start_time": "2025-07-01T00:23:27.096Z"
   },
   {
    "duration": 1485,
    "start_time": "2025-07-01T00:23:28.015Z"
   },
   {
    "duration": 337,
    "start_time": "2025-07-01T00:23:29.503Z"
   },
   {
    "duration": 114,
    "start_time": "2025-07-01T00:23:29.841Z"
   },
   {
    "duration": 7,
    "start_time": "2025-07-01T00:23:29.962Z"
   },
   {
    "duration": 120,
    "start_time": "2025-07-01T00:23:29.972Z"
   },
   {
    "duration": 237,
    "start_time": "2025-07-01T00:23:30.093Z"
   },
   {
    "duration": 91,
    "start_time": "2025-07-01T00:23:30.332Z"
   },
   {
    "duration": 114,
    "start_time": "2025-07-01T00:23:30.425Z"
   },
   {
    "duration": 225,
    "start_time": "2025-07-01T00:23:30.541Z"
   },
   {
    "duration": 67,
    "start_time": "2025-07-01T00:23:30.768Z"
   },
   {
    "duration": 126,
    "start_time": "2025-07-01T00:23:30.837Z"
   },
   {
    "duration": 7,
    "start_time": "2025-07-01T00:23:30.965Z"
   },
   {
    "duration": 96,
    "start_time": "2025-07-01T00:23:30.974Z"
   },
   {
    "duration": 226,
    "start_time": "2025-07-01T00:23:31.072Z"
   },
   {
    "duration": 13,
    "start_time": "2025-07-01T00:23:31.300Z"
   },
   {
    "duration": 77,
    "start_time": "2025-07-01T00:23:31.315Z"
   },
   {
    "duration": 4,
    "start_time": "2025-07-01T00:23:31.394Z"
   },
   {
    "duration": 975,
    "start_time": "2025-07-01T00:23:31.400Z"
   },
   {
    "duration": 11,
    "start_time": "2025-07-01T00:23:32.377Z"
   },
   {
    "duration": 20,
    "start_time": "2025-07-01T00:23:32.391Z"
   },
   {
    "duration": 3,
    "start_time": "2025-07-01T00:23:32.413Z"
   },
   {
    "duration": 14,
    "start_time": "2025-07-01T00:23:32.417Z"
   },
   {
    "duration": 28,
    "start_time": "2025-07-01T00:23:32.432Z"
   },
   {
    "duration": 6,
    "start_time": "2025-07-01T00:23:32.462Z"
   },
   {
    "duration": 1770,
    "start_time": "2025-07-01T00:23:32.470Z"
   },
   {
    "duration": 38,
    "start_time": "2025-07-01T00:23:34.241Z"
   },
   {
    "duration": 97,
    "start_time": "2025-07-01T00:23:34.281Z"
   },
   {
    "duration": 144,
    "start_time": "2025-07-01T00:31:46.141Z"
   },
   {
    "duration": 13,
    "start_time": "2025-07-01T00:31:54.384Z"
   },
   {
    "duration": 21,
    "start_time": "2025-07-01T00:31:59.134Z"
   },
   {
    "duration": 815,
    "start_time": "2025-07-01T00:32:13.434Z"
   },
   {
    "duration": 14,
    "start_time": "2025-07-01T00:32:58.390Z"
   },
   {
    "duration": 1120,
    "start_time": "2025-07-01T00:33:31.294Z"
   },
   {
    "duration": 5,
    "start_time": "2025-07-01T00:37:08.363Z"
   },
   {
    "duration": 2186,
    "start_time": "2025-07-01T00:39:22.057Z"
   },
   {
    "duration": 3647,
    "start_time": "2025-07-01T00:39:30.115Z"
   },
   {
    "duration": 3606,
    "start_time": "2025-07-01T00:41:02.443Z"
   },
   {
    "duration": 3574,
    "start_time": "2025-07-01T00:41:40.424Z"
   },
   {
    "duration": 4,
    "start_time": "2025-07-01T00:41:54.394Z"
   },
   {
    "duration": 12,
    "start_time": "2025-07-01T00:42:18.821Z"
   },
   {
    "duration": 7,
    "start_time": "2025-07-01T00:42:29.040Z"
   },
   {
    "duration": 5,
    "start_time": "2025-07-01T00:42:38.524Z"
   },
   {
    "duration": 21,
    "start_time": "2025-07-01T00:43:57.481Z"
   },
   {
    "duration": 4558,
    "start_time": "2025-07-01T00:44:06.736Z"
   },
   {
    "duration": 2804,
    "start_time": "2025-07-01T00:47:34.414Z"
   },
   {
    "duration": 2799,
    "start_time": "2025-07-01T00:47:37.221Z"
   },
   {
    "duration": 2639,
    "start_time": "2025-07-01T00:47:40.023Z"
   },
   {
    "duration": 2029,
    "start_time": "2025-07-01T00:47:42.665Z"
   },
   {
    "duration": 81,
    "start_time": "2025-07-01T00:47:44.696Z"
   },
   {
    "duration": 30,
    "start_time": "2025-07-01T00:47:44.779Z"
   },
   {
    "duration": 12,
    "start_time": "2025-07-01T00:47:44.811Z"
   },
   {
    "duration": 13,
    "start_time": "2025-07-01T00:47:44.825Z"
   },
   {
    "duration": 20,
    "start_time": "2025-07-01T00:47:44.840Z"
   },
   {
    "duration": 12,
    "start_time": "2025-07-01T00:47:44.863Z"
   },
   {
    "duration": 13,
    "start_time": "2025-07-01T00:47:44.877Z"
   },
   {
    "duration": 12,
    "start_time": "2025-07-01T00:47:44.891Z"
   },
   {
    "duration": 19,
    "start_time": "2025-07-01T00:47:44.905Z"
   },
   {
    "duration": 33,
    "start_time": "2025-07-01T00:47:44.928Z"
   },
   {
    "duration": 5,
    "start_time": "2025-07-01T00:47:44.963Z"
   },
   {
    "duration": 8,
    "start_time": "2025-07-01T00:47:44.969Z"
   },
   {
    "duration": 5,
    "start_time": "2025-07-01T00:47:44.980Z"
   },
   {
    "duration": 822,
    "start_time": "2025-07-01T00:47:44.987Z"
   },
   {
    "duration": 11,
    "start_time": "2025-07-01T00:47:45.811Z"
   },
   {
    "duration": 6,
    "start_time": "2025-07-01T00:47:45.825Z"
   },
   {
    "duration": 933,
    "start_time": "2025-07-01T00:47:45.833Z"
   },
   {
    "duration": 1420,
    "start_time": "2025-07-01T00:47:46.770Z"
   },
   {
    "duration": 305,
    "start_time": "2025-07-01T00:47:48.191Z"
   },
   {
    "duration": 98,
    "start_time": "2025-07-01T00:47:48.498Z"
   },
   {
    "duration": 5,
    "start_time": "2025-07-01T00:47:48.598Z"
   },
   {
    "duration": 107,
    "start_time": "2025-07-01T00:47:48.604Z"
   },
   {
    "duration": 204,
    "start_time": "2025-07-01T00:47:48.713Z"
   },
   {
    "duration": 102,
    "start_time": "2025-07-01T00:47:48.919Z"
   },
   {
    "duration": 121,
    "start_time": "2025-07-01T00:47:49.023Z"
   },
   {
    "duration": 217,
    "start_time": "2025-07-01T00:47:49.146Z"
   },
   {
    "duration": 64,
    "start_time": "2025-07-01T00:47:49.365Z"
   },
   {
    "duration": 118,
    "start_time": "2025-07-01T00:47:49.431Z"
   },
   {
    "duration": 11,
    "start_time": "2025-07-01T00:47:49.551Z"
   },
   {
    "duration": 97,
    "start_time": "2025-07-01T00:47:49.564Z"
   },
   {
    "duration": 224,
    "start_time": "2025-07-01T00:47:49.664Z"
   },
   {
    "duration": 13,
    "start_time": "2025-07-01T00:47:49.890Z"
   },
   {
    "duration": 58,
    "start_time": "2025-07-01T00:47:49.905Z"
   },
   {
    "duration": 3,
    "start_time": "2025-07-01T00:47:49.965Z"
   },
   {
    "duration": 967,
    "start_time": "2025-07-01T00:47:49.970Z"
   },
   {
    "duration": 22,
    "start_time": "2025-07-01T00:47:50.939Z"
   },
   {
    "duration": 26,
    "start_time": "2025-07-01T00:47:50.966Z"
   },
   {
    "duration": 3,
    "start_time": "2025-07-01T00:47:50.994Z"
   },
   {
    "duration": 18,
    "start_time": "2025-07-01T00:47:50.999Z"
   },
   {
    "duration": 4,
    "start_time": "2025-07-01T00:47:51.019Z"
   },
   {
    "duration": 7,
    "start_time": "2025-07-01T00:47:51.025Z"
   },
   {
    "duration": 1766,
    "start_time": "2025-07-01T00:47:51.034Z"
   },
   {
    "duration": 25,
    "start_time": "2025-07-01T00:47:52.802Z"
   },
   {
    "duration": 3496,
    "start_time": "2025-07-01T00:47:52.829Z"
   },
   {
    "duration": 0,
    "start_time": "2025-07-01T00:47:56.327Z"
   },
   {
    "duration": 30,
    "start_time": "2025-07-01T00:52:33.053Z"
   },
   {
    "duration": 47,
    "start_time": "2025-07-01T10:33:50.056Z"
   },
   {
    "duration": 4440,
    "start_time": "2025-07-01T10:33:58.704Z"
   },
   {
    "duration": 3318,
    "start_time": "2025-07-01T10:34:03.153Z"
   },
   {
    "duration": 8434,
    "start_time": "2025-07-01T10:34:06.474Z"
   },
   {
    "duration": 2079,
    "start_time": "2025-07-01T10:34:14.911Z"
   },
   {
    "duration": 98,
    "start_time": "2025-07-01T10:34:16.993Z"
   },
   {
    "duration": 31,
    "start_time": "2025-07-01T10:34:17.092Z"
   },
   {
    "duration": 71,
    "start_time": "2025-07-01T10:34:17.125Z"
   },
   {
    "duration": 18,
    "start_time": "2025-07-01T10:34:17.198Z"
   },
   {
    "duration": 10,
    "start_time": "2025-07-01T10:34:17.218Z"
   },
   {
    "duration": 17,
    "start_time": "2025-07-01T10:34:17.229Z"
   },
   {
    "duration": 12,
    "start_time": "2025-07-01T10:34:17.253Z"
   },
   {
    "duration": 11,
    "start_time": "2025-07-01T10:34:17.267Z"
   },
   {
    "duration": 18,
    "start_time": "2025-07-01T10:34:17.279Z"
   },
   {
    "duration": 8,
    "start_time": "2025-07-01T10:34:17.300Z"
   },
   {
    "duration": 9,
    "start_time": "2025-07-01T10:34:17.310Z"
   },
   {
    "duration": 18,
    "start_time": "2025-07-01T10:34:17.335Z"
   },
   {
    "duration": 4,
    "start_time": "2025-07-01T10:34:17.355Z"
   },
   {
    "duration": 847,
    "start_time": "2025-07-01T10:34:17.360Z"
   },
   {
    "duration": 12,
    "start_time": "2025-07-01T10:34:18.208Z"
   },
   {
    "duration": 20,
    "start_time": "2025-07-01T10:34:18.222Z"
   },
   {
    "duration": 857,
    "start_time": "2025-07-01T10:34:18.245Z"
   },
   {
    "duration": 1472,
    "start_time": "2025-07-01T10:34:19.103Z"
   },
   {
    "duration": 313,
    "start_time": "2025-07-01T10:34:20.577Z"
   },
   {
    "duration": 178,
    "start_time": "2025-07-01T10:34:20.892Z"
   },
   {
    "duration": 5,
    "start_time": "2025-07-01T10:34:21.071Z"
   },
   {
    "duration": 123,
    "start_time": "2025-07-01T10:34:21.078Z"
   },
   {
    "duration": 283,
    "start_time": "2025-07-01T10:34:21.202Z"
   },
   {
    "duration": 91,
    "start_time": "2025-07-01T10:34:21.487Z"
   },
   {
    "duration": 115,
    "start_time": "2025-07-01T10:34:21.579Z"
   },
   {
    "duration": 221,
    "start_time": "2025-07-01T10:34:21.696Z"
   },
   {
    "duration": 203,
    "start_time": "2025-07-01T10:34:21.919Z"
   },
   {
    "duration": 125,
    "start_time": "2025-07-01T10:34:22.134Z"
   },
   {
    "duration": 6,
    "start_time": "2025-07-01T10:34:22.261Z"
   },
   {
    "duration": 93,
    "start_time": "2025-07-01T10:34:22.268Z"
   },
   {
    "duration": 230,
    "start_time": "2025-07-01T10:34:22.363Z"
   },
   {
    "duration": 13,
    "start_time": "2025-07-01T10:34:22.595Z"
   },
   {
    "duration": 256,
    "start_time": "2025-07-01T10:34:22.610Z"
   },
   {
    "duration": 4,
    "start_time": "2025-07-01T10:34:22.868Z"
   },
   {
    "duration": 889,
    "start_time": "2025-07-01T10:34:22.874Z"
   },
   {
    "duration": 10,
    "start_time": "2025-07-01T10:34:23.765Z"
   },
   {
    "duration": 35,
    "start_time": "2025-07-01T10:34:23.778Z"
   },
   {
    "duration": 7,
    "start_time": "2025-07-01T10:34:23.815Z"
   },
   {
    "duration": 4,
    "start_time": "2025-07-01T10:34:23.823Z"
   },
   {
    "duration": 4,
    "start_time": "2025-07-01T10:34:23.829Z"
   },
   {
    "duration": 23,
    "start_time": "2025-07-01T10:34:23.835Z"
   },
   {
    "duration": 1749,
    "start_time": "2025-07-01T10:34:23.863Z"
   },
   {
    "duration": 2,
    "start_time": "2025-07-01T10:34:25.614Z"
   },
   {
    "duration": 95,
    "start_time": "2025-07-01T10:34:25.618Z"
   },
   {
    "duration": 0,
    "start_time": "2025-07-01T10:34:25.715Z"
   },
   {
    "duration": 0,
    "start_time": "2025-07-01T10:34:25.716Z"
   },
   {
    "duration": 107,
    "start_time": "2025-07-01T10:34:54.668Z"
   },
   {
    "duration": 156,
    "start_time": "2025-07-01T10:36:00.044Z"
   },
   {
    "duration": 198,
    "start_time": "2025-07-01T10:36:19.291Z"
   },
   {
    "duration": 88,
    "start_time": "2025-07-01T10:37:42.676Z"
   },
   {
    "duration": 71,
    "start_time": "2025-07-01T10:37:46.401Z"
   },
   {
    "duration": 3,
    "start_time": "2025-07-01T10:38:39.507Z"
   },
   {
    "duration": 2532,
    "start_time": "2025-07-01T11:12:37.215Z"
   },
   {
    "duration": 2473,
    "start_time": "2025-07-01T11:12:39.749Z"
   },
   {
    "duration": 2510,
    "start_time": "2025-07-01T11:12:42.224Z"
   },
   {
    "duration": 1763,
    "start_time": "2025-07-01T11:12:44.736Z"
   },
   {
    "duration": 99,
    "start_time": "2025-07-01T11:12:46.502Z"
   },
   {
    "duration": 25,
    "start_time": "2025-07-01T11:12:46.603Z"
   },
   {
    "duration": 34,
    "start_time": "2025-07-01T11:12:46.629Z"
   },
   {
    "duration": 16,
    "start_time": "2025-07-01T11:12:46.665Z"
   },
   {
    "duration": 14,
    "start_time": "2025-07-01T11:12:46.683Z"
   },
   {
    "duration": 10,
    "start_time": "2025-07-01T11:12:46.698Z"
   },
   {
    "duration": 16,
    "start_time": "2025-07-01T11:12:46.710Z"
   },
   {
    "duration": 29,
    "start_time": "2025-07-01T11:12:46.727Z"
   },
   {
    "duration": 13,
    "start_time": "2025-07-01T11:12:46.759Z"
   },
   {
    "duration": 100,
    "start_time": "2025-07-01T11:12:46.775Z"
   },
   {
    "duration": 10,
    "start_time": "2025-07-01T11:12:46.876Z"
   },
   {
    "duration": 11,
    "start_time": "2025-07-01T11:12:46.888Z"
   },
   {
    "duration": 63,
    "start_time": "2025-07-01T11:12:46.901Z"
   },
   {
    "duration": 826,
    "start_time": "2025-07-01T11:12:46.965Z"
   },
   {
    "duration": 10,
    "start_time": "2025-07-01T11:12:47.792Z"
   },
   {
    "duration": 16,
    "start_time": "2025-07-01T11:12:47.804Z"
   },
   {
    "duration": 860,
    "start_time": "2025-07-01T11:12:47.822Z"
   },
   {
    "duration": 1399,
    "start_time": "2025-07-01T11:12:48.683Z"
   },
   {
    "duration": 320,
    "start_time": "2025-07-01T11:12:50.084Z"
   },
   {
    "duration": 95,
    "start_time": "2025-07-01T11:12:50.406Z"
   },
   {
    "duration": 12,
    "start_time": "2025-07-01T11:12:50.502Z"
   },
   {
    "duration": 107,
    "start_time": "2025-07-01T11:12:50.515Z"
   },
   {
    "duration": 205,
    "start_time": "2025-07-01T11:12:50.624Z"
   },
   {
    "duration": 86,
    "start_time": "2025-07-01T11:12:50.835Z"
   },
   {
    "duration": 110,
    "start_time": "2025-07-01T11:12:50.923Z"
   },
   {
    "duration": 216,
    "start_time": "2025-07-01T11:12:51.043Z"
   },
   {
    "duration": 57,
    "start_time": "2025-07-01T11:12:51.261Z"
   },
   {
    "duration": 125,
    "start_time": "2025-07-01T11:12:51.335Z"
   },
   {
    "duration": 6,
    "start_time": "2025-07-01T11:12:51.462Z"
   },
   {
    "duration": 127,
    "start_time": "2025-07-01T11:12:51.469Z"
   },
   {
    "duration": 208,
    "start_time": "2025-07-01T11:12:51.597Z"
   },
   {
    "duration": 11,
    "start_time": "2025-07-01T11:12:51.807Z"
   },
   {
    "duration": 91,
    "start_time": "2025-07-01T11:12:51.820Z"
   },
   {
    "duration": 16,
    "start_time": "2025-07-01T11:12:51.912Z"
   },
   {
    "duration": 909,
    "start_time": "2025-07-01T11:12:51.930Z"
   },
   {
    "duration": 20,
    "start_time": "2025-07-01T11:12:52.851Z"
   },
   {
    "duration": 154,
    "start_time": "2025-07-01T11:12:52.875Z"
   },
   {
    "duration": 22,
    "start_time": "2025-07-01T11:12:53.030Z"
   },
   {
    "duration": 33,
    "start_time": "2025-07-01T11:12:53.054Z"
   },
   {
    "duration": 25,
    "start_time": "2025-07-01T11:12:53.089Z"
   },
   {
    "duration": 21,
    "start_time": "2025-07-01T11:12:53.115Z"
   },
   {
    "duration": 1773,
    "start_time": "2025-07-01T11:12:53.138Z"
   },
   {
    "duration": 2,
    "start_time": "2025-07-01T11:12:54.913Z"
   },
   {
    "duration": 241,
    "start_time": "2025-07-01T11:12:54.917Z"
   },
   {
    "duration": 0,
    "start_time": "2025-07-01T11:12:55.159Z"
   },
   {
    "duration": 0,
    "start_time": "2025-07-01T11:12:55.160Z"
   },
   {
    "duration": 19,
    "start_time": "2025-07-01T11:13:52.284Z"
   },
   {
    "duration": 33,
    "start_time": "2025-07-01T11:14:14.689Z"
   },
   {
    "duration": 27,
    "start_time": "2025-07-01T11:15:41.265Z"
   },
   {
    "duration": 44,
    "start_time": "2025-07-01T11:17:18.408Z"
   },
   {
    "duration": 67,
    "start_time": "2025-07-01T11:19:16.230Z"
   },
   {
    "duration": 27,
    "start_time": "2025-07-01T11:20:55.478Z"
   },
   {
    "duration": 5665,
    "start_time": "2025-07-01T11:21:18.702Z"
   },
   {
    "duration": 1417,
    "start_time": "2025-07-01T11:31:56.575Z"
   },
   {
    "duration": 6,
    "start_time": "2025-07-01T11:33:22.163Z"
   },
   {
    "duration": 953,
    "start_time": "2025-07-01T11:33:25.060Z"
   },
   {
    "duration": 20,
    "start_time": "2025-07-01T11:50:40.981Z"
   },
   {
    "duration": 4515,
    "start_time": "2025-07-01T17:26:45.053Z"
   },
   {
    "duration": 3707,
    "start_time": "2025-07-01T17:26:49.571Z"
   },
   {
    "duration": 7548,
    "start_time": "2025-07-01T17:26:53.280Z"
   },
   {
    "duration": 2148,
    "start_time": "2025-07-01T17:27:00.831Z"
   },
   {
    "duration": 89,
    "start_time": "2025-07-01T17:27:02.982Z"
   },
   {
    "duration": 31,
    "start_time": "2025-07-01T17:27:03.072Z"
   },
   {
    "duration": 14,
    "start_time": "2025-07-01T17:27:03.104Z"
   },
   {
    "duration": 30,
    "start_time": "2025-07-01T17:27:03.120Z"
   },
   {
    "duration": 14,
    "start_time": "2025-07-01T17:27:03.153Z"
   },
   {
    "duration": 11,
    "start_time": "2025-07-01T17:27:03.169Z"
   },
   {
    "duration": 22,
    "start_time": "2025-07-01T17:27:03.182Z"
   },
   {
    "duration": 50,
    "start_time": "2025-07-01T17:27:03.205Z"
   },
   {
    "duration": 99,
    "start_time": "2025-07-01T17:27:03.257Z"
   },
   {
    "duration": 9,
    "start_time": "2025-07-01T17:27:03.361Z"
   },
   {
    "duration": 24,
    "start_time": "2025-07-01T17:27:03.373Z"
   },
   {
    "duration": 22,
    "start_time": "2025-07-01T17:27:03.398Z"
   },
   {
    "duration": 30,
    "start_time": "2025-07-01T17:27:03.423Z"
   },
   {
    "duration": 836,
    "start_time": "2025-07-01T17:27:03.455Z"
   },
   {
    "duration": 11,
    "start_time": "2025-07-01T17:27:04.293Z"
   },
   {
    "duration": 114,
    "start_time": "2025-07-01T17:27:04.306Z"
   },
   {
    "duration": 941,
    "start_time": "2025-07-01T17:27:04.422Z"
   },
   {
    "duration": 1512,
    "start_time": "2025-07-01T17:27:05.366Z"
   },
   {
    "duration": 357,
    "start_time": "2025-07-01T17:27:06.880Z"
   },
   {
    "duration": 107,
    "start_time": "2025-07-01T17:27:07.239Z"
   },
   {
    "duration": 7,
    "start_time": "2025-07-01T17:27:07.348Z"
   },
   {
    "duration": 133,
    "start_time": "2025-07-01T17:27:07.357Z"
   },
   {
    "duration": 238,
    "start_time": "2025-07-01T17:27:07.491Z"
   },
   {
    "duration": 87,
    "start_time": "2025-07-01T17:27:07.731Z"
   },
   {
    "duration": 131,
    "start_time": "2025-07-01T17:27:07.820Z"
   },
   {
    "duration": 224,
    "start_time": "2025-07-01T17:27:07.953Z"
   },
   {
    "duration": 86,
    "start_time": "2025-07-01T17:27:08.179Z"
   },
   {
    "duration": 114,
    "start_time": "2025-07-01T17:27:08.267Z"
   },
   {
    "duration": 37,
    "start_time": "2025-07-01T17:27:08.383Z"
   },
   {
    "duration": 100,
    "start_time": "2025-07-01T17:27:08.421Z"
   },
   {
    "duration": 245,
    "start_time": "2025-07-01T17:27:08.523Z"
   },
   {
    "duration": 12,
    "start_time": "2025-07-01T17:27:08.770Z"
   },
   {
    "duration": 66,
    "start_time": "2025-07-01T17:27:08.784Z"
   },
   {
    "duration": 3,
    "start_time": "2025-07-01T17:27:08.852Z"
   },
   {
    "duration": 1035,
    "start_time": "2025-07-01T17:27:08.856Z"
   },
   {
    "duration": 11,
    "start_time": "2025-07-01T17:27:09.893Z"
   },
   {
    "duration": 48,
    "start_time": "2025-07-01T17:27:09.908Z"
   },
   {
    "duration": 3,
    "start_time": "2025-07-01T17:27:09.958Z"
   },
   {
    "duration": 6,
    "start_time": "2025-07-01T17:27:09.962Z"
   },
   {
    "duration": 9,
    "start_time": "2025-07-01T17:27:09.970Z"
   },
   {
    "duration": 6,
    "start_time": "2025-07-01T17:27:09.981Z"
   },
   {
    "duration": 1897,
    "start_time": "2025-07-01T17:27:09.989Z"
   },
   {
    "duration": 3,
    "start_time": "2025-07-01T17:27:11.888Z"
   },
   {
    "duration": 90,
    "start_time": "2025-07-01T17:27:11.893Z"
   },
   {
    "duration": 31,
    "start_time": "2025-07-01T17:27:11.985Z"
   },
   {
    "duration": 6386,
    "start_time": "2025-07-01T17:27:12.018Z"
   },
   {
    "duration": 46,
    "start_time": "2025-07-01T17:27:18.408Z"
   },
   {
    "duration": 39,
    "start_time": "2025-07-01T17:27:18.456Z"
   },
   {
    "duration": 34,
    "start_time": "2025-07-01T17:28:47.752Z"
   },
   {
    "duration": 1680,
    "start_time": "2025-07-01T17:30:52.843Z"
   },
   {
    "duration": 2518,
    "start_time": "2025-07-01T17:31:27.012Z"
   },
   {
    "duration": 2264,
    "start_time": "2025-07-01T17:31:59.161Z"
   },
   {
    "duration": 4505,
    "start_time": "2025-07-01T17:34:47.442Z"
   },
   {
    "duration": 4805,
    "start_time": "2025-07-01T17:38:43.922Z"
   },
   {
    "duration": 4618,
    "start_time": "2025-07-02T22:06:15.225Z"
   },
   {
    "duration": 3111,
    "start_time": "2025-07-02T22:06:21.198Z"
   },
   {
    "duration": 6590,
    "start_time": "2025-07-02T22:06:24.926Z"
   },
   {
    "duration": 1918,
    "start_time": "2025-07-02T22:06:32.983Z"
   },
   {
    "duration": 84,
    "start_time": "2025-07-02T22:06:38.121Z"
   },
   {
    "duration": 33,
    "start_time": "2025-07-02T22:06:41.976Z"
   },
   {
    "duration": 6,
    "start_time": "2025-07-02T22:22:13.203Z"
   },
   {
    "duration": 93,
    "start_time": "2025-07-02T22:22:25.476Z"
   },
   {
    "duration": 29,
    "start_time": "2025-07-02T22:22:28.449Z"
   },
   {
    "duration": 11,
    "start_time": "2025-07-02T22:22:37.100Z"
   },
   {
    "duration": 11,
    "start_time": "2025-07-02T22:22:43.252Z"
   },
   {
    "duration": 18,
    "start_time": "2025-07-02T22:22:45.564Z"
   },
   {
    "duration": 10,
    "start_time": "2025-07-02T22:22:47.807Z"
   },
   {
    "duration": 13,
    "start_time": "2025-07-02T22:22:50.044Z"
   },
   {
    "duration": 12,
    "start_time": "2025-07-02T22:22:52.805Z"
   },
   {
    "duration": 11,
    "start_time": "2025-07-02T22:22:55.643Z"
   },
   {
    "duration": 8,
    "start_time": "2025-07-02T22:22:58.453Z"
   },
   {
    "duration": 4,
    "start_time": "2025-07-02T22:23:02.781Z"
   },
   {
    "duration": 6,
    "start_time": "2025-07-02T22:23:05.156Z"
   },
   {
    "duration": 6,
    "start_time": "2025-07-02T22:23:20.625Z"
   },
   {
    "duration": 7,
    "start_time": "2025-07-02T22:23:28.466Z"
   },
   {
    "duration": 2027,
    "start_time": "2025-07-02T23:16:27.710Z"
   },
   {
    "duration": 675,
    "start_time": "2025-07-02T23:16:46.463Z"
   },
   {
    "duration": 715,
    "start_time": "2025-07-02T23:17:30.719Z"
   },
   {
    "duration": 2161,
    "start_time": "2025-07-02T23:17:42.705Z"
   },
   {
    "duration": 1228,
    "start_time": "2025-07-02T23:18:51.885Z"
   },
   {
    "duration": 449,
    "start_time": "2025-07-02T23:21:26.400Z"
   },
   {
    "duration": 617,
    "start_time": "2025-07-02T23:21:31.200Z"
   },
   {
    "duration": 756,
    "start_time": "2025-07-02T23:22:09.662Z"
   },
   {
    "duration": 11,
    "start_time": "2025-07-02T23:27:51.848Z"
   },
   {
    "duration": 4,
    "start_time": "2025-07-02T23:28:21.126Z"
   },
   {
    "duration": 324,
    "start_time": "2025-07-02T23:28:28.664Z"
   },
   {
    "duration": 4,
    "start_time": "2025-07-02T23:54:00.106Z"
   },
   {
    "duration": 6,
    "start_time": "2025-07-03T00:09:36.251Z"
   },
   {
    "duration": 114,
    "start_time": "2025-07-03T00:11:33.749Z"
   },
   {
    "duration": 91,
    "start_time": "2025-07-03T00:12:29.360Z"
   },
   {
    "duration": 509,
    "start_time": "2025-07-03T00:12:48.647Z"
   },
   {
    "duration": 931,
    "start_time": "2025-07-03T00:22:19.753Z"
   },
   {
    "duration": 242,
    "start_time": "2025-07-03T01:01:01.586Z"
   },
   {
    "duration": 6,
    "start_time": "2025-07-03T01:01:19.623Z"
   },
   {
    "duration": 211,
    "start_time": "2025-07-03T01:01:22.424Z"
   },
   {
    "duration": 202,
    "start_time": "2025-07-03T01:03:54.424Z"
   },
   {
    "duration": 3153,
    "start_time": "2025-07-03T01:06:17.191Z"
   },
   {
    "duration": 212,
    "start_time": "2025-07-03T01:06:44.571Z"
   },
   {
    "duration": 210,
    "start_time": "2025-07-03T01:06:52.401Z"
   },
   {
    "duration": 796,
    "start_time": "2025-07-03T01:10:17.103Z"
   },
   {
    "duration": 691,
    "start_time": "2025-07-03T01:11:23.354Z"
   },
   {
    "duration": 683,
    "start_time": "2025-07-03T01:11:42.703Z"
   },
   {
    "duration": 797,
    "start_time": "2025-07-03T01:11:57.181Z"
   },
   {
    "duration": 667,
    "start_time": "2025-07-03T01:12:10.188Z"
   },
   {
    "duration": 706,
    "start_time": "2025-07-03T01:16:18.594Z"
   },
   {
    "duration": 570,
    "start_time": "2025-07-03T01:17:05.141Z"
   },
   {
    "duration": 456,
    "start_time": "2025-07-03T01:19:06.605Z"
   },
   {
    "duration": 694,
    "start_time": "2025-07-03T01:20:45.231Z"
   },
   {
    "duration": 3,
    "start_time": "2025-07-03T01:26:16.671Z"
   },
   {
    "duration": 332,
    "start_time": "2025-07-03T01:26:46.853Z"
   },
   {
    "duration": 206,
    "start_time": "2025-07-03T01:27:33.046Z"
   },
   {
    "duration": 215,
    "start_time": "2025-07-03T01:28:18.571Z"
   },
   {
    "duration": 203,
    "start_time": "2025-07-03T01:28:29.196Z"
   },
   {
    "duration": 2573,
    "start_time": "2025-07-03T01:33:29.763Z"
   },
   {
    "duration": 2406,
    "start_time": "2025-07-03T01:33:32.338Z"
   },
   {
    "duration": 2411,
    "start_time": "2025-07-03T01:33:34.746Z"
   },
   {
    "duration": 1786,
    "start_time": "2025-07-03T01:33:37.160Z"
   },
   {
    "duration": 85,
    "start_time": "2025-07-03T01:33:38.948Z"
   },
   {
    "duration": 30,
    "start_time": "2025-07-03T01:33:39.035Z"
   },
   {
    "duration": 12,
    "start_time": "2025-07-03T01:33:39.066Z"
   },
   {
    "duration": 16,
    "start_time": "2025-07-03T01:33:39.080Z"
   },
   {
    "duration": 27,
    "start_time": "2025-07-03T01:33:39.097Z"
   },
   {
    "duration": 13,
    "start_time": "2025-07-03T01:33:39.127Z"
   },
   {
    "duration": 36,
    "start_time": "2025-07-03T01:33:39.141Z"
   },
   {
    "duration": 23,
    "start_time": "2025-07-03T01:33:39.178Z"
   },
   {
    "duration": 71,
    "start_time": "2025-07-03T01:33:39.203Z"
   },
   {
    "duration": 11,
    "start_time": "2025-07-03T01:33:39.276Z"
   },
   {
    "duration": 7,
    "start_time": "2025-07-03T01:33:39.289Z"
   },
   {
    "duration": 7,
    "start_time": "2025-07-03T01:33:39.298Z"
   },
   {
    "duration": 7,
    "start_time": "2025-07-03T01:33:39.307Z"
   },
   {
    "duration": 15,
    "start_time": "2025-07-03T01:33:39.316Z"
   },
   {
    "duration": 762,
    "start_time": "2025-07-03T01:33:39.332Z"
   },
   {
    "duration": 602,
    "start_time": "2025-07-03T01:33:40.096Z"
   },
   {
    "duration": 723,
    "start_time": "2025-07-03T01:33:40.700Z"
   },
   {
    "duration": 334,
    "start_time": "2025-07-03T01:33:41.424Z"
   },
   {
    "duration": 96,
    "start_time": "2025-07-03T01:33:41.760Z"
   },
   {
    "duration": 13,
    "start_time": "2025-07-03T01:33:41.858Z"
   },
   {
    "duration": 100,
    "start_time": "2025-07-03T01:33:41.873Z"
   },
   {
    "duration": 241,
    "start_time": "2025-07-03T01:33:41.975Z"
   },
   {
    "duration": 104,
    "start_time": "2025-07-03T01:33:42.221Z"
   },
   {
    "duration": 112,
    "start_time": "2025-07-03T01:33:42.330Z"
   },
   {
    "duration": 345,
    "start_time": "2025-07-03T01:33:42.444Z"
   },
   {
    "duration": 82,
    "start_time": "2025-07-03T01:33:42.791Z"
   },
   {
    "duration": 103,
    "start_time": "2025-07-03T01:33:42.875Z"
   },
   {
    "duration": 223,
    "start_time": "2025-07-03T01:33:42.980Z"
   },
   {
    "duration": 15,
    "start_time": "2025-07-03T01:33:43.205Z"
   },
   {
    "duration": 87,
    "start_time": "2025-07-03T01:33:43.222Z"
   },
   {
    "duration": 4,
    "start_time": "2025-07-03T01:33:43.311Z"
   },
   {
    "duration": 2460,
    "start_time": "2025-07-03T01:34:34.321Z"
   },
   {
    "duration": 2458,
    "start_time": "2025-07-03T01:34:36.783Z"
   },
   {
    "duration": 2433,
    "start_time": "2025-07-03T01:34:39.244Z"
   },
   {
    "duration": 1816,
    "start_time": "2025-07-03T01:34:41.679Z"
   },
   {
    "duration": 73,
    "start_time": "2025-07-03T01:34:43.497Z"
   },
   {
    "duration": 29,
    "start_time": "2025-07-03T01:34:43.572Z"
   },
   {
    "duration": 90,
    "start_time": "2025-07-03T01:34:43.603Z"
   },
   {
    "duration": 12,
    "start_time": "2025-07-03T01:34:43.694Z"
   },
   {
    "duration": 17,
    "start_time": "2025-07-03T01:34:43.708Z"
   },
   {
    "duration": 12,
    "start_time": "2025-07-03T01:34:43.728Z"
   },
   {
    "duration": 19,
    "start_time": "2025-07-03T01:34:43.742Z"
   },
   {
    "duration": 22,
    "start_time": "2025-07-03T01:34:43.763Z"
   },
   {
    "duration": 13,
    "start_time": "2025-07-03T01:34:43.787Z"
   },
   {
    "duration": 12,
    "start_time": "2025-07-03T01:34:43.802Z"
   },
   {
    "duration": 6,
    "start_time": "2025-07-03T01:34:43.816Z"
   },
   {
    "duration": 19,
    "start_time": "2025-07-03T01:34:43.824Z"
   },
   {
    "duration": 6,
    "start_time": "2025-07-03T01:34:43.871Z"
   },
   {
    "duration": 4,
    "start_time": "2025-07-03T01:34:43.878Z"
   },
   {
    "duration": 756,
    "start_time": "2025-07-03T01:34:43.883Z"
   },
   {
    "duration": 619,
    "start_time": "2025-07-03T01:34:44.640Z"
   },
   {
    "duration": 705,
    "start_time": "2025-07-03T01:34:45.261Z"
   },
   {
    "duration": 358,
    "start_time": "2025-07-03T01:34:45.972Z"
   },
   {
    "duration": 94,
    "start_time": "2025-07-03T01:34:46.332Z"
   },
   {
    "duration": 6,
    "start_time": "2025-07-03T01:34:46.427Z"
   },
   {
    "duration": 104,
    "start_time": "2025-07-03T01:34:46.435Z"
   },
   {
    "duration": 230,
    "start_time": "2025-07-03T01:34:46.541Z"
   },
   {
    "duration": 79,
    "start_time": "2025-07-03T01:34:46.773Z"
   },
   {
    "duration": 118,
    "start_time": "2025-07-03T01:34:46.856Z"
   },
   {
    "duration": 343,
    "start_time": "2025-07-03T01:34:46.976Z"
   },
   {
    "duration": 72,
    "start_time": "2025-07-03T01:34:47.321Z"
   },
   {
    "duration": 102,
    "start_time": "2025-07-03T01:34:47.394Z"
   },
   {
    "duration": 217,
    "start_time": "2025-07-03T01:34:47.497Z"
   },
   {
    "duration": 11,
    "start_time": "2025-07-03T01:34:47.716Z"
   },
   {
    "duration": 62,
    "start_time": "2025-07-03T01:34:47.729Z"
   },
   {
    "duration": 3,
    "start_time": "2025-07-03T01:34:47.792Z"
   },
   {
    "duration": 2600,
    "start_time": "2025-07-03T01:35:06.515Z"
   },
   {
    "duration": 2452,
    "start_time": "2025-07-03T01:35:09.117Z"
   },
   {
    "duration": 2437,
    "start_time": "2025-07-03T01:35:11.571Z"
   },
   {
    "duration": 1707,
    "start_time": "2025-07-03T01:35:14.011Z"
   },
   {
    "duration": 72,
    "start_time": "2025-07-03T01:35:15.720Z"
   },
   {
    "duration": 28,
    "start_time": "2025-07-03T01:35:15.793Z"
   },
   {
    "duration": 12,
    "start_time": "2025-07-03T01:35:15.822Z"
   },
   {
    "duration": 22,
    "start_time": "2025-07-03T01:35:15.836Z"
   },
   {
    "duration": 11,
    "start_time": "2025-07-03T01:35:15.860Z"
   },
   {
    "duration": 12,
    "start_time": "2025-07-03T01:35:15.874Z"
   },
   {
    "duration": 19,
    "start_time": "2025-07-03T01:35:15.888Z"
   },
   {
    "duration": 31,
    "start_time": "2025-07-03T01:35:15.909Z"
   },
   {
    "duration": 22,
    "start_time": "2025-07-03T01:35:15.941Z"
   },
   {
    "duration": 30,
    "start_time": "2025-07-03T01:35:15.964Z"
   },
   {
    "duration": 14,
    "start_time": "2025-07-03T01:35:15.996Z"
   },
   {
    "duration": 7,
    "start_time": "2025-07-03T01:35:16.011Z"
   },
   {
    "duration": 6,
    "start_time": "2025-07-03T01:35:16.020Z"
   },
   {
    "duration": 7,
    "start_time": "2025-07-03T01:35:16.028Z"
   },
   {
    "duration": 744,
    "start_time": "2025-07-03T01:35:16.036Z"
   },
   {
    "duration": 608,
    "start_time": "2025-07-03T01:35:16.782Z"
   },
   {
    "duration": 708,
    "start_time": "2025-07-03T01:35:17.392Z"
   },
   {
    "duration": 334,
    "start_time": "2025-07-03T01:35:18.102Z"
   },
   {
    "duration": 103,
    "start_time": "2025-07-03T01:35:18.437Z"
   },
   {
    "duration": 6,
    "start_time": "2025-07-03T01:35:18.542Z"
   },
   {
    "duration": 111,
    "start_time": "2025-07-03T01:35:18.550Z"
   },
   {
    "duration": 224,
    "start_time": "2025-07-03T01:35:18.663Z"
   },
   {
    "duration": 89,
    "start_time": "2025-07-03T01:35:18.889Z"
   },
   {
    "duration": 120,
    "start_time": "2025-07-03T01:35:18.981Z"
   },
   {
    "duration": 337,
    "start_time": "2025-07-03T01:35:19.103Z"
   },
   {
    "duration": 75,
    "start_time": "2025-07-03T01:35:19.442Z"
   },
   {
    "duration": 103,
    "start_time": "2025-07-03T01:35:19.518Z"
   },
   {
    "duration": 216,
    "start_time": "2025-07-03T01:35:19.623Z"
   },
   {
    "duration": 11,
    "start_time": "2025-07-03T01:35:19.840Z"
   },
   {
    "duration": 57,
    "start_time": "2025-07-03T01:35:19.853Z"
   },
   {
    "duration": 3,
    "start_time": "2025-07-03T01:35:19.911Z"
   },
   {
    "duration": 849,
    "start_time": "2025-07-03T01:35:19.915Z"
   },
   {
    "duration": 12,
    "start_time": "2025-07-03T01:35:20.772Z"
   },
   {
    "duration": 30,
    "start_time": "2025-07-03T01:35:20.786Z"
   },
   {
    "duration": 7,
    "start_time": "2025-07-03T01:35:20.818Z"
   },
   {
    "duration": 22,
    "start_time": "2025-07-03T01:35:20.826Z"
   },
   {
    "duration": 46,
    "start_time": "2025-07-03T01:35:20.850Z"
   },
   {
    "duration": 5,
    "start_time": "2025-07-03T01:35:20.898Z"
   },
   {
    "duration": 1746,
    "start_time": "2025-07-03T01:35:20.905Z"
   },
   {
    "duration": 2,
    "start_time": "2025-07-03T01:35:22.653Z"
   },
   {
    "duration": 69,
    "start_time": "2025-07-03T01:35:22.657Z"
   },
   {
    "duration": 47,
    "start_time": "2025-07-03T01:35:22.727Z"
   },
   {
    "duration": 5647,
    "start_time": "2025-07-03T01:35:22.776Z"
   },
   {
    "duration": 4356,
    "start_time": "2025-07-03T01:35:28.425Z"
   },
   {
    "duration": 2511,
    "start_time": "2025-07-03T01:38:30.342Z"
   },
   {
    "duration": 2382,
    "start_time": "2025-07-03T01:38:32.855Z"
   },
   {
    "duration": 2561,
    "start_time": "2025-07-03T01:38:35.239Z"
   },
   {
    "duration": 1766,
    "start_time": "2025-07-03T01:38:37.802Z"
   },
   {
    "duration": 84,
    "start_time": "2025-07-03T01:38:39.570Z"
   },
   {
    "duration": 95,
    "start_time": "2025-07-03T01:38:39.655Z"
   },
   {
    "duration": 12,
    "start_time": "2025-07-03T01:38:39.752Z"
   },
   {
    "duration": 11,
    "start_time": "2025-07-03T01:38:39.765Z"
   },
   {
    "duration": 10,
    "start_time": "2025-07-03T01:38:39.777Z"
   },
   {
    "duration": 11,
    "start_time": "2025-07-03T01:38:39.789Z"
   },
   {
    "duration": 25,
    "start_time": "2025-07-03T01:38:39.801Z"
   },
   {
    "duration": 19,
    "start_time": "2025-07-03T01:38:39.828Z"
   },
   {
    "duration": 23,
    "start_time": "2025-07-03T01:38:39.849Z"
   },
   {
    "duration": 9,
    "start_time": "2025-07-03T01:38:39.876Z"
   },
   {
    "duration": 6,
    "start_time": "2025-07-03T01:38:39.887Z"
   },
   {
    "duration": 8,
    "start_time": "2025-07-03T01:38:39.895Z"
   },
   {
    "duration": 27,
    "start_time": "2025-07-03T01:38:39.904Z"
   },
   {
    "duration": 21,
    "start_time": "2025-07-03T01:38:39.933Z"
   },
   {
    "duration": 717,
    "start_time": "2025-07-03T01:38:39.956Z"
   },
   {
    "duration": 621,
    "start_time": "2025-07-03T01:38:40.675Z"
   },
   {
    "duration": 705,
    "start_time": "2025-07-03T01:38:41.298Z"
   },
   {
    "duration": 360,
    "start_time": "2025-07-03T01:38:42.005Z"
   },
   {
    "duration": 85,
    "start_time": "2025-07-03T01:38:42.371Z"
   },
   {
    "duration": 18,
    "start_time": "2025-07-03T01:38:42.458Z"
   },
   {
    "duration": 106,
    "start_time": "2025-07-03T01:38:42.478Z"
   },
   {
    "duration": 216,
    "start_time": "2025-07-03T01:38:42.586Z"
   },
   {
    "duration": 90,
    "start_time": "2025-07-03T01:38:42.804Z"
   },
   {
    "duration": 110,
    "start_time": "2025-07-03T01:38:42.895Z"
   },
   {
    "duration": 349,
    "start_time": "2025-07-03T01:38:43.006Z"
   },
   {
    "duration": 72,
    "start_time": "2025-07-03T01:38:43.357Z"
   },
   {
    "duration": 109,
    "start_time": "2025-07-03T01:38:43.431Z"
   },
   {
    "duration": 224,
    "start_time": "2025-07-03T01:38:43.542Z"
   },
   {
    "duration": 12,
    "start_time": "2025-07-03T01:38:43.771Z"
   },
   {
    "duration": 44,
    "start_time": "2025-07-03T01:38:43.785Z"
   },
   {
    "duration": 3,
    "start_time": "2025-07-03T01:38:43.830Z"
   },
   {
    "duration": 840,
    "start_time": "2025-07-03T01:38:43.835Z"
   },
   {
    "duration": 9,
    "start_time": "2025-07-03T01:38:44.677Z"
   },
   {
    "duration": 4,
    "start_time": "2025-07-03T01:38:44.687Z"
   },
   {
    "duration": 4,
    "start_time": "2025-07-03T01:38:44.692Z"
   },
   {
    "duration": 6,
    "start_time": "2025-07-03T01:38:44.697Z"
   },
   {
    "duration": 6,
    "start_time": "2025-07-03T01:38:44.706Z"
   },
   {
    "duration": 989,
    "start_time": "2025-07-03T01:38:44.713Z"
   },
   {
    "duration": 0,
    "start_time": "2025-07-03T01:38:45.703Z"
   },
   {
    "duration": 0,
    "start_time": "2025-07-03T01:38:45.704Z"
   },
   {
    "duration": 0,
    "start_time": "2025-07-03T01:38:45.705Z"
   },
   {
    "duration": 0,
    "start_time": "2025-07-03T01:38:45.706Z"
   },
   {
    "duration": 0,
    "start_time": "2025-07-03T01:38:45.707Z"
   },
   {
    "duration": 19,
    "start_time": "2025-07-03T01:41:37.033Z"
   },
   {
    "duration": 2485,
    "start_time": "2025-07-03T01:41:44.377Z"
   },
   {
    "duration": 2443,
    "start_time": "2025-07-03T01:41:46.865Z"
   },
   {
    "duration": 2412,
    "start_time": "2025-07-03T01:41:49.311Z"
   },
   {
    "duration": 1710,
    "start_time": "2025-07-03T01:41:51.725Z"
   },
   {
    "duration": 84,
    "start_time": "2025-07-03T01:41:53.437Z"
   },
   {
    "duration": 30,
    "start_time": "2025-07-03T01:41:53.523Z"
   },
   {
    "duration": 13,
    "start_time": "2025-07-03T01:41:53.554Z"
   },
   {
    "duration": 28,
    "start_time": "2025-07-03T01:41:53.568Z"
   },
   {
    "duration": 77,
    "start_time": "2025-07-03T01:41:53.598Z"
   },
   {
    "duration": 64,
    "start_time": "2025-07-03T01:41:53.678Z"
   },
   {
    "duration": 28,
    "start_time": "2025-07-03T01:41:53.744Z"
   },
   {
    "duration": 27,
    "start_time": "2025-07-03T01:41:53.773Z"
   },
   {
    "duration": 13,
    "start_time": "2025-07-03T01:41:53.802Z"
   },
   {
    "duration": 12,
    "start_time": "2025-07-03T01:41:53.817Z"
   },
   {
    "duration": 6,
    "start_time": "2025-07-03T01:41:53.830Z"
   },
   {
    "duration": 10,
    "start_time": "2025-07-03T01:41:53.838Z"
   },
   {
    "duration": 30,
    "start_time": "2025-07-03T01:41:53.849Z"
   },
   {
    "duration": 7,
    "start_time": "2025-07-03T01:41:53.881Z"
   },
   {
    "duration": 736,
    "start_time": "2025-07-03T01:41:53.889Z"
   },
   {
    "duration": 596,
    "start_time": "2025-07-03T01:41:54.627Z"
   },
   {
    "duration": 701,
    "start_time": "2025-07-03T01:41:55.225Z"
   },
   {
    "duration": 353,
    "start_time": "2025-07-03T01:41:55.927Z"
   },
   {
    "duration": 101,
    "start_time": "2025-07-03T01:41:56.281Z"
   },
   {
    "duration": 6,
    "start_time": "2025-07-03T01:41:56.384Z"
   },
   {
    "duration": 105,
    "start_time": "2025-07-03T01:41:56.391Z"
   },
   {
    "duration": 223,
    "start_time": "2025-07-03T01:41:56.497Z"
   },
   {
    "duration": 96,
    "start_time": "2025-07-03T01:41:56.722Z"
   },
   {
    "duration": 114,
    "start_time": "2025-07-03T01:41:56.822Z"
   },
   {
    "duration": 338,
    "start_time": "2025-07-03T01:41:56.938Z"
   },
   {
    "duration": 67,
    "start_time": "2025-07-03T01:41:57.278Z"
   },
   {
    "duration": 90,
    "start_time": "2025-07-03T01:41:57.370Z"
   },
   {
    "duration": 227,
    "start_time": "2025-07-03T01:41:57.462Z"
   },
   {
    "duration": 12,
    "start_time": "2025-07-03T01:41:57.690Z"
   },
   {
    "duration": 75,
    "start_time": "2025-07-03T01:41:57.703Z"
   },
   {
    "duration": 2,
    "start_time": "2025-07-03T01:41:57.780Z"
   },
   {
    "duration": 842,
    "start_time": "2025-07-03T01:41:57.784Z"
   },
   {
    "duration": 10,
    "start_time": "2025-07-03T01:41:58.628Z"
   },
   {
    "duration": 38,
    "start_time": "2025-07-03T01:41:58.639Z"
   },
   {
    "duration": 3,
    "start_time": "2025-07-03T01:41:58.678Z"
   },
   {
    "duration": 24,
    "start_time": "2025-07-03T01:41:58.684Z"
   },
   {
    "duration": 4,
    "start_time": "2025-07-03T01:41:58.710Z"
   },
   {
    "duration": 11,
    "start_time": "2025-07-03T01:41:58.716Z"
   },
   {
    "duration": 1705,
    "start_time": "2025-07-03T01:41:58.728Z"
   },
   {
    "duration": 3,
    "start_time": "2025-07-03T01:42:00.435Z"
   },
   {
    "duration": 93,
    "start_time": "2025-07-03T01:42:00.439Z"
   },
   {
    "duration": 31,
    "start_time": "2025-07-03T01:42:00.533Z"
   },
   {
    "duration": 6280,
    "start_time": "2025-07-03T01:42:00.566Z"
   },
   {
    "duration": 4251,
    "start_time": "2025-07-03T01:42:06.848Z"
   },
   {
    "duration": 2495,
    "start_time": "2025-07-03T01:46:04.035Z"
   },
   {
    "duration": 2397,
    "start_time": "2025-07-03T01:46:06.533Z"
   },
   {
    "duration": 2387,
    "start_time": "2025-07-03T01:46:08.932Z"
   },
   {
    "duration": 1736,
    "start_time": "2025-07-03T01:46:11.321Z"
   },
   {
    "duration": 76,
    "start_time": "2025-07-03T01:46:13.059Z"
   },
   {
    "duration": 30,
    "start_time": "2025-07-03T01:46:13.137Z"
   },
   {
    "duration": 14,
    "start_time": "2025-07-03T01:46:13.169Z"
   },
   {
    "duration": 11,
    "start_time": "2025-07-03T01:46:13.185Z"
   },
   {
    "duration": 10,
    "start_time": "2025-07-03T01:46:13.197Z"
   },
   {
    "duration": 13,
    "start_time": "2025-07-03T01:46:13.209Z"
   },
   {
    "duration": 50,
    "start_time": "2025-07-03T01:46:13.224Z"
   },
   {
    "duration": 92,
    "start_time": "2025-07-03T01:46:13.275Z"
   },
   {
    "duration": 11,
    "start_time": "2025-07-03T01:46:13.369Z"
   },
   {
    "duration": 52,
    "start_time": "2025-07-03T01:46:13.383Z"
   },
   {
    "duration": 6,
    "start_time": "2025-07-03T01:46:13.437Z"
   },
   {
    "duration": 8,
    "start_time": "2025-07-03T01:46:13.445Z"
   },
   {
    "duration": 6,
    "start_time": "2025-07-03T01:46:13.455Z"
   },
   {
    "duration": 8,
    "start_time": "2025-07-03T01:46:13.462Z"
   },
   {
    "duration": 733,
    "start_time": "2025-07-03T01:46:13.472Z"
   },
   {
    "duration": 620,
    "start_time": "2025-07-03T01:46:14.207Z"
   },
   {
    "duration": 706,
    "start_time": "2025-07-03T01:46:14.829Z"
   },
   {
    "duration": 326,
    "start_time": "2025-07-03T01:46:15.537Z"
   },
   {
    "duration": 92,
    "start_time": "2025-07-03T01:46:15.864Z"
   },
   {
    "duration": 18,
    "start_time": "2025-07-03T01:46:15.958Z"
   },
   {
    "duration": 114,
    "start_time": "2025-07-03T01:46:15.978Z"
   },
   {
    "duration": 233,
    "start_time": "2025-07-03T01:46:16.094Z"
   },
   {
    "duration": 98,
    "start_time": "2025-07-03T01:46:16.329Z"
   },
   {
    "duration": 116,
    "start_time": "2025-07-03T01:46:16.429Z"
   },
   {
    "duration": 351,
    "start_time": "2025-07-03T01:46:16.548Z"
   },
   {
    "duration": 85,
    "start_time": "2025-07-03T01:46:16.901Z"
   },
   {
    "duration": 111,
    "start_time": "2025-07-03T01:46:16.988Z"
   },
   {
    "duration": 230,
    "start_time": "2025-07-03T01:46:17.101Z"
   },
   {
    "duration": 14,
    "start_time": "2025-07-03T01:46:17.333Z"
   },
   {
    "duration": 66,
    "start_time": "2025-07-03T01:46:17.349Z"
   },
   {
    "duration": 19,
    "start_time": "2025-07-03T01:46:17.417Z"
   },
   {
    "duration": 843,
    "start_time": "2025-07-03T01:46:17.438Z"
   },
   {
    "duration": 11,
    "start_time": "2025-07-03T01:46:18.283Z"
   },
   {
    "duration": 104,
    "start_time": "2025-07-03T01:46:18.296Z"
   },
   {
    "duration": 3,
    "start_time": "2025-07-03T01:46:18.402Z"
   },
   {
    "duration": 24,
    "start_time": "2025-07-03T01:46:18.407Z"
   },
   {
    "duration": 5,
    "start_time": "2025-07-03T01:46:18.436Z"
   },
   {
    "duration": 7,
    "start_time": "2025-07-03T01:46:18.442Z"
   },
   {
    "duration": 1758,
    "start_time": "2025-07-03T01:46:18.451Z"
   },
   {
    "duration": 3,
    "start_time": "2025-07-03T01:46:20.211Z"
   },
   {
    "duration": 82,
    "start_time": "2025-07-03T01:46:20.217Z"
   },
   {
    "duration": 12,
    "start_time": "2025-07-03T01:46:20.301Z"
   },
   {
    "duration": 1723,
    "start_time": "2025-07-03T01:46:20.315Z"
   },
   {
    "duration": 4388,
    "start_time": "2025-07-03T01:46:22.041Z"
   },
   {
    "duration": 2464,
    "start_time": "2025-07-03T01:52:46.060Z"
   },
   {
    "duration": 2488,
    "start_time": "2025-07-03T01:52:48.526Z"
   },
   {
    "duration": 2416,
    "start_time": "2025-07-03T01:52:51.016Z"
   },
   {
    "duration": 1688,
    "start_time": "2025-07-03T01:52:53.435Z"
   },
   {
    "duration": 82,
    "start_time": "2025-07-03T01:52:55.125Z"
   },
   {
    "duration": 32,
    "start_time": "2025-07-03T01:52:55.209Z"
   },
   {
    "duration": 12,
    "start_time": "2025-07-03T01:52:55.243Z"
   },
   {
    "duration": 122,
    "start_time": "2025-07-03T01:52:55.257Z"
   },
   {
    "duration": 15,
    "start_time": "2025-07-03T01:52:55.381Z"
   },
   {
    "duration": 9,
    "start_time": "2025-07-03T01:52:55.399Z"
   },
   {
    "duration": 57,
    "start_time": "2025-07-03T01:52:55.410Z"
   },
   {
    "duration": 21,
    "start_time": "2025-07-03T01:52:55.468Z"
   },
   {
    "duration": 19,
    "start_time": "2025-07-03T01:52:55.491Z"
   },
   {
    "duration": 8,
    "start_time": "2025-07-03T01:52:55.512Z"
   },
   {
    "duration": 31,
    "start_time": "2025-07-03T01:52:55.522Z"
   },
   {
    "duration": 25,
    "start_time": "2025-07-03T01:52:55.555Z"
   },
   {
    "duration": 11,
    "start_time": "2025-07-03T01:52:55.581Z"
   },
   {
    "duration": 21,
    "start_time": "2025-07-03T01:52:55.594Z"
   },
   {
    "duration": 737,
    "start_time": "2025-07-03T01:52:55.617Z"
   },
   {
    "duration": 597,
    "start_time": "2025-07-03T01:52:56.355Z"
   },
   {
    "duration": 698,
    "start_time": "2025-07-03T01:52:56.954Z"
   },
   {
    "duration": 335,
    "start_time": "2025-07-03T01:52:57.653Z"
   },
   {
    "duration": 99,
    "start_time": "2025-07-03T01:52:57.990Z"
   },
   {
    "duration": 6,
    "start_time": "2025-07-03T01:52:58.090Z"
   },
   {
    "duration": 105,
    "start_time": "2025-07-03T01:52:58.098Z"
   },
   {
    "duration": 227,
    "start_time": "2025-07-03T01:52:58.205Z"
   },
   {
    "duration": 92,
    "start_time": "2025-07-03T01:52:58.433Z"
   },
   {
    "duration": 124,
    "start_time": "2025-07-03T01:52:58.529Z"
   },
   {
    "duration": 327,
    "start_time": "2025-07-03T01:52:58.655Z"
   },
   {
    "duration": 59,
    "start_time": "2025-07-03T01:52:58.984Z"
   },
   {
    "duration": 107,
    "start_time": "2025-07-03T01:52:59.045Z"
   },
   {
    "duration": 226,
    "start_time": "2025-07-03T01:52:59.154Z"
   },
   {
    "duration": 11,
    "start_time": "2025-07-03T01:52:59.382Z"
   },
   {
    "duration": 41,
    "start_time": "2025-07-03T01:52:59.395Z"
   },
   {
    "duration": 2,
    "start_time": "2025-07-03T01:52:59.438Z"
   },
   {
    "duration": 857,
    "start_time": "2025-07-03T01:52:59.442Z"
   },
   {
    "duration": 9,
    "start_time": "2025-07-03T01:53:00.301Z"
   },
   {
    "duration": 104,
    "start_time": "2025-07-03T01:53:00.312Z"
   },
   {
    "duration": 3,
    "start_time": "2025-07-03T01:53:00.418Z"
   },
   {
    "duration": 101,
    "start_time": "2025-07-03T01:53:00.423Z"
   },
   {
    "duration": 34,
    "start_time": "2025-07-03T01:53:00.525Z"
   },
   {
    "duration": 39,
    "start_time": "2025-07-03T01:53:00.561Z"
   },
   {
    "duration": 1334,
    "start_time": "2025-07-03T01:53:00.602Z"
   },
   {
    "duration": 3,
    "start_time": "2025-07-03T01:53:01.937Z"
   },
   {
    "duration": 79,
    "start_time": "2025-07-03T01:53:01.942Z"
   },
   {
    "duration": 10,
    "start_time": "2025-07-03T01:53:02.023Z"
   },
   {
    "duration": 1727,
    "start_time": "2025-07-03T01:53:02.034Z"
   },
   {
    "duration": 4261,
    "start_time": "2025-07-03T01:53:03.771Z"
   },
   {
    "duration": 2439,
    "start_time": "2025-07-03T01:54:08.767Z"
   },
   {
    "duration": 2424,
    "start_time": "2025-07-03T01:54:11.208Z"
   },
   {
    "duration": 2394,
    "start_time": "2025-07-03T01:54:13.634Z"
   },
   {
    "duration": 1696,
    "start_time": "2025-07-03T01:54:16.031Z"
   },
   {
    "duration": 72,
    "start_time": "2025-07-03T01:54:17.729Z"
   },
   {
    "duration": 26,
    "start_time": "2025-07-03T01:54:17.803Z"
   },
   {
    "duration": 11,
    "start_time": "2025-07-03T01:54:17.831Z"
   },
   {
    "duration": 24,
    "start_time": "2025-07-03T01:54:17.844Z"
   },
   {
    "duration": 26,
    "start_time": "2025-07-03T01:54:17.870Z"
   },
   {
    "duration": 12,
    "start_time": "2025-07-03T01:54:17.899Z"
   },
   {
    "duration": 15,
    "start_time": "2025-07-03T01:54:17.912Z"
   },
   {
    "duration": 15,
    "start_time": "2025-07-03T01:54:17.928Z"
   },
   {
    "duration": 16,
    "start_time": "2025-07-03T01:54:17.945Z"
   },
   {
    "duration": 9,
    "start_time": "2025-07-03T01:54:17.971Z"
   },
   {
    "duration": 8,
    "start_time": "2025-07-03T01:54:17.981Z"
   },
   {
    "duration": 8,
    "start_time": "2025-07-03T01:54:17.990Z"
   },
   {
    "duration": 8,
    "start_time": "2025-07-03T01:54:18.000Z"
   },
   {
    "duration": 8,
    "start_time": "2025-07-03T01:54:18.010Z"
   },
   {
    "duration": 734,
    "start_time": "2025-07-03T01:54:18.020Z"
   },
   {
    "duration": 596,
    "start_time": "2025-07-03T01:54:18.755Z"
   },
   {
    "duration": 722,
    "start_time": "2025-07-03T01:54:19.352Z"
   },
   {
    "duration": 326,
    "start_time": "2025-07-03T01:54:20.076Z"
   },
   {
    "duration": 99,
    "start_time": "2025-07-03T01:54:20.404Z"
   },
   {
    "duration": 6,
    "start_time": "2025-07-03T01:54:20.504Z"
   },
   {
    "duration": 100,
    "start_time": "2025-07-03T01:54:20.511Z"
   },
   {
    "duration": 220,
    "start_time": "2025-07-03T01:54:20.613Z"
   },
   {
    "duration": 97,
    "start_time": "2025-07-03T01:54:20.835Z"
   },
   {
    "duration": 118,
    "start_time": "2025-07-03T01:54:20.935Z"
   },
   {
    "duration": 333,
    "start_time": "2025-07-03T01:54:21.055Z"
   },
   {
    "duration": 59,
    "start_time": "2025-07-03T01:54:21.390Z"
   },
   {
    "duration": 103,
    "start_time": "2025-07-03T01:54:21.451Z"
   },
   {
    "duration": 226,
    "start_time": "2025-07-03T01:54:21.556Z"
   },
   {
    "duration": 12,
    "start_time": "2025-07-03T01:54:21.783Z"
   },
   {
    "duration": 53,
    "start_time": "2025-07-03T01:54:21.797Z"
   },
   {
    "duration": 3,
    "start_time": "2025-07-03T01:54:21.852Z"
   },
   {
    "duration": 875,
    "start_time": "2025-07-03T01:54:21.856Z"
   },
   {
    "duration": 10,
    "start_time": "2025-07-03T01:54:22.733Z"
   },
   {
    "duration": 36,
    "start_time": "2025-07-03T01:54:22.744Z"
   },
   {
    "duration": 4,
    "start_time": "2025-07-03T01:54:22.782Z"
   },
   {
    "duration": 7,
    "start_time": "2025-07-03T01:54:22.787Z"
   },
   {
    "duration": 11,
    "start_time": "2025-07-03T01:54:22.795Z"
   },
   {
    "duration": 5,
    "start_time": "2025-07-03T01:54:22.807Z"
   },
   {
    "duration": 159,
    "start_time": "2025-07-03T01:54:22.814Z"
   },
   {
    "duration": 0,
    "start_time": "2025-07-03T01:54:22.974Z"
   },
   {
    "duration": 0,
    "start_time": "2025-07-03T01:54:22.975Z"
   },
   {
    "duration": 0,
    "start_time": "2025-07-03T01:54:22.976Z"
   },
   {
    "duration": 0,
    "start_time": "2025-07-03T01:54:22.977Z"
   },
   {
    "duration": 0,
    "start_time": "2025-07-03T01:54:22.978Z"
   },
   {
    "duration": 2582,
    "start_time": "2025-07-03T01:55:24.829Z"
   },
   {
    "duration": 2400,
    "start_time": "2025-07-03T01:55:27.413Z"
   },
   {
    "duration": 2438,
    "start_time": "2025-07-03T01:55:29.815Z"
   },
   {
    "duration": 1803,
    "start_time": "2025-07-03T01:55:32.255Z"
   },
   {
    "duration": 74,
    "start_time": "2025-07-03T01:55:34.060Z"
   },
   {
    "duration": 30,
    "start_time": "2025-07-03T01:55:34.136Z"
   },
   {
    "duration": 12,
    "start_time": "2025-07-03T01:55:34.168Z"
   },
   {
    "duration": 13,
    "start_time": "2025-07-03T01:55:34.182Z"
   },
   {
    "duration": 17,
    "start_time": "2025-07-03T01:55:34.197Z"
   },
   {
    "duration": 30,
    "start_time": "2025-07-03T01:55:34.217Z"
   },
   {
    "duration": 15,
    "start_time": "2025-07-03T01:55:34.248Z"
   },
   {
    "duration": 18,
    "start_time": "2025-07-03T01:55:34.265Z"
   },
   {
    "duration": 13,
    "start_time": "2025-07-03T01:55:34.285Z"
   },
   {
    "duration": 21,
    "start_time": "2025-07-03T01:55:34.300Z"
   },
   {
    "duration": 84,
    "start_time": "2025-07-03T01:55:34.323Z"
   },
   {
    "duration": 20,
    "start_time": "2025-07-03T01:55:34.409Z"
   },
   {
    "duration": 23,
    "start_time": "2025-07-03T01:55:34.431Z"
   },
   {
    "duration": 5,
    "start_time": "2025-07-03T01:55:34.456Z"
   },
   {
    "duration": 727,
    "start_time": "2025-07-03T01:55:34.462Z"
   },
   {
    "duration": 601,
    "start_time": "2025-07-03T01:55:35.191Z"
   },
   {
    "duration": 723,
    "start_time": "2025-07-03T01:55:35.794Z"
   },
   {
    "duration": 330,
    "start_time": "2025-07-03T01:55:36.519Z"
   },
   {
    "duration": 102,
    "start_time": "2025-07-03T01:55:36.851Z"
   },
   {
    "duration": 17,
    "start_time": "2025-07-03T01:55:36.955Z"
   },
   {
    "duration": 98,
    "start_time": "2025-07-03T01:55:36.974Z"
   },
   {
    "duration": 224,
    "start_time": "2025-07-03T01:55:37.074Z"
   },
   {
    "duration": 91,
    "start_time": "2025-07-03T01:55:37.300Z"
   },
   {
    "duration": 110,
    "start_time": "2025-07-03T01:55:37.394Z"
   },
   {
    "duration": 326,
    "start_time": "2025-07-03T01:55:37.505Z"
   },
   {
    "duration": 72,
    "start_time": "2025-07-03T01:55:37.832Z"
   },
   {
    "duration": 101,
    "start_time": "2025-07-03T01:55:37.906Z"
   },
   {
    "duration": 215,
    "start_time": "2025-07-03T01:55:38.009Z"
   },
   {
    "duration": 11,
    "start_time": "2025-07-03T01:55:38.226Z"
   },
   {
    "duration": 59,
    "start_time": "2025-07-03T01:55:38.238Z"
   },
   {
    "duration": 3,
    "start_time": "2025-07-03T01:55:38.298Z"
   },
   {
    "duration": 816,
    "start_time": "2025-07-03T01:55:38.303Z"
   },
   {
    "duration": 9,
    "start_time": "2025-07-03T01:55:39.120Z"
   },
   {
    "duration": 24,
    "start_time": "2025-07-03T01:55:39.130Z"
   },
   {
    "duration": 15,
    "start_time": "2025-07-03T01:55:39.156Z"
   },
   {
    "duration": 4,
    "start_time": "2025-07-03T01:55:39.172Z"
   },
   {
    "duration": 10,
    "start_time": "2025-07-03T01:55:39.177Z"
   },
   {
    "duration": 5,
    "start_time": "2025-07-03T01:55:39.189Z"
   },
   {
    "duration": 1683,
    "start_time": "2025-07-03T01:55:39.195Z"
   },
   {
    "duration": 3,
    "start_time": "2025-07-03T01:55:40.880Z"
   },
   {
    "duration": 60,
    "start_time": "2025-07-03T01:55:40.885Z"
   },
   {
    "duration": 35,
    "start_time": "2025-07-03T01:55:40.947Z"
   },
   {
    "duration": 1673,
    "start_time": "2025-07-03T01:55:40.984Z"
   },
   {
    "duration": 4201,
    "start_time": "2025-07-03T01:55:42.659Z"
   },
   {
    "duration": 2616,
    "start_time": "2025-07-03T01:56:38.199Z"
   },
   {
    "duration": 2522,
    "start_time": "2025-07-03T01:56:40.817Z"
   },
   {
    "duration": 2362,
    "start_time": "2025-07-03T01:56:43.342Z"
   },
   {
    "duration": 1715,
    "start_time": "2025-07-03T01:56:45.708Z"
   },
   {
    "duration": 73,
    "start_time": "2025-07-03T01:56:47.425Z"
   },
   {
    "duration": 28,
    "start_time": "2025-07-03T01:56:47.500Z"
   },
   {
    "duration": 12,
    "start_time": "2025-07-03T01:56:47.530Z"
   },
   {
    "duration": 14,
    "start_time": "2025-07-03T01:56:47.544Z"
   },
   {
    "duration": 16,
    "start_time": "2025-07-03T01:56:47.559Z"
   },
   {
    "duration": 13,
    "start_time": "2025-07-03T01:56:47.577Z"
   },
   {
    "duration": 11,
    "start_time": "2025-07-03T01:56:47.592Z"
   },
   {
    "duration": 11,
    "start_time": "2025-07-03T01:56:47.605Z"
   },
   {
    "duration": 11,
    "start_time": "2025-07-03T01:56:47.617Z"
   },
   {
    "duration": 47,
    "start_time": "2025-07-03T01:56:47.630Z"
   },
   {
    "duration": 101,
    "start_time": "2025-07-03T01:56:47.679Z"
   },
   {
    "duration": 7,
    "start_time": "2025-07-03T01:56:47.781Z"
   },
   {
    "duration": 6,
    "start_time": "2025-07-03T01:56:47.790Z"
   },
   {
    "duration": 3,
    "start_time": "2025-07-03T01:56:47.798Z"
   },
   {
    "duration": 725,
    "start_time": "2025-07-03T01:56:47.802Z"
   },
   {
    "duration": 607,
    "start_time": "2025-07-03T01:56:48.529Z"
   },
   {
    "duration": 692,
    "start_time": "2025-07-03T01:56:49.138Z"
   },
   {
    "duration": 326,
    "start_time": "2025-07-03T01:56:49.832Z"
   },
   {
    "duration": 96,
    "start_time": "2025-07-03T01:56:50.160Z"
   },
   {
    "duration": 17,
    "start_time": "2025-07-03T01:56:50.258Z"
   },
   {
    "duration": 104,
    "start_time": "2025-07-03T01:56:50.276Z"
   },
   {
    "duration": 218,
    "start_time": "2025-07-03T01:56:50.382Z"
   },
   {
    "duration": 89,
    "start_time": "2025-07-03T01:56:50.602Z"
   },
   {
    "duration": 109,
    "start_time": "2025-07-03T01:56:50.694Z"
   },
   {
    "duration": 357,
    "start_time": "2025-07-03T01:56:50.805Z"
   },
   {
    "duration": 62,
    "start_time": "2025-07-03T01:56:51.171Z"
   },
   {
    "duration": 111,
    "start_time": "2025-07-03T01:56:51.234Z"
   },
   {
    "duration": 219,
    "start_time": "2025-07-03T01:56:51.347Z"
   },
   {
    "duration": 12,
    "start_time": "2025-07-03T01:56:51.570Z"
   },
   {
    "duration": 69,
    "start_time": "2025-07-03T01:56:51.584Z"
   },
   {
    "duration": 3,
    "start_time": "2025-07-03T01:56:51.655Z"
   },
   {
    "duration": 953,
    "start_time": "2025-07-03T01:56:51.659Z"
   },
   {
    "duration": 8,
    "start_time": "2025-07-03T01:56:52.614Z"
   },
   {
    "duration": 63,
    "start_time": "2025-07-03T01:56:52.624Z"
   },
   {
    "duration": 5,
    "start_time": "2025-07-03T01:56:52.688Z"
   },
   {
    "duration": 11,
    "start_time": "2025-07-03T01:56:52.695Z"
   },
   {
    "duration": 11,
    "start_time": "2025-07-03T01:56:52.707Z"
   },
   {
    "duration": 6,
    "start_time": "2025-07-03T01:56:52.719Z"
   },
   {
    "duration": 1673,
    "start_time": "2025-07-03T01:56:52.726Z"
   },
   {
    "duration": 3,
    "start_time": "2025-07-03T01:56:54.400Z"
   },
   {
    "duration": 75,
    "start_time": "2025-07-03T01:56:54.404Z"
   },
   {
    "duration": 30,
    "start_time": "2025-07-03T01:56:54.480Z"
   },
   {
    "duration": 3204,
    "start_time": "2025-07-03T01:56:54.512Z"
   },
   {
    "duration": 4220,
    "start_time": "2025-07-03T01:56:57.718Z"
   },
   {
    "duration": 138,
    "start_time": "2025-07-03T02:04:59.912Z"
   },
   {
    "duration": 12,
    "start_time": "2025-07-03T02:09:28.315Z"
   },
   {
    "duration": 11,
    "start_time": "2025-07-03T02:16:17.783Z"
   },
   {
    "duration": 10,
    "start_time": "2025-07-03T02:20:45.708Z"
   },
   {
    "duration": 1412,
    "start_time": "2025-07-03T02:27:04.453Z"
   },
   {
    "duration": 46,
    "start_time": "2025-07-03T02:30:39.820Z"
   },
   {
    "duration": 18,
    "start_time": "2025-07-03T02:31:21.919Z"
   },
   {
    "duration": 2490,
    "start_time": "2025-07-03T02:31:29.413Z"
   },
   {
    "duration": 2409,
    "start_time": "2025-07-03T02:31:31.905Z"
   },
   {
    "duration": 2428,
    "start_time": "2025-07-03T02:31:34.316Z"
   },
   {
    "duration": 1774,
    "start_time": "2025-07-03T02:31:36.747Z"
   },
   {
    "duration": 82,
    "start_time": "2025-07-03T02:31:38.523Z"
   },
   {
    "duration": 28,
    "start_time": "2025-07-03T02:31:38.606Z"
   },
   {
    "duration": 12,
    "start_time": "2025-07-03T02:31:38.636Z"
   },
   {
    "duration": 26,
    "start_time": "2025-07-03T02:31:38.649Z"
   },
   {
    "duration": 14,
    "start_time": "2025-07-03T02:31:38.676Z"
   },
   {
    "duration": 12,
    "start_time": "2025-07-03T02:31:38.692Z"
   },
   {
    "duration": 11,
    "start_time": "2025-07-03T02:31:38.706Z"
   },
   {
    "duration": 30,
    "start_time": "2025-07-03T02:31:38.718Z"
   },
   {
    "duration": 22,
    "start_time": "2025-07-03T02:31:38.750Z"
   },
   {
    "duration": 9,
    "start_time": "2025-07-03T02:31:38.774Z"
   },
   {
    "duration": 9,
    "start_time": "2025-07-03T02:31:38.785Z"
   },
   {
    "duration": 14,
    "start_time": "2025-07-03T02:31:38.796Z"
   },
   {
    "duration": 14,
    "start_time": "2025-07-03T02:31:38.811Z"
   },
   {
    "duration": 23,
    "start_time": "2025-07-03T02:31:38.827Z"
   },
   {
    "duration": 722,
    "start_time": "2025-07-03T02:31:38.852Z"
   },
   {
    "duration": 604,
    "start_time": "2025-07-03T02:31:39.575Z"
   },
   {
    "duration": 711,
    "start_time": "2025-07-03T02:31:40.181Z"
   },
   {
    "duration": 343,
    "start_time": "2025-07-03T02:31:40.893Z"
   },
   {
    "duration": 107,
    "start_time": "2025-07-03T02:31:41.238Z"
   },
   {
    "duration": 8,
    "start_time": "2025-07-03T02:31:41.347Z"
   },
   {
    "duration": 146,
    "start_time": "2025-07-03T02:31:41.356Z"
   },
   {
    "duration": 223,
    "start_time": "2025-07-03T02:31:41.504Z"
   },
   {
    "duration": 97,
    "start_time": "2025-07-03T02:31:41.729Z"
   },
   {
    "duration": 114,
    "start_time": "2025-07-03T02:31:41.831Z"
   },
   {
    "duration": 373,
    "start_time": "2025-07-03T02:31:41.947Z"
   },
   {
    "duration": 80,
    "start_time": "2025-07-03T02:31:42.323Z"
   },
   {
    "duration": 100,
    "start_time": "2025-07-03T02:31:42.404Z"
   },
   {
    "duration": 232,
    "start_time": "2025-07-03T02:31:42.505Z"
   },
   {
    "duration": 32,
    "start_time": "2025-07-03T02:31:42.739Z"
   },
   {
    "duration": 45,
    "start_time": "2025-07-03T02:31:42.773Z"
   },
   {
    "duration": 3,
    "start_time": "2025-07-03T02:31:42.820Z"
   },
   {
    "duration": 873,
    "start_time": "2025-07-03T02:31:42.825Z"
   },
   {
    "duration": 10,
    "start_time": "2025-07-03T02:31:43.700Z"
   },
   {
    "duration": 27,
    "start_time": "2025-07-03T02:31:43.711Z"
   },
   {
    "duration": 164,
    "start_time": "2025-07-03T02:31:43.740Z"
   },
   {
    "duration": 0,
    "start_time": "2025-07-03T02:31:43.906Z"
   },
   {
    "duration": 0,
    "start_time": "2025-07-03T02:31:43.907Z"
   },
   {
    "duration": 0,
    "start_time": "2025-07-03T02:31:43.908Z"
   },
   {
    "duration": 0,
    "start_time": "2025-07-03T02:31:43.909Z"
   },
   {
    "duration": 0,
    "start_time": "2025-07-03T02:31:43.910Z"
   },
   {
    "duration": 0,
    "start_time": "2025-07-03T02:31:43.911Z"
   },
   {
    "duration": 0,
    "start_time": "2025-07-03T02:31:43.912Z"
   },
   {
    "duration": 0,
    "start_time": "2025-07-03T02:31:43.913Z"
   },
   {
    "duration": 0,
    "start_time": "2025-07-03T02:31:43.914Z"
   },
   {
    "duration": 22,
    "start_time": "2025-07-03T02:32:48.472Z"
   },
   {
    "duration": 2705,
    "start_time": "2025-07-03T02:41:05.860Z"
   },
   {
    "duration": 2387,
    "start_time": "2025-07-03T02:41:08.567Z"
   },
   {
    "duration": 2415,
    "start_time": "2025-07-03T02:41:10.956Z"
   },
   {
    "duration": 1722,
    "start_time": "2025-07-03T02:41:13.374Z"
   },
   {
    "duration": 72,
    "start_time": "2025-07-03T02:41:15.097Z"
   },
   {
    "duration": 28,
    "start_time": "2025-07-03T02:41:15.171Z"
   },
   {
    "duration": 12,
    "start_time": "2025-07-03T02:41:15.201Z"
   },
   {
    "duration": 13,
    "start_time": "2025-07-03T02:41:15.214Z"
   },
   {
    "duration": 43,
    "start_time": "2025-07-03T02:41:15.229Z"
   },
   {
    "duration": 14,
    "start_time": "2025-07-03T02:41:15.275Z"
   },
   {
    "duration": 33,
    "start_time": "2025-07-03T02:41:15.291Z"
   },
   {
    "duration": 11,
    "start_time": "2025-07-03T02:41:15.326Z"
   },
   {
    "duration": 24,
    "start_time": "2025-07-03T02:41:15.338Z"
   },
   {
    "duration": 8,
    "start_time": "2025-07-03T02:41:15.363Z"
   },
   {
    "duration": 81,
    "start_time": "2025-07-03T02:41:15.373Z"
   },
   {
    "duration": 8,
    "start_time": "2025-07-03T02:41:15.455Z"
   },
   {
    "duration": 16,
    "start_time": "2025-07-03T02:41:15.464Z"
   },
   {
    "duration": 93,
    "start_time": "2025-07-03T02:41:15.482Z"
   },
   {
    "duration": 746,
    "start_time": "2025-07-03T02:41:15.577Z"
   },
   {
    "duration": 605,
    "start_time": "2025-07-03T02:41:16.325Z"
   },
   {
    "duration": 709,
    "start_time": "2025-07-03T02:41:16.932Z"
   },
   {
    "duration": 335,
    "start_time": "2025-07-03T02:41:17.642Z"
   },
   {
    "duration": 93,
    "start_time": "2025-07-03T02:41:17.979Z"
   },
   {
    "duration": 6,
    "start_time": "2025-07-03T02:41:18.074Z"
   },
   {
    "duration": 100,
    "start_time": "2025-07-03T02:41:18.081Z"
   },
   {
    "duration": 226,
    "start_time": "2025-07-03T02:41:18.183Z"
   },
   {
    "duration": 86,
    "start_time": "2025-07-03T02:41:18.410Z"
   },
   {
    "duration": 110,
    "start_time": "2025-07-03T02:41:18.499Z"
   },
   {
    "duration": 338,
    "start_time": "2025-07-03T02:41:18.610Z"
   },
   {
    "duration": 73,
    "start_time": "2025-07-03T02:41:18.950Z"
   },
   {
    "duration": 107,
    "start_time": "2025-07-03T02:41:19.024Z"
   },
   {
    "duration": 214,
    "start_time": "2025-07-03T02:41:19.133Z"
   },
   {
    "duration": 28,
    "start_time": "2025-07-03T02:41:19.349Z"
   },
   {
    "duration": 42,
    "start_time": "2025-07-03T02:41:19.379Z"
   },
   {
    "duration": 13,
    "start_time": "2025-07-03T02:41:19.422Z"
   },
   {
    "duration": 864,
    "start_time": "2025-07-03T02:41:19.436Z"
   },
   {
    "duration": 10,
    "start_time": "2025-07-03T02:41:20.302Z"
   },
   {
    "duration": 19,
    "start_time": "2025-07-03T02:41:20.313Z"
   },
   {
    "duration": 3,
    "start_time": "2025-07-03T02:41:20.333Z"
   },
   {
    "duration": 35,
    "start_time": "2025-07-03T02:41:20.337Z"
   },
   {
    "duration": 162,
    "start_time": "2025-07-03T02:41:20.374Z"
   },
   {
    "duration": 0,
    "start_time": "2025-07-03T02:41:20.538Z"
   },
   {
    "duration": 0,
    "start_time": "2025-07-03T02:41:20.540Z"
   },
   {
    "duration": 0,
    "start_time": "2025-07-03T02:41:20.540Z"
   },
   {
    "duration": 0,
    "start_time": "2025-07-03T02:41:20.541Z"
   },
   {
    "duration": 0,
    "start_time": "2025-07-03T02:41:20.542Z"
   },
   {
    "duration": 0,
    "start_time": "2025-07-03T02:41:20.543Z"
   },
   {
    "duration": 0,
    "start_time": "2025-07-03T02:41:20.544Z"
   },
   {
    "duration": 21,
    "start_time": "2025-07-03T02:41:52.990Z"
   },
   {
    "duration": 2488,
    "start_time": "2025-07-03T02:47:03.997Z"
   },
   {
    "duration": 2448,
    "start_time": "2025-07-03T02:47:06.487Z"
   },
   {
    "duration": 2352,
    "start_time": "2025-07-03T02:47:08.937Z"
   },
   {
    "duration": 1777,
    "start_time": "2025-07-03T02:47:11.292Z"
   },
   {
    "duration": 74,
    "start_time": "2025-07-03T02:47:13.071Z"
   },
   {
    "duration": 28,
    "start_time": "2025-07-03T02:47:13.147Z"
   },
   {
    "duration": 12,
    "start_time": "2025-07-03T02:47:13.176Z"
   },
   {
    "duration": 17,
    "start_time": "2025-07-03T02:47:13.190Z"
   },
   {
    "duration": 11,
    "start_time": "2025-07-03T02:47:13.208Z"
   },
   {
    "duration": 12,
    "start_time": "2025-07-03T02:47:13.221Z"
   },
   {
    "duration": 43,
    "start_time": "2025-07-03T02:47:13.234Z"
   },
   {
    "duration": 12,
    "start_time": "2025-07-03T02:47:13.278Z"
   },
   {
    "duration": 11,
    "start_time": "2025-07-03T02:47:13.291Z"
   },
   {
    "duration": 10,
    "start_time": "2025-07-03T02:47:13.305Z"
   },
   {
    "duration": 12,
    "start_time": "2025-07-03T02:47:13.317Z"
   },
   {
    "duration": 42,
    "start_time": "2025-07-03T02:47:13.332Z"
   },
   {
    "duration": 9,
    "start_time": "2025-07-03T02:47:13.376Z"
   },
   {
    "duration": 5,
    "start_time": "2025-07-03T02:47:13.387Z"
   },
   {
    "duration": 752,
    "start_time": "2025-07-03T02:47:13.393Z"
   },
   {
    "duration": 600,
    "start_time": "2025-07-03T02:47:14.147Z"
   },
   {
    "duration": 707,
    "start_time": "2025-07-03T02:47:14.749Z"
   },
   {
    "duration": 351,
    "start_time": "2025-07-03T02:47:15.457Z"
   },
   {
    "duration": 105,
    "start_time": "2025-07-03T02:47:15.809Z"
   },
   {
    "duration": 29,
    "start_time": "2025-07-03T02:47:15.915Z"
   },
   {
    "duration": 93,
    "start_time": "2025-07-03T02:47:15.946Z"
   },
   {
    "duration": 252,
    "start_time": "2025-07-03T02:47:16.041Z"
   },
   {
    "duration": 89,
    "start_time": "2025-07-03T02:47:16.295Z"
   },
   {
    "duration": 118,
    "start_time": "2025-07-03T02:47:16.386Z"
   },
   {
    "duration": 356,
    "start_time": "2025-07-03T02:47:16.506Z"
   },
   {
    "duration": 69,
    "start_time": "2025-07-03T02:47:16.864Z"
   },
   {
    "duration": 119,
    "start_time": "2025-07-03T02:47:16.935Z"
   },
   {
    "duration": 236,
    "start_time": "2025-07-03T02:47:17.056Z"
   },
   {
    "duration": 12,
    "start_time": "2025-07-03T02:47:17.294Z"
   },
   {
    "duration": 67,
    "start_time": "2025-07-03T02:47:17.308Z"
   },
   {
    "duration": 3,
    "start_time": "2025-07-03T02:47:17.377Z"
   },
   {
    "duration": 880,
    "start_time": "2025-07-03T02:47:17.381Z"
   },
   {
    "duration": 14,
    "start_time": "2025-07-03T02:47:18.262Z"
   },
   {
    "duration": 34,
    "start_time": "2025-07-03T02:47:18.278Z"
   },
   {
    "duration": 3,
    "start_time": "2025-07-03T02:47:18.314Z"
   },
   {
    "duration": 6,
    "start_time": "2025-07-03T02:47:18.319Z"
   },
   {
    "duration": 20,
    "start_time": "2025-07-03T02:47:18.329Z"
   },
   {
    "duration": 5,
    "start_time": "2025-07-03T02:47:18.371Z"
   },
   {
    "duration": 1729,
    "start_time": "2025-07-03T02:47:18.377Z"
   },
   {
    "duration": 3,
    "start_time": "2025-07-03T02:47:20.108Z"
   },
   {
    "duration": 163,
    "start_time": "2025-07-03T02:47:20.112Z"
   },
   {
    "duration": 0,
    "start_time": "2025-07-03T02:47:20.276Z"
   },
   {
    "duration": 65,
    "start_time": "2025-07-03T02:54:35.156Z"
   },
   {
    "duration": 45,
    "start_time": "2025-07-03T02:55:03.887Z"
   },
   {
    "duration": 17,
    "start_time": "2025-07-03T02:56:18.961Z"
   },
   {
    "duration": 2473,
    "start_time": "2025-07-03T02:56:38.763Z"
   },
   {
    "duration": 2459,
    "start_time": "2025-07-03T02:56:41.238Z"
   },
   {
    "duration": 2429,
    "start_time": "2025-07-03T02:56:43.700Z"
   },
   {
    "duration": 1704,
    "start_time": "2025-07-03T02:56:46.132Z"
   },
   {
    "duration": 71,
    "start_time": "2025-07-03T02:56:47.838Z"
   },
   {
    "duration": 26,
    "start_time": "2025-07-03T02:56:47.911Z"
   },
   {
    "duration": 34,
    "start_time": "2025-07-03T02:56:47.938Z"
   },
   {
    "duration": 28,
    "start_time": "2025-07-03T02:56:47.974Z"
   },
   {
    "duration": 24,
    "start_time": "2025-07-03T02:56:48.004Z"
   },
   {
    "duration": 11,
    "start_time": "2025-07-03T02:56:48.031Z"
   },
   {
    "duration": 12,
    "start_time": "2025-07-03T02:56:48.043Z"
   },
   {
    "duration": 9,
    "start_time": "2025-07-03T02:56:48.057Z"
   },
   {
    "duration": 10,
    "start_time": "2025-07-03T02:56:48.070Z"
   },
   {
    "duration": 8,
    "start_time": "2025-07-03T02:56:48.082Z"
   },
   {
    "duration": 6,
    "start_time": "2025-07-03T02:56:48.091Z"
   },
   {
    "duration": 6,
    "start_time": "2025-07-03T02:56:48.098Z"
   },
   {
    "duration": 7,
    "start_time": "2025-07-03T02:56:48.106Z"
   },
   {
    "duration": 4,
    "start_time": "2025-07-03T02:56:48.114Z"
   },
   {
    "duration": 782,
    "start_time": "2025-07-03T02:56:48.119Z"
   },
   {
    "duration": 607,
    "start_time": "2025-07-03T02:56:48.903Z"
   },
   {
    "duration": 709,
    "start_time": "2025-07-03T02:56:49.512Z"
   },
   {
    "duration": 333,
    "start_time": "2025-07-03T02:56:50.223Z"
   },
   {
    "duration": 97,
    "start_time": "2025-07-03T02:56:50.557Z"
   },
   {
    "duration": 15,
    "start_time": "2025-07-03T02:56:50.656Z"
   },
   {
    "duration": 101,
    "start_time": "2025-07-03T02:56:50.673Z"
   },
   {
    "duration": 247,
    "start_time": "2025-07-03T02:56:50.776Z"
   },
   {
    "duration": 95,
    "start_time": "2025-07-03T02:56:51.024Z"
   },
   {
    "duration": 115,
    "start_time": "2025-07-03T02:56:51.123Z"
   },
   {
    "duration": 338,
    "start_time": "2025-07-03T02:56:51.240Z"
   },
   {
    "duration": 59,
    "start_time": "2025-07-03T02:56:51.580Z"
   },
   {
    "duration": 107,
    "start_time": "2025-07-03T02:56:51.640Z"
   },
   {
    "duration": 222,
    "start_time": "2025-07-03T02:56:51.749Z"
   },
   {
    "duration": 12,
    "start_time": "2025-07-03T02:56:51.973Z"
   },
   {
    "duration": 46,
    "start_time": "2025-07-03T02:56:51.987Z"
   },
   {
    "duration": 3,
    "start_time": "2025-07-03T02:56:52.035Z"
   },
   {
    "duration": 889,
    "start_time": "2025-07-03T02:56:52.039Z"
   },
   {
    "duration": 10,
    "start_time": "2025-07-03T02:56:52.930Z"
   },
   {
    "duration": 36,
    "start_time": "2025-07-03T02:56:52.942Z"
   },
   {
    "duration": 4,
    "start_time": "2025-07-03T02:56:52.980Z"
   },
   {
    "duration": 6,
    "start_time": "2025-07-03T02:56:52.985Z"
   },
   {
    "duration": 44,
    "start_time": "2025-07-03T02:56:52.992Z"
   },
   {
    "duration": 5,
    "start_time": "2025-07-03T02:56:53.038Z"
   },
   {
    "duration": 252,
    "start_time": "2025-07-03T02:56:53.072Z"
   },
   {
    "duration": 0,
    "start_time": "2025-07-03T02:56:53.326Z"
   },
   {
    "duration": 0,
    "start_time": "2025-07-03T02:56:53.327Z"
   },
   {
    "duration": 0,
    "start_time": "2025-07-03T02:56:53.328Z"
   },
   {
    "duration": 2415,
    "start_time": "2025-07-03T03:00:13.309Z"
   },
   {
    "duration": 2461,
    "start_time": "2025-07-03T03:00:15.727Z"
   },
   {
    "duration": 2470,
    "start_time": "2025-07-03T03:00:18.191Z"
   },
   {
    "duration": 1920,
    "start_time": "2025-07-03T03:00:20.664Z"
   },
   {
    "duration": 73,
    "start_time": "2025-07-03T03:00:22.586Z"
   },
   {
    "duration": 28,
    "start_time": "2025-07-03T03:00:22.661Z"
   },
   {
    "duration": 11,
    "start_time": "2025-07-03T03:00:22.691Z"
   },
   {
    "duration": 75,
    "start_time": "2025-07-03T03:00:22.703Z"
   },
   {
    "duration": 17,
    "start_time": "2025-07-03T03:00:22.779Z"
   },
   {
    "duration": 10,
    "start_time": "2025-07-03T03:00:22.798Z"
   },
   {
    "duration": 62,
    "start_time": "2025-07-03T03:00:22.809Z"
   },
   {
    "duration": 13,
    "start_time": "2025-07-03T03:00:22.873Z"
   },
   {
    "duration": 11,
    "start_time": "2025-07-03T03:00:22.888Z"
   },
   {
    "duration": 9,
    "start_time": "2025-07-03T03:00:22.901Z"
   },
   {
    "duration": 9,
    "start_time": "2025-07-03T03:00:22.911Z"
   },
   {
    "duration": 18,
    "start_time": "2025-07-03T03:00:22.921Z"
   },
   {
    "duration": 32,
    "start_time": "2025-07-03T03:00:22.941Z"
   },
   {
    "duration": 18,
    "start_time": "2025-07-03T03:00:22.975Z"
   },
   {
    "duration": 806,
    "start_time": "2025-07-03T03:00:22.995Z"
   },
   {
    "duration": 651,
    "start_time": "2025-07-03T03:00:23.802Z"
   },
   {
    "duration": 739,
    "start_time": "2025-07-03T03:00:24.455Z"
   },
   {
    "duration": 354,
    "start_time": "2025-07-03T03:00:25.195Z"
   },
   {
    "duration": 95,
    "start_time": "2025-07-03T03:00:25.550Z"
   },
   {
    "duration": 6,
    "start_time": "2025-07-03T03:00:25.647Z"
   },
   {
    "duration": 118,
    "start_time": "2025-07-03T03:00:25.655Z"
   },
   {
    "duration": 219,
    "start_time": "2025-07-03T03:00:25.775Z"
   },
   {
    "duration": 90,
    "start_time": "2025-07-03T03:00:25.996Z"
   },
   {
    "duration": 123,
    "start_time": "2025-07-03T03:00:26.089Z"
   },
   {
    "duration": 341,
    "start_time": "2025-07-03T03:00:26.213Z"
   },
   {
    "duration": 71,
    "start_time": "2025-07-03T03:00:26.556Z"
   },
   {
    "duration": 108,
    "start_time": "2025-07-03T03:00:26.628Z"
   },
   {
    "duration": 234,
    "start_time": "2025-07-03T03:00:26.737Z"
   },
   {
    "duration": 13,
    "start_time": "2025-07-03T03:00:26.972Z"
   },
   {
    "duration": 49,
    "start_time": "2025-07-03T03:00:26.986Z"
   },
   {
    "duration": 3,
    "start_time": "2025-07-03T03:00:27.037Z"
   },
   {
    "duration": 872,
    "start_time": "2025-07-03T03:00:27.041Z"
   },
   {
    "duration": 11,
    "start_time": "2025-07-03T03:00:27.915Z"
   },
   {
    "duration": 120,
    "start_time": "2025-07-03T03:00:27.928Z"
   },
   {
    "duration": 9,
    "start_time": "2025-07-03T03:00:28.050Z"
   },
   {
    "duration": 20,
    "start_time": "2025-07-03T03:00:28.061Z"
   },
   {
    "duration": 33,
    "start_time": "2025-07-03T03:00:28.083Z"
   },
   {
    "duration": 9,
    "start_time": "2025-07-03T03:00:28.118Z"
   },
   {
    "duration": 179,
    "start_time": "2025-07-03T03:00:28.129Z"
   },
   {
    "duration": 0,
    "start_time": "2025-07-03T03:00:28.311Z"
   },
   {
    "duration": 0,
    "start_time": "2025-07-03T03:00:28.313Z"
   },
   {
    "duration": 0,
    "start_time": "2025-07-03T03:00:28.314Z"
   },
   {
    "duration": 2501,
    "start_time": "2025-07-03T03:01:37.461Z"
   },
   {
    "duration": 2479,
    "start_time": "2025-07-03T03:01:39.965Z"
   },
   {
    "duration": 2510,
    "start_time": "2025-07-03T03:01:42.447Z"
   },
   {
    "duration": 1833,
    "start_time": "2025-07-03T03:01:44.960Z"
   },
   {
    "duration": 73,
    "start_time": "2025-07-03T03:01:46.795Z"
   },
   {
    "duration": 32,
    "start_time": "2025-07-03T03:01:46.870Z"
   },
   {
    "duration": 13,
    "start_time": "2025-07-03T03:01:46.904Z"
   },
   {
    "duration": 65,
    "start_time": "2025-07-03T03:01:46.919Z"
   },
   {
    "duration": 37,
    "start_time": "2025-07-03T03:01:46.986Z"
   },
   {
    "duration": 15,
    "start_time": "2025-07-03T03:01:47.026Z"
   },
   {
    "duration": 24,
    "start_time": "2025-07-03T03:01:47.043Z"
   },
   {
    "duration": 16,
    "start_time": "2025-07-03T03:01:47.069Z"
   },
   {
    "duration": 13,
    "start_time": "2025-07-03T03:01:47.087Z"
   },
   {
    "duration": 10,
    "start_time": "2025-07-03T03:01:47.102Z"
   },
   {
    "duration": 23,
    "start_time": "2025-07-03T03:01:47.114Z"
   },
   {
    "duration": 11,
    "start_time": "2025-07-03T03:01:47.139Z"
   },
   {
    "duration": 19,
    "start_time": "2025-07-03T03:01:47.152Z"
   },
   {
    "duration": 3,
    "start_time": "2025-07-03T03:01:47.173Z"
   },
   {
    "duration": 739,
    "start_time": "2025-07-03T03:01:47.178Z"
   },
   {
    "duration": 604,
    "start_time": "2025-07-03T03:01:47.918Z"
   },
   {
    "duration": 723,
    "start_time": "2025-07-03T03:01:48.524Z"
   },
   {
    "duration": 341,
    "start_time": "2025-07-03T03:01:49.249Z"
   },
   {
    "duration": 102,
    "start_time": "2025-07-03T03:01:49.592Z"
   },
   {
    "duration": 6,
    "start_time": "2025-07-03T03:01:49.696Z"
   },
   {
    "duration": 104,
    "start_time": "2025-07-03T03:01:49.704Z"
   },
   {
    "duration": 238,
    "start_time": "2025-07-03T03:01:49.810Z"
   },
   {
    "duration": 93,
    "start_time": "2025-07-03T03:01:50.050Z"
   },
   {
    "duration": 128,
    "start_time": "2025-07-03T03:01:50.149Z"
   },
   {
    "duration": 352,
    "start_time": "2025-07-03T03:01:50.278Z"
   },
   {
    "duration": 77,
    "start_time": "2025-07-03T03:01:50.632Z"
   },
   {
    "duration": 105,
    "start_time": "2025-07-03T03:01:50.710Z"
   },
   {
    "duration": 237,
    "start_time": "2025-07-03T03:01:50.816Z"
   },
   {
    "duration": 17,
    "start_time": "2025-07-03T03:01:51.060Z"
   },
   {
    "duration": 41,
    "start_time": "2025-07-03T03:01:51.078Z"
   },
   {
    "duration": 3,
    "start_time": "2025-07-03T03:01:51.121Z"
   },
   {
    "duration": 878,
    "start_time": "2025-07-03T03:01:51.125Z"
   },
   {
    "duration": 9,
    "start_time": "2025-07-03T03:01:52.004Z"
   },
   {
    "duration": 54,
    "start_time": "2025-07-03T03:01:52.015Z"
   },
   {
    "duration": 2,
    "start_time": "2025-07-03T03:01:52.071Z"
   },
   {
    "duration": 32,
    "start_time": "2025-07-03T03:01:52.075Z"
   },
   {
    "duration": 49,
    "start_time": "2025-07-03T03:01:52.109Z"
   },
   {
    "duration": 7,
    "start_time": "2025-07-03T03:01:52.159Z"
   },
   {
    "duration": 196,
    "start_time": "2025-07-03T03:01:52.167Z"
   },
   {
    "duration": 0,
    "start_time": "2025-07-03T03:01:52.364Z"
   },
   {
    "duration": 0,
    "start_time": "2025-07-03T03:01:52.366Z"
   },
   {
    "duration": 0,
    "start_time": "2025-07-03T03:01:52.367Z"
   },
   {
    "duration": 2537,
    "start_time": "2025-07-03T03:02:59.949Z"
   },
   {
    "duration": 2489,
    "start_time": "2025-07-03T03:03:02.489Z"
   },
   {
    "duration": 2466,
    "start_time": "2025-07-03T03:03:04.980Z"
   },
   {
    "duration": 1786,
    "start_time": "2025-07-03T03:03:07.448Z"
   },
   {
    "duration": 74,
    "start_time": "2025-07-03T03:03:09.236Z"
   },
   {
    "duration": 29,
    "start_time": "2025-07-03T03:03:09.311Z"
   },
   {
    "duration": 11,
    "start_time": "2025-07-03T03:03:09.341Z"
   },
   {
    "duration": 12,
    "start_time": "2025-07-03T03:03:09.354Z"
   },
   {
    "duration": 12,
    "start_time": "2025-07-03T03:03:09.367Z"
   },
   {
    "duration": 14,
    "start_time": "2025-07-03T03:03:09.380Z"
   },
   {
    "duration": 14,
    "start_time": "2025-07-03T03:03:09.396Z"
   },
   {
    "duration": 10,
    "start_time": "2025-07-03T03:03:09.412Z"
   },
   {
    "duration": 17,
    "start_time": "2025-07-03T03:03:09.424Z"
   },
   {
    "duration": 9,
    "start_time": "2025-07-03T03:03:09.473Z"
   },
   {
    "duration": 62,
    "start_time": "2025-07-03T03:03:09.484Z"
   },
   {
    "duration": 85,
    "start_time": "2025-07-03T03:03:09.548Z"
   },
   {
    "duration": 7,
    "start_time": "2025-07-03T03:03:09.634Z"
   },
   {
    "duration": 5,
    "start_time": "2025-07-03T03:03:09.643Z"
   },
   {
    "duration": 733,
    "start_time": "2025-07-03T03:03:09.649Z"
   },
   {
    "duration": 609,
    "start_time": "2025-07-03T03:03:10.383Z"
   },
   {
    "duration": 698,
    "start_time": "2025-07-03T03:03:10.993Z"
   },
   {
    "duration": 327,
    "start_time": "2025-07-03T03:03:11.692Z"
   },
   {
    "duration": 97,
    "start_time": "2025-07-03T03:03:12.021Z"
   },
   {
    "duration": 6,
    "start_time": "2025-07-03T03:03:12.119Z"
   },
   {
    "duration": 135,
    "start_time": "2025-07-03T03:03:12.127Z"
   },
   {
    "duration": 216,
    "start_time": "2025-07-03T03:03:12.264Z"
   },
   {
    "duration": 91,
    "start_time": "2025-07-03T03:03:12.482Z"
   },
   {
    "duration": 114,
    "start_time": "2025-07-03T03:03:12.575Z"
   },
   {
    "duration": 342,
    "start_time": "2025-07-03T03:03:12.691Z"
   },
   {
    "duration": 77,
    "start_time": "2025-07-03T03:03:13.035Z"
   },
   {
    "duration": 94,
    "start_time": "2025-07-03T03:03:13.114Z"
   },
   {
    "duration": 221,
    "start_time": "2025-07-03T03:03:13.210Z"
   },
   {
    "duration": 13,
    "start_time": "2025-07-03T03:03:13.433Z"
   },
   {
    "duration": 110,
    "start_time": "2025-07-03T03:03:13.448Z"
   },
   {
    "duration": 3,
    "start_time": "2025-07-03T03:03:13.560Z"
   },
   {
    "duration": 909,
    "start_time": "2025-07-03T03:03:13.564Z"
   },
   {
    "duration": 10,
    "start_time": "2025-07-03T03:03:14.474Z"
   },
   {
    "duration": 30,
    "start_time": "2025-07-03T03:03:14.486Z"
   },
   {
    "duration": 2,
    "start_time": "2025-07-03T03:03:14.518Z"
   },
   {
    "duration": 9,
    "start_time": "2025-07-03T03:03:14.522Z"
   },
   {
    "duration": 18,
    "start_time": "2025-07-03T03:03:14.535Z"
   },
   {
    "duration": 5,
    "start_time": "2025-07-03T03:03:14.572Z"
   },
   {
    "duration": 1718,
    "start_time": "2025-07-03T03:03:14.578Z"
   },
   {
    "duration": 2,
    "start_time": "2025-07-03T03:03:16.298Z"
   },
   {
    "duration": 164,
    "start_time": "2025-07-03T03:03:16.302Z"
   },
   {
    "duration": 0,
    "start_time": "2025-07-03T03:03:16.471Z"
   },
   {
    "duration": 3,
    "start_time": "2025-07-03T03:06:39.177Z"
   },
   {
    "duration": 4,
    "start_time": "2025-07-03T03:12:44.972Z"
   },
   {
    "duration": 24,
    "start_time": "2025-07-03T03:13:38.165Z"
   },
   {
    "duration": 2446,
    "start_time": "2025-07-03T03:13:58.757Z"
   },
   {
    "duration": 2453,
    "start_time": "2025-07-03T03:14:01.206Z"
   },
   {
    "duration": 2420,
    "start_time": "2025-07-03T03:14:03.661Z"
   },
   {
    "duration": 1778,
    "start_time": "2025-07-03T03:14:06.083Z"
   },
   {
    "duration": 72,
    "start_time": "2025-07-03T03:14:07.863Z"
   },
   {
    "duration": 31,
    "start_time": "2025-07-03T03:14:07.937Z"
   },
   {
    "duration": 13,
    "start_time": "2025-07-03T03:14:07.970Z"
   },
   {
    "duration": 116,
    "start_time": "2025-07-03T03:14:07.984Z"
   },
   {
    "duration": 12,
    "start_time": "2025-07-03T03:14:08.101Z"
   },
   {
    "duration": 15,
    "start_time": "2025-07-03T03:14:08.114Z"
   },
   {
    "duration": 50,
    "start_time": "2025-07-03T03:14:08.130Z"
   },
   {
    "duration": 30,
    "start_time": "2025-07-03T03:14:08.182Z"
   },
   {
    "duration": 38,
    "start_time": "2025-07-03T03:14:08.213Z"
   },
   {
    "duration": 13,
    "start_time": "2025-07-03T03:14:08.254Z"
   },
   {
    "duration": 17,
    "start_time": "2025-07-03T03:14:08.268Z"
   },
   {
    "duration": 9,
    "start_time": "2025-07-03T03:14:08.287Z"
   },
   {
    "duration": 9,
    "start_time": "2025-07-03T03:14:08.297Z"
   },
   {
    "duration": 7,
    "start_time": "2025-07-03T03:14:08.307Z"
   },
   {
    "duration": 743,
    "start_time": "2025-07-03T03:14:08.316Z"
   },
   {
    "duration": 613,
    "start_time": "2025-07-03T03:14:09.060Z"
   },
   {
    "duration": 697,
    "start_time": "2025-07-03T03:14:09.675Z"
   },
   {
    "duration": 336,
    "start_time": "2025-07-03T03:14:10.373Z"
   },
   {
    "duration": 100,
    "start_time": "2025-07-03T03:14:10.711Z"
   },
   {
    "duration": 6,
    "start_time": "2025-07-03T03:14:10.813Z"
   },
   {
    "duration": 122,
    "start_time": "2025-07-03T03:14:10.821Z"
   },
   {
    "duration": 229,
    "start_time": "2025-07-03T03:14:10.945Z"
   },
   {
    "duration": 74,
    "start_time": "2025-07-03T03:14:11.176Z"
   },
   {
    "duration": 122,
    "start_time": "2025-07-03T03:14:11.251Z"
   },
   {
    "duration": 331,
    "start_time": "2025-07-03T03:14:11.374Z"
   },
   {
    "duration": 71,
    "start_time": "2025-07-03T03:14:11.707Z"
   },
   {
    "duration": 98,
    "start_time": "2025-07-03T03:14:11.780Z"
   },
   {
    "duration": 231,
    "start_time": "2025-07-03T03:14:11.880Z"
   },
   {
    "duration": 13,
    "start_time": "2025-07-03T03:14:12.112Z"
   },
   {
    "duration": 61,
    "start_time": "2025-07-03T03:14:12.127Z"
   },
   {
    "duration": 3,
    "start_time": "2025-07-03T03:14:12.190Z"
   },
   {
    "duration": 903,
    "start_time": "2025-07-03T03:14:12.194Z"
   },
   {
    "duration": 11,
    "start_time": "2025-07-03T03:14:13.100Z"
   },
   {
    "duration": 19,
    "start_time": "2025-07-03T03:14:13.113Z"
   },
   {
    "duration": 3,
    "start_time": "2025-07-03T03:14:13.133Z"
   },
   {
    "duration": 35,
    "start_time": "2025-07-03T03:14:13.138Z"
   },
   {
    "duration": 27,
    "start_time": "2025-07-03T03:14:13.177Z"
   },
   {
    "duration": 5,
    "start_time": "2025-07-03T03:14:13.205Z"
   },
   {
    "duration": 1714,
    "start_time": "2025-07-03T03:14:13.212Z"
   },
   {
    "duration": 2,
    "start_time": "2025-07-03T03:14:14.928Z"
   },
   {
    "duration": 23,
    "start_time": "2025-07-03T03:14:14.931Z"
   },
   {
    "duration": 159,
    "start_time": "2025-07-03T03:14:14.956Z"
   },
   {
    "duration": 0,
    "start_time": "2025-07-03T03:14:15.117Z"
   },
   {
    "duration": 24,
    "start_time": "2025-07-03T03:14:37.975Z"
   },
   {
    "duration": 1413,
    "start_time": "2025-07-03T03:16:21.961Z"
   },
   {
    "duration": 3077,
    "start_time": "2025-07-03T03:16:43.243Z"
   },
   {
    "duration": 2516,
    "start_time": "2025-07-03T03:17:08.018Z"
   },
   {
    "duration": 2461,
    "start_time": "2025-07-03T03:17:10.536Z"
   },
   {
    "duration": 2417,
    "start_time": "2025-07-03T03:17:13.000Z"
   },
   {
    "duration": 1729,
    "start_time": "2025-07-03T03:17:15.419Z"
   },
   {
    "duration": 74,
    "start_time": "2025-07-03T03:17:17.150Z"
   },
   {
    "duration": 29,
    "start_time": "2025-07-03T03:17:17.226Z"
   },
   {
    "duration": 12,
    "start_time": "2025-07-03T03:17:17.257Z"
   },
   {
    "duration": 11,
    "start_time": "2025-07-03T03:17:17.270Z"
   },
   {
    "duration": 9,
    "start_time": "2025-07-03T03:17:17.283Z"
   },
   {
    "duration": 10,
    "start_time": "2025-07-03T03:17:17.293Z"
   },
   {
    "duration": 11,
    "start_time": "2025-07-03T03:17:17.305Z"
   },
   {
    "duration": 13,
    "start_time": "2025-07-03T03:17:17.317Z"
   },
   {
    "duration": 48,
    "start_time": "2025-07-03T03:17:17.332Z"
   },
   {
    "duration": 10,
    "start_time": "2025-07-03T03:17:17.383Z"
   },
   {
    "duration": 7,
    "start_time": "2025-07-03T03:17:17.395Z"
   },
   {
    "duration": 10,
    "start_time": "2025-07-03T03:17:17.403Z"
   },
   {
    "duration": 5,
    "start_time": "2025-07-03T03:17:17.414Z"
   },
   {
    "duration": 7,
    "start_time": "2025-07-03T03:17:17.421Z"
   },
   {
    "duration": 766,
    "start_time": "2025-07-03T03:17:17.430Z"
   },
   {
    "duration": 610,
    "start_time": "2025-07-03T03:17:18.197Z"
   },
   {
    "duration": 713,
    "start_time": "2025-07-03T03:17:18.808Z"
   },
   {
    "duration": 334,
    "start_time": "2025-07-03T03:17:19.522Z"
   },
   {
    "duration": 97,
    "start_time": "2025-07-03T03:17:19.858Z"
   },
   {
    "duration": 6,
    "start_time": "2025-07-03T03:17:19.957Z"
   },
   {
    "duration": 101,
    "start_time": "2025-07-03T03:17:19.972Z"
   },
   {
    "duration": 264,
    "start_time": "2025-07-03T03:17:20.075Z"
   },
   {
    "duration": 86,
    "start_time": "2025-07-03T03:17:20.341Z"
   },
   {
    "duration": 114,
    "start_time": "2025-07-03T03:17:20.428Z"
   },
   {
    "duration": 350,
    "start_time": "2025-07-03T03:17:20.544Z"
   },
   {
    "duration": 77,
    "start_time": "2025-07-03T03:17:20.896Z"
   },
   {
    "duration": 105,
    "start_time": "2025-07-03T03:17:20.975Z"
   },
   {
    "duration": 213,
    "start_time": "2025-07-03T03:17:21.081Z"
   },
   {
    "duration": 11,
    "start_time": "2025-07-03T03:17:21.296Z"
   },
   {
    "duration": 87,
    "start_time": "2025-07-03T03:17:21.309Z"
   },
   {
    "duration": 3,
    "start_time": "2025-07-03T03:17:21.398Z"
   },
   {
    "duration": 873,
    "start_time": "2025-07-03T03:17:21.402Z"
   },
   {
    "duration": 10,
    "start_time": "2025-07-03T03:17:22.277Z"
   },
   {
    "duration": 20,
    "start_time": "2025-07-03T03:17:22.289Z"
   },
   {
    "duration": 3,
    "start_time": "2025-07-03T03:17:22.311Z"
   },
   {
    "duration": 12,
    "start_time": "2025-07-03T03:17:22.316Z"
   },
   {
    "duration": 52,
    "start_time": "2025-07-03T03:17:22.332Z"
   },
   {
    "duration": 6,
    "start_time": "2025-07-03T03:17:22.386Z"
   },
   {
    "duration": 1679,
    "start_time": "2025-07-03T03:17:22.393Z"
   },
   {
    "duration": 2,
    "start_time": "2025-07-03T03:17:24.074Z"
   },
   {
    "duration": 64,
    "start_time": "2025-07-03T03:17:24.078Z"
   },
   {
    "duration": 164,
    "start_time": "2025-07-03T03:17:24.144Z"
   },
   {
    "duration": 0,
    "start_time": "2025-07-03T03:17:24.310Z"
   },
   {
    "duration": 2559,
    "start_time": "2025-07-03T03:17:41.355Z"
   },
   {
    "duration": 2420,
    "start_time": "2025-07-03T03:17:43.917Z"
   },
   {
    "duration": 2355,
    "start_time": "2025-07-03T03:17:46.340Z"
   },
   {
    "duration": 1757,
    "start_time": "2025-07-03T03:17:48.698Z"
   },
   {
    "duration": 75,
    "start_time": "2025-07-03T03:17:50.457Z"
   },
   {
    "duration": 31,
    "start_time": "2025-07-03T03:17:50.534Z"
   },
   {
    "duration": 13,
    "start_time": "2025-07-03T03:17:50.566Z"
   },
   {
    "duration": 23,
    "start_time": "2025-07-03T03:17:50.581Z"
   },
   {
    "duration": 15,
    "start_time": "2025-07-03T03:17:50.605Z"
   },
   {
    "duration": 11,
    "start_time": "2025-07-03T03:17:50.622Z"
   },
   {
    "duration": 25,
    "start_time": "2025-07-03T03:17:50.634Z"
   },
   {
    "duration": 12,
    "start_time": "2025-07-03T03:17:50.672Z"
   },
   {
    "duration": 31,
    "start_time": "2025-07-03T03:17:50.685Z"
   },
   {
    "duration": 9,
    "start_time": "2025-07-03T03:17:50.717Z"
   },
   {
    "duration": 11,
    "start_time": "2025-07-03T03:17:50.727Z"
   },
   {
    "duration": 7,
    "start_time": "2025-07-03T03:17:50.739Z"
   },
   {
    "duration": 25,
    "start_time": "2025-07-03T03:17:50.747Z"
   },
   {
    "duration": 25,
    "start_time": "2025-07-03T03:17:50.774Z"
   },
   {
    "duration": 790,
    "start_time": "2025-07-03T03:17:50.800Z"
   },
   {
    "duration": 634,
    "start_time": "2025-07-03T03:17:51.592Z"
   },
   {
    "duration": 743,
    "start_time": "2025-07-03T03:17:52.228Z"
   },
   {
    "duration": 329,
    "start_time": "2025-07-03T03:17:52.973Z"
   },
   {
    "duration": 107,
    "start_time": "2025-07-03T03:17:53.304Z"
   },
   {
    "duration": 6,
    "start_time": "2025-07-03T03:17:53.413Z"
   },
   {
    "duration": 108,
    "start_time": "2025-07-03T03:17:53.421Z"
   },
   {
    "duration": 224,
    "start_time": "2025-07-03T03:17:53.531Z"
   },
   {
    "duration": 90,
    "start_time": "2025-07-03T03:17:53.757Z"
   },
   {
    "duration": 122,
    "start_time": "2025-07-03T03:17:53.851Z"
   },
   {
    "duration": 349,
    "start_time": "2025-07-03T03:17:53.975Z"
   },
   {
    "duration": 78,
    "start_time": "2025-07-03T03:17:54.326Z"
   },
   {
    "duration": 98,
    "start_time": "2025-07-03T03:17:54.406Z"
   },
   {
    "duration": 219,
    "start_time": "2025-07-03T03:17:54.505Z"
   },
   {
    "duration": 12,
    "start_time": "2025-07-03T03:17:54.725Z"
   },
   {
    "duration": 60,
    "start_time": "2025-07-03T03:17:54.739Z"
   },
   {
    "duration": 3,
    "start_time": "2025-07-03T03:17:54.801Z"
   },
   {
    "duration": 902,
    "start_time": "2025-07-03T03:17:54.806Z"
   },
   {
    "duration": 9,
    "start_time": "2025-07-03T03:17:55.710Z"
   },
   {
    "duration": 25,
    "start_time": "2025-07-03T03:17:55.721Z"
   },
   {
    "duration": 3,
    "start_time": "2025-07-03T03:17:55.747Z"
   },
   {
    "duration": 20,
    "start_time": "2025-07-03T03:17:55.752Z"
   },
   {
    "duration": 19,
    "start_time": "2025-07-03T03:17:55.774Z"
   },
   {
    "duration": 5,
    "start_time": "2025-07-03T03:17:55.795Z"
   },
   {
    "duration": 1735,
    "start_time": "2025-07-03T03:17:55.802Z"
   },
   {
    "duration": 2,
    "start_time": "2025-07-03T03:17:57.539Z"
   },
   {
    "duration": 20,
    "start_time": "2025-07-03T03:17:57.543Z"
   },
   {
    "duration": 184,
    "start_time": "2025-07-03T03:17:57.564Z"
   },
   {
    "duration": 0,
    "start_time": "2025-07-03T03:17:57.749Z"
   },
   {
    "duration": 1502,
    "start_time": "2025-07-03T03:18:25.513Z"
   },
   {
    "duration": 2460,
    "start_time": "2025-07-03T03:18:37.352Z"
   },
   {
    "duration": 2454,
    "start_time": "2025-07-03T03:18:39.815Z"
   },
   {
    "duration": 2465,
    "start_time": "2025-07-03T03:18:42.271Z"
   },
   {
    "duration": 1726,
    "start_time": "2025-07-03T03:18:44.739Z"
   },
   {
    "duration": 72,
    "start_time": "2025-07-03T03:18:46.467Z"
   },
   {
    "duration": 28,
    "start_time": "2025-07-03T03:18:46.540Z"
   },
   {
    "duration": 12,
    "start_time": "2025-07-03T03:18:46.569Z"
   },
   {
    "duration": 10,
    "start_time": "2025-07-03T03:18:46.583Z"
   },
   {
    "duration": 22,
    "start_time": "2025-07-03T03:18:46.594Z"
   },
   {
    "duration": 12,
    "start_time": "2025-07-03T03:18:46.618Z"
   },
   {
    "duration": 13,
    "start_time": "2025-07-03T03:18:46.632Z"
   },
   {
    "duration": 32,
    "start_time": "2025-07-03T03:18:46.647Z"
   },
   {
    "duration": 65,
    "start_time": "2025-07-03T03:18:46.681Z"
   },
   {
    "duration": 9,
    "start_time": "2025-07-03T03:18:46.749Z"
   },
   {
    "duration": 7,
    "start_time": "2025-07-03T03:18:46.759Z"
   },
   {
    "duration": 7,
    "start_time": "2025-07-03T03:18:46.768Z"
   },
   {
    "duration": 7,
    "start_time": "2025-07-03T03:18:46.777Z"
   },
   {
    "duration": 3,
    "start_time": "2025-07-03T03:18:46.786Z"
   },
   {
    "duration": 731,
    "start_time": "2025-07-03T03:18:46.791Z"
   },
   {
    "duration": 594,
    "start_time": "2025-07-03T03:18:47.524Z"
   },
   {
    "duration": 718,
    "start_time": "2025-07-03T03:18:48.119Z"
   },
   {
    "duration": 329,
    "start_time": "2025-07-03T03:18:48.838Z"
   },
   {
    "duration": 89,
    "start_time": "2025-07-03T03:18:49.168Z"
   },
   {
    "duration": 17,
    "start_time": "2025-07-03T03:18:49.258Z"
   },
   {
    "duration": 106,
    "start_time": "2025-07-03T03:18:49.277Z"
   },
   {
    "duration": 225,
    "start_time": "2025-07-03T03:18:49.384Z"
   },
   {
    "duration": 93,
    "start_time": "2025-07-03T03:18:49.611Z"
   },
   {
    "duration": 114,
    "start_time": "2025-07-03T03:18:49.705Z"
   },
   {
    "duration": 342,
    "start_time": "2025-07-03T03:18:49.820Z"
   },
   {
    "duration": 66,
    "start_time": "2025-07-03T03:18:50.171Z"
   },
   {
    "duration": 108,
    "start_time": "2025-07-03T03:18:50.238Z"
   },
   {
    "duration": 221,
    "start_time": "2025-07-03T03:18:50.347Z"
   },
   {
    "duration": 11,
    "start_time": "2025-07-03T03:18:50.571Z"
   },
   {
    "duration": 42,
    "start_time": "2025-07-03T03:18:50.584Z"
   },
   {
    "duration": 3,
    "start_time": "2025-07-03T03:18:50.628Z"
   },
   {
    "duration": 858,
    "start_time": "2025-07-03T03:18:50.632Z"
   },
   {
    "duration": 9,
    "start_time": "2025-07-03T03:18:51.492Z"
   },
   {
    "duration": 64,
    "start_time": "2025-07-03T03:18:51.503Z"
   },
   {
    "duration": 3,
    "start_time": "2025-07-03T03:18:51.569Z"
   },
   {
    "duration": 7,
    "start_time": "2025-07-03T03:18:51.574Z"
   },
   {
    "duration": 20,
    "start_time": "2025-07-03T03:18:51.584Z"
   },
   {
    "duration": 6,
    "start_time": "2025-07-03T03:18:51.605Z"
   },
   {
    "duration": 1777,
    "start_time": "2025-07-03T03:18:51.613Z"
   },
   {
    "duration": 3,
    "start_time": "2025-07-03T03:18:53.392Z"
   },
   {
    "duration": 4,
    "start_time": "2025-07-03T03:18:53.396Z"
   },
   {
    "duration": 3499,
    "start_time": "2025-07-03T03:18:53.401Z"
   },
   {
    "duration": 4230,
    "start_time": "2025-07-03T03:18:56.902Z"
   },
   {
    "duration": 3624,
    "start_time": "2025-07-03T03:29:03.262Z"
   },
   {
    "duration": 1676,
    "start_time": "2025-07-03T03:31:05.974Z"
   },
   {
    "duration": 2476,
    "start_time": "2025-07-03T03:31:15.980Z"
   },
   {
    "duration": 2452,
    "start_time": "2025-07-03T03:31:18.458Z"
   },
   {
    "duration": 2504,
    "start_time": "2025-07-03T03:31:20.913Z"
   },
   {
    "duration": 1787,
    "start_time": "2025-07-03T03:31:23.419Z"
   },
   {
    "duration": 73,
    "start_time": "2025-07-03T03:31:25.208Z"
   },
   {
    "duration": 29,
    "start_time": "2025-07-03T03:31:25.283Z"
   },
   {
    "duration": 12,
    "start_time": "2025-07-03T03:31:25.314Z"
   },
   {
    "duration": 10,
    "start_time": "2025-07-03T03:31:25.328Z"
   },
   {
    "duration": 37,
    "start_time": "2025-07-03T03:31:25.340Z"
   },
   {
    "duration": 24,
    "start_time": "2025-07-03T03:31:25.380Z"
   },
   {
    "duration": 12,
    "start_time": "2025-07-03T03:31:25.405Z"
   },
   {
    "duration": 19,
    "start_time": "2025-07-03T03:31:25.419Z"
   },
   {
    "duration": 10,
    "start_time": "2025-07-03T03:31:25.440Z"
   },
   {
    "duration": 26,
    "start_time": "2025-07-03T03:31:25.452Z"
   },
   {
    "duration": 8,
    "start_time": "2025-07-03T03:31:25.479Z"
   },
   {
    "duration": 6,
    "start_time": "2025-07-03T03:31:25.489Z"
   },
   {
    "duration": 6,
    "start_time": "2025-07-03T03:31:25.497Z"
   },
   {
    "duration": 5,
    "start_time": "2025-07-03T03:31:25.504Z"
   },
   {
    "duration": 803,
    "start_time": "2025-07-03T03:31:25.510Z"
   },
   {
    "duration": 634,
    "start_time": "2025-07-03T03:31:26.315Z"
   },
   {
    "duration": 724,
    "start_time": "2025-07-03T03:31:26.950Z"
   },
   {
    "duration": 337,
    "start_time": "2025-07-03T03:31:27.676Z"
   },
   {
    "duration": 101,
    "start_time": "2025-07-03T03:31:28.015Z"
   },
   {
    "duration": 46,
    "start_time": "2025-07-03T03:31:28.118Z"
   },
   {
    "duration": 95,
    "start_time": "2025-07-03T03:31:28.165Z"
   },
   {
    "duration": 226,
    "start_time": "2025-07-03T03:31:28.262Z"
   },
   {
    "duration": 93,
    "start_time": "2025-07-03T03:31:28.490Z"
   },
   {
    "duration": 118,
    "start_time": "2025-07-03T03:31:28.586Z"
   },
   {
    "duration": 351,
    "start_time": "2025-07-03T03:31:28.705Z"
   },
   {
    "duration": 73,
    "start_time": "2025-07-03T03:31:29.058Z"
   },
   {
    "duration": 108,
    "start_time": "2025-07-03T03:31:29.133Z"
   },
   {
    "duration": 229,
    "start_time": "2025-07-03T03:31:29.243Z"
   },
   {
    "duration": 13,
    "start_time": "2025-07-03T03:31:29.473Z"
   },
   {
    "duration": 55,
    "start_time": "2025-07-03T03:31:29.487Z"
   },
   {
    "duration": 2,
    "start_time": "2025-07-03T03:31:29.544Z"
   },
   {
    "duration": 912,
    "start_time": "2025-07-03T03:31:29.571Z"
   },
   {
    "duration": 11,
    "start_time": "2025-07-03T03:31:30.485Z"
   },
   {
    "duration": 44,
    "start_time": "2025-07-03T03:31:30.497Z"
   },
   {
    "duration": 3,
    "start_time": "2025-07-03T03:31:30.543Z"
   },
   {
    "duration": 14,
    "start_time": "2025-07-03T03:31:30.547Z"
   },
   {
    "duration": 22,
    "start_time": "2025-07-03T03:31:30.563Z"
   },
   {
    "duration": 5,
    "start_time": "2025-07-03T03:31:30.587Z"
   },
   {
    "duration": 1877,
    "start_time": "2025-07-03T03:31:30.594Z"
   },
   {
    "duration": 3,
    "start_time": "2025-07-03T03:31:32.473Z"
   },
   {
    "duration": 21,
    "start_time": "2025-07-03T03:31:32.477Z"
   },
   {
    "duration": 3074,
    "start_time": "2025-07-03T03:31:32.500Z"
   },
   {
    "duration": 4441,
    "start_time": "2025-07-03T03:31:35.576Z"
   },
   {
    "duration": 1592,
    "start_time": "2025-07-03T03:32:59.013Z"
   },
   {
    "duration": 2528,
    "start_time": "2025-07-03T03:33:11.235Z"
   },
   {
    "duration": 2350,
    "start_time": "2025-07-03T03:33:13.766Z"
   },
   {
    "duration": 2360,
    "start_time": "2025-07-03T03:33:16.119Z"
   },
   {
    "duration": 1739,
    "start_time": "2025-07-03T03:33:18.481Z"
   },
   {
    "duration": 73,
    "start_time": "2025-07-03T03:33:20.222Z"
   },
   {
    "duration": 28,
    "start_time": "2025-07-03T03:33:20.296Z"
   },
   {
    "duration": 12,
    "start_time": "2025-07-03T03:33:20.325Z"
   },
   {
    "duration": 12,
    "start_time": "2025-07-03T03:33:20.338Z"
   },
   {
    "duration": 19,
    "start_time": "2025-07-03T03:33:20.352Z"
   },
   {
    "duration": 10,
    "start_time": "2025-07-03T03:33:20.374Z"
   },
   {
    "duration": 15,
    "start_time": "2025-07-03T03:33:20.386Z"
   },
   {
    "duration": 17,
    "start_time": "2025-07-03T03:33:20.403Z"
   },
   {
    "duration": 12,
    "start_time": "2025-07-03T03:33:20.422Z"
   },
   {
    "duration": 42,
    "start_time": "2025-07-03T03:33:20.436Z"
   },
   {
    "duration": 18,
    "start_time": "2025-07-03T03:33:20.479Z"
   },
   {
    "duration": 10,
    "start_time": "2025-07-03T03:33:20.498Z"
   },
   {
    "duration": 8,
    "start_time": "2025-07-03T03:33:20.509Z"
   },
   {
    "duration": 9,
    "start_time": "2025-07-03T03:33:20.519Z"
   },
   {
    "duration": 751,
    "start_time": "2025-07-03T03:33:20.529Z"
   },
   {
    "duration": 605,
    "start_time": "2025-07-03T03:33:21.282Z"
   },
   {
    "duration": 721,
    "start_time": "2025-07-03T03:33:21.889Z"
   },
   {
    "duration": 323,
    "start_time": "2025-07-03T03:33:22.611Z"
   },
   {
    "duration": 98,
    "start_time": "2025-07-03T03:33:22.935Z"
   },
   {
    "duration": 6,
    "start_time": "2025-07-03T03:33:23.035Z"
   },
   {
    "duration": 103,
    "start_time": "2025-07-03T03:33:23.042Z"
   },
   {
    "duration": 228,
    "start_time": "2025-07-03T03:33:23.147Z"
   },
   {
    "duration": 77,
    "start_time": "2025-07-03T03:33:23.377Z"
   },
   {
    "duration": 112,
    "start_time": "2025-07-03T03:33:23.470Z"
   },
   {
    "duration": 340,
    "start_time": "2025-07-03T03:33:23.584Z"
   },
   {
    "duration": 72,
    "start_time": "2025-07-03T03:33:23.926Z"
   },
   {
    "duration": 99,
    "start_time": "2025-07-03T03:33:24.000Z"
   },
   {
    "duration": 213,
    "start_time": "2025-07-03T03:33:24.101Z"
   },
   {
    "duration": 12,
    "start_time": "2025-07-03T03:33:24.315Z"
   },
   {
    "duration": 135,
    "start_time": "2025-07-03T03:33:24.328Z"
   },
   {
    "duration": 3,
    "start_time": "2025-07-03T03:33:24.464Z"
   },
   {
    "duration": 839,
    "start_time": "2025-07-03T03:33:24.469Z"
   },
   {
    "duration": 10,
    "start_time": "2025-07-03T03:33:25.309Z"
   },
   {
    "duration": 22,
    "start_time": "2025-07-03T03:33:25.320Z"
   },
   {
    "duration": 3,
    "start_time": "2025-07-03T03:33:25.344Z"
   },
   {
    "duration": 23,
    "start_time": "2025-07-03T03:33:25.348Z"
   },
   {
    "duration": 20,
    "start_time": "2025-07-03T03:33:25.373Z"
   },
   {
    "duration": 10,
    "start_time": "2025-07-03T03:33:25.394Z"
   },
   {
    "duration": 1725,
    "start_time": "2025-07-03T03:33:25.406Z"
   },
   {
    "duration": 3,
    "start_time": "2025-07-03T03:33:27.133Z"
   },
   {
    "duration": 23,
    "start_time": "2025-07-03T03:33:27.137Z"
   },
   {
    "duration": 2919,
    "start_time": "2025-07-03T03:33:27.162Z"
   },
   {
    "duration": 4314,
    "start_time": "2025-07-03T03:33:30.083Z"
   },
   {
    "duration": 140,
    "start_time": "2025-07-03T03:58:07.853Z"
   },
   {
    "duration": 2520,
    "start_time": "2025-07-03T04:02:16.919Z"
   },
   {
    "duration": 2541,
    "start_time": "2025-07-03T04:02:19.441Z"
   },
   {
    "duration": 2444,
    "start_time": "2025-07-03T04:02:21.984Z"
   },
   {
    "duration": 1693,
    "start_time": "2025-07-03T04:02:24.431Z"
   },
   {
    "duration": 74,
    "start_time": "2025-07-03T04:02:26.125Z"
   },
   {
    "duration": 89,
    "start_time": "2025-07-03T04:02:26.200Z"
   },
   {
    "duration": 67,
    "start_time": "2025-07-03T04:02:26.291Z"
   },
   {
    "duration": 12,
    "start_time": "2025-07-03T04:02:26.360Z"
   },
   {
    "duration": 16,
    "start_time": "2025-07-03T04:02:26.374Z"
   },
   {
    "duration": 12,
    "start_time": "2025-07-03T04:02:26.393Z"
   },
   {
    "duration": 27,
    "start_time": "2025-07-03T04:02:26.407Z"
   },
   {
    "duration": 27,
    "start_time": "2025-07-03T04:02:26.436Z"
   },
   {
    "duration": 12,
    "start_time": "2025-07-03T04:02:26.465Z"
   },
   {
    "duration": 8,
    "start_time": "2025-07-03T04:02:26.478Z"
   },
   {
    "duration": 14,
    "start_time": "2025-07-03T04:02:26.487Z"
   },
   {
    "duration": 9,
    "start_time": "2025-07-03T04:02:26.503Z"
   },
   {
    "duration": 17,
    "start_time": "2025-07-03T04:02:26.513Z"
   },
   {
    "duration": 6,
    "start_time": "2025-07-03T04:02:26.532Z"
   },
   {
    "duration": 747,
    "start_time": "2025-07-03T04:02:26.540Z"
   },
   {
    "duration": 606,
    "start_time": "2025-07-03T04:02:27.288Z"
   },
   {
    "duration": 715,
    "start_time": "2025-07-03T04:02:27.896Z"
   },
   {
    "duration": 339,
    "start_time": "2025-07-03T04:02:28.613Z"
   },
   {
    "duration": 99,
    "start_time": "2025-07-03T04:02:28.954Z"
   },
   {
    "duration": 6,
    "start_time": "2025-07-03T04:02:29.054Z"
   },
   {
    "duration": 115,
    "start_time": "2025-07-03T04:02:29.062Z"
   },
   {
    "duration": 224,
    "start_time": "2025-07-03T04:02:29.178Z"
   },
   {
    "duration": 93,
    "start_time": "2025-07-03T04:02:29.404Z"
   },
   {
    "duration": 115,
    "start_time": "2025-07-03T04:02:29.502Z"
   },
   {
    "duration": 352,
    "start_time": "2025-07-03T04:02:29.619Z"
   },
   {
    "duration": 64,
    "start_time": "2025-07-03T04:02:29.973Z"
   },
   {
    "duration": 111,
    "start_time": "2025-07-03T04:02:30.039Z"
   },
   {
    "duration": 228,
    "start_time": "2025-07-03T04:02:30.153Z"
   },
   {
    "duration": 16,
    "start_time": "2025-07-03T04:02:30.383Z"
   },
   {
    "duration": 47,
    "start_time": "2025-07-03T04:02:30.401Z"
   },
   {
    "duration": 22,
    "start_time": "2025-07-03T04:02:30.450Z"
   },
   {
    "duration": 889,
    "start_time": "2025-07-03T04:02:30.474Z"
   },
   {
    "duration": 17,
    "start_time": "2025-07-03T04:02:31.365Z"
   },
   {
    "duration": 21,
    "start_time": "2025-07-03T04:02:31.384Z"
   },
   {
    "duration": 4,
    "start_time": "2025-07-03T04:02:31.407Z"
   },
   {
    "duration": 53,
    "start_time": "2025-07-03T04:02:31.413Z"
   },
   {
    "duration": 110,
    "start_time": "2025-07-03T04:02:31.467Z"
   },
   {
    "duration": 0,
    "start_time": "2025-07-03T04:02:31.579Z"
   },
   {
    "duration": 0,
    "start_time": "2025-07-03T04:02:31.581Z"
   },
   {
    "duration": 0,
    "start_time": "2025-07-03T04:02:31.582Z"
   },
   {
    "duration": 0,
    "start_time": "2025-07-03T04:02:31.584Z"
   },
   {
    "duration": 0,
    "start_time": "2025-07-03T04:02:31.585Z"
   },
   {
    "duration": 0,
    "start_time": "2025-07-03T04:02:31.587Z"
   },
   {
    "duration": 328,
    "start_time": "2025-07-03T04:02:58.304Z"
   },
   {
    "duration": 139,
    "start_time": "2025-07-03T04:08:51.044Z"
   },
   {
    "duration": 20,
    "start_time": "2025-07-03T04:10:18.059Z"
   },
   {
    "duration": 2480,
    "start_time": "2025-07-03T04:10:25.827Z"
   },
   {
    "duration": 2482,
    "start_time": "2025-07-03T04:10:28.310Z"
   },
   {
    "duration": 2512,
    "start_time": "2025-07-03T04:10:30.794Z"
   },
   {
    "duration": 1734,
    "start_time": "2025-07-03T04:10:33.308Z"
   },
   {
    "duration": 75,
    "start_time": "2025-07-03T04:10:35.045Z"
   },
   {
    "duration": 31,
    "start_time": "2025-07-03T04:10:35.122Z"
   },
   {
    "duration": 31,
    "start_time": "2025-07-03T04:10:35.154Z"
   },
   {
    "duration": 21,
    "start_time": "2025-07-03T04:10:35.187Z"
   },
   {
    "duration": 14,
    "start_time": "2025-07-03T04:10:35.210Z"
   },
   {
    "duration": 32,
    "start_time": "2025-07-03T04:10:35.225Z"
   },
   {
    "duration": 34,
    "start_time": "2025-07-03T04:10:35.259Z"
   },
   {
    "duration": 48,
    "start_time": "2025-07-03T04:10:35.294Z"
   },
   {
    "duration": 39,
    "start_time": "2025-07-03T04:10:35.344Z"
   },
   {
    "duration": 9,
    "start_time": "2025-07-03T04:10:35.386Z"
   },
   {
    "duration": 4,
    "start_time": "2025-07-03T04:10:35.397Z"
   },
   {
    "duration": 20,
    "start_time": "2025-07-03T04:10:35.403Z"
   },
   {
    "duration": 48,
    "start_time": "2025-07-03T04:10:35.425Z"
   },
   {
    "duration": 5,
    "start_time": "2025-07-03T04:10:35.475Z"
   },
   {
    "duration": 795,
    "start_time": "2025-07-03T04:10:35.481Z"
   },
   {
    "duration": 629,
    "start_time": "2025-07-03T04:10:36.278Z"
   },
   {
    "duration": 737,
    "start_time": "2025-07-03T04:10:36.908Z"
   },
   {
    "duration": 334,
    "start_time": "2025-07-03T04:10:37.647Z"
   },
   {
    "duration": 104,
    "start_time": "2025-07-03T04:10:37.983Z"
   },
   {
    "duration": 6,
    "start_time": "2025-07-03T04:10:38.089Z"
   },
   {
    "duration": 108,
    "start_time": "2025-07-03T04:10:38.096Z"
   },
   {
    "duration": 226,
    "start_time": "2025-07-03T04:10:38.206Z"
   },
   {
    "duration": 90,
    "start_time": "2025-07-03T04:10:38.433Z"
   },
   {
    "duration": 119,
    "start_time": "2025-07-03T04:10:38.525Z"
   },
   {
    "duration": 345,
    "start_time": "2025-07-03T04:10:38.646Z"
   },
   {
    "duration": 80,
    "start_time": "2025-07-03T04:10:38.993Z"
   },
   {
    "duration": 98,
    "start_time": "2025-07-03T04:10:39.075Z"
   },
   {
    "duration": 238,
    "start_time": "2025-07-03T04:10:39.175Z"
   },
   {
    "duration": 15,
    "start_time": "2025-07-03T04:10:39.416Z"
   },
   {
    "duration": 82,
    "start_time": "2025-07-03T04:10:39.433Z"
   },
   {
    "duration": 4,
    "start_time": "2025-07-03T04:10:39.517Z"
   },
   {
    "duration": 859,
    "start_time": "2025-07-03T04:10:39.523Z"
   },
   {
    "duration": 9,
    "start_time": "2025-07-03T04:10:40.384Z"
   },
   {
    "duration": 42,
    "start_time": "2025-07-03T04:10:40.395Z"
   },
   {
    "duration": 4,
    "start_time": "2025-07-03T04:10:40.439Z"
   },
   {
    "duration": 15,
    "start_time": "2025-07-03T04:10:40.444Z"
   },
   {
    "duration": 23,
    "start_time": "2025-07-03T04:10:40.463Z"
   },
   {
    "duration": 5,
    "start_time": "2025-07-03T04:10:40.488Z"
   },
   {
    "duration": 1782,
    "start_time": "2025-07-03T04:10:40.495Z"
   },
   {
    "duration": 3,
    "start_time": "2025-07-03T04:10:42.278Z"
   },
   {
    "duration": 5,
    "start_time": "2025-07-03T04:10:42.283Z"
   },
   {
    "duration": 169,
    "start_time": "2025-07-03T04:10:42.290Z"
   },
   {
    "duration": 0,
    "start_time": "2025-07-03T04:10:42.460Z"
   },
   {
    "duration": 14,
    "start_time": "2025-07-03T04:11:57.939Z"
   },
   {
    "duration": 2598,
    "start_time": "2025-07-03T04:13:30.296Z"
   },
   {
    "duration": 2484,
    "start_time": "2025-07-03T04:13:32.897Z"
   },
   {
    "duration": 2453,
    "start_time": "2025-07-03T04:13:35.384Z"
   },
   {
    "duration": 1840,
    "start_time": "2025-07-03T04:13:37.840Z"
   },
   {
    "duration": 73,
    "start_time": "2025-07-03T04:13:39.682Z"
   },
   {
    "duration": 28,
    "start_time": "2025-07-03T04:13:39.757Z"
   },
   {
    "duration": 12,
    "start_time": "2025-07-03T04:13:39.787Z"
   },
   {
    "duration": 11,
    "start_time": "2025-07-03T04:13:39.801Z"
   },
   {
    "duration": 10,
    "start_time": "2025-07-03T04:13:39.814Z"
   },
   {
    "duration": 50,
    "start_time": "2025-07-03T04:13:39.826Z"
   },
   {
    "duration": 49,
    "start_time": "2025-07-03T04:13:39.877Z"
   },
   {
    "duration": 24,
    "start_time": "2025-07-03T04:13:39.928Z"
   },
   {
    "duration": 23,
    "start_time": "2025-07-03T04:13:39.953Z"
   },
   {
    "duration": 11,
    "start_time": "2025-07-03T04:13:39.977Z"
   },
   {
    "duration": 8,
    "start_time": "2025-07-03T04:13:39.990Z"
   },
   {
    "duration": 14,
    "start_time": "2025-07-03T04:13:40.000Z"
   },
   {
    "duration": 12,
    "start_time": "2025-07-03T04:13:40.016Z"
   },
   {
    "duration": 14,
    "start_time": "2025-07-03T04:13:40.030Z"
   },
   {
    "duration": 791,
    "start_time": "2025-07-03T04:13:40.046Z"
   },
   {
    "duration": 653,
    "start_time": "2025-07-03T04:13:40.839Z"
   },
   {
    "duration": 764,
    "start_time": "2025-07-03T04:13:41.494Z"
   },
   {
    "duration": 354,
    "start_time": "2025-07-03T04:13:42.261Z"
   },
   {
    "duration": 107,
    "start_time": "2025-07-03T04:13:42.617Z"
   },
   {
    "duration": 8,
    "start_time": "2025-07-03T04:13:42.726Z"
   },
   {
    "duration": 113,
    "start_time": "2025-07-03T04:13:42.736Z"
   },
   {
    "duration": 223,
    "start_time": "2025-07-03T04:13:42.851Z"
   },
   {
    "duration": 77,
    "start_time": "2025-07-03T04:13:43.076Z"
   },
   {
    "duration": 111,
    "start_time": "2025-07-03T04:13:43.174Z"
   },
   {
    "duration": 351,
    "start_time": "2025-07-03T04:13:43.287Z"
   },
   {
    "duration": 72,
    "start_time": "2025-07-03T04:13:43.640Z"
   },
   {
    "duration": 101,
    "start_time": "2025-07-03T04:13:43.714Z"
   },
   {
    "duration": 228,
    "start_time": "2025-07-03T04:13:43.816Z"
   },
   {
    "duration": 25,
    "start_time": "2025-07-03T04:13:44.046Z"
   },
   {
    "duration": 43,
    "start_time": "2025-07-03T04:13:44.073Z"
   },
   {
    "duration": 3,
    "start_time": "2025-07-03T04:13:44.117Z"
   },
   {
    "duration": 910,
    "start_time": "2025-07-03T04:13:44.122Z"
   },
   {
    "duration": 10,
    "start_time": "2025-07-03T04:13:45.034Z"
   },
   {
    "duration": 90,
    "start_time": "2025-07-03T04:13:45.046Z"
   },
   {
    "duration": 4,
    "start_time": "2025-07-03T04:13:45.137Z"
   },
   {
    "duration": 13,
    "start_time": "2025-07-03T04:13:45.142Z"
   },
   {
    "duration": 35,
    "start_time": "2025-07-03T04:13:45.157Z"
   },
   {
    "duration": 8,
    "start_time": "2025-07-03T04:13:45.194Z"
   },
   {
    "duration": 1771,
    "start_time": "2025-07-03T04:13:45.204Z"
   },
   {
    "duration": 3,
    "start_time": "2025-07-03T04:13:46.976Z"
   },
   {
    "duration": 6,
    "start_time": "2025-07-03T04:13:46.980Z"
   },
   {
    "duration": 22,
    "start_time": "2025-07-03T04:13:46.988Z"
   },
   {
    "duration": 171,
    "start_time": "2025-07-03T04:13:47.012Z"
   },
   {
    "duration": 0,
    "start_time": "2025-07-03T04:13:47.185Z"
   },
   {
    "duration": 2472,
    "start_time": "2025-07-03T04:14:27.733Z"
   },
   {
    "duration": 2517,
    "start_time": "2025-07-03T04:14:30.207Z"
   },
   {
    "duration": 2430,
    "start_time": "2025-07-03T04:14:32.727Z"
   },
   {
    "duration": 1892,
    "start_time": "2025-07-03T04:14:35.160Z"
   },
   {
    "duration": 71,
    "start_time": "2025-07-03T04:14:37.054Z"
   },
   {
    "duration": 29,
    "start_time": "2025-07-03T04:14:37.127Z"
   },
   {
    "duration": 12,
    "start_time": "2025-07-03T04:14:37.158Z"
   },
   {
    "duration": 28,
    "start_time": "2025-07-03T04:14:37.172Z"
   },
   {
    "duration": 10,
    "start_time": "2025-07-03T04:14:37.201Z"
   },
   {
    "duration": 10,
    "start_time": "2025-07-03T04:14:37.214Z"
   },
   {
    "duration": 15,
    "start_time": "2025-07-03T04:14:37.225Z"
   },
   {
    "duration": 29,
    "start_time": "2025-07-03T04:14:37.242Z"
   },
   {
    "duration": 11,
    "start_time": "2025-07-03T04:14:37.273Z"
   },
   {
    "duration": 9,
    "start_time": "2025-07-03T04:14:37.285Z"
   },
   {
    "duration": 29,
    "start_time": "2025-07-03T04:14:37.295Z"
   },
   {
    "duration": 9,
    "start_time": "2025-07-03T04:14:37.325Z"
   },
   {
    "duration": 6,
    "start_time": "2025-07-03T04:14:37.336Z"
   },
   {
    "duration": 3,
    "start_time": "2025-07-03T04:14:37.344Z"
   },
   {
    "duration": 745,
    "start_time": "2025-07-03T04:14:37.372Z"
   },
   {
    "duration": 615,
    "start_time": "2025-07-03T04:14:38.119Z"
   },
   {
    "duration": 714,
    "start_time": "2025-07-03T04:14:38.736Z"
   },
   {
    "duration": 345,
    "start_time": "2025-07-03T04:14:39.452Z"
   },
   {
    "duration": 103,
    "start_time": "2025-07-03T04:14:39.798Z"
   },
   {
    "duration": 6,
    "start_time": "2025-07-03T04:14:39.903Z"
   },
   {
    "duration": 126,
    "start_time": "2025-07-03T04:14:39.910Z"
   },
   {
    "duration": 223,
    "start_time": "2025-07-03T04:14:40.039Z"
   },
   {
    "duration": 81,
    "start_time": "2025-07-03T04:14:40.263Z"
   },
   {
    "duration": 125,
    "start_time": "2025-07-03T04:14:40.348Z"
   },
   {
    "duration": 338,
    "start_time": "2025-07-03T04:14:40.475Z"
   },
   {
    "duration": 80,
    "start_time": "2025-07-03T04:14:40.815Z"
   },
   {
    "duration": 106,
    "start_time": "2025-07-03T04:14:40.897Z"
   },
   {
    "duration": 225,
    "start_time": "2025-07-03T04:14:41.004Z"
   },
   {
    "duration": 12,
    "start_time": "2025-07-03T04:14:41.231Z"
   },
   {
    "duration": 64,
    "start_time": "2025-07-03T04:14:41.244Z"
   },
   {
    "duration": 3,
    "start_time": "2025-07-03T04:14:41.309Z"
   },
   {
    "duration": 871,
    "start_time": "2025-07-03T04:14:41.314Z"
   },
   {
    "duration": 9,
    "start_time": "2025-07-03T04:14:42.187Z"
   },
   {
    "duration": 108,
    "start_time": "2025-07-03T04:14:42.199Z"
   },
   {
    "duration": 3,
    "start_time": "2025-07-03T04:14:42.308Z"
   },
   {
    "duration": 7,
    "start_time": "2025-07-03T04:14:42.313Z"
   },
   {
    "duration": 36,
    "start_time": "2025-07-03T04:14:42.321Z"
   },
   {
    "duration": 79,
    "start_time": "2025-07-03T04:14:42.359Z"
   },
   {
    "duration": 1787,
    "start_time": "2025-07-03T04:14:42.439Z"
   },
   {
    "duration": 2,
    "start_time": "2025-07-03T04:14:44.228Z"
   },
   {
    "duration": 48,
    "start_time": "2025-07-03T04:14:44.232Z"
   },
   {
    "duration": 18,
    "start_time": "2025-07-03T04:14:44.282Z"
   },
   {
    "duration": 156,
    "start_time": "2025-07-03T04:14:44.301Z"
   },
   {
    "duration": 0,
    "start_time": "2025-07-03T04:14:44.458Z"
   },
   {
    "duration": 11,
    "start_time": "2025-07-03T04:16:31.211Z"
   },
   {
    "duration": 29,
    "start_time": "2025-07-03T04:16:38.155Z"
   },
   {
    "duration": 12,
    "start_time": "2025-07-03T04:18:16.354Z"
   },
   {
    "duration": 13,
    "start_time": "2025-07-03T04:18:38.389Z"
   },
   {
    "duration": 21,
    "start_time": "2025-07-03T04:19:21.162Z"
   },
   {
    "duration": 2626,
    "start_time": "2025-07-03T04:19:31.548Z"
   },
   {
    "duration": 2534,
    "start_time": "2025-07-03T04:19:34.177Z"
   },
   {
    "duration": 2497,
    "start_time": "2025-07-03T04:19:36.714Z"
   },
   {
    "duration": 1725,
    "start_time": "2025-07-03T04:19:39.213Z"
   },
   {
    "duration": 86,
    "start_time": "2025-07-03T04:19:40.939Z"
   },
   {
    "duration": 30,
    "start_time": "2025-07-03T04:19:41.027Z"
   },
   {
    "duration": 15,
    "start_time": "2025-07-03T04:19:41.059Z"
   },
   {
    "duration": 70,
    "start_time": "2025-07-03T04:19:41.075Z"
   },
   {
    "duration": 27,
    "start_time": "2025-07-03T04:19:41.146Z"
   },
   {
    "duration": 28,
    "start_time": "2025-07-03T04:19:41.175Z"
   },
   {
    "duration": 15,
    "start_time": "2025-07-03T04:19:41.205Z"
   },
   {
    "duration": 37,
    "start_time": "2025-07-03T04:19:41.221Z"
   },
   {
    "duration": 21,
    "start_time": "2025-07-03T04:19:41.260Z"
   },
   {
    "duration": 14,
    "start_time": "2025-07-03T04:19:41.282Z"
   },
   {
    "duration": 10,
    "start_time": "2025-07-03T04:19:41.298Z"
   },
   {
    "duration": 9,
    "start_time": "2025-07-03T04:19:41.310Z"
   },
   {
    "duration": 5,
    "start_time": "2025-07-03T04:19:41.320Z"
   },
   {
    "duration": 3,
    "start_time": "2025-07-03T04:19:41.327Z"
   },
   {
    "duration": 751,
    "start_time": "2025-07-03T04:19:41.332Z"
   },
   {
    "duration": 632,
    "start_time": "2025-07-03T04:19:42.085Z"
   },
   {
    "duration": 715,
    "start_time": "2025-07-03T04:19:42.718Z"
   },
   {
    "duration": 339,
    "start_time": "2025-07-03T04:19:43.435Z"
   },
   {
    "duration": 102,
    "start_time": "2025-07-03T04:19:43.775Z"
   },
   {
    "duration": 6,
    "start_time": "2025-07-03T04:19:43.879Z"
   },
   {
    "duration": 138,
    "start_time": "2025-07-03T04:19:43.886Z"
   },
   {
    "duration": 216,
    "start_time": "2025-07-03T04:19:44.025Z"
   },
   {
    "duration": 87,
    "start_time": "2025-07-03T04:19:44.243Z"
   },
   {
    "duration": 114,
    "start_time": "2025-07-03T04:19:44.334Z"
   },
   {
    "duration": 349,
    "start_time": "2025-07-03T04:19:44.451Z"
   },
   {
    "duration": 83,
    "start_time": "2025-07-03T04:19:44.802Z"
   },
   {
    "duration": 106,
    "start_time": "2025-07-03T04:19:44.888Z"
   },
   {
    "duration": 226,
    "start_time": "2025-07-03T04:19:44.996Z"
   },
   {
    "duration": 15,
    "start_time": "2025-07-03T04:19:45.224Z"
   },
   {
    "duration": 63,
    "start_time": "2025-07-03T04:19:45.241Z"
   },
   {
    "duration": 3,
    "start_time": "2025-07-03T04:19:45.306Z"
   },
   {
    "duration": 860,
    "start_time": "2025-07-03T04:19:45.311Z"
   },
   {
    "duration": 12,
    "start_time": "2025-07-03T04:19:46.173Z"
   },
   {
    "duration": 21,
    "start_time": "2025-07-03T04:19:46.187Z"
   },
   {
    "duration": 3,
    "start_time": "2025-07-03T04:19:46.210Z"
   },
   {
    "duration": 125,
    "start_time": "2025-07-03T04:19:46.214Z"
   },
   {
    "duration": 29,
    "start_time": "2025-07-03T04:19:46.340Z"
   },
   {
    "duration": 5,
    "start_time": "2025-07-03T04:19:46.370Z"
   },
   {
    "duration": 1776,
    "start_time": "2025-07-03T04:19:46.376Z"
   },
   {
    "duration": 3,
    "start_time": "2025-07-03T04:19:48.154Z"
   },
   {
    "duration": 16,
    "start_time": "2025-07-03T04:19:48.158Z"
   },
   {
    "duration": 43,
    "start_time": "2025-07-03T04:19:48.176Z"
   },
   {
    "duration": 232,
    "start_time": "2025-07-03T04:19:48.220Z"
   },
   {
    "duration": 0,
    "start_time": "2025-07-03T04:19:48.454Z"
   },
   {
    "duration": 0,
    "start_time": "2025-07-03T04:19:48.455Z"
   },
   {
    "duration": 20,
    "start_time": "2025-07-03T04:28:15.516Z"
   },
   {
    "duration": 21,
    "start_time": "2025-07-03T04:29:48.522Z"
   },
   {
    "duration": 26,
    "start_time": "2025-07-03T04:30:56.163Z"
   },
   {
    "duration": 20,
    "start_time": "2025-07-03T04:31:44.974Z"
   },
   {
    "duration": 2502,
    "start_time": "2025-07-03T04:41:43.629Z"
   },
   {
    "duration": 2443,
    "start_time": "2025-07-03T04:41:46.134Z"
   },
   {
    "duration": 2382,
    "start_time": "2025-07-03T04:41:48.579Z"
   },
   {
    "duration": 1796,
    "start_time": "2025-07-03T04:41:50.963Z"
   },
   {
    "duration": 73,
    "start_time": "2025-07-03T04:41:52.762Z"
   },
   {
    "duration": 28,
    "start_time": "2025-07-03T04:41:52.837Z"
   },
   {
    "duration": 12,
    "start_time": "2025-07-03T04:41:52.866Z"
   },
   {
    "duration": 10,
    "start_time": "2025-07-03T04:41:52.879Z"
   },
   {
    "duration": 10,
    "start_time": "2025-07-03T04:41:52.890Z"
   },
   {
    "duration": 31,
    "start_time": "2025-07-03T04:41:52.901Z"
   },
   {
    "duration": 22,
    "start_time": "2025-07-03T04:41:52.934Z"
   },
   {
    "duration": 20,
    "start_time": "2025-07-03T04:41:52.958Z"
   },
   {
    "duration": 10,
    "start_time": "2025-07-03T04:41:52.980Z"
   },
   {
    "duration": 8,
    "start_time": "2025-07-03T04:41:52.993Z"
   },
   {
    "duration": 8,
    "start_time": "2025-07-03T04:41:53.003Z"
   },
   {
    "duration": 9,
    "start_time": "2025-07-03T04:41:53.013Z"
   },
   {
    "duration": 6,
    "start_time": "2025-07-03T04:41:53.024Z"
   },
   {
    "duration": 39,
    "start_time": "2025-07-03T04:41:53.032Z"
   },
   {
    "duration": 737,
    "start_time": "2025-07-03T04:41:53.073Z"
   },
   {
    "duration": 600,
    "start_time": "2025-07-03T04:41:53.812Z"
   },
   {
    "duration": 698,
    "start_time": "2025-07-03T04:41:54.413Z"
   },
   {
    "duration": 336,
    "start_time": "2025-07-03T04:41:55.113Z"
   },
   {
    "duration": 92,
    "start_time": "2025-07-03T04:41:55.450Z"
   },
   {
    "duration": 6,
    "start_time": "2025-07-03T04:41:55.543Z"
   },
   {
    "duration": 109,
    "start_time": "2025-07-03T04:41:55.551Z"
   },
   {
    "duration": 222,
    "start_time": "2025-07-03T04:41:55.662Z"
   },
   {
    "duration": 73,
    "start_time": "2025-07-03T04:41:55.885Z"
   },
   {
    "duration": 123,
    "start_time": "2025-07-03T04:41:55.959Z"
   },
   {
    "duration": 350,
    "start_time": "2025-07-03T04:41:56.084Z"
   },
   {
    "duration": 74,
    "start_time": "2025-07-03T04:41:56.436Z"
   },
   {
    "duration": 101,
    "start_time": "2025-07-03T04:41:56.512Z"
   },
   {
    "duration": 224,
    "start_time": "2025-07-03T04:41:56.615Z"
   },
   {
    "duration": 11,
    "start_time": "2025-07-03T04:41:56.841Z"
   },
   {
    "duration": 46,
    "start_time": "2025-07-03T04:41:56.870Z"
   },
   {
    "duration": 3,
    "start_time": "2025-07-03T04:41:56.918Z"
   },
   {
    "duration": 870,
    "start_time": "2025-07-03T04:41:56.922Z"
   },
   {
    "duration": 9,
    "start_time": "2025-07-03T04:41:57.794Z"
   },
   {
    "duration": 22,
    "start_time": "2025-07-03T04:41:57.805Z"
   },
   {
    "duration": 36,
    "start_time": "2025-07-03T04:41:57.828Z"
   },
   {
    "duration": 32,
    "start_time": "2025-07-03T04:41:57.865Z"
   },
   {
    "duration": 22,
    "start_time": "2025-07-03T04:41:57.901Z"
   },
   {
    "duration": 6,
    "start_time": "2025-07-03T04:41:57.924Z"
   },
   {
    "duration": 1683,
    "start_time": "2025-07-03T04:41:57.931Z"
   },
   {
    "duration": 2,
    "start_time": "2025-07-03T04:41:59.616Z"
   },
   {
    "duration": 6,
    "start_time": "2025-07-03T04:41:59.619Z"
   },
   {
    "duration": 48,
    "start_time": "2025-07-03T04:41:59.627Z"
   },
   {
    "duration": 161,
    "start_time": "2025-07-03T04:41:59.677Z"
   },
   {
    "duration": 0,
    "start_time": "2025-07-03T04:41:59.839Z"
   },
   {
    "duration": 0,
    "start_time": "2025-07-03T04:41:59.841Z"
   },
   {
    "duration": 2986,
    "start_time": "2025-07-03T04:53:51.916Z"
   },
   {
    "duration": 13,
    "start_time": "2025-07-03T05:10:23.563Z"
   },
   {
    "duration": 6,
    "start_time": "2025-07-03T05:11:13.124Z"
   },
   {
    "duration": 666,
    "start_time": "2025-07-03T05:11:13.986Z"
   },
   {
    "duration": 93,
    "start_time": "2025-07-03T05:11:23.695Z"
   },
   {
    "duration": 953,
    "start_time": "2025-07-03T05:11:39.967Z"
   },
   {
    "duration": 520,
    "start_time": "2025-07-03T05:12:42.849Z"
   },
   {
    "duration": 765,
    "start_time": "2025-07-03T05:12:47.115Z"
   },
   {
    "duration": 13,
    "start_time": "2025-07-03T05:17:49.972Z"
   },
   {
    "duration": 835,
    "start_time": "2025-07-03T05:17:53.056Z"
   },
   {
    "duration": 715,
    "start_time": "2025-07-03T05:18:02.566Z"
   },
   {
    "duration": 4246,
    "start_time": "2025-08-31T00:11:39.528Z"
   },
   {
    "duration": 3233,
    "start_time": "2025-08-31T00:11:43.777Z"
   },
   {
    "duration": 16339,
    "start_time": "2025-08-31T00:11:47.012Z"
   },
   {
    "duration": 2430,
    "start_time": "2025-08-31T00:12:03.353Z"
   },
   {
    "duration": 87,
    "start_time": "2025-08-31T00:12:05.785Z"
   },
   {
    "duration": 41,
    "start_time": "2025-08-31T00:12:05.874Z"
   },
   {
    "duration": 24,
    "start_time": "2025-08-31T00:12:05.917Z"
   },
   {
    "duration": 87,
    "start_time": "2025-08-31T00:12:05.942Z"
   },
   {
    "duration": 38,
    "start_time": "2025-08-31T00:12:06.031Z"
   },
   {
    "duration": 33,
    "start_time": "2025-08-31T00:12:06.070Z"
   },
   {
    "duration": 40,
    "start_time": "2025-08-31T00:12:06.105Z"
   },
   {
    "duration": 53,
    "start_time": "2025-08-31T00:12:06.147Z"
   },
   {
    "duration": 10,
    "start_time": "2025-08-31T00:12:06.202Z"
   },
   {
    "duration": 36,
    "start_time": "2025-08-31T00:12:06.215Z"
   },
   {
    "duration": 33,
    "start_time": "2025-08-31T00:12:06.252Z"
   },
   {
    "duration": 8,
    "start_time": "2025-08-31T00:12:06.286Z"
   },
   {
    "duration": 7,
    "start_time": "2025-08-31T00:12:06.295Z"
   },
   {
    "duration": 38,
    "start_time": "2025-08-31T00:12:06.303Z"
   },
   {
    "duration": 745,
    "start_time": "2025-08-31T00:12:06.343Z"
   },
   {
    "duration": 613,
    "start_time": "2025-08-31T00:12:07.090Z"
   },
   {
    "duration": 711,
    "start_time": "2025-08-31T00:12:07.705Z"
   },
   {
    "duration": 333,
    "start_time": "2025-08-31T00:12:08.417Z"
   },
   {
    "duration": 97,
    "start_time": "2025-08-31T00:12:08.752Z"
   },
   {
    "duration": 6,
    "start_time": "2025-08-31T00:12:08.851Z"
   },
   {
    "duration": 104,
    "start_time": "2025-08-31T00:12:08.858Z"
   },
   {
    "duration": 224,
    "start_time": "2025-08-31T00:12:08.964Z"
   },
   {
    "duration": 89,
    "start_time": "2025-08-31T00:12:09.190Z"
   },
   {
    "duration": 126,
    "start_time": "2025-08-31T00:12:09.280Z"
   },
   {
    "duration": 333,
    "start_time": "2025-08-31T00:12:09.408Z"
   },
   {
    "duration": 61,
    "start_time": "2025-08-31T00:12:09.743Z"
   },
   {
    "duration": 111,
    "start_time": "2025-08-31T00:12:09.806Z"
   },
   {
    "duration": 231,
    "start_time": "2025-08-31T00:12:09.918Z"
   },
   {
    "duration": 11,
    "start_time": "2025-08-31T00:12:10.151Z"
   },
   {
    "duration": 63,
    "start_time": "2025-08-31T00:12:10.163Z"
   },
   {
    "duration": 6,
    "start_time": "2025-08-31T00:12:10.228Z"
   },
   {
    "duration": 860,
    "start_time": "2025-08-31T00:12:10.236Z"
   },
   {
    "duration": 10,
    "start_time": "2025-08-31T00:12:11.098Z"
   },
   {
    "duration": 36,
    "start_time": "2025-08-31T00:12:11.110Z"
   },
   {
    "duration": 3,
    "start_time": "2025-08-31T00:12:11.147Z"
   },
   {
    "duration": 28,
    "start_time": "2025-08-31T00:12:11.152Z"
   },
   {
    "duration": 36,
    "start_time": "2025-08-31T00:12:11.184Z"
   },
   {
    "duration": 6,
    "start_time": "2025-08-31T00:12:11.221Z"
   },
   {
    "duration": 1919,
    "start_time": "2025-08-31T00:12:11.228Z"
   },
   {
    "duration": 3,
    "start_time": "2025-08-31T00:12:13.149Z"
   },
   {
    "duration": 14,
    "start_time": "2025-08-31T00:12:13.153Z"
   },
   {
    "duration": 5558,
    "start_time": "2025-08-31T00:12:13.169Z"
   },
   {
    "duration": 13,
    "start_time": "2025-08-31T00:12:18.729Z"
   },
   {
    "duration": 744,
    "start_time": "2025-08-31T00:12:18.744Z"
   },
   {
    "duration": 956,
    "start_time": "2025-08-31T00:12:19.491Z"
   },
   {
    "duration": 720,
    "start_time": "2025-08-31T00:12:20.449Z"
   },
   {
    "duration": 802,
    "start_time": "2025-08-31T00:12:21.171Z"
   },
   {
    "duration": 2698,
    "start_time": "2025-08-31T00:18:15.461Z"
   },
   {
    "duration": 2467,
    "start_time": "2025-08-31T00:18:18.161Z"
   },
   {
    "duration": 2524,
    "start_time": "2025-08-31T00:18:20.631Z"
   },
   {
    "duration": 1776,
    "start_time": "2025-08-31T00:18:23.157Z"
   },
   {
    "duration": 77,
    "start_time": "2025-08-31T00:18:24.935Z"
   },
   {
    "duration": 35,
    "start_time": "2025-08-31T00:18:25.014Z"
   },
   {
    "duration": 15,
    "start_time": "2025-08-31T00:18:25.051Z"
   },
   {
    "duration": 27,
    "start_time": "2025-08-31T00:18:25.068Z"
   },
   {
    "duration": 12,
    "start_time": "2025-08-31T00:18:25.097Z"
   },
   {
    "duration": 52,
    "start_time": "2025-08-31T00:18:25.111Z"
   },
   {
    "duration": 34,
    "start_time": "2025-08-31T00:18:25.165Z"
   },
   {
    "duration": 10,
    "start_time": "2025-08-31T00:18:25.201Z"
   },
   {
    "duration": 19,
    "start_time": "2025-08-31T00:18:25.213Z"
   },
   {
    "duration": 9,
    "start_time": "2025-08-31T00:18:25.235Z"
   },
   {
    "duration": 8,
    "start_time": "2025-08-31T00:18:25.245Z"
   },
   {
    "duration": 6,
    "start_time": "2025-08-31T00:18:25.255Z"
   },
   {
    "duration": 8,
    "start_time": "2025-08-31T00:18:25.263Z"
   },
   {
    "duration": 4,
    "start_time": "2025-08-31T00:18:25.273Z"
   },
   {
    "duration": 763,
    "start_time": "2025-08-31T00:18:25.278Z"
   },
   {
    "duration": 618,
    "start_time": "2025-08-31T00:18:26.043Z"
   },
   {
    "duration": 706,
    "start_time": "2025-08-31T00:18:26.662Z"
   },
   {
    "duration": 332,
    "start_time": "2025-08-31T00:18:27.370Z"
   },
   {
    "duration": 97,
    "start_time": "2025-08-31T00:18:27.703Z"
   },
   {
    "duration": 6,
    "start_time": "2025-08-31T00:18:27.802Z"
   },
   {
    "duration": 189,
    "start_time": "2025-08-31T00:18:27.809Z"
   },
   {
    "duration": 213,
    "start_time": "2025-08-31T00:18:28.000Z"
   },
   {
    "duration": 88,
    "start_time": "2025-08-31T00:18:28.215Z"
   },
   {
    "duration": 115,
    "start_time": "2025-08-31T00:18:28.304Z"
   },
   {
    "duration": 346,
    "start_time": "2025-08-31T00:18:28.421Z"
   },
   {
    "duration": 67,
    "start_time": "2025-08-31T00:18:28.769Z"
   },
   {
    "duration": 99,
    "start_time": "2025-08-31T00:18:28.838Z"
   },
   {
    "duration": 219,
    "start_time": "2025-08-31T00:18:28.939Z"
   },
   {
    "duration": 12,
    "start_time": "2025-08-31T00:18:29.160Z"
   },
   {
    "duration": 61,
    "start_time": "2025-08-31T00:18:29.174Z"
   },
   {
    "duration": 3,
    "start_time": "2025-08-31T00:18:29.237Z"
   },
   {
    "duration": 850,
    "start_time": "2025-08-31T00:18:29.242Z"
   },
   {
    "duration": 10,
    "start_time": "2025-08-31T00:18:30.093Z"
   },
   {
    "duration": 105,
    "start_time": "2025-08-31T00:18:30.105Z"
   },
   {
    "duration": 46,
    "start_time": "2025-08-31T00:18:30.212Z"
   },
   {
    "duration": 41,
    "start_time": "2025-08-31T00:18:30.259Z"
   },
   {
    "duration": 38,
    "start_time": "2025-08-31T00:18:30.305Z"
   },
   {
    "duration": 43,
    "start_time": "2025-08-31T00:18:30.345Z"
   },
   {
    "duration": 1864,
    "start_time": "2025-08-31T00:18:30.389Z"
   },
   {
    "duration": 3,
    "start_time": "2025-08-31T00:18:32.255Z"
   },
   {
    "duration": 41,
    "start_time": "2025-08-31T00:18:32.259Z"
   },
   {
    "duration": 5261,
    "start_time": "2025-08-31T00:18:32.302Z"
   },
   {
    "duration": 12,
    "start_time": "2025-08-31T00:18:37.565Z"
   },
   {
    "duration": 739,
    "start_time": "2025-08-31T00:18:37.579Z"
   },
   {
    "duration": 941,
    "start_time": "2025-08-31T00:18:38.320Z"
   },
   {
    "duration": 714,
    "start_time": "2025-08-31T00:18:39.263Z"
   },
   {
    "duration": 786,
    "start_time": "2025-08-31T00:18:39.979Z"
   }
  ],
  "colab": {
   "provenance": []
  },
  "kernelspec": {
   "display_name": "Python 3 (ipykernel)",
   "language": "python",
   "name": "python3"
  },
  "language_info": {
   "codemirror_mode": {
    "name": "ipython",
    "version": 3
   },
   "file_extension": ".py",
   "mimetype": "text/x-python",
   "name": "python",
   "nbconvert_exporter": "python",
   "pygments_lexer": "ipython3",
   "version": "3.9.5"
  },
  "toc": {
   "base_numbering": 1,
   "nav_menu": {},
   "number_sections": true,
   "sideBar": true,
   "skip_h1_title": true,
   "title_cell": "Table of Contents",
   "title_sidebar": "Contents",
   "toc_cell": false,
   "toc_position": {
    "height": "calc(100% - 180px)",
    "left": "10px",
    "top": "150px",
    "width": "165px"
   },
   "toc_section_display": true,
   "toc_window_display": true
  }
 },
 "nbformat": 4,
 "nbformat_minor": 1
}
